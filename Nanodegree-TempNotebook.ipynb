{
 "cells": [
  {
   "cell_type": "code",
   "execution_count": 1,
   "metadata": {},
   "outputs": [],
   "source": [
    "# import libraries here; add more as necessary\n",
    "import numpy as np\n",
    "import pandas as pd\n",
    "import matplotlib.pyplot as plt\n",
    "import seaborn as sns\n",
    "\n",
    "# magic word for producing visualizations in notebook\n",
    "%matplotlib inline"
   ]
  },
  {
   "cell_type": "code",
   "execution_count": 2,
   "metadata": {},
   "outputs": [
    {
     "name": "stderr",
     "output_type": "stream",
     "text": [
      "D:\\anaconda\\lib\\site-packages\\IPython\\core\\interactiveshell.py:3063: DtypeWarning: Columns (19,20) have mixed types.Specify dtype option on import or set low_memory=False.\n",
      "  interactivity=interactivity, compiler=compiler, result=result)\n"
     ]
    }
   ],
   "source": [
    "#open the file - delete file later\n",
    "azdias = pd.read_csv(\"azdias_null.csv.zip\",compression='gzip')"
   ]
  },
  {
   "cell_type": "code",
   "execution_count": 3,
   "metadata": {},
   "outputs": [
    {
     "data": {
      "text/html": [
       "<div>\n",
       "<style scoped>\n",
       "    .dataframe tbody tr th:only-of-type {\n",
       "        vertical-align: middle;\n",
       "    }\n",
       "\n",
       "    .dataframe tbody tr th {\n",
       "        vertical-align: top;\n",
       "    }\n",
       "\n",
       "    .dataframe thead th {\n",
       "        text-align: right;\n",
       "    }\n",
       "</style>\n",
       "<table border=\"1\" class=\"dataframe\">\n",
       "  <thead>\n",
       "    <tr style=\"text-align: right;\">\n",
       "      <th></th>\n",
       "      <th>Unnamed: 0</th>\n",
       "      <th>LNR</th>\n",
       "      <th>AGER_TYP</th>\n",
       "      <th>AKT_DAT_KL</th>\n",
       "      <th>ALTER_HH</th>\n",
       "      <th>ALTER_KIND1</th>\n",
       "      <th>ALTER_KIND2</th>\n",
       "      <th>ALTER_KIND3</th>\n",
       "      <th>ALTER_KIND4</th>\n",
       "      <th>ALTERSKATEGORIE_FEIN</th>\n",
       "      <th>...</th>\n",
       "      <th>VHN</th>\n",
       "      <th>VK_DHT4A</th>\n",
       "      <th>VK_DISTANZ</th>\n",
       "      <th>VK_ZG11</th>\n",
       "      <th>W_KEIT_KIND_HH</th>\n",
       "      <th>WOHNDAUER_2008</th>\n",
       "      <th>WOHNLAGE</th>\n",
       "      <th>ZABEOTYP</th>\n",
       "      <th>ANREDE_KZ</th>\n",
       "      <th>ALTERSKATEGORIE_GROB</th>\n",
       "    </tr>\n",
       "  </thead>\n",
       "  <tbody>\n",
       "    <tr>\n",
       "      <th>0</th>\n",
       "      <td>0</td>\n",
       "      <td>910215</td>\n",
       "      <td>NaN</td>\n",
       "      <td>NaN</td>\n",
       "      <td>NaN</td>\n",
       "      <td>NaN</td>\n",
       "      <td>NaN</td>\n",
       "      <td>NaN</td>\n",
       "      <td>NaN</td>\n",
       "      <td>NaN</td>\n",
       "      <td>...</td>\n",
       "      <td>NaN</td>\n",
       "      <td>NaN</td>\n",
       "      <td>NaN</td>\n",
       "      <td>NaN</td>\n",
       "      <td>NaN</td>\n",
       "      <td>NaN</td>\n",
       "      <td>NaN</td>\n",
       "      <td>3</td>\n",
       "      <td>1</td>\n",
       "      <td>2</td>\n",
       "    </tr>\n",
       "    <tr>\n",
       "      <th>1</th>\n",
       "      <td>1</td>\n",
       "      <td>910220</td>\n",
       "      <td>NaN</td>\n",
       "      <td>9.0</td>\n",
       "      <td>NaN</td>\n",
       "      <td>NaN</td>\n",
       "      <td>NaN</td>\n",
       "      <td>NaN</td>\n",
       "      <td>NaN</td>\n",
       "      <td>21.0</td>\n",
       "      <td>...</td>\n",
       "      <td>4.0</td>\n",
       "      <td>8.0</td>\n",
       "      <td>11.0</td>\n",
       "      <td>10.0</td>\n",
       "      <td>3.0</td>\n",
       "      <td>9.0</td>\n",
       "      <td>4.0</td>\n",
       "      <td>5</td>\n",
       "      <td>2</td>\n",
       "      <td>1</td>\n",
       "    </tr>\n",
       "    <tr>\n",
       "      <th>2</th>\n",
       "      <td>2</td>\n",
       "      <td>910225</td>\n",
       "      <td>NaN</td>\n",
       "      <td>9.0</td>\n",
       "      <td>17.0</td>\n",
       "      <td>NaN</td>\n",
       "      <td>NaN</td>\n",
       "      <td>NaN</td>\n",
       "      <td>NaN</td>\n",
       "      <td>17.0</td>\n",
       "      <td>...</td>\n",
       "      <td>2.0</td>\n",
       "      <td>9.0</td>\n",
       "      <td>9.0</td>\n",
       "      <td>6.0</td>\n",
       "      <td>3.0</td>\n",
       "      <td>9.0</td>\n",
       "      <td>2.0</td>\n",
       "      <td>5</td>\n",
       "      <td>2</td>\n",
       "      <td>3</td>\n",
       "    </tr>\n",
       "    <tr>\n",
       "      <th>3</th>\n",
       "      <td>3</td>\n",
       "      <td>910226</td>\n",
       "      <td>2.0</td>\n",
       "      <td>1.0</td>\n",
       "      <td>13.0</td>\n",
       "      <td>NaN</td>\n",
       "      <td>NaN</td>\n",
       "      <td>NaN</td>\n",
       "      <td>NaN</td>\n",
       "      <td>13.0</td>\n",
       "      <td>...</td>\n",
       "      <td>0.0</td>\n",
       "      <td>7.0</td>\n",
       "      <td>10.0</td>\n",
       "      <td>11.0</td>\n",
       "      <td>NaN</td>\n",
       "      <td>9.0</td>\n",
       "      <td>7.0</td>\n",
       "      <td>3</td>\n",
       "      <td>2</td>\n",
       "      <td>4</td>\n",
       "    </tr>\n",
       "    <tr>\n",
       "      <th>4</th>\n",
       "      <td>4</td>\n",
       "      <td>910241</td>\n",
       "      <td>NaN</td>\n",
       "      <td>1.0</td>\n",
       "      <td>20.0</td>\n",
       "      <td>NaN</td>\n",
       "      <td>NaN</td>\n",
       "      <td>NaN</td>\n",
       "      <td>NaN</td>\n",
       "      <td>14.0</td>\n",
       "      <td>...</td>\n",
       "      <td>2.0</td>\n",
       "      <td>3.0</td>\n",
       "      <td>5.0</td>\n",
       "      <td>4.0</td>\n",
       "      <td>2.0</td>\n",
       "      <td>9.0</td>\n",
       "      <td>3.0</td>\n",
       "      <td>4</td>\n",
       "      <td>1</td>\n",
       "      <td>3</td>\n",
       "    </tr>\n",
       "  </tbody>\n",
       "</table>\n",
       "<p>5 rows × 367 columns</p>\n",
       "</div>"
      ],
      "text/plain": [
       "   Unnamed: 0     LNR  AGER_TYP  AKT_DAT_KL  ALTER_HH  ALTER_KIND1  \\\n",
       "0           0  910215       NaN         NaN       NaN          NaN   \n",
       "1           1  910220       NaN         9.0       NaN          NaN   \n",
       "2           2  910225       NaN         9.0      17.0          NaN   \n",
       "3           3  910226       2.0         1.0      13.0          NaN   \n",
       "4           4  910241       NaN         1.0      20.0          NaN   \n",
       "\n",
       "   ALTER_KIND2  ALTER_KIND3  ALTER_KIND4  ALTERSKATEGORIE_FEIN  ...  VHN  \\\n",
       "0          NaN          NaN          NaN                   NaN  ...  NaN   \n",
       "1          NaN          NaN          NaN                  21.0  ...  4.0   \n",
       "2          NaN          NaN          NaN                  17.0  ...  2.0   \n",
       "3          NaN          NaN          NaN                  13.0  ...  0.0   \n",
       "4          NaN          NaN          NaN                  14.0  ...  2.0   \n",
       "\n",
       "   VK_DHT4A  VK_DISTANZ  VK_ZG11  W_KEIT_KIND_HH  WOHNDAUER_2008  WOHNLAGE  \\\n",
       "0       NaN         NaN      NaN             NaN             NaN       NaN   \n",
       "1       8.0        11.0     10.0             3.0             9.0       4.0   \n",
       "2       9.0         9.0      6.0             3.0             9.0       2.0   \n",
       "3       7.0        10.0     11.0             NaN             9.0       7.0   \n",
       "4       3.0         5.0      4.0             2.0             9.0       3.0   \n",
       "\n",
       "   ZABEOTYP ANREDE_KZ ALTERSKATEGORIE_GROB  \n",
       "0         3         1                    2  \n",
       "1         5         2                    1  \n",
       "2         5         2                    3  \n",
       "3         3         2                    4  \n",
       "4         4         1                    3  \n",
       "\n",
       "[5 rows x 367 columns]"
      ]
     },
     "execution_count": 3,
     "metadata": {},
     "output_type": "execute_result"
    }
   ],
   "source": [
    "azdias.head()"
   ]
  },
  {
   "cell_type": "code",
   "execution_count": 4,
   "metadata": {},
   "outputs": [
    {
     "name": "stdout",
     "output_type": "stream",
     "text": [
      "(891221, 367)\n"
     ]
    }
   ],
   "source": [
    "print(azdias.shape)"
   ]
  },
  {
   "cell_type": "code",
   "execution_count": 5,
   "metadata": {},
   "outputs": [],
   "source": [
    "#change the unamed column name to  delete \n",
    "azdias.rename(columns={'Unnamed: 0': \"delete\"}, inplace= True)"
   ]
  },
  {
   "cell_type": "code",
   "execution_count": 6,
   "metadata": {},
   "outputs": [],
   "source": [
    "#drop columns which have more than 50% missing values from azdias and customers\n",
    "drop_azdias = ['delete', 'AGER_TYP', 'ALTER_KIND1', 'ALTER_KIND2', 'ALTER_KIND3', 'ALTER_KIND4', 'EXTSEL992', 'KBA05_BAUMAX', 'KK_KUNDENTYP', 'TITEL_KZ']\n",
    "azdias.drop(columns= drop_azdias, inplace=True)"
   ]
  },
  {
   "cell_type": "code",
   "execution_count": 7,
   "metadata": {},
   "outputs": [
    {
     "name": "stdout",
     "output_type": "stream",
     "text": [
      "(891221, 357)\n"
     ]
    }
   ],
   "source": [
    "print(azdias.shape)"
   ]
  },
  {
   "cell_type": "code",
   "execution_count": 24,
   "metadata": {},
   "outputs": [],
   "source": [
    "# list = azdias.isnull().sum().sort_values(ascending=False).nlargest(270)\n",
    "# azdias['CAMEO_INTL_2015_2'] = pd.to_numeric(azdias['CAMEO_INTL_2015'], errors = 'coerce', downcast ='float')"
   ]
  },
  {
   "cell_type": "code",
   "execution_count": 27,
   "metadata": {},
   "outputs": [
    {
     "name": "stdout",
     "output_type": "stream",
     "text": [
      "<class 'pandas.core.frame.DataFrame'>\n",
      "RangeIndex: 891221 entries, 0 to 891220\n",
      "Columns: 357 entries, LNR to ALTERSKATEGORIE_GROB\n",
      "dtypes: float64(264), int64(87), object(6)\n",
      "memory usage: 2.4+ GB\n"
     ]
    }
   ],
   "source": [
    "azdias.info()"
   ]
  },
  {
   "cell_type": "code",
   "execution_count": 86,
   "metadata": {},
   "outputs": [
    {
     "data": {
      "text/plain": [
       "Index(['CAMEO_DEU_2015', 'CAMEO_DEUG_2015', 'CAMEO_INTL_2015',\n",
       "       'D19_LETZTER_KAUF_BRANCHE', 'EINGEFUEGT_AM', 'OST_WEST_KZ',\n",
       "       'CAMEO_DEU_2015_2', 'CAMEO_DEUG_2015_2', 'CAMEO_INTL_2015_2'],\n",
       "      dtype='object')"
      ]
     },
     "execution_count": 86,
     "metadata": {},
     "output_type": "execute_result"
    }
   ],
   "source": [
    "#get the list of column names with dtype as object\n",
    "obj_list = azdias.select_dtypes(include='object').columns\n",
    "obj_list"
   ]
  },
  {
   "cell_type": "code",
   "execution_count": 87,
   "metadata": {},
   "outputs": [],
   "source": [
    "#convert object dtype columns to ints dtype\n",
    "\n",
    "def convertobjects(dataset):\n",
    "    dataset['CAMEO_DEU_2015_2'] = dataset['CAMEO_DEU_2015'].astype(str).str[0]   #get the first element of the string\n",
    "    dataset['CAMEO_DEUG_2015_2']= dataset['CAMEO_DEUG_2015'].astype(str).str[0]\n",
    "    dataset['CAMEO_INTL_2015_2'] = dataset['CAMEO_INTL_2015'].astype(str).str[0]\n",
    "    \n",
    "    CAMEI_dict = {\"1\": 1, \"2\": 2, \"3\": 3, \"4\": 4, \"5\":5, \"6\":6, \"7\":7, \"8\": 8, \"9\":9}   #convert to int dtype\n",
    "    dataset['CAMEO_DEU_2015_2']= dataset['CAMEO_DEU_2015_2'].map(CAMEI_dict)\n",
    "    dataset['CAMEO_DEUG_2015_2']= dataset['CAMEO_DEUG_2015_2'].map(CAMEI_dict)\n",
    "    dataset['CAMEO_INTL_2015_2']= dataset['CAMEO_INTL_2015_2'].map(CAMEI_dict)\n",
    "    \n",
    "    dataset['OST_WEST_KZ']= dataset['OST_WEST_KZ'].map({\"W\":1 , \"O\":0})\n",
    "    \n",
    "    \n",
    "    "
   ]
  },
  {
   "cell_type": "code",
   "execution_count": 88,
   "metadata": {},
   "outputs": [],
   "source": [
    "convertobjects(azdias)"
   ]
  },
  {
   "cell_type": "code",
   "execution_count": 94,
   "metadata": {},
   "outputs": [],
   "source": [
    "#drop the object dtype columns\n",
    "object_dtype_drop = ['CAMEO_DEU_2015', 'CAMEO_DEUG_2015', 'CAMEO_INTL_2015', 'D19_LETZTER_KAUF_BRANCHE', 'EINGEFUEGT_AM']\n",
    "azdias.drop(columns= object_dtype_drop, inplace=True)"
   ]
  },
  {
   "cell_type": "code",
   "execution_count": 95,
   "metadata": {},
   "outputs": [
    {
     "name": "stdout",
     "output_type": "stream",
     "text": [
      "<class 'pandas.core.frame.DataFrame'>\n",
      "RangeIndex: 891221 entries, 0 to 891220\n",
      "Columns: 355 entries, LNR to CAMEO_INTL_2015_2\n",
      "dtypes: float64(268), int64(87)\n",
      "memory usage: 2.4 GB\n"
     ]
    }
   ],
   "source": [
    "azdias.info()"
   ]
  },
  {
   "cell_type": "code",
   "execution_count": 117,
   "metadata": {},
   "outputs": [
    {
     "name": "stdout",
     "output_type": "stream",
     "text": [
      "LNR  ----  891221\n",
      "AKT_DAT_KL  ----  9\n",
      "ALTER_HH  ----  21\n",
      "ALTERSKATEGORIE_FEIN  ----  26\n",
      "ANZ_HAUSHALTE_AKTIV  ----  292\n",
      "ANZ_HH_TITEL  ----  21\n",
      "ANZ_KINDER  ----  11\n",
      "ANZ_PERSONEN  ----  30\n",
      "ANZ_STATISTISCHE_HAUSHALTE  ----  268\n",
      "ANZ_TITEL  ----  6\n",
      "ARBEIT  ----  6\n",
      "BALLRAUM  ----  7\n",
      "CJT_GESAMTTYP  ----  6\n",
      "CJT_KATALOGNUTZER  ----  5\n",
      "CJT_TYP_1  ----  5\n",
      "CJT_TYP_2  ----  5\n",
      "CJT_TYP_3  ----  5\n",
      "CJT_TYP_4  ----  5\n",
      "CJT_TYP_5  ----  5\n",
      "CJT_TYP_6  ----  5\n",
      "D19_BANKEN_ANZ_12  ----  7\n",
      "D19_BANKEN_ANZ_24  ----  7\n",
      "D19_BANKEN_DATUM  ----  10\n",
      "D19_BANKEN_DIREKT  ----  8\n",
      "D19_BANKEN_GROSS  ----  7\n",
      "D19_BANKEN_LOKAL  ----  8\n",
      "D19_BANKEN_OFFLINE_DATUM  ----  10\n",
      "D19_BANKEN_ONLINE_DATUM  ----  10\n",
      "D19_BANKEN_ONLINE_QUOTE_12  ----  11\n",
      "D19_BANKEN_REST  ----  8\n",
      "D19_BEKLEIDUNG_GEH  ----  8\n",
      "D19_BEKLEIDUNG_REST  ----  8\n",
      "D19_BILDUNG  ----  8\n",
      "D19_BIO_OEKO  ----  8\n",
      "D19_BUCH_CD  ----  8\n",
      "D19_DIGIT_SERV  ----  8\n",
      "D19_DROGERIEARTIKEL  ----  8\n",
      "D19_ENERGIE  ----  8\n",
      "D19_FREIZEIT  ----  8\n",
      "D19_GARTEN  ----  8\n",
      "D19_GESAMT_ANZ_12  ----  7\n",
      "D19_GESAMT_ANZ_24  ----  7\n",
      "D19_GESAMT_DATUM  ----  10\n",
      "D19_GESAMT_OFFLINE_DATUM  ----  10\n",
      "D19_GESAMT_ONLINE_DATUM  ----  10\n",
      "D19_GESAMT_ONLINE_QUOTE_12  ----  11\n",
      "D19_HANDWERK  ----  8\n",
      "D19_HAUS_DEKO  ----  8\n",
      "D19_KINDERARTIKEL  ----  8\n",
      "D19_KONSUMTYP  ----  7\n",
      "D19_KONSUMTYP_MAX  ----  6\n",
      "D19_KOSMETIK  ----  8\n",
      "D19_LEBENSMITTEL  ----  8\n",
      "D19_LOTTO  ----  8\n",
      "D19_NAHRUNGSERGAENZUNG  ----  8\n",
      "D19_RATGEBER  ----  8\n",
      "D19_REISEN  ----  8\n",
      "D19_SAMMELARTIKEL  ----  8\n",
      "D19_SCHUHE  ----  8\n",
      "D19_SONSTIGE  ----  8\n",
      "D19_SOZIALES  ----  6\n",
      "D19_TECHNIK  ----  8\n",
      "D19_TELKO_ANZ_12  ----  7\n",
      "D19_TELKO_ANZ_24  ----  7\n",
      "D19_TELKO_DATUM  ----  10\n",
      "D19_TELKO_MOBILE  ----  8\n",
      "D19_TELKO_OFFLINE_DATUM  ----  10\n",
      "D19_TELKO_ONLINE_DATUM  ----  10\n",
      "D19_TELKO_ONLINE_QUOTE_12  ----  5\n",
      "D19_TELKO_REST  ----  8\n",
      "D19_TIERARTIKEL  ----  8\n",
      "D19_VERSAND_ANZ_12  ----  7\n",
      "D19_VERSAND_ANZ_24  ----  7\n",
      "D19_VERSAND_DATUM  ----  10\n",
      "D19_VERSAND_OFFLINE_DATUM  ----  10\n",
      "D19_VERSAND_ONLINE_DATUM  ----  10\n",
      "D19_VERSAND_ONLINE_QUOTE_12  ----  11\n",
      "D19_VERSAND_REST  ----  8\n",
      "D19_VERSI_ANZ_12  ----  7\n",
      "D19_VERSI_ANZ_24  ----  7\n",
      "D19_VERSI_DATUM  ----  10\n",
      "D19_VERSI_OFFLINE_DATUM  ----  10\n",
      "D19_VERSI_ONLINE_DATUM  ----  10\n",
      "D19_VERSI_ONLINE_QUOTE_12  ----  8\n",
      "D19_VERSICHERUNGEN  ----  8\n",
      "D19_VOLLSORTIMENT  ----  8\n",
      "D19_WEIN_FEINKOST  ----  8\n",
      "DSL_FLAG  ----  2\n",
      "EINGEZOGENAM_HH_JAHR  ----  37\n",
      "EWDICHTE  ----  6\n",
      "FINANZ_ANLEGER  ----  5\n",
      "FINANZ_HAUSBAUER  ----  5\n",
      "FINANZ_MINIMALIST  ----  5\n",
      "FINANZ_SPARER  ----  5\n",
      "FINANZ_UNAUFFAELLIGER  ----  5\n",
      "FINANZ_VORSORGER  ----  5\n",
      "FINANZTYP  ----  6\n",
      "FIRMENDICHTE  ----  5\n",
      "GEBAEUDETYP  ----  7\n",
      "GEBAEUDETYP_RASTER  ----  5\n",
      "GEBURTSJAHR  ----  117\n",
      "GEMEINDETYP  ----  7\n",
      "GFK_URLAUBERTYP  ----  12\n",
      "GREEN_AVANTGARDE  ----  2\n",
      "HEALTH_TYP  ----  3\n",
      "HH_DELTA_FLAG  ----  2\n",
      "HH_EINKOMMEN_SCORE  ----  6\n",
      "INNENSTADT  ----  8\n",
      "KBA05_ALTER1  ----  5\n",
      "KBA05_ALTER2  ----  5\n",
      "KBA05_ALTER3  ----  5\n",
      "KBA05_ALTER4  ----  6\n",
      "KBA05_ANHANG  ----  4\n",
      "KBA05_ANTG1  ----  5\n",
      "KBA05_ANTG2  ----  5\n",
      "KBA05_ANTG3  ----  4\n",
      "KBA05_ANTG4  ----  3\n",
      "KBA05_AUTOQUOT  ----  5\n",
      "KBA05_CCM1  ----  5\n",
      "KBA05_CCM2  ----  5\n",
      "KBA05_CCM3  ----  5\n",
      "KBA05_CCM4  ----  5\n",
      "KBA05_DIESEL  ----  5\n",
      "KBA05_FRAU  ----  5\n",
      "KBA05_GBZ  ----  5\n",
      "KBA05_HERST1  ----  6\n",
      "KBA05_HERST2  ----  5\n",
      "KBA05_HERST3  ----  6\n",
      "KBA05_HERST4  ----  6\n",
      "KBA05_HERST5  ----  6\n",
      "KBA05_HERSTTEMP  ----  5\n",
      "KBA05_KRSAQUOT  ----  5\n",
      "KBA05_KRSHERST1  ----  5\n",
      "KBA05_KRSHERST2  ----  5\n",
      "KBA05_KRSHERST3  ----  5\n",
      "KBA05_KRSKLEIN  ----  3\n",
      "KBA05_KRSOBER  ----  3\n",
      "KBA05_KRSVAN  ----  3\n",
      "KBA05_KRSZUL  ----  3\n",
      "KBA05_KW1  ----  5\n",
      "KBA05_KW2  ----  5\n",
      "KBA05_KW3  ----  5\n",
      "KBA05_MAXAH  ----  5\n",
      "KBA05_MAXBJ  ----  4\n",
      "KBA05_MAXHERST  ----  5\n",
      "KBA05_MAXSEG  ----  4\n",
      "KBA05_MAXVORB  ----  3\n",
      "KBA05_MOD1  ----  5\n",
      "KBA05_MOD2  ----  5\n",
      "KBA05_MOD3  ----  5\n",
      "KBA05_MOD4  ----  6\n",
      "KBA05_MOD8  ----  4\n",
      "KBA05_MODTEMP  ----  6\n",
      "KBA05_MOTOR  ----  4\n",
      "KBA05_MOTRAD  ----  4\n",
      "KBA05_SEG1  ----  4\n",
      "KBA05_SEG10  ----  5\n",
      "KBA05_SEG2  ----  5\n",
      "KBA05_SEG3  ----  5\n",
      "KBA05_SEG4  ----  5\n",
      "KBA05_SEG5  ----  5\n",
      "KBA05_SEG6  ----  2\n",
      "KBA05_SEG7  ----  4\n",
      "KBA05_SEG8  ----  4\n",
      "KBA05_SEG9  ----  4\n",
      "KBA05_VORB0  ----  5\n",
      "KBA05_VORB1  ----  5\n",
      "KBA05_VORB2  ----  6\n",
      "KBA05_ZUL1  ----  5\n",
      "KBA05_ZUL2  ----  5\n",
      "KBA05_ZUL3  ----  6\n",
      "KBA05_ZUL4  ----  6\n",
      "KBA13_ALTERHALTER_30  ----  5\n",
      "KBA13_ALTERHALTER_45  ----  5\n",
      "KBA13_ALTERHALTER_60  ----  5\n",
      "KBA13_ALTERHALTER_61  ----  5\n",
      "KBA13_ANTG1  ----  5\n",
      "KBA13_ANTG2  ----  5\n",
      "KBA13_ANTG3  ----  4\n",
      "KBA13_ANTG4  ----  3\n",
      "KBA13_ANZAHL_PKW  ----  1261\n",
      "KBA13_AUDI  ----  5\n",
      "KBA13_AUTOQUOTE  ----  6\n",
      "KBA13_BAUMAX  ----  5\n",
      "KBA13_BJ_1999  ----  5\n",
      "KBA13_BJ_2000  ----  5\n",
      "KBA13_BJ_2004  ----  5\n",
      "KBA13_BJ_2006  ----  5\n",
      "KBA13_BJ_2008  ----  6\n",
      "KBA13_BJ_2009  ----  6\n",
      "KBA13_BMW  ----  5\n",
      "KBA13_CCM_0_1400  ----  6\n",
      "KBA13_CCM_1000  ----  6\n",
      "KBA13_CCM_1200  ----  6\n",
      "KBA13_CCM_1400  ----  5\n",
      "KBA13_CCM_1401_2500  ----  5\n",
      "KBA13_CCM_1500  ----  5\n",
      "KBA13_CCM_1600  ----  5\n",
      "KBA13_CCM_1800  ----  6\n",
      "KBA13_CCM_2000  ----  5\n",
      "KBA13_CCM_2500  ----  6\n",
      "KBA13_CCM_2501  ----  6\n",
      "KBA13_CCM_3000  ----  6\n",
      "KBA13_CCM_3001  ----  5\n",
      "KBA13_FAB_ASIEN  ----  5\n",
      "KBA13_FAB_SONSTIGE  ----  5\n",
      "KBA13_FIAT  ----  5\n",
      "KBA13_FORD  ----  5\n",
      "KBA13_GBZ  ----  5\n",
      "KBA13_HALTER_20  ----  5\n",
      "KBA13_HALTER_25  ----  5\n",
      "KBA13_HALTER_30  ----  5\n",
      "KBA13_HALTER_35  ----  5\n",
      "KBA13_HALTER_40  ----  5\n",
      "KBA13_HALTER_45  ----  5\n",
      "KBA13_HALTER_50  ----  5\n",
      "KBA13_HALTER_55  ----  5\n",
      "KBA13_HALTER_60  ----  5\n",
      "KBA13_HALTER_65  ----  5\n",
      "KBA13_HALTER_66  ----  5\n",
      "KBA13_HERST_ASIEN  ----  5\n",
      "KBA13_HERST_AUDI_VW  ----  5\n",
      "KBA13_HERST_BMW_BENZ  ----  5\n",
      "KBA13_HERST_EUROPA  ----  5\n",
      "KBA13_HERST_FORD_OPEL  ----  5\n",
      "KBA13_HERST_SONST  ----  5\n",
      "KBA13_HHZ  ----  5\n",
      "KBA13_KMH_0_140  ----  6\n",
      "KBA13_KMH_110  ----  3\n",
      "KBA13_KMH_140  ----  5\n",
      "KBA13_KMH_140_210  ----  5\n",
      "KBA13_KMH_180  ----  5\n",
      "KBA13_KMH_210  ----  5\n",
      "KBA13_KMH_211  ----  6\n",
      "KBA13_KMH_250  ----  6\n",
      "KBA13_KMH_251  ----  3\n",
      "KBA13_KRSAQUOT  ----  6\n",
      "KBA13_KRSHERST_AUDI_VW  ----  6\n",
      "KBA13_KRSHERST_BMW_BENZ  ----  6\n",
      "KBA13_KRSHERST_FORD_OPEL  ----  6\n",
      "KBA13_KRSSEG_KLEIN  ----  4\n",
      "KBA13_KRSSEG_OBER  ----  4\n",
      "KBA13_KRSSEG_VAN  ----  4\n",
      "KBA13_KRSZUL_NEU  ----  4\n",
      "KBA13_KW_0_60  ----  5\n",
      "KBA13_KW_110  ----  6\n",
      "KBA13_KW_120  ----  6\n",
      "KBA13_KW_121  ----  6\n",
      "KBA13_KW_30  ----  3\n",
      "KBA13_KW_40  ----  6\n",
      "KBA13_KW_50  ----  6\n",
      "KBA13_KW_60  ----  6\n",
      "KBA13_KW_61_120  ----  5\n",
      "KBA13_KW_70  ----  6\n",
      "KBA13_KW_80  ----  6\n",
      "KBA13_KW_90  ----  6\n",
      "KBA13_MAZDA  ----  5\n",
      "KBA13_MERCEDES  ----  5\n",
      "KBA13_MOTOR  ----  4\n",
      "KBA13_NISSAN  ----  5\n",
      "KBA13_OPEL  ----  5\n",
      "KBA13_PEUGEOT  ----  5\n",
      "KBA13_RENAULT  ----  5\n",
      "KBA13_SEG_GELAENDEWAGEN  ----  5\n",
      "KBA13_SEG_GROSSRAUMVANS  ----  5\n",
      "KBA13_SEG_KLEINST  ----  5\n",
      "KBA13_SEG_KLEINWAGEN  ----  5\n",
      "KBA13_SEG_KOMPAKTKLASSE  ----  5\n",
      "KBA13_SEG_MINIVANS  ----  5\n",
      "KBA13_SEG_MINIWAGEN  ----  5\n",
      "KBA13_SEG_MITTELKLASSE  ----  5\n",
      "KBA13_SEG_OBEREMITTELKLASSE  ----  5\n",
      "KBA13_SEG_OBERKLASSE  ----  6\n",
      "KBA13_SEG_SONSTIGE  ----  5\n",
      "KBA13_SEG_SPORTWAGEN  ----  6\n",
      "KBA13_SEG_UTILITIES  ----  5\n",
      "KBA13_SEG_VAN  ----  5\n",
      "KBA13_SEG_WOHNMOBILE  ----  6\n",
      "KBA13_SITZE_4  ----  5\n",
      "KBA13_SITZE_5  ----  5\n",
      "KBA13_SITZE_6  ----  5\n",
      "KBA13_TOYOTA  ----  5\n",
      "KBA13_VORB_0  ----  5\n",
      "KBA13_VORB_1  ----  5\n",
      "KBA13_VORB_1_2  ----  5\n",
      "KBA13_VORB_2  ----  5\n",
      "KBA13_VORB_3  ----  6\n",
      "KBA13_VW  ----  5\n",
      "KKK  ----  4\n",
      "KOMBIALTER  ----  5\n",
      "KONSUMNAEHE  ----  7\n",
      "KONSUMZELLE  ----  2\n",
      "LP_FAMILIE_FEIN  ----  12\n",
      "LP_FAMILIE_GROB  ----  6\n",
      "LP_LEBENSPHASE_FEIN  ----  41\n",
      "LP_LEBENSPHASE_GROB  ----  13\n",
      "LP_STATUS_FEIN  ----  10\n",
      "LP_STATUS_GROB  ----  5\n",
      "MIN_GEBAEUDEJAHR  ----  32\n",
      "MOBI_RASTER  ----  6\n",
      "MOBI_REGIO  ----  6\n",
      "NATIONALITAET_KZ  ----  3\n",
      "ONLINE_AFFINITAET  ----  6\n",
      "ORTSGR_KLS9  ----  10\n",
      "OST_WEST_KZ  ----  2\n",
      "PLZ8_ANTG1  ----  5\n",
      "PLZ8_ANTG2  ----  5\n",
      "PLZ8_ANTG3  ----  4\n",
      "PLZ8_ANTG4  ----  3\n",
      "PLZ8_BAUMAX  ----  5\n",
      "PLZ8_GBZ  ----  5\n",
      "PLZ8_HHZ  ----  5\n",
      "PRAEGENDE_JUGENDJAHRE  ----  15\n",
      "REGIOTYP  ----  7\n",
      "RELAT_AB  ----  5\n",
      "RETOURTYP_BK_S  ----  5\n",
      "RT_KEIN_ANREIZ  ----  5\n",
      "RT_SCHNAEPPCHEN  ----  5\n",
      "RT_UEBERGROESSE  ----  6\n",
      "SEMIO_DOM  ----  7\n",
      "SEMIO_ERL  ----  7\n",
      "SEMIO_FAM  ----  7\n",
      "SEMIO_KAEM  ----  7\n",
      "SEMIO_KRIT  ----  7\n",
      "SEMIO_KULT  ----  7\n",
      "SEMIO_LUST  ----  7\n",
      "SEMIO_MAT  ----  7\n",
      "SEMIO_PFLICHT  ----  7\n",
      "SEMIO_RAT  ----  7\n",
      "SEMIO_REL  ----  7\n",
      "SEMIO_SOZ  ----  7\n",
      "SEMIO_TRADV  ----  7\n",
      "SEMIO_VERT  ----  7\n",
      "SHOPPER_TYP  ----  4\n",
      "SOHO_KZ  ----  2\n",
      "STRUKTURTYP  ----  3\n",
      "UMFELD_ALT  ----  5\n",
      "UMFELD_JUNG  ----  5\n",
      "UNGLEICHENN_FLAG  ----  2\n",
      "VERDICHTUNGSRAUM  ----  46\n",
      "VERS_TYP  ----  2\n",
      "VHA  ----  6\n",
      "VHN  ----  5\n",
      "VK_DHT4A  ----  11\n",
      "VK_DISTANZ  ----  13\n",
      "VK_ZG11  ----  11\n",
      "W_KEIT_KIND_HH  ----  6\n",
      "WOHNDAUER_2008  ----  9\n",
      "WOHNLAGE  ----  8\n",
      "ZABEOTYP  ----  6\n",
      "ANREDE_KZ  ----  2\n",
      "ALTERSKATEGORIE_GROB  ----  5\n",
      "CAMEO_DEU_2015_2  ----  9\n",
      "CAMEO_DEUG_2015_2  ----  9\n",
      "CAMEO_INTL_2015_2  ----  5\n"
     ]
    }
   ],
   "source": [
    "#get the columns with respective unique data groups\n",
    "big_cat_columns = []\n",
    "for columns in azdias.columns:\n",
    "    groups = azdias[columns].nunique()\n",
    "    print('{}  ----  {}'.format(columns, groups))\n",
    "    if groups >15:\n",
    "        big_cat_columns.append(columns)   #list of columns with more than 15 unique data. \n",
    "        "
   ]
  },
  {
   "cell_type": "code",
   "execution_count": 306,
   "metadata": {},
   "outputs": [
    {
     "data": {
      "text/plain": [
       "['ALTER_HH',\n",
       " 'ALTERSKATEGORIE_FEIN',\n",
       " 'ANZ_HAUSHALTE_AKTIV',\n",
       " 'ANZ_HH_TITEL',\n",
       " 'ANZ_PERSONEN',\n",
       " 'ANZ_STATISTISCHE_HAUSHALTE',\n",
       " 'EINGEZOGENAM_HH_JAHR',\n",
       " 'GEBURTSJAHR',\n",
       " 'KBA13_ANZAHL_PKW',\n",
       " 'LP_LEBENSPHASE_FEIN',\n",
       " 'MIN_GEBAEUDEJAHR',\n",
       " 'VERDICHTUNGSRAUM']"
      ]
     },
     "execution_count": 306,
     "metadata": {},
     "output_type": "execute_result"
    }
   ],
   "source": [
    "# big_cat_columns.pop(0)         #remove the lNR(index)\n",
    "big_cat_columns"
   ]
  },
  {
   "cell_type": "code",
   "execution_count": null,
   "metadata": {},
   "outputs": [],
   "source": [
    "# ALTER_HH  ----  21  \n",
    "# ALTERSKATEGORIE_FEIN  ----  26\n",
    "# ANZ_HAUSHALTE_AKTIV  ----  292\n",
    "# ANZ_HH_TITEL  ----  21\n",
    "# ANZ_PERSONEN  ----  30\n",
    "# ANZ_STATISTISCHE_HAUSHALTE  ----  268  ------drop(similar to aktiv in 3)\n",
    "# EINGEZOGENAM_HH_JAHR  ----  37\n",
    "# GEBURTSJAHR  ----  117\n",
    "# KBA13_ANZAHL_PKW  ----  1261\n",
    "# LP_LEBENSPHASE_FEIN  ----  41   ------ drop(fein)\n",
    "# MIN_GEBAEUDEJAHR  ----  32 ------- drop\n",
    "# VERDICHTUNGSRAUM  ----  46  -------drop"
   ]
  },
  {
   "cell_type": "code",
   "execution_count": 305,
   "metadata": {},
   "outputs": [],
   "source": [
    "qcut_10_labels = [1,2,3,4,5,6,7,8,9,10]\n",
    "qcut_7_labels = [1,2,3,4,5,6,7]\n",
    "cut_11_labels =  [0,1,2,3,4,5,6,7,8,9,10]\n",
    "\n",
    "# azdias['GEBURTSJAHR'].replace(0, np.nan, inplace=True)   #update the null coiumn library\n",
    "\n",
    "azdias['ALTER_HH_2'] = pd.qcut(azdias['ALTER_HH'], q=10, labels = qcut_10_labels)\n",
    "azdias['ALTERSKATEGORIE_FEIN_2'] = pd.qcut(azdias['ALTERSKATEGORIE_FEIN'], q=10, labels = qcut_10_labels)\n",
    "azdias['EINGEZOGENAM_HH_JAHR_2']= pd.qcut(x= azdias['EINGEZOGENAM_HH_JAHR'], q=10, labels = qcut_10_labels)\n",
    "azdias['KBA13_ANZAHL_PKW_2']= pd.qcut(x= azdias['KBA13_ANZAHL_PKW'], q=10, labels = qcut_10_labels)\n",
    "azdias['GEBURTSJAHR_2'] = pd.qcut(azdias['GEBURTSJAHR'], q=10, labels = qcut_10_labels)\n",
    "\n",
    "azdias['ANZ_HAUSHALTE_AKTIV_2'] = pd.qcut(azdias['ANZ_HAUSHALTE_AKTIV'], q=7, labels = qcut_7_labels)\n",
    "\n",
    "azdias['ANZ_HH_TITEL_2']= pd.cut(x= azdias['ANZ_HH_TITEL'], bins=[-1,0,1,2,3,4,5,6,7,8,9,23], labels = cut_11_labels)\n",
    "azdias['ANZ_PERSONEN_2']= pd.cut(x= azdias['ANZ_PERSONEN'], bins=[-1,0,1,2,3,4,5,6,7,8,9,46], labels = cut_11_labels)"
   ]
  },
  {
   "cell_type": "code",
   "execution_count": 307,
   "metadata": {},
   "outputs": [],
   "source": [
    "#drop the big_cat columns\n",
    "azdias.drop(columns= big_cat_columns, inplace=True)"
   ]
  },
  {
   "cell_type": "code",
   "execution_count": 308,
   "metadata": {},
   "outputs": [
    {
     "name": "stdout",
     "output_type": "stream",
     "text": [
      "<class 'pandas.core.frame.DataFrame'>\n",
      "RangeIndex: 891221 entries, 0 to 891220\n",
      "Columns: 351 entries, LNR to ANZ_PERSONEN_2\n",
      "dtypes: category(8), float64(257), int64(86)\n",
      "memory usage: 2.3 GB\n"
     ]
    }
   ],
   "source": [
    "azdias.info()"
   ]
  },
  {
   "cell_type": "code",
   "execution_count": 161,
   "metadata": {},
   "outputs": [],
   "source": [
    "# Set up the matplotlib figure for the disribution of big_cat_columns\n",
    "\n",
    "def distribution_graphs(features):\n",
    "    fig, axes = plt.subplots(figsize=(12, 7) , nrows = 3, ncols = 4)\n",
    "    fig.tight_layout(pad=4.0)\n",
    "\n",
    "    for i in range(12):\n",
    "        if i<4:\n",
    "            axes[0,i].hist(x=azdias[features[i]], color = 'blue', edgecolor = 'black')\n",
    "            axes[0,i].set_title('{}'.format(features[i]))\n",
    "        elif 4<=i<8:\n",
    "            axes[1,i-4].hist(x=azdias[features[i]], color = 'blue', edgecolor = 'black')\n",
    "            axes[1,i-4].set_title('{}'.format(features[i]))\n",
    "        elif 8<=i<12:   \n",
    "            axes[2,i-8].hist(x=azdias[features[i]], color = 'blue', edgecolor = 'black')\n",
    "            axes[2,i-8].set_title('{}'.format(features[i]))\n",
    "            "
   ]
  },
  {
   "cell_type": "code",
   "execution_count": 162,
   "metadata": {},
   "outputs": [
    {
     "data": {
      "image/png": "[encoded data removed]",
      "text/plain": [
       "<Figure size 864x504 with 12 Axes>"
      ]
     },
     "metadata": {
      "needs_background": "light"
     },
     "output_type": "display_data"
    }
   ],
   "source": [
    "distribution_graphs(big_cat_columns)"
   ]
  },
  {
   "cell_type": "code",
   "execution_count": 334,
   "metadata": {},
   "outputs": [],
   "source": [
    "#get the list of columns that doest have any nan values\n",
    "\n",
    "na_list = azdias.columns[azdias.isna().any()].tolist()\n",
    "col = azdias.columns.tolist()\n",
    "\n",
    "# not_list = set(col)- set(na_list)"
   ]
  },
  {
   "cell_type": "code",
   "execution_count": 368,
   "metadata": {},
   "outputs": [
    {
     "data": {
      "text/plain": [
       "265"
      ]
     },
     "execution_count": 368,
     "metadata": {},
     "output_type": "execute_result"
    }
   ],
   "source": [
    "len(na_list)"
   ]
  },
  {
   "cell_type": "code",
   "execution_count": 361,
   "metadata": {},
   "outputs": [
    {
     "name": "stdout",
     "output_type": "stream",
     "text": [
      "D19_BANKEN_ANZ_12---831734\n",
      "D19_BANKEN_ANZ_24---794100\n",
      "D19_BANKEN_DIREKT---728811\n",
      "D19_BANKEN_GROSS---785351\n",
      "D19_BANKEN_LOKAL---874745\n",
      "D19_BANKEN_REST---821760\n",
      "D19_BEKLEIDUNG_GEH---809304\n",
      "D19_BEKLEIDUNG_REST---692502\n",
      "D19_BILDUNG---813156\n",
      "D19_BIO_OEKO---854074\n",
      "D19_BUCH_CD---622788\n",
      "D19_DIGIT_SERV---857661\n",
      "D19_DROGERIEARTIKEL---761014\n",
      "D19_ENERGIE---829857\n",
      "D19_FREIZEIT---790748\n",
      "D19_GARTEN---851626\n",
      "D19_GESAMT_ANZ_12---584797\n",
      "D19_GESAMT_ANZ_24---505303\n",
      "D19_HANDWERK---768381\n",
      "D19_HAUS_DEKO---713100\n",
      "D19_KINDERARTIKEL---749365\n",
      "D19_KOSMETIK---745836\n",
      "D19_LEBENSMITTEL---837914\n",
      "D19_NAHRUNGSERGAENZUNG---852176\n",
      "D19_RATGEBER---805071\n",
      "D19_REISEN---736924\n",
      "D19_SAMMELARTIKEL---802085\n",
      "D19_SCHUHE---773024\n",
      "D19_SONSTIGE---505953\n",
      "D19_TECHNIK---630101\n",
      "D19_TELKO_ANZ_12---857990\n",
      "D19_TELKO_ANZ_24---826208\n",
      "D19_TELKO_MOBILE---726804\n",
      "D19_TELKO_REST---765973\n",
      "D19_TIERARTIKEL---852220\n",
      "D19_VERSAND_ANZ_12---637972\n",
      "D19_VERSAND_ANZ_24---563818\n",
      "D19_VERSAND_REST---734442\n",
      "D19_VERSICHERUNGEN---654664\n",
      "D19_VERSI_ANZ_12---821289\n",
      "D19_VERSI_ANZ_24---777037\n",
      "D19_VOLLSORTIMENT---600002\n",
      "D19_WEIN_FEINKOST---836142\n",
      "GREEN_AVANTGARDE---715996\n"
     ]
    }
   ],
   "source": [
    "#print the 0 value count of the not_list\n",
    "zero_list =[]\n",
    "for i in range(85):\n",
    "    column = not_list[i]\n",
    "    count = len(azdias[azdias[column]==0])\n",
    "    if count >0:\n",
    "        zero_list.append(column)\n",
    "        print('{}---{}'.format(column, count))\n",
    "    "
   ]
  },
  {
   "cell_type": "markdown",
   "metadata": {},
   "source": [
    "### Saving the Azdias file with all data convert"
   ]
  },
  {
   "cell_type": "code",
   "execution_count": 362,
   "metadata": {},
   "outputs": [],
   "source": [
    "#save the part cleaned azsias file\n",
    "azdias.to_csv(\"azdias_part_cleaned.zip\",compression=\"zip\")"
   ]
  },
  {
   "cell_type": "markdown",
   "metadata": {},
   "source": [
    "### Filling missing values"
   ]
  },
  {
   "cell_type": "code",
   "execution_count": 3,
   "metadata": {},
   "outputs": [],
   "source": [
    "azdias = pd.read_csv(\"azdias_part_cleaned.zip\",compression='zip')"
   ]
  },
  {
   "cell_type": "code",
   "execution_count": 4,
   "metadata": {},
   "outputs": [],
   "source": [
    "na_list = azdias.columns[azdias.isna().any()].tolist()"
   ]
  },
  {
   "cell_type": "code",
   "execution_count": 6,
   "metadata": {},
   "outputs": [
    {
     "data": {
      "text/plain": [
       "265"
      ]
     },
     "execution_count": 6,
     "metadata": {},
     "output_type": "execute_result"
    }
   ],
   "source": [
    "len(na_list)"
   ]
  },
  {
   "cell_type": "code",
   "execution_count": 365,
   "metadata": {},
   "outputs": [],
   "source": [
    "# r = azdias['D19_BANKEN_ANZ_12'].mode(dropna=True).iloc[0]"
   ]
  },
  {
   "cell_type": "code",
   "execution_count": 5,
   "metadata": {},
   "outputs": [],
   "source": [
    "for column in na_list:\n",
    "     azdias[column].fillna(value= azdias[column].mode(dropna=True).iloc[0], inplace=True)"
   ]
  },
  {
   "cell_type": "code",
   "execution_count": 6,
   "metadata": {},
   "outputs": [
    {
     "data": {
      "text/plain": [
       "0"
      ]
     },
     "execution_count": 6,
     "metadata": {},
     "output_type": "execute_result"
    }
   ],
   "source": [
    "check_list = azdias.columns[azdias.isna().any()].tolist()\n",
    "len(check_list)"
   ]
  },
  {
   "cell_type": "markdown",
   "metadata": {},
   "source": [
    "### PCA"
   ]
  },
  {
   "cell_type": "code",
   "execution_count": 7,
   "metadata": {},
   "outputs": [
    {
     "name": "stdout",
     "output_type": "stream",
     "text": [
      "<class 'pandas.core.frame.DataFrame'>\n",
      "RangeIndex: 891221 entries, 0 to 891220\n",
      "Columns: 352 entries, Unnamed: 0 to ANZ_PERSONEN_2\n",
      "dtypes: float64(265), int64(87)\n",
      "memory usage: 2.3 GB\n"
     ]
    }
   ],
   "source": [
    "azdias.info()"
   ]
  },
  {
   "cell_type": "code",
   "execution_count": 11,
   "metadata": {},
   "outputs": [
    {
     "ename": "NameError",
     "evalue": "name 'read_csv' is not defined",
     "output_type": "error",
     "traceback": [
      "\u001b[0;31m---------------------------------------------------------------------------\u001b[0m",
      "\u001b[0;31mNameError\u001b[0m                                 Traceback (most recent call last)",
      "\u001b[0;32m<ipython-input-11-c35820237326>\u001b[0m in \u001b[0;36m<module>\u001b[0;34m\u001b[0m\n\u001b[1;32m      1\u001b[0m \u001b[0;31m#open the cleaned files\u001b[0m\u001b[0;34m\u001b[0m\u001b[0;34m\u001b[0m\u001b[0;34m\u001b[0m\u001b[0m\n\u001b[1;32m      2\u001b[0m \u001b[0mazdias\u001b[0m \u001b[0;34m=\u001b[0m\u001b[0mpd\u001b[0m\u001b[0;34m.\u001b[0m\u001b[0mread_csv\u001b[0m\u001b[0;34m(\u001b[0m\u001b[0;34m\"azdias_cleaned.zip\"\u001b[0m\u001b[0;34m,\u001b[0m\u001b[0mcompression\u001b[0m\u001b[0;34m=\u001b[0m\u001b[0;34m\"zip\"\u001b[0m\u001b[0;34m)\u001b[0m\u001b[0;34m\u001b[0m\u001b[0;34m\u001b[0m\u001b[0m\n\u001b[0;32m----> 3\u001b[0;31m \u001b[0mcustomers\u001b[0m \u001b[0;34m=\u001b[0m\u001b[0mread_csv\u001b[0m\u001b[0;34m(\u001b[0m\u001b[0;34m\"customers_cleaned.zip\"\u001b[0m\u001b[0;34m,\u001b[0m\u001b[0mcompression\u001b[0m\u001b[0;34m=\u001b[0m\u001b[0;34m\"zip\"\u001b[0m\u001b[0;34m)\u001b[0m\u001b[0;34m\u001b[0m\u001b[0;34m\u001b[0m\u001b[0m\n\u001b[0m",
      "\u001b[0;31mNameError\u001b[0m: name 'read_csv' is not defined"
     ]
    }
   ],
   "source": [
    "#open the cleaned files\n",
    "azdias =pd.read_csv(\"azdias_cleaned.zip\",compression=\"zip\")\n"
   ]
  },
  {
   "cell_type": "code",
   "execution_count": 13,
   "metadata": {},
   "outputs": [],
   "source": [
    "customers =pd.read_csv(\"customers_cleaned.zip\",compression=\"zip\")"
   ]
  },
  {
   "cell_type": "code",
   "execution_count": 12,
   "metadata": {},
   "outputs": [
    {
     "data": {
      "text/html": [
       "<div>\n",
       "<style scoped>\n",
       "    .dataframe tbody tr th:only-of-type {\n",
       "        vertical-align: middle;\n",
       "    }\n",
       "\n",
       "    .dataframe tbody tr th {\n",
       "        vertical-align: top;\n",
       "    }\n",
       "\n",
       "    .dataframe thead th {\n",
       "        text-align: right;\n",
       "    }\n",
       "</style>\n",
       "<table border=\"1\" class=\"dataframe\">\n",
       "  <thead>\n",
       "    <tr style=\"text-align: right;\">\n",
       "      <th></th>\n",
       "      <th>AKT_DAT_KL</th>\n",
       "      <th>ANZ_KINDER</th>\n",
       "      <th>ANZ_TITEL</th>\n",
       "      <th>ARBEIT</th>\n",
       "      <th>BALLRAUM</th>\n",
       "      <th>CJT_GESAMTTYP</th>\n",
       "      <th>CJT_KATALOGNUTZER</th>\n",
       "      <th>CJT_TYP_1</th>\n",
       "      <th>CJT_TYP_2</th>\n",
       "      <th>CJT_TYP_3</th>\n",
       "      <th>...</th>\n",
       "      <th>CAMEO_DEUG_2015_2</th>\n",
       "      <th>CAMEO_INTL_2015_2</th>\n",
       "      <th>ALTER_HH_2</th>\n",
       "      <th>ALTERSKATEGORIE_FEIN_2</th>\n",
       "      <th>EINGEZOGENAM_HH_JAHR_2</th>\n",
       "      <th>KBA13_ANZAHL_PKW_2</th>\n",
       "      <th>GEBURTSJAHR_2</th>\n",
       "      <th>ANZ_HAUSHALTE_AKTIV_2</th>\n",
       "      <th>ANZ_HH_TITEL_2</th>\n",
       "      <th>ANZ_PERSONEN_2</th>\n",
       "    </tr>\n",
       "  </thead>\n",
       "  <tbody>\n",
       "    <tr>\n",
       "      <th>0</th>\n",
       "      <td>1.0</td>\n",
       "      <td>0.0</td>\n",
       "      <td>0.0</td>\n",
       "      <td>4.0</td>\n",
       "      <td>6.0</td>\n",
       "      <td>2.0</td>\n",
       "      <td>5.0</td>\n",
       "      <td>1.0</td>\n",
       "      <td>1.0</td>\n",
       "      <td>5.0</td>\n",
       "      <td>...</td>\n",
       "      <td>8.0</td>\n",
       "      <td>5.0</td>\n",
       "      <td>4</td>\n",
       "      <td>7</td>\n",
       "      <td>1</td>\n",
       "      <td>3</td>\n",
       "      <td>5</td>\n",
       "      <td>1</td>\n",
       "      <td>0</td>\n",
       "      <td>1</td>\n",
       "    </tr>\n",
       "    <tr>\n",
       "      <th>1</th>\n",
       "      <td>9.0</td>\n",
       "      <td>0.0</td>\n",
       "      <td>0.0</td>\n",
       "      <td>3.0</td>\n",
       "      <td>6.0</td>\n",
       "      <td>5.0</td>\n",
       "      <td>1.0</td>\n",
       "      <td>5.0</td>\n",
       "      <td>5.0</td>\n",
       "      <td>2.0</td>\n",
       "      <td>...</td>\n",
       "      <td>8.0</td>\n",
       "      <td>5.0</td>\n",
       "      <td>4</td>\n",
       "      <td>10</td>\n",
       "      <td>6</td>\n",
       "      <td>9</td>\n",
       "      <td>10</td>\n",
       "      <td>6</td>\n",
       "      <td>0</td>\n",
       "      <td>2</td>\n",
       "    </tr>\n",
       "    <tr>\n",
       "      <th>2</th>\n",
       "      <td>9.0</td>\n",
       "      <td>0.0</td>\n",
       "      <td>0.0</td>\n",
       "      <td>3.0</td>\n",
       "      <td>2.0</td>\n",
       "      <td>3.0</td>\n",
       "      <td>2.0</td>\n",
       "      <td>4.0</td>\n",
       "      <td>4.0</td>\n",
       "      <td>1.0</td>\n",
       "      <td>...</td>\n",
       "      <td>4.0</td>\n",
       "      <td>2.0</td>\n",
       "      <td>6</td>\n",
       "      <td>7</td>\n",
       "      <td>4</td>\n",
       "      <td>7</td>\n",
       "      <td>8</td>\n",
       "      <td>6</td>\n",
       "      <td>0</td>\n",
       "      <td>1</td>\n",
       "    </tr>\n",
       "    <tr>\n",
       "      <th>3</th>\n",
       "      <td>1.0</td>\n",
       "      <td>0.0</td>\n",
       "      <td>0.0</td>\n",
       "      <td>2.0</td>\n",
       "      <td>4.0</td>\n",
       "      <td>2.0</td>\n",
       "      <td>3.0</td>\n",
       "      <td>2.0</td>\n",
       "      <td>2.0</td>\n",
       "      <td>4.0</td>\n",
       "      <td>...</td>\n",
       "      <td>2.0</td>\n",
       "      <td>1.0</td>\n",
       "      <td>3</td>\n",
       "      <td>4</td>\n",
       "      <td>3</td>\n",
       "      <td>6</td>\n",
       "      <td>3</td>\n",
       "      <td>1</td>\n",
       "      <td>0</td>\n",
       "      <td>0</td>\n",
       "    </tr>\n",
       "    <tr>\n",
       "      <th>4</th>\n",
       "      <td>1.0</td>\n",
       "      <td>0.0</td>\n",
       "      <td>0.0</td>\n",
       "      <td>4.0</td>\n",
       "      <td>2.0</td>\n",
       "      <td>5.0</td>\n",
       "      <td>3.0</td>\n",
       "      <td>3.0</td>\n",
       "      <td>3.0</td>\n",
       "      <td>3.0</td>\n",
       "      <td>...</td>\n",
       "      <td>6.0</td>\n",
       "      <td>4.0</td>\n",
       "      <td>9</td>\n",
       "      <td>5</td>\n",
       "      <td>6</td>\n",
       "      <td>4</td>\n",
       "      <td>4</td>\n",
       "      <td>3</td>\n",
       "      <td>0</td>\n",
       "      <td>4</td>\n",
       "    </tr>\n",
       "  </tbody>\n",
       "</table>\n",
       "<p>5 rows × 350 columns</p>\n",
       "</div>"
      ],
      "text/plain": [
       "   AKT_DAT_KL  ANZ_KINDER  ANZ_TITEL  ARBEIT  BALLRAUM  CJT_GESAMTTYP  \\\n",
       "0         1.0         0.0        0.0     4.0       6.0            2.0   \n",
       "1         9.0         0.0        0.0     3.0       6.0            5.0   \n",
       "2         9.0         0.0        0.0     3.0       2.0            3.0   \n",
       "3         1.0         0.0        0.0     2.0       4.0            2.0   \n",
       "4         1.0         0.0        0.0     4.0       2.0            5.0   \n",
       "\n",
       "   CJT_KATALOGNUTZER  CJT_TYP_1  CJT_TYP_2  CJT_TYP_3  ...  CAMEO_DEUG_2015_2  \\\n",
       "0                5.0        1.0        1.0        5.0  ...                8.0   \n",
       "1                1.0        5.0        5.0        2.0  ...                8.0   \n",
       "2                2.0        4.0        4.0        1.0  ...                4.0   \n",
       "3                3.0        2.0        2.0        4.0  ...                2.0   \n",
       "4                3.0        3.0        3.0        3.0  ...                6.0   \n",
       "\n",
       "   CAMEO_INTL_2015_2  ALTER_HH_2  ALTERSKATEGORIE_FEIN_2  \\\n",
       "0                5.0           4                       7   \n",
       "1                5.0           4                      10   \n",
       "2                2.0           6                       7   \n",
       "3                1.0           3                       4   \n",
       "4                4.0           9                       5   \n",
       "\n",
       "   EINGEZOGENAM_HH_JAHR_2  KBA13_ANZAHL_PKW_2  GEBURTSJAHR_2  \\\n",
       "0                       1                   3              5   \n",
       "1                       6                   9             10   \n",
       "2                       4                   7              8   \n",
       "3                       3                   6              3   \n",
       "4                       6                   4              4   \n",
       "\n",
       "   ANZ_HAUSHALTE_AKTIV_2  ANZ_HH_TITEL_2  ANZ_PERSONEN_2  \n",
       "0                      1               0               1  \n",
       "1                      6               0               2  \n",
       "2                      6               0               1  \n",
       "3                      1               0               0  \n",
       "4                      3               0               4  \n",
       "\n",
       "[5 rows x 350 columns]"
      ]
     },
     "execution_count": 12,
     "metadata": {},
     "output_type": "execute_result"
    }
   ],
   "source": [
    "azdias.head()"
   ]
  },
  {
   "cell_type": "code",
   "execution_count": 14,
   "metadata": {},
   "outputs": [
    {
     "data": {
      "text/html": [
       "<div>\n",
       "<style scoped>\n",
       "    .dataframe tbody tr th:only-of-type {\n",
       "        vertical-align: middle;\n",
       "    }\n",
       "\n",
       "    .dataframe tbody tr th {\n",
       "        vertical-align: top;\n",
       "    }\n",
       "\n",
       "    .dataframe thead th {\n",
       "        text-align: right;\n",
       "    }\n",
       "</style>\n",
       "<table border=\"1\" class=\"dataframe\">\n",
       "  <thead>\n",
       "    <tr style=\"text-align: right;\">\n",
       "      <th></th>\n",
       "      <th>AKT_DAT_KL</th>\n",
       "      <th>ANZ_KINDER</th>\n",
       "      <th>ANZ_TITEL</th>\n",
       "      <th>ARBEIT</th>\n",
       "      <th>BALLRAUM</th>\n",
       "      <th>CJT_GESAMTTYP</th>\n",
       "      <th>CJT_KATALOGNUTZER</th>\n",
       "      <th>CJT_TYP_1</th>\n",
       "      <th>CJT_TYP_2</th>\n",
       "      <th>CJT_TYP_3</th>\n",
       "      <th>...</th>\n",
       "      <th>CAMEO_DEUG_2015_2</th>\n",
       "      <th>CAMEO_INTL_2015_2</th>\n",
       "      <th>ALTER_HH_2</th>\n",
       "      <th>ALTERSKATEGORIE_FEIN_2</th>\n",
       "      <th>EINGEZOGENAM_HH_JAHR_2</th>\n",
       "      <th>KBA13_ANZAHL_PKW_2</th>\n",
       "      <th>GEBURTSJAHR_2</th>\n",
       "      <th>ANZ_HAUSHALTE_AKTIV_2</th>\n",
       "      <th>ANZ_HH_TITEL_2</th>\n",
       "      <th>ANZ_PERSONEN_2</th>\n",
       "    </tr>\n",
       "  </thead>\n",
       "  <tbody>\n",
       "    <tr>\n",
       "      <th>0</th>\n",
       "      <td>1.0</td>\n",
       "      <td>0.0</td>\n",
       "      <td>0.0</td>\n",
       "      <td>1.0</td>\n",
       "      <td>3.0</td>\n",
       "      <td>5.0</td>\n",
       "      <td>4.0</td>\n",
       "      <td>1.0</td>\n",
       "      <td>1.0</td>\n",
       "      <td>5.0</td>\n",
       "      <td>...</td>\n",
       "      <td>1.0</td>\n",
       "      <td>1.0</td>\n",
       "      <td>1</td>\n",
       "      <td>2</td>\n",
       "      <td>1</td>\n",
       "      <td>10</td>\n",
       "      <td>1</td>\n",
       "      <td>1</td>\n",
       "      <td>0</td>\n",
       "      <td>2</td>\n",
       "    </tr>\n",
       "    <tr>\n",
       "      <th>1</th>\n",
       "      <td>9.0</td>\n",
       "      <td>0.0</td>\n",
       "      <td>0.0</td>\n",
       "      <td>3.0</td>\n",
       "      <td>6.0</td>\n",
       "      <td>6.0</td>\n",
       "      <td>5.0</td>\n",
       "      <td>1.0</td>\n",
       "      <td>1.0</td>\n",
       "      <td>5.0</td>\n",
       "      <td>...</td>\n",
       "      <td>2.0</td>\n",
       "      <td>2.0</td>\n",
       "      <td>2</td>\n",
       "      <td>2</td>\n",
       "      <td>7</td>\n",
       "      <td>10</td>\n",
       "      <td>1</td>\n",
       "      <td>1</td>\n",
       "      <td>0</td>\n",
       "      <td>3</td>\n",
       "    </tr>\n",
       "    <tr>\n",
       "      <th>2</th>\n",
       "      <td>1.0</td>\n",
       "      <td>0.0</td>\n",
       "      <td>0.0</td>\n",
       "      <td>3.0</td>\n",
       "      <td>7.0</td>\n",
       "      <td>2.0</td>\n",
       "      <td>5.0</td>\n",
       "      <td>2.0</td>\n",
       "      <td>2.0</td>\n",
       "      <td>5.0</td>\n",
       "      <td>...</td>\n",
       "      <td>5.0</td>\n",
       "      <td>3.0</td>\n",
       "      <td>1</td>\n",
       "      <td>1</td>\n",
       "      <td>2</td>\n",
       "      <td>4</td>\n",
       "      <td>1</td>\n",
       "      <td>1</td>\n",
       "      <td>0</td>\n",
       "      <td>1</td>\n",
       "    </tr>\n",
       "    <tr>\n",
       "      <th>3</th>\n",
       "      <td>1.0</td>\n",
       "      <td>0.0</td>\n",
       "      <td>0.0</td>\n",
       "      <td>1.0</td>\n",
       "      <td>7.0</td>\n",
       "      <td>2.0</td>\n",
       "      <td>5.0</td>\n",
       "      <td>1.0</td>\n",
       "      <td>1.0</td>\n",
       "      <td>5.0</td>\n",
       "      <td>...</td>\n",
       "      <td>4.0</td>\n",
       "      <td>2.0</td>\n",
       "      <td>1</td>\n",
       "      <td>1</td>\n",
       "      <td>2</td>\n",
       "      <td>8</td>\n",
       "      <td>1</td>\n",
       "      <td>1</td>\n",
       "      <td>0</td>\n",
       "      <td>0</td>\n",
       "    </tr>\n",
       "    <tr>\n",
       "      <th>4</th>\n",
       "      <td>1.0</td>\n",
       "      <td>0.0</td>\n",
       "      <td>0.0</td>\n",
       "      <td>3.0</td>\n",
       "      <td>3.0</td>\n",
       "      <td>6.0</td>\n",
       "      <td>4.0</td>\n",
       "      <td>3.0</td>\n",
       "      <td>3.0</td>\n",
       "      <td>3.0</td>\n",
       "      <td>...</td>\n",
       "      <td>7.0</td>\n",
       "      <td>4.0</td>\n",
       "      <td>9</td>\n",
       "      <td>5</td>\n",
       "      <td>2</td>\n",
       "      <td>5</td>\n",
       "      <td>4</td>\n",
       "      <td>5</td>\n",
       "      <td>0</td>\n",
       "      <td>4</td>\n",
       "    </tr>\n",
       "  </tbody>\n",
       "</table>\n",
       "<p>5 rows × 350 columns</p>\n",
       "</div>"
      ],
      "text/plain": [
       "   AKT_DAT_KL  ANZ_KINDER  ANZ_TITEL  ARBEIT  BALLRAUM  CJT_GESAMTTYP  \\\n",
       "0         1.0         0.0        0.0     1.0       3.0            5.0   \n",
       "1         9.0         0.0        0.0     3.0       6.0            6.0   \n",
       "2         1.0         0.0        0.0     3.0       7.0            2.0   \n",
       "3         1.0         0.0        0.0     1.0       7.0            2.0   \n",
       "4         1.0         0.0        0.0     3.0       3.0            6.0   \n",
       "\n",
       "   CJT_KATALOGNUTZER  CJT_TYP_1  CJT_TYP_2  CJT_TYP_3  ...  CAMEO_DEUG_2015_2  \\\n",
       "0                4.0        1.0        1.0        5.0  ...                1.0   \n",
       "1                5.0        1.0        1.0        5.0  ...                2.0   \n",
       "2                5.0        2.0        2.0        5.0  ...                5.0   \n",
       "3                5.0        1.0        1.0        5.0  ...                4.0   \n",
       "4                4.0        3.0        3.0        3.0  ...                7.0   \n",
       "\n",
       "   CAMEO_INTL_2015_2  ALTER_HH_2  ALTERSKATEGORIE_FEIN_2  \\\n",
       "0                1.0           1                       2   \n",
       "1                2.0           2                       2   \n",
       "2                3.0           1                       1   \n",
       "3                2.0           1                       1   \n",
       "4                4.0           9                       5   \n",
       "\n",
       "   EINGEZOGENAM_HH_JAHR_2  KBA13_ANZAHL_PKW_2  GEBURTSJAHR_2  \\\n",
       "0                       1                  10              1   \n",
       "1                       7                  10              1   \n",
       "2                       2                   4              1   \n",
       "3                       2                   8              1   \n",
       "4                       2                   5              4   \n",
       "\n",
       "   ANZ_HAUSHALTE_AKTIV_2  ANZ_HH_TITEL_2  ANZ_PERSONEN_2  \n",
       "0                      1               0               2  \n",
       "1                      1               0               3  \n",
       "2                      1               0               1  \n",
       "3                      1               0               0  \n",
       "4                      5               0               4  \n",
       "\n",
       "[5 rows x 350 columns]"
      ]
     },
     "execution_count": 14,
     "metadata": {},
     "output_type": "execute_result"
    }
   ],
   "source": [
    "customers.head()"
   ]
  },
  {
   "cell_type": "code",
   "execution_count": null,
   "metadata": {},
   "outputs": [],
   "source": []
  },
  {
   "cell_type": "code",
   "execution_count": null,
   "metadata": {},
   "outputs": [],
   "source": [
    "# #change the unamed column name to  delete \n",
    "# azdias.rename(columns={'Unnamed: 0': \"delete\"}, inplace= True)\n",
    "# customers.rename(columns={'Unnamed: 0': \"delete\"}, inplace= True)\n",
    "\n",
    "\n",
    "# azdias.drop(columns='delete', inplace=True)\n",
    "# customers.drop(columns='delete', inplace=True)"
   ]
  },
  {
   "cell_type": "code",
   "execution_count": 17,
   "metadata": {},
   "outputs": [],
   "source": [
    "from sklearn.preprocessing import MinMaxScaler\n",
    "\n",
    "scaler = MinMaxScaler()\n",
    "azdias_scaled = pd.DataFrame(scaler.fit_transform(azdias), columns=azdias.columns)\n",
    "customers_scaled = pd.DataFrame(scaler.transform(customers), columns=customers.columns)\n",
    "\n"
   ]
  },
  {
   "cell_type": "code",
   "execution_count": null,
   "metadata": {},
   "outputs": [],
   "source": []
  },
  {
   "cell_type": "code",
   "execution_count": 18,
   "metadata": {},
   "outputs": [
    {
     "data": {
      "text/plain": [
       "(891221, 350)"
      ]
     },
     "execution_count": 18,
     "metadata": {},
     "output_type": "execute_result"
    }
   ],
   "source": [
    "azdias_scaled.shape"
   ]
  },
  {
   "cell_type": "code",
   "execution_count": 19,
   "metadata": {},
   "outputs": [
    {
     "data": {
      "text/plain": [
       "(191652, 350)"
      ]
     },
     "execution_count": 19,
     "metadata": {},
     "output_type": "execute_result"
    }
   ],
   "source": [
    "customers_scaled.shape"
   ]
  },
  {
   "cell_type": "code",
   "execution_count": 21,
   "metadata": {},
   "outputs": [
    {
     "data": {
      "text/html": [
       "<div>\n",
       "<style scoped>\n",
       "    .dataframe tbody tr th:only-of-type {\n",
       "        vertical-align: middle;\n",
       "    }\n",
       "\n",
       "    .dataframe tbody tr th {\n",
       "        vertical-align: top;\n",
       "    }\n",
       "\n",
       "    .dataframe thead th {\n",
       "        text-align: right;\n",
       "    }\n",
       "</style>\n",
       "<table border=\"1\" class=\"dataframe\">\n",
       "  <thead>\n",
       "    <tr style=\"text-align: right;\">\n",
       "      <th></th>\n",
       "      <th>AKT_DAT_KL</th>\n",
       "      <th>ANZ_KINDER</th>\n",
       "      <th>ANZ_TITEL</th>\n",
       "      <th>ARBEIT</th>\n",
       "      <th>BALLRAUM</th>\n",
       "      <th>CJT_GESAMTTYP</th>\n",
       "      <th>CJT_KATALOGNUTZER</th>\n",
       "      <th>CJT_TYP_1</th>\n",
       "      <th>CJT_TYP_2</th>\n",
       "      <th>CJT_TYP_3</th>\n",
       "      <th>...</th>\n",
       "      <th>CAMEO_DEUG_2015_2</th>\n",
       "      <th>CAMEO_INTL_2015_2</th>\n",
       "      <th>ALTER_HH_2</th>\n",
       "      <th>ALTERSKATEGORIE_FEIN_2</th>\n",
       "      <th>EINGEZOGENAM_HH_JAHR_2</th>\n",
       "      <th>KBA13_ANZAHL_PKW_2</th>\n",
       "      <th>GEBURTSJAHR_2</th>\n",
       "      <th>ANZ_HAUSHALTE_AKTIV_2</th>\n",
       "      <th>ANZ_HH_TITEL_2</th>\n",
       "      <th>ANZ_PERSONEN_2</th>\n",
       "    </tr>\n",
       "  </thead>\n",
       "  <tbody>\n",
       "    <tr>\n",
       "      <th>0</th>\n",
       "      <td>0.0</td>\n",
       "      <td>0.0</td>\n",
       "      <td>0.0</td>\n",
       "      <td>0.375</td>\n",
       "      <td>0.833333</td>\n",
       "      <td>0.2</td>\n",
       "      <td>1.00</td>\n",
       "      <td>0.00</td>\n",
       "      <td>0.00</td>\n",
       "      <td>1.00</td>\n",
       "      <td>...</td>\n",
       "      <td>0.875</td>\n",
       "      <td>1.00</td>\n",
       "      <td>0.333333</td>\n",
       "      <td>0.666667</td>\n",
       "      <td>0.000000</td>\n",
       "      <td>0.222222</td>\n",
       "      <td>0.444444</td>\n",
       "      <td>0.000000</td>\n",
       "      <td>0.0</td>\n",
       "      <td>0.1</td>\n",
       "    </tr>\n",
       "    <tr>\n",
       "      <th>1</th>\n",
       "      <td>1.0</td>\n",
       "      <td>0.0</td>\n",
       "      <td>0.0</td>\n",
       "      <td>0.250</td>\n",
       "      <td>0.833333</td>\n",
       "      <td>0.8</td>\n",
       "      <td>0.00</td>\n",
       "      <td>1.00</td>\n",
       "      <td>1.00</td>\n",
       "      <td>0.25</td>\n",
       "      <td>...</td>\n",
       "      <td>0.875</td>\n",
       "      <td>1.00</td>\n",
       "      <td>0.333333</td>\n",
       "      <td>1.000000</td>\n",
       "      <td>0.555556</td>\n",
       "      <td>0.888889</td>\n",
       "      <td>1.000000</td>\n",
       "      <td>0.833333</td>\n",
       "      <td>0.0</td>\n",
       "      <td>0.2</td>\n",
       "    </tr>\n",
       "    <tr>\n",
       "      <th>2</th>\n",
       "      <td>1.0</td>\n",
       "      <td>0.0</td>\n",
       "      <td>0.0</td>\n",
       "      <td>0.250</td>\n",
       "      <td>0.166667</td>\n",
       "      <td>0.4</td>\n",
       "      <td>0.25</td>\n",
       "      <td>0.75</td>\n",
       "      <td>0.75</td>\n",
       "      <td>0.00</td>\n",
       "      <td>...</td>\n",
       "      <td>0.375</td>\n",
       "      <td>0.25</td>\n",
       "      <td>0.555556</td>\n",
       "      <td>0.666667</td>\n",
       "      <td>0.333333</td>\n",
       "      <td>0.666667</td>\n",
       "      <td>0.777778</td>\n",
       "      <td>0.833333</td>\n",
       "      <td>0.0</td>\n",
       "      <td>0.1</td>\n",
       "    </tr>\n",
       "    <tr>\n",
       "      <th>3</th>\n",
       "      <td>0.0</td>\n",
       "      <td>0.0</td>\n",
       "      <td>0.0</td>\n",
       "      <td>0.125</td>\n",
       "      <td>0.500000</td>\n",
       "      <td>0.2</td>\n",
       "      <td>0.50</td>\n",
       "      <td>0.25</td>\n",
       "      <td>0.25</td>\n",
       "      <td>0.75</td>\n",
       "      <td>...</td>\n",
       "      <td>0.125</td>\n",
       "      <td>0.00</td>\n",
       "      <td>0.222222</td>\n",
       "      <td>0.333333</td>\n",
       "      <td>0.222222</td>\n",
       "      <td>0.555556</td>\n",
       "      <td>0.222222</td>\n",
       "      <td>0.000000</td>\n",
       "      <td>0.0</td>\n",
       "      <td>0.0</td>\n",
       "    </tr>\n",
       "    <tr>\n",
       "      <th>4</th>\n",
       "      <td>0.0</td>\n",
       "      <td>0.0</td>\n",
       "      <td>0.0</td>\n",
       "      <td>0.375</td>\n",
       "      <td>0.166667</td>\n",
       "      <td>0.8</td>\n",
       "      <td>0.50</td>\n",
       "      <td>0.50</td>\n",
       "      <td>0.50</td>\n",
       "      <td>0.50</td>\n",
       "      <td>...</td>\n",
       "      <td>0.625</td>\n",
       "      <td>0.75</td>\n",
       "      <td>0.888889</td>\n",
       "      <td>0.444444</td>\n",
       "      <td>0.555556</td>\n",
       "      <td>0.333333</td>\n",
       "      <td>0.333333</td>\n",
       "      <td>0.333333</td>\n",
       "      <td>0.0</td>\n",
       "      <td>0.4</td>\n",
       "    </tr>\n",
       "  </tbody>\n",
       "</table>\n",
       "<p>5 rows × 350 columns</p>\n",
       "</div>"
      ],
      "text/plain": [
       "   AKT_DAT_KL  ANZ_KINDER  ANZ_TITEL  ARBEIT  BALLRAUM  CJT_GESAMTTYP  \\\n",
       "0         0.0         0.0        0.0   0.375  0.833333            0.2   \n",
       "1         1.0         0.0        0.0   0.250  0.833333            0.8   \n",
       "2         1.0         0.0        0.0   0.250  0.166667            0.4   \n",
       "3         0.0         0.0        0.0   0.125  0.500000            0.2   \n",
       "4         0.0         0.0        0.0   0.375  0.166667            0.8   \n",
       "\n",
       "   CJT_KATALOGNUTZER  CJT_TYP_1  CJT_TYP_2  CJT_TYP_3  ...  CAMEO_DEUG_2015_2  \\\n",
       "0               1.00       0.00       0.00       1.00  ...              0.875   \n",
       "1               0.00       1.00       1.00       0.25  ...              0.875   \n",
       "2               0.25       0.75       0.75       0.00  ...              0.375   \n",
       "3               0.50       0.25       0.25       0.75  ...              0.125   \n",
       "4               0.50       0.50       0.50       0.50  ...              0.625   \n",
       "\n",
       "   CAMEO_INTL_2015_2  ALTER_HH_2  ALTERSKATEGORIE_FEIN_2  \\\n",
       "0               1.00    0.333333                0.666667   \n",
       "1               1.00    0.333333                1.000000   \n",
       "2               0.25    0.555556                0.666667   \n",
       "3               0.00    0.222222                0.333333   \n",
       "4               0.75    0.888889                0.444444   \n",
       "\n",
       "   EINGEZOGENAM_HH_JAHR_2  KBA13_ANZAHL_PKW_2  GEBURTSJAHR_2  \\\n",
       "0                0.000000            0.222222       0.444444   \n",
       "1                0.555556            0.888889       1.000000   \n",
       "2                0.333333            0.666667       0.777778   \n",
       "3                0.222222            0.555556       0.222222   \n",
       "4                0.555556            0.333333       0.333333   \n",
       "\n",
       "   ANZ_HAUSHALTE_AKTIV_2  ANZ_HH_TITEL_2  ANZ_PERSONEN_2  \n",
       "0               0.000000             0.0             0.1  \n",
       "1               0.833333             0.0             0.2  \n",
       "2               0.833333             0.0             0.1  \n",
       "3               0.000000             0.0             0.0  \n",
       "4               0.333333             0.0             0.4  \n",
       "\n",
       "[5 rows x 350 columns]"
      ]
     },
     "execution_count": 21,
     "metadata": {},
     "output_type": "execute_result"
    }
   ],
   "source": [
    "azdias_scaled.head()"
   ]
  },
  {
   "cell_type": "code",
   "execution_count": 22,
   "metadata": {},
   "outputs": [],
   "source": [
    "#save the cleaned and scaled files\n",
    "azdias_scaled.to_csv(\"azdias_scaled.csv\", index= False)\n",
    "customers_scaled.to_csv(\"customers_scaled.csv\",index= False)"
   ]
  },
  {
   "cell_type": "code",
   "execution_count": 6,
   "metadata": {},
   "outputs": [],
   "source": [
    "customers_scaled.to_csv(\"customers_csv_cleaned.csv\")"
   ]
  },
  {
   "cell_type": "code",
   "execution_count": 5,
   "metadata": {},
   "outputs": [
    {
     "data": {
      "text/plain": [
       "(891221, 350)"
      ]
     },
     "execution_count": 5,
     "metadata": {},
     "output_type": "execute_result"
    }
   ],
   "source": [
    "azdias.shape"
   ]
  },
  {
   "cell_type": "code",
   "execution_count": 24,
   "metadata": {},
   "outputs": [],
   "source": [
    "#model pca and plot the variance\n",
    "from sklearn.decomposition import PCA\n",
    "from scipy.interpolate import make_interp_spline, BSpline\n",
    "\n",
    "def pca_variance(dataframe, components):  #function to model pca and plot the variance graph\n",
    "    variance = []\n",
    "    for value in components:\n",
    "        pca_model = PCA(n_components=value)  #model the pca\n",
    "        pca_model.fit_transform(dataframe)   \n",
    "        variance.append(pca_model.explained_variance_ratio_.cumsum()[value-1])  #get the variace value\n",
    "        print(pca_model.explained_variance_ratio_.cumsum()[value-1])\n",
    "    print(variance)\n",
    "    print(components)\n",
    "        \n",
    "    #plot the variace\n",
    "    components_smooth = np.linspace(components[0], components[-1], 10)  #10 points are selected to get a smooth line\n",
    "    spl = make_interp_spline(components, variance, k=3)  # type: BSpline\n",
    "    varaince_smooth = spl(components_smooth)\n",
    "    \n",
    "    plt.scatter(components, variance)   #plot the variance as a scatter graph\n",
    "    plt.plot(components_smooth, varaince_smooth)  #plot the smooth line\n",
    "    plt.ylabel(\"Variance Covered\")\n",
    "    plt.xlabel(\"PCA Components\")\n",
    "    plt.title(\"Variance covered by PCA Components\")\n",
    "    plt.show()"
   ]
  },
  {
   "cell_type": "code",
   "execution_count": null,
   "metadata": {},
   "outputs": [],
   "source": [
    "#apply pca\n",
    "pca_components = [130, 150,170, 190]\n",
    "pca_variance(azdias,pca_components)"
   ]
  },
  {
   "cell_type": "code",
   "execution_count": 25,
   "metadata": {},
   "outputs": [
    {
     "name": "stdout",
     "output_type": "stream",
     "text": [
      "0.2895337247977569\n",
      "0.4907732092251974\n",
      "0.7995186457742444\n",
      "0.9457937358872053\n",
      "[0.2895337247977569, 0.4907732092251974, 0.7995186457742444, 0.9457937358872053]\n",
      "[1, 2, 4, 6]\n"
     ]
    },
    {
     "data": {
      "image/png": "[encoded data removed]",
      "text/plain": [
       "<Figure size 432x288 with 1 Axes>"
      ]
     },
     "metadata": {
      "needs_background": "light"
     },
     "output_type": "display_data"
    }
   ],
   "source": [
    "#testcode\n",
    "\n",
    "np.random.seed(0)\n",
    "my_matrix = np.random.randn(20, 8)\n",
    "my_components = [1,2,4,6]\n",
    "\n",
    "pca_variance(my_matrix,my_components)\n",
    "\n",
    "# Actual Code\n",
    "# components = [130, 150,170, 190]\n",
    "# pca_variance(azdias,my_components)"
   ]
  },
  {
   "cell_type": "code",
   "execution_count": 26,
   "metadata": {},
   "outputs": [
    {
     "data": {
      "text/plain": [
       "array([[ 0.58075918, -1.43726508,  2.15785115,  1.87629718,  0.40661325,\n",
       "         1.46035681],\n",
       "       [ 0.74481306, -0.77136051,  0.41736474,  0.24510881, -0.38418499,\n",
       "         0.66645169],\n",
       "       [-2.19095885,  2.39905579,  0.8629664 , -0.97123015,  0.34502631,\n",
       "         0.70305443],\n",
       "       [-0.29051164,  1.29037649,  1.05323612,  2.55226569, -0.90427936,\n",
       "        -0.49860539],\n",
       "       [ 0.3964533 ,  0.70719376, -1.92066444,  1.67735434, -0.98811885,\n",
       "         0.12420891],\n",
       "       [-1.25091609, -1.95864295, -2.02321803, -0.085776  , -1.13454813,\n",
       "         0.12401149],\n",
       "       [-0.1455379 , -0.87964991, -1.62975555, -1.05734285,  0.28754934,\n",
       "         0.16537385],\n",
       "       [-0.76589411,  0.64729934, -0.89539736, -0.34845882,  1.6421839 ,\n",
       "         1.00330147],\n",
       "       [-0.93821828,  0.16589374, -0.33126176, -0.82715168, -0.69870993,\n",
       "         0.71432044],\n",
       "       [-1.84615472,  0.89096837, -0.04727542,  0.65988392,  0.75361572,\n",
       "        -0.39917798],\n",
       "       [ 2.71355287,  2.31045011, -0.28106209, -0.12009401, -0.04415065,\n",
       "        -0.18390951],\n",
       "       [ 1.21519365, -0.49933386, -0.09833254, -1.018931  , -0.93939511,\n",
       "         0.32358041],\n",
       "       [ 1.47858877, -1.87610472,  0.50360957,  0.28604133,  1.75619848,\n",
       "        -1.05455137],\n",
       "       [ 3.47055934,  1.06249764,  0.54283722, -0.93129953, -0.59731931,\n",
       "        -0.26852349],\n",
       "       [ 1.90077785, -0.97873555,  0.51660874, -1.0657595 ,  0.1360716 ,\n",
       "         0.05576898],\n",
       "       [-1.37223985, -1.00481798,  0.10006218,  0.29118316, -1.08195639,\n",
       "        -0.84022523],\n",
       "       [-0.87835137, -0.43202444,  0.30636888, -0.58390628,  0.01807834,\n",
       "        -0.3356906 ],\n",
       "       [-1.19721146,  1.56105181,  0.25736827, -0.72365532,  0.19912868,\n",
       "        -0.79591799],\n",
       "       [-1.83193095, -1.04006748,  2.24458648, -0.97082776, -0.26736412,\n",
       "        -0.57506311],\n",
       "       [ 0.2072272 , -0.15678455, -1.73589255,  1.11629848,  1.49556121,\n",
       "        -0.38876382]])"
      ]
     },
     "execution_count": 26,
     "metadata": {},
     "output_type": "execute_result"
    }
   ],
   "source": [
    "pca_model = PCA(n_components=6)  #model the pca\n",
    "\n",
    "pca_model.fit_transform(my_matrix) "
   ]
  },
  {
   "cell_type": "code",
   "execution_count": 27,
   "metadata": {},
   "outputs": [],
   "source": [
    "evar = pca_model.explained_variance_ratio_"
   ]
  },
  {
   "cell_type": "code",
   "execution_count": 28,
   "metadata": {},
   "outputs": [
    {
     "data": {
      "text/plain": [
       "array([0.28953372, 0.20123948, 0.16888699, 0.13985844, 0.0945817 ,\n",
       "       0.05169339])"
      ]
     },
     "execution_count": 28,
     "metadata": {},
     "output_type": "execute_result"
    }
   ],
   "source": [
    "evar"
   ]
  },
  {
   "cell_type": "code",
   "execution_count": 29,
   "metadata": {},
   "outputs": [],
   "source": [
    "singular_value_arr = pca_model.singular_values_"
   ]
  },
  {
   "cell_type": "code",
   "execution_count": 30,
   "metadata": {},
   "outputs": [
    {
     "data": {
      "text/plain": [
       "array([6.82391445, 5.68906103, 5.21173225, 4.74272934, 3.900206  ,\n",
       "       2.88337755])"
      ]
     },
     "execution_count": 30,
     "metadata": {},
     "output_type": "execute_result"
    }
   ],
   "source": [
    "singular_value_arr"
   ]
  },
  {
   "cell_type": "code",
   "execution_count": 32,
   "metadata": {},
   "outputs": [],
   "source": [
    "array = pca_model.components_"
   ]
  },
  {
   "cell_type": "code",
   "execution_count": 35,
   "metadata": {},
   "outputs": [
    {
     "data": {
      "text/plain": [
       "array([[-0.4420578 ,  0.45308484,  0.08239805, -0.07178993,  0.69789844,\n",
       "         0.20640183,  0.23880689,  0.02575101],\n",
       "       [ 0.10133056, -0.13945217,  0.16472139, -0.68824335, -0.17584481,\n",
       "         0.50670671,  0.29732167, -0.30561398],\n",
       "       [ 0.74067788,  0.45544775,  0.24986129,  0.14847329,  0.02491652,\n",
       "         0.04599007,  0.32907943,  0.22013507],\n",
       "       [ 0.3518729 , -0.57746486,  0.27195123,  0.08101976,  0.63542949,\n",
       "         0.01578931, -0.17529138, -0.16568379],\n",
       "       [ 0.08511002,  0.35993615,  0.22763572, -0.40872636,  0.05222211,\n",
       "        -0.6019156 , -0.31324769, -0.42564462],\n",
       "       [-0.03615384,  0.0118794 , -0.07694896,  0.47987278, -0.0763535 ,\n",
       "        -0.04558022,  0.42553124, -0.757211  ]])"
      ]
     },
     "execution_count": 35,
     "metadata": {},
     "output_type": "execute_result"
    }
   ],
   "source": [
    "array"
   ]
  },
  {
   "cell_type": "code",
   "execution_count": 101,
   "metadata": {},
   "outputs": [],
   "source": [
    "pc1 = list(np.around(np.array(array[0]),4))"
   ]
  },
  {
   "cell_type": "code",
   "execution_count": 102,
   "metadata": {},
   "outputs": [],
   "source": [
    "pc2 = list(np.around(np.array(array[0]),4))"
   ]
  },
  {
   "cell_type": "code",
   "execution_count": 103,
   "metadata": {},
   "outputs": [],
   "source": [
    "def find_index(features, original):\n",
    "    maximum_index = []\n",
    "    minimum_index = []\n",
    "    print(original)\n",
    "    while len(maximum_index)<3:\n",
    "        maxi = max(features)\n",
    "        maximum_index.append(original.index(maxi))\n",
    "        features.remove(maxi)\n",
    "    print(maximum_index)\n",
    "    \n",
    "    while len(minimum_index)<3:\n",
    "        mini = min(features)\n",
    "        minimum_index.append(original.index(mini))\n",
    "        features.remove(mini)\n",
    "    print(minimum_index)\n",
    "    \n",
    "    "
   ]
  },
  {
   "cell_type": "code",
   "execution_count": 104,
   "metadata": {},
   "outputs": [
    {
     "name": "stdout",
     "output_type": "stream",
     "text": [
      "[-0.4421, 0.4531, 0.0824, -0.0718, 0.6979, 0.2064, 0.2388, 0.0258]\n",
      "[4, 1, 6]\n",
      "[0, 3, 7]\n"
     ]
    }
   ],
   "source": [
    "find_index(pc1,pc2)"
   ]
  },
  {
   "cell_type": "code",
   "execution_count": 105,
   "metadata": {},
   "outputs": [
    {
     "data": {
      "text/plain": [
       "(891221, 350)"
      ]
     },
     "execution_count": 105,
     "metadata": {},
     "output_type": "execute_result"
    }
   ],
   "source": [
    "azdias.shape"
   ]
  },
  {
   "cell_type": "code",
   "execution_count": 106,
   "metadata": {},
   "outputs": [],
   "source": [
    "column_names = azdias.columns"
   ]
  },
  {
   "cell_type": "code",
   "execution_count": 108,
   "metadata": {},
   "outputs": [
    {
     "data": {
      "text/plain": [
       "'BALLRAUM'"
      ]
     },
     "execution_count": 108,
     "metadata": {},
     "output_type": "execute_result"
    }
   ],
   "source": [
    "column_names[4]"
   ]
  },
  {
   "cell_type": "code",
   "execution_count": null,
   "metadata": {},
   "outputs": [],
   "source": []
  },
  {
   "cell_type": "markdown",
   "metadata": {},
   "source": [
    "### elbow plot for k menas"
   ]
  },
  {
   "cell_type": "code",
   "execution_count": null,
   "metadata": {},
   "outputs": [],
   "source": [
    "azdias.max()   #max value of the azdias df.. confirm all values fall between 0-11"
   ]
  },
  {
   "cell_type": "code",
   "execution_count": 37,
   "metadata": {},
   "outputs": [
    {
     "data": {
      "image/png": "[encoded data removed]",
      "text/plain": [
       "<Figure size 432x288 with 1 Axes>"
      ]
     },
     "metadata": {
      "needs_background": "light"
     },
     "output_type": "display_data"
    }
   ],
   "source": [
    "from sklearn.cluster import KMeans\n",
    "\n",
    "Sum_of_squared_distances = []\n",
    "K = range(1,10)\n",
    "for k in K:\n",
    "    km = KMeans(n_clusters=k)\n",
    "#     km = km.fit(azdias_transformed)\n",
    "    km = km.fit(my_matrix)\n",
    "    Sum_of_squared_distances.append(km.inertia_)\n",
    "\n",
    "    \n",
    "plt.plot(K, Sum_of_squared_distances, 'bx-')\n",
    "plt.xlabel('k value')\n",
    "plt.ylabel('Inertia/Sum of squared distances')\n",
    "plt.title('Elbow Method For Optimal k')\n",
    "plt.show()\n"
   ]
  },
  {
   "cell_type": "code",
   "execution_count": 7,
   "metadata": {},
   "outputs": [],
   "source": [
    "customer2 = pd.read_csv(\"customers_transformed.zip\",compression='zip')"
   ]
  },
  {
   "cell_type": "code",
   "execution_count": 9,
   "metadata": {},
   "outputs": [
    {
     "data": {
      "text/html": [
       "<div>\n",
       "<style scoped>\n",
       "    .dataframe tbody tr th:only-of-type {\n",
       "        vertical-align: middle;\n",
       "    }\n",
       "\n",
       "    .dataframe tbody tr th {\n",
       "        vertical-align: top;\n",
       "    }\n",
       "\n",
       "    .dataframe thead th {\n",
       "        text-align: right;\n",
       "    }\n",
       "</style>\n",
       "<table border=\"1\" class=\"dataframe\">\n",
       "  <thead>\n",
       "    <tr style=\"text-align: right;\">\n",
       "      <th></th>\n",
       "      <th>0</th>\n",
       "      <th>1</th>\n",
       "      <th>2</th>\n",
       "      <th>3</th>\n",
       "      <th>4</th>\n",
       "      <th>5</th>\n",
       "      <th>6</th>\n",
       "      <th>7</th>\n",
       "      <th>8</th>\n",
       "      <th>9</th>\n",
       "      <th>...</th>\n",
       "      <th>130</th>\n",
       "      <th>131</th>\n",
       "      <th>132</th>\n",
       "      <th>133</th>\n",
       "      <th>134</th>\n",
       "      <th>135</th>\n",
       "      <th>136</th>\n",
       "      <th>137</th>\n",
       "      <th>138</th>\n",
       "      <th>139</th>\n",
       "    </tr>\n",
       "  </thead>\n",
       "  <tbody>\n",
       "    <tr>\n",
       "      <th>0</th>\n",
       "      <td>10.368617</td>\n",
       "      <td>24.140928</td>\n",
       "      <td>-9.525208</td>\n",
       "      <td>-3.351824</td>\n",
       "      <td>-6.696039</td>\n",
       "      <td>4.361234</td>\n",
       "      <td>1.519341</td>\n",
       "      <td>2.314293</td>\n",
       "      <td>4.235823</td>\n",
       "      <td>-0.106865</td>\n",
       "      <td>...</td>\n",
       "      <td>0.175573</td>\n",
       "      <td>1.013305</td>\n",
       "      <td>-1.234664</td>\n",
       "      <td>0.771851</td>\n",
       "      <td>-0.632157</td>\n",
       "      <td>0.015919</td>\n",
       "      <td>-0.058816</td>\n",
       "      <td>-0.223283</td>\n",
       "      <td>0.066385</td>\n",
       "      <td>-1.380752</td>\n",
       "    </tr>\n",
       "    <tr>\n",
       "      <th>1</th>\n",
       "      <td>-6.716024</td>\n",
       "      <td>1.611795</td>\n",
       "      <td>-2.975028</td>\n",
       "      <td>1.173348</td>\n",
       "      <td>-2.423523</td>\n",
       "      <td>4.833689</td>\n",
       "      <td>-0.598036</td>\n",
       "      <td>-4.658209</td>\n",
       "      <td>1.784060</td>\n",
       "      <td>4.422997</td>\n",
       "      <td>...</td>\n",
       "      <td>-0.296735</td>\n",
       "      <td>0.773429</td>\n",
       "      <td>-0.003205</td>\n",
       "      <td>0.139934</td>\n",
       "      <td>-0.689152</td>\n",
       "      <td>-0.015039</td>\n",
       "      <td>-0.756535</td>\n",
       "      <td>0.323086</td>\n",
       "      <td>0.567064</td>\n",
       "      <td>-0.773241</td>\n",
       "    </tr>\n",
       "    <tr>\n",
       "      <th>2</th>\n",
       "      <td>-6.216858</td>\n",
       "      <td>-1.642789</td>\n",
       "      <td>-13.829624</td>\n",
       "      <td>3.276657</td>\n",
       "      <td>-0.759865</td>\n",
       "      <td>2.447619</td>\n",
       "      <td>-2.368574</td>\n",
       "      <td>-1.164844</td>\n",
       "      <td>-6.579628</td>\n",
       "      <td>-4.562003</td>\n",
       "      <td>...</td>\n",
       "      <td>-0.317306</td>\n",
       "      <td>-0.895521</td>\n",
       "      <td>0.565599</td>\n",
       "      <td>0.123401</td>\n",
       "      <td>-0.457295</td>\n",
       "      <td>0.436767</td>\n",
       "      <td>2.686576</td>\n",
       "      <td>-0.022722</td>\n",
       "      <td>-2.203956</td>\n",
       "      <td>-0.495378</td>\n",
       "    </tr>\n",
       "    <tr>\n",
       "      <th>3</th>\n",
       "      <td>3.905874</td>\n",
       "      <td>16.636976</td>\n",
       "      <td>-8.527638</td>\n",
       "      <td>3.343554</td>\n",
       "      <td>-6.299354</td>\n",
       "      <td>-0.254655</td>\n",
       "      <td>1.089587</td>\n",
       "      <td>-1.104372</td>\n",
       "      <td>3.071782</td>\n",
       "      <td>6.297348</td>\n",
       "      <td>...</td>\n",
       "      <td>-0.534503</td>\n",
       "      <td>-0.507064</td>\n",
       "      <td>-1.920504</td>\n",
       "      <td>0.494049</td>\n",
       "      <td>0.431120</td>\n",
       "      <td>-0.424710</td>\n",
       "      <td>-0.183228</td>\n",
       "      <td>0.253611</td>\n",
       "      <td>-0.466910</td>\n",
       "      <td>0.793617</td>\n",
       "    </tr>\n",
       "    <tr>\n",
       "      <th>4</th>\n",
       "      <td>14.672621</td>\n",
       "      <td>-10.806546</td>\n",
       "      <td>10.578728</td>\n",
       "      <td>8.961554</td>\n",
       "      <td>8.362279</td>\n",
       "      <td>-4.605551</td>\n",
       "      <td>-1.167801</td>\n",
       "      <td>1.222740</td>\n",
       "      <td>5.392427</td>\n",
       "      <td>0.745709</td>\n",
       "      <td>...</td>\n",
       "      <td>-0.090267</td>\n",
       "      <td>0.850337</td>\n",
       "      <td>-0.434327</td>\n",
       "      <td>0.080259</td>\n",
       "      <td>-0.223848</td>\n",
       "      <td>-1.310616</td>\n",
       "      <td>-1.120845</td>\n",
       "      <td>-1.383128</td>\n",
       "      <td>-0.479761</td>\n",
       "      <td>0.696263</td>\n",
       "    </tr>\n",
       "  </tbody>\n",
       "</table>\n",
       "<p>5 rows × 140 columns</p>\n",
       "</div>"
      ],
      "text/plain": [
       "           0          1          2         3         4         5         6  \\\n",
       "0  10.368617  24.140928  -9.525208 -3.351824 -6.696039  4.361234  1.519341   \n",
       "1  -6.716024   1.611795  -2.975028  1.173348 -2.423523  4.833689 -0.598036   \n",
       "2  -6.216858  -1.642789 -13.829624  3.276657 -0.759865  2.447619 -2.368574   \n",
       "3   3.905874  16.636976  -8.527638  3.343554 -6.299354 -0.254655  1.089587   \n",
       "4  14.672621 -10.806546  10.578728  8.961554  8.362279 -4.605551 -1.167801   \n",
       "\n",
       "          7         8         9  ...       130       131       132       133  \\\n",
       "0  2.314293  4.235823 -0.106865  ...  0.175573  1.013305 -1.234664  0.771851   \n",
       "1 -4.658209  1.784060  4.422997  ... -0.296735  0.773429 -0.003205  0.139934   \n",
       "2 -1.164844 -6.579628 -4.562003  ... -0.317306 -0.895521  0.565599  0.123401   \n",
       "3 -1.104372  3.071782  6.297348  ... -0.534503 -0.507064 -1.920504  0.494049   \n",
       "4  1.222740  5.392427  0.745709  ... -0.090267  0.850337 -0.434327  0.080259   \n",
       "\n",
       "        134       135       136       137       138       139  \n",
       "0 -0.632157  0.015919 -0.058816 -0.223283  0.066385 -1.380752  \n",
       "1 -0.689152 -0.015039 -0.756535  0.323086  0.567064 -0.773241  \n",
       "2 -0.457295  0.436767  2.686576 -0.022722 -2.203956 -0.495378  \n",
       "3  0.431120 -0.424710 -0.183228  0.253611 -0.466910  0.793617  \n",
       "4 -0.223848 -1.310616 -1.120845 -1.383128 -0.479761  0.696263  \n",
       "\n",
       "[5 rows x 140 columns]"
      ]
     },
     "execution_count": 9,
     "metadata": {},
     "output_type": "execute_result"
    }
   ],
   "source": [
    "customer2.head()"
   ]
  },
  {
   "cell_type": "code",
   "execution_count": null,
   "metadata": {},
   "outputs": [],
   "source": []
  },
  {
   "cell_type": "markdown",
   "metadata": {},
   "source": [
    "3 and 19101670.897752788 is done!\n",
    "4 and 18473412.900836088 is done!\n",
    "5 and 17998313.638482377 is done!\n",
    "6 and 17625599.474804416 is done!\n",
    "7 and 17364182.332419813 is done!\n",
    "8 and 17133268.665771253 is done!\n",
    "9 and 16958477.17330367 is done!\n",
    "10 and 16801939.93121694 is done!\n",
    "11 and 16666725.068677064 is done!\n",
    "12 and 16552372.559374245 is done!\n",
    "13 and 16432142.602628695 is done!\n",
    "14 and 16344327.71689674 is done!\n",
    "15 and 16260535.705382742 is done!\n",
    "16 and 16189203.441679705 is done!\n",
    "17 and 16106114.367119506 is done!"
   ]
  },
  {
   "cell_type": "code",
   "execution_count": 110,
   "metadata": {},
   "outputs": [],
   "source": [
    "k = [3,4,5,6,7,8,9,10,11,12,13,14,15,16,17]"
   ]
  },
  {
   "cell_type": "code",
   "execution_count": 111,
   "metadata": {},
   "outputs": [],
   "source": [
    "value = [19101670.897752788,18473412.900836088,17998313.638482377,17625599.474804416,17364182.332419813, 17133268.665771253,16958477.17330367,16801939.93121694,16666725.068677064,16552372.559374245,\n",
    "         16432142.602628695,16344327.71689674, 16260535.705382742,16189203.441679705,16106114.367119506]"
   ]
  },
  {
   "cell_type": "code",
   "execution_count": 112,
   "metadata": {},
   "outputs": [
    {
     "data": {
      "image/png": "[encoded data removed]",
      "text/plain": [
       "<Figure size 432x288 with 1 Axes>"
      ]
     },
     "metadata": {
      "needs_background": "light"
     },
     "output_type": "display_data"
    }
   ],
   "source": [
    "plt.plot(k, value, 'bx-')\n",
    "plt.xlabel('k value')\n",
    "plt.ylabel('Inertia/Sum of squared distances')\n",
    "plt.title('Elbow Method For Optimal k')\n",
    "plt.show()\n"
   ]
  },
  {
   "cell_type": "code",
   "execution_count": null,
   "metadata": {},
   "outputs": [],
   "source": []
  }
 ],
 "metadata": {
  "kernelspec": {
   "display_name": "Python 3",
   "language": "python",
   "name": "python3"
  },
  "language_info": {
   "codemirror_mode": {
    "name": "ipython",
    "version": 3
   },
   "file_extension": ".py",
   "mimetype": "text/x-python",
   "name": "python",
   "nbconvert_exporter": "python",
   "pygments_lexer": "ipython3",
   "version": "3.8.2"
  }
 },
 "nbformat": 4,
 "nbformat_minor": 4
}
