{
 "cells": [
  {
   "cell_type": "code",
   "execution_count": 1,
   "metadata": {},
   "outputs": [],
   "source": [
    "# import libraries here; add more as necessary\n",
    "import numpy as np\n",
    "import pandas as pd\n",
    "import matplotlib.pyplot as plt\n",
    "import seaborn as sns\n",
    "\n",
    "# magic word for producing visualizations in notebook\n",
    "%matplotlib inline"
   ]
  },
  {
   "cell_type": "code",
   "execution_count": 2,
   "metadata": {},
   "outputs": [
    {
     "name": "stderr",
     "output_type": "stream",
     "text": [
      "D:\\anaconda\\lib\\site-packages\\IPython\\core\\interactiveshell.py:3063: DtypeWarning: Columns (19,20) have mixed types.Specify dtype option on import or set low_memory=False.\n",
      "  interactivity=interactivity, compiler=compiler, result=result)\n"
     ]
    }
   ],
   "source": [
    "#open the file - delete file later\n",
    "azdias = pd.read_csv(\"azdias_null.csv.zip\",compression='gzip')"
   ]
  },
  {
   "cell_type": "code",
   "execution_count": 3,
   "metadata": {},
   "outputs": [
    {
     "data": {
      "text/html": [
       "<div>\n",
       "<style scoped>\n",
       "    .dataframe tbody tr th:only-of-type {\n",
       "        vertical-align: middle;\n",
       "    }\n",
       "\n",
       "    .dataframe tbody tr th {\n",
       "        vertical-align: top;\n",
       "    }\n",
       "\n",
       "    .dataframe thead th {\n",
       "        text-align: right;\n",
       "    }\n",
       "</style>\n",
       "<table border=\"1\" class=\"dataframe\">\n",
       "  <thead>\n",
       "    <tr style=\"text-align: right;\">\n",
       "      <th></th>\n",
       "      <th>Unnamed: 0</th>\n",
       "      <th>LNR</th>\n",
       "      <th>AGER_TYP</th>\n",
       "      <th>AKT_DAT_KL</th>\n",
       "      <th>ALTER_HH</th>\n",
       "      <th>ALTER_KIND1</th>\n",
       "      <th>ALTER_KIND2</th>\n",
       "      <th>ALTER_KIND3</th>\n",
       "      <th>ALTER_KIND4</th>\n",
       "      <th>ALTERSKATEGORIE_FEIN</th>\n",
       "      <th>...</th>\n",
       "      <th>VHN</th>\n",
       "      <th>VK_DHT4A</th>\n",
       "      <th>VK_DISTANZ</th>\n",
       "      <th>VK_ZG11</th>\n",
       "      <th>W_KEIT_KIND_HH</th>\n",
       "      <th>WOHNDAUER_2008</th>\n",
       "      <th>WOHNLAGE</th>\n",
       "      <th>ZABEOTYP</th>\n",
       "      <th>ANREDE_KZ</th>\n",
       "      <th>ALTERSKATEGORIE_GROB</th>\n",
       "    </tr>\n",
       "  </thead>\n",
       "  <tbody>\n",
       "    <tr>\n",
       "      <th>0</th>\n",
       "      <td>0</td>\n",
       "      <td>910215</td>\n",
       "      <td>NaN</td>\n",
       "      <td>NaN</td>\n",
       "      <td>NaN</td>\n",
       "      <td>NaN</td>\n",
       "      <td>NaN</td>\n",
       "      <td>NaN</td>\n",
       "      <td>NaN</td>\n",
       "      <td>NaN</td>\n",
       "      <td>...</td>\n",
       "      <td>NaN</td>\n",
       "      <td>NaN</td>\n",
       "      <td>NaN</td>\n",
       "      <td>NaN</td>\n",
       "      <td>NaN</td>\n",
       "      <td>NaN</td>\n",
       "      <td>NaN</td>\n",
       "      <td>3</td>\n",
       "      <td>1</td>\n",
       "      <td>2</td>\n",
       "    </tr>\n",
       "    <tr>\n",
       "      <th>1</th>\n",
       "      <td>1</td>\n",
       "      <td>910220</td>\n",
       "      <td>NaN</td>\n",
       "      <td>9.0</td>\n",
       "      <td>NaN</td>\n",
       "      <td>NaN</td>\n",
       "      <td>NaN</td>\n",
       "      <td>NaN</td>\n",
       "      <td>NaN</td>\n",
       "      <td>21.0</td>\n",
       "      <td>...</td>\n",
       "      <td>4.0</td>\n",
       "      <td>8.0</td>\n",
       "      <td>11.0</td>\n",
       "      <td>10.0</td>\n",
       "      <td>3.0</td>\n",
       "      <td>9.0</td>\n",
       "      <td>4.0</td>\n",
       "      <td>5</td>\n",
       "      <td>2</td>\n",
       "      <td>1</td>\n",
       "    </tr>\n",
       "    <tr>\n",
       "      <th>2</th>\n",
       "      <td>2</td>\n",
       "      <td>910225</td>\n",
       "      <td>NaN</td>\n",
       "      <td>9.0</td>\n",
       "      <td>17.0</td>\n",
       "      <td>NaN</td>\n",
       "      <td>NaN</td>\n",
       "      <td>NaN</td>\n",
       "      <td>NaN</td>\n",
       "      <td>17.0</td>\n",
       "      <td>...</td>\n",
       "      <td>2.0</td>\n",
       "      <td>9.0</td>\n",
       "      <td>9.0</td>\n",
       "      <td>6.0</td>\n",
       "      <td>3.0</td>\n",
       "      <td>9.0</td>\n",
       "      <td>2.0</td>\n",
       "      <td>5</td>\n",
       "      <td>2</td>\n",
       "      <td>3</td>\n",
       "    </tr>\n",
       "    <tr>\n",
       "      <th>3</th>\n",
       "      <td>3</td>\n",
       "      <td>910226</td>\n",
       "      <td>2.0</td>\n",
       "      <td>1.0</td>\n",
       "      <td>13.0</td>\n",
       "      <td>NaN</td>\n",
       "      <td>NaN</td>\n",
       "      <td>NaN</td>\n",
       "      <td>NaN</td>\n",
       "      <td>13.0</td>\n",
       "      <td>...</td>\n",
       "      <td>0.0</td>\n",
       "      <td>7.0</td>\n",
       "      <td>10.0</td>\n",
       "      <td>11.0</td>\n",
       "      <td>NaN</td>\n",
       "      <td>9.0</td>\n",
       "      <td>7.0</td>\n",
       "      <td>3</td>\n",
       "      <td>2</td>\n",
       "      <td>4</td>\n",
       "    </tr>\n",
       "    <tr>\n",
       "      <th>4</th>\n",
       "      <td>4</td>\n",
       "      <td>910241</td>\n",
       "      <td>NaN</td>\n",
       "      <td>1.0</td>\n",
       "      <td>20.0</td>\n",
       "      <td>NaN</td>\n",
       "      <td>NaN</td>\n",
       "      <td>NaN</td>\n",
       "      <td>NaN</td>\n",
       "      <td>14.0</td>\n",
       "      <td>...</td>\n",
       "      <td>2.0</td>\n",
       "      <td>3.0</td>\n",
       "      <td>5.0</td>\n",
       "      <td>4.0</td>\n",
       "      <td>2.0</td>\n",
       "      <td>9.0</td>\n",
       "      <td>3.0</td>\n",
       "      <td>4</td>\n",
       "      <td>1</td>\n",
       "      <td>3</td>\n",
       "    </tr>\n",
       "  </tbody>\n",
       "</table>\n",
       "<p>5 rows × 367 columns</p>\n",
       "</div>"
      ],
      "text/plain": [
       "   Unnamed: 0     LNR  AGER_TYP  AKT_DAT_KL  ALTER_HH  ALTER_KIND1  \\\n",
       "0           0  910215       NaN         NaN       NaN          NaN   \n",
       "1           1  910220       NaN         9.0       NaN          NaN   \n",
       "2           2  910225       NaN         9.0      17.0          NaN   \n",
       "3           3  910226       2.0         1.0      13.0          NaN   \n",
       "4           4  910241       NaN         1.0      20.0          NaN   \n",
       "\n",
       "   ALTER_KIND2  ALTER_KIND3  ALTER_KIND4  ALTERSKATEGORIE_FEIN  ...  VHN  \\\n",
       "0          NaN          NaN          NaN                   NaN  ...  NaN   \n",
       "1          NaN          NaN          NaN                  21.0  ...  4.0   \n",
       "2          NaN          NaN          NaN                  17.0  ...  2.0   \n",
       "3          NaN          NaN          NaN                  13.0  ...  0.0   \n",
       "4          NaN          NaN          NaN                  14.0  ...  2.0   \n",
       "\n",
       "   VK_DHT4A  VK_DISTANZ  VK_ZG11  W_KEIT_KIND_HH  WOHNDAUER_2008  WOHNLAGE  \\\n",
       "0       NaN         NaN      NaN             NaN             NaN       NaN   \n",
       "1       8.0        11.0     10.0             3.0             9.0       4.0   \n",
       "2       9.0         9.0      6.0             3.0             9.0       2.0   \n",
       "3       7.0        10.0     11.0             NaN             9.0       7.0   \n",
       "4       3.0         5.0      4.0             2.0             9.0       3.0   \n",
       "\n",
       "   ZABEOTYP ANREDE_KZ ALTERSKATEGORIE_GROB  \n",
       "0         3         1                    2  \n",
       "1         5         2                    1  \n",
       "2         5         2                    3  \n",
       "3         3         2                    4  \n",
       "4         4         1                    3  \n",
       "\n",
       "[5 rows x 367 columns]"
      ]
     },
     "execution_count": 3,
     "metadata": {},
     "output_type": "execute_result"
    }
   ],
   "source": [
    "azdias.head()"
   ]
  },
  {
   "cell_type": "code",
   "execution_count": 4,
   "metadata": {},
   "outputs": [
    {
     "name": "stdout",
     "output_type": "stream",
     "text": [
      "(891221, 367)\n"
     ]
    }
   ],
   "source": [
    "print(azdias.shape)"
   ]
  },
  {
   "cell_type": "code",
   "execution_count": 5,
   "metadata": {},
   "outputs": [],
   "source": [
    "#change the unamed column name to  delete \n",
    "azdias.rename(columns={'Unnamed: 0': \"delete\"}, inplace= True)"
   ]
  },
  {
   "cell_type": "code",
   "execution_count": 6,
   "metadata": {},
   "outputs": [],
   "source": [
    "#drop columns which have more than 50% missing values from azdias and customers\n",
    "drop_azdias = ['delete', 'AGER_TYP', 'ALTER_KIND1', 'ALTER_KIND2', 'ALTER_KIND3', 'ALTER_KIND4', 'EXTSEL992', 'KBA05_BAUMAX', 'KK_KUNDENTYP', 'TITEL_KZ']\n",
    "azdias.drop(columns= drop_azdias, inplace=True)"
   ]
  },
  {
   "cell_type": "code",
   "execution_count": 7,
   "metadata": {},
   "outputs": [
    {
     "name": "stdout",
     "output_type": "stream",
     "text": [
      "(891221, 357)\n"
     ]
    }
   ],
   "source": [
    "print(azdias.shape)"
   ]
  },
  {
   "cell_type": "code",
   "execution_count": 24,
   "metadata": {},
   "outputs": [],
   "source": [
    "# list = azdias.isnull().sum().sort_values(ascending=False).nlargest(270)\n",
    "# azdias['CAMEO_INTL_2015_2'] = pd.to_numeric(azdias['CAMEO_INTL_2015'], errors = 'coerce', downcast ='float')"
   ]
  },
  {
   "cell_type": "code",
   "execution_count": 27,
   "metadata": {},
   "outputs": [
    {
     "name": "stdout",
     "output_type": "stream",
     "text": [
      "<class 'pandas.core.frame.DataFrame'>\n",
      "RangeIndex: 891221 entries, 0 to 891220\n",
      "Columns: 357 entries, LNR to ALTERSKATEGORIE_GROB\n",
      "dtypes: float64(264), int64(87), object(6)\n",
      "memory usage: 2.4+ GB\n"
     ]
    }
   ],
   "source": [
    "azdias.info()"
   ]
  },
  {
   "cell_type": "code",
   "execution_count": 86,
   "metadata": {},
   "outputs": [
    {
     "data": {
      "text/plain": [
       "Index(['CAMEO_DEU_2015', 'CAMEO_DEUG_2015', 'CAMEO_INTL_2015',\n",
       "       'D19_LETZTER_KAUF_BRANCHE', 'EINGEFUEGT_AM', 'OST_WEST_KZ',\n",
       "       'CAMEO_DEU_2015_2', 'CAMEO_DEUG_2015_2', 'CAMEO_INTL_2015_2'],\n",
       "      dtype='object')"
      ]
     },
     "execution_count": 86,
     "metadata": {},
     "output_type": "execute_result"
    }
   ],
   "source": [
    "#get the list of column names with dtype as object\n",
    "obj_list = azdias.select_dtypes(include='object').columns\n",
    "obj_list"
   ]
  },
  {
   "cell_type": "code",
   "execution_count": 87,
   "metadata": {},
   "outputs": [],
   "source": [
    "#convert object dtype columns to ints dtype\n",
    "\n",
    "def convertobjects(dataset):\n",
    "    dataset['CAMEO_DEU_2015_2'] = dataset['CAMEO_DEU_2015'].astype(str).str[0]   #get the first element of the string\n",
    "    dataset['CAMEO_DEUG_2015_2']= dataset['CAMEO_DEUG_2015'].astype(str).str[0]\n",
    "    dataset['CAMEO_INTL_2015_2'] = dataset['CAMEO_INTL_2015'].astype(str).str[0]\n",
    "    \n",
    "    CAMEI_dict = {\"1\": 1, \"2\": 2, \"3\": 3, \"4\": 4, \"5\":5, \"6\":6, \"7\":7, \"8\": 8, \"9\":9}   #convert to int dtype\n",
    "    dataset['CAMEO_DEU_2015_2']= dataset['CAMEO_DEU_2015_2'].map(CAMEI_dict)\n",
    "    dataset['CAMEO_DEUG_2015_2']= dataset['CAMEO_DEUG_2015_2'].map(CAMEI_dict)\n",
    "    dataset['CAMEO_INTL_2015_2']= dataset['CAMEO_INTL_2015_2'].map(CAMEI_dict)\n",
    "    \n",
    "    dataset['OST_WEST_KZ']= dataset['OST_WEST_KZ'].map({\"W\":1 , \"O\":0})\n",
    "    \n",
    "    \n",
    "    "
   ]
  },
  {
   "cell_type": "code",
   "execution_count": 88,
   "metadata": {},
   "outputs": [],
   "source": [
    "convertobjects(azdias)"
   ]
  },
  {
   "cell_type": "code",
   "execution_count": 94,
   "metadata": {},
   "outputs": [],
   "source": [
    "#drop the object dtype columns\n",
    "object_dtype_drop = ['CAMEO_DEU_2015', 'CAMEO_DEUG_2015', 'CAMEO_INTL_2015', 'D19_LETZTER_KAUF_BRANCHE', 'EINGEFUEGT_AM']\n",
    "azdias.drop(columns= object_dtype_drop, inplace=True)"
   ]
  },
  {
   "cell_type": "code",
   "execution_count": 95,
   "metadata": {},
   "outputs": [
    {
     "name": "stdout",
     "output_type": "stream",
     "text": [
      "<class 'pandas.core.frame.DataFrame'>\n",
      "RangeIndex: 891221 entries, 0 to 891220\n",
      "Columns: 355 entries, LNR to CAMEO_INTL_2015_2\n",
      "dtypes: float64(268), int64(87)\n",
      "memory usage: 2.4 GB\n"
     ]
    }
   ],
   "source": [
    "azdias.info()"
   ]
  },
  {
   "cell_type": "code",
   "execution_count": 117,
   "metadata": {},
   "outputs": [
    {
     "name": "stdout",
     "output_type": "stream",
     "text": [
      "LNR  ----  891221\n",
      "AKT_DAT_KL  ----  9\n",
      "ALTER_HH  ----  21\n",
      "ALTERSKATEGORIE_FEIN  ----  26\n",
      "ANZ_HAUSHALTE_AKTIV  ----  292\n",
      "ANZ_HH_TITEL  ----  21\n",
      "ANZ_KINDER  ----  11\n",
      "ANZ_PERSONEN  ----  30\n",
      "ANZ_STATISTISCHE_HAUSHALTE  ----  268\n",
      "ANZ_TITEL  ----  6\n",
      "ARBEIT  ----  6\n",
      "BALLRAUM  ----  7\n",
      "CJT_GESAMTTYP  ----  6\n",
      "CJT_KATALOGNUTZER  ----  5\n",
      "CJT_TYP_1  ----  5\n",
      "CJT_TYP_2  ----  5\n",
      "CJT_TYP_3  ----  5\n",
      "CJT_TYP_4  ----  5\n",
      "CJT_TYP_5  ----  5\n",
      "CJT_TYP_6  ----  5\n",
      "D19_BANKEN_ANZ_12  ----  7\n",
      "D19_BANKEN_ANZ_24  ----  7\n",
      "D19_BANKEN_DATUM  ----  10\n",
      "D19_BANKEN_DIREKT  ----  8\n",
      "D19_BANKEN_GROSS  ----  7\n",
      "D19_BANKEN_LOKAL  ----  8\n",
      "D19_BANKEN_OFFLINE_DATUM  ----  10\n",
      "D19_BANKEN_ONLINE_DATUM  ----  10\n",
      "D19_BANKEN_ONLINE_QUOTE_12  ----  11\n",
      "D19_BANKEN_REST  ----  8\n",
      "D19_BEKLEIDUNG_GEH  ----  8\n",
      "D19_BEKLEIDUNG_REST  ----  8\n",
      "D19_BILDUNG  ----  8\n",
      "D19_BIO_OEKO  ----  8\n",
      "D19_BUCH_CD  ----  8\n",
      "D19_DIGIT_SERV  ----  8\n",
      "D19_DROGERIEARTIKEL  ----  8\n",
      "D19_ENERGIE  ----  8\n",
      "D19_FREIZEIT  ----  8\n",
      "D19_GARTEN  ----  8\n",
      "D19_GESAMT_ANZ_12  ----  7\n",
      "D19_GESAMT_ANZ_24  ----  7\n",
      "D19_GESAMT_DATUM  ----  10\n",
      "D19_GESAMT_OFFLINE_DATUM  ----  10\n",
      "D19_GESAMT_ONLINE_DATUM  ----  10\n",
      "D19_GESAMT_ONLINE_QUOTE_12  ----  11\n",
      "D19_HANDWERK  ----  8\n",
      "D19_HAUS_DEKO  ----  8\n",
      "D19_KINDERARTIKEL  ----  8\n",
      "D19_KONSUMTYP  ----  7\n",
      "D19_KONSUMTYP_MAX  ----  6\n",
      "D19_KOSMETIK  ----  8\n",
      "D19_LEBENSMITTEL  ----  8\n",
      "D19_LOTTO  ----  8\n",
      "D19_NAHRUNGSERGAENZUNG  ----  8\n",
      "D19_RATGEBER  ----  8\n",
      "D19_REISEN  ----  8\n",
      "D19_SAMMELARTIKEL  ----  8\n",
      "D19_SCHUHE  ----  8\n",
      "D19_SONSTIGE  ----  8\n",
      "D19_SOZIALES  ----  6\n",
      "D19_TECHNIK  ----  8\n",
      "D19_TELKO_ANZ_12  ----  7\n",
      "D19_TELKO_ANZ_24  ----  7\n",
      "D19_TELKO_DATUM  ----  10\n",
      "D19_TELKO_MOBILE  ----  8\n",
      "D19_TELKO_OFFLINE_DATUM  ----  10\n",
      "D19_TELKO_ONLINE_DATUM  ----  10\n",
      "D19_TELKO_ONLINE_QUOTE_12  ----  5\n",
      "D19_TELKO_REST  ----  8\n",
      "D19_TIERARTIKEL  ----  8\n",
      "D19_VERSAND_ANZ_12  ----  7\n",
      "D19_VERSAND_ANZ_24  ----  7\n",
      "D19_VERSAND_DATUM  ----  10\n",
      "D19_VERSAND_OFFLINE_DATUM  ----  10\n",
      "D19_VERSAND_ONLINE_DATUM  ----  10\n",
      "D19_VERSAND_ONLINE_QUOTE_12  ----  11\n",
      "D19_VERSAND_REST  ----  8\n",
      "D19_VERSI_ANZ_12  ----  7\n",
      "D19_VERSI_ANZ_24  ----  7\n",
      "D19_VERSI_DATUM  ----  10\n",
      "D19_VERSI_OFFLINE_DATUM  ----  10\n",
      "D19_VERSI_ONLINE_DATUM  ----  10\n",
      "D19_VERSI_ONLINE_QUOTE_12  ----  8\n",
      "D19_VERSICHERUNGEN  ----  8\n",
      "D19_VOLLSORTIMENT  ----  8\n",
      "D19_WEIN_FEINKOST  ----  8\n",
      "DSL_FLAG  ----  2\n",
      "EINGEZOGENAM_HH_JAHR  ----  37\n",
      "EWDICHTE  ----  6\n",
      "FINANZ_ANLEGER  ----  5\n",
      "FINANZ_HAUSBAUER  ----  5\n",
      "FINANZ_MINIMALIST  ----  5\n",
      "FINANZ_SPARER  ----  5\n",
      "FINANZ_UNAUFFAELLIGER  ----  5\n",
      "FINANZ_VORSORGER  ----  5\n",
      "FINANZTYP  ----  6\n",
      "FIRMENDICHTE  ----  5\n",
      "GEBAEUDETYP  ----  7\n",
      "GEBAEUDETYP_RASTER  ----  5\n",
      "GEBURTSJAHR  ----  117\n",
      "GEMEINDETYP  ----  7\n",
      "GFK_URLAUBERTYP  ----  12\n",
      "GREEN_AVANTGARDE  ----  2\n",
      "HEALTH_TYP  ----  3\n",
      "HH_DELTA_FLAG  ----  2\n",
      "HH_EINKOMMEN_SCORE  ----  6\n",
      "INNENSTADT  ----  8\n",
      "KBA05_ALTER1  ----  5\n",
      "KBA05_ALTER2  ----  5\n",
      "KBA05_ALTER3  ----  5\n",
      "KBA05_ALTER4  ----  6\n",
      "KBA05_ANHANG  ----  4\n",
      "KBA05_ANTG1  ----  5\n",
      "KBA05_ANTG2  ----  5\n",
      "KBA05_ANTG3  ----  4\n",
      "KBA05_ANTG4  ----  3\n",
      "KBA05_AUTOQUOT  ----  5\n",
      "KBA05_CCM1  ----  5\n",
      "KBA05_CCM2  ----  5\n",
      "KBA05_CCM3  ----  5\n",
      "KBA05_CCM4  ----  5\n",
      "KBA05_DIESEL  ----  5\n",
      "KBA05_FRAU  ----  5\n",
      "KBA05_GBZ  ----  5\n",
      "KBA05_HERST1  ----  6\n",
      "KBA05_HERST2  ----  5\n",
      "KBA05_HERST3  ----  6\n",
      "KBA05_HERST4  ----  6\n",
      "KBA05_HERST5  ----  6\n",
      "KBA05_HERSTTEMP  ----  5\n",
      "KBA05_KRSAQUOT  ----  5\n",
      "KBA05_KRSHERST1  ----  5\n",
      "KBA05_KRSHERST2  ----  5\n",
      "KBA05_KRSHERST3  ----  5\n",
      "KBA05_KRSKLEIN  ----  3\n",
      "KBA05_KRSOBER  ----  3\n",
      "KBA05_KRSVAN  ----  3\n",
      "KBA05_KRSZUL  ----  3\n",
      "KBA05_KW1  ----  5\n",
      "KBA05_KW2  ----  5\n",
      "KBA05_KW3  ----  5\n",
      "KBA05_MAXAH  ----  5\n",
      "KBA05_MAXBJ  ----  4\n",
      "KBA05_MAXHERST  ----  5\n",
      "KBA05_MAXSEG  ----  4\n",
      "KBA05_MAXVORB  ----  3\n",
      "KBA05_MOD1  ----  5\n",
      "KBA05_MOD2  ----  5\n",
      "KBA05_MOD3  ----  5\n",
      "KBA05_MOD4  ----  6\n",
      "KBA05_MOD8  ----  4\n",
      "KBA05_MODTEMP  ----  6\n",
      "KBA05_MOTOR  ----  4\n",
      "KBA05_MOTRAD  ----  4\n",
      "KBA05_SEG1  ----  4\n",
      "KBA05_SEG10  ----  5\n",
      "KBA05_SEG2  ----  5\n",
      "KBA05_SEG3  ----  5\n",
      "KBA05_SEG4  ----  5\n",
      "KBA05_SEG5  ----  5\n",
      "KBA05_SEG6  ----  2\n",
      "KBA05_SEG7  ----  4\n",
      "KBA05_SEG8  ----  4\n",
      "KBA05_SEG9  ----  4\n",
      "KBA05_VORB0  ----  5\n",
      "KBA05_VORB1  ----  5\n",
      "KBA05_VORB2  ----  6\n",
      "KBA05_ZUL1  ----  5\n",
      "KBA05_ZUL2  ----  5\n",
      "KBA05_ZUL3  ----  6\n",
      "KBA05_ZUL4  ----  6\n",
      "KBA13_ALTERHALTER_30  ----  5\n",
      "KBA13_ALTERHALTER_45  ----  5\n",
      "KBA13_ALTERHALTER_60  ----  5\n",
      "KBA13_ALTERHALTER_61  ----  5\n",
      "KBA13_ANTG1  ----  5\n",
      "KBA13_ANTG2  ----  5\n",
      "KBA13_ANTG3  ----  4\n",
      "KBA13_ANTG4  ----  3\n",
      "KBA13_ANZAHL_PKW  ----  1261\n",
      "KBA13_AUDI  ----  5\n",
      "KBA13_AUTOQUOTE  ----  6\n",
      "KBA13_BAUMAX  ----  5\n",
      "KBA13_BJ_1999  ----  5\n",
      "KBA13_BJ_2000  ----  5\n",
      "KBA13_BJ_2004  ----  5\n",
      "KBA13_BJ_2006  ----  5\n",
      "KBA13_BJ_2008  ----  6\n",
      "KBA13_BJ_2009  ----  6\n",
      "KBA13_BMW  ----  5\n",
      "KBA13_CCM_0_1400  ----  6\n",
      "KBA13_CCM_1000  ----  6\n",
      "KBA13_CCM_1200  ----  6\n",
      "KBA13_CCM_1400  ----  5\n",
      "KBA13_CCM_1401_2500  ----  5\n",
      "KBA13_CCM_1500  ----  5\n",
      "KBA13_CCM_1600  ----  5\n",
      "KBA13_CCM_1800  ----  6\n",
      "KBA13_CCM_2000  ----  5\n",
      "KBA13_CCM_2500  ----  6\n",
      "KBA13_CCM_2501  ----  6\n",
      "KBA13_CCM_3000  ----  6\n",
      "KBA13_CCM_3001  ----  5\n",
      "KBA13_FAB_ASIEN  ----  5\n",
      "KBA13_FAB_SONSTIGE  ----  5\n",
      "KBA13_FIAT  ----  5\n",
      "KBA13_FORD  ----  5\n",
      "KBA13_GBZ  ----  5\n",
      "KBA13_HALTER_20  ----  5\n",
      "KBA13_HALTER_25  ----  5\n",
      "KBA13_HALTER_30  ----  5\n",
      "KBA13_HALTER_35  ----  5\n",
      "KBA13_HALTER_40  ----  5\n",
      "KBA13_HALTER_45  ----  5\n",
      "KBA13_HALTER_50  ----  5\n",
      "KBA13_HALTER_55  ----  5\n",
      "KBA13_HALTER_60  ----  5\n",
      "KBA13_HALTER_65  ----  5\n",
      "KBA13_HALTER_66  ----  5\n",
      "KBA13_HERST_ASIEN  ----  5\n",
      "KBA13_HERST_AUDI_VW  ----  5\n",
      "KBA13_HERST_BMW_BENZ  ----  5\n",
      "KBA13_HERST_EUROPA  ----  5\n",
      "KBA13_HERST_FORD_OPEL  ----  5\n",
      "KBA13_HERST_SONST  ----  5\n",
      "KBA13_HHZ  ----  5\n",
      "KBA13_KMH_0_140  ----  6\n",
      "KBA13_KMH_110  ----  3\n",
      "KBA13_KMH_140  ----  5\n",
      "KBA13_KMH_140_210  ----  5\n",
      "KBA13_KMH_180  ----  5\n",
      "KBA13_KMH_210  ----  5\n",
      "KBA13_KMH_211  ----  6\n",
      "KBA13_KMH_250  ----  6\n",
      "KBA13_KMH_251  ----  3\n",
      "KBA13_KRSAQUOT  ----  6\n",
      "KBA13_KRSHERST_AUDI_VW  ----  6\n",
      "KBA13_KRSHERST_BMW_BENZ  ----  6\n",
      "KBA13_KRSHERST_FORD_OPEL  ----  6\n",
      "KBA13_KRSSEG_KLEIN  ----  4\n",
      "KBA13_KRSSEG_OBER  ----  4\n",
      "KBA13_KRSSEG_VAN  ----  4\n",
      "KBA13_KRSZUL_NEU  ----  4\n",
      "KBA13_KW_0_60  ----  5\n",
      "KBA13_KW_110  ----  6\n",
      "KBA13_KW_120  ----  6\n",
      "KBA13_KW_121  ----  6\n",
      "KBA13_KW_30  ----  3\n",
      "KBA13_KW_40  ----  6\n",
      "KBA13_KW_50  ----  6\n",
      "KBA13_KW_60  ----  6\n",
      "KBA13_KW_61_120  ----  5\n",
      "KBA13_KW_70  ----  6\n",
      "KBA13_KW_80  ----  6\n",
      "KBA13_KW_90  ----  6\n",
      "KBA13_MAZDA  ----  5\n",
      "KBA13_MERCEDES  ----  5\n",
      "KBA13_MOTOR  ----  4\n",
      "KBA13_NISSAN  ----  5\n",
      "KBA13_OPEL  ----  5\n",
      "KBA13_PEUGEOT  ----  5\n",
      "KBA13_RENAULT  ----  5\n",
      "KBA13_SEG_GELAENDEWAGEN  ----  5\n",
      "KBA13_SEG_GROSSRAUMVANS  ----  5\n",
      "KBA13_SEG_KLEINST  ----  5\n",
      "KBA13_SEG_KLEINWAGEN  ----  5\n",
      "KBA13_SEG_KOMPAKTKLASSE  ----  5\n",
      "KBA13_SEG_MINIVANS  ----  5\n",
      "KBA13_SEG_MINIWAGEN  ----  5\n",
      "KBA13_SEG_MITTELKLASSE  ----  5\n",
      "KBA13_SEG_OBEREMITTELKLASSE  ----  5\n",
      "KBA13_SEG_OBERKLASSE  ----  6\n",
      "KBA13_SEG_SONSTIGE  ----  5\n",
      "KBA13_SEG_SPORTWAGEN  ----  6\n",
      "KBA13_SEG_UTILITIES  ----  5\n",
      "KBA13_SEG_VAN  ----  5\n",
      "KBA13_SEG_WOHNMOBILE  ----  6\n",
      "KBA13_SITZE_4  ----  5\n",
      "KBA13_SITZE_5  ----  5\n",
      "KBA13_SITZE_6  ----  5\n",
      "KBA13_TOYOTA  ----  5\n",
      "KBA13_VORB_0  ----  5\n",
      "KBA13_VORB_1  ----  5\n",
      "KBA13_VORB_1_2  ----  5\n",
      "KBA13_VORB_2  ----  5\n",
      "KBA13_VORB_3  ----  6\n",
      "KBA13_VW  ----  5\n",
      "KKK  ----  4\n",
      "KOMBIALTER  ----  5\n",
      "KONSUMNAEHE  ----  7\n",
      "KONSUMZELLE  ----  2\n",
      "LP_FAMILIE_FEIN  ----  12\n",
      "LP_FAMILIE_GROB  ----  6\n",
      "LP_LEBENSPHASE_FEIN  ----  41\n",
      "LP_LEBENSPHASE_GROB  ----  13\n",
      "LP_STATUS_FEIN  ----  10\n",
      "LP_STATUS_GROB  ----  5\n",
      "MIN_GEBAEUDEJAHR  ----  32\n",
      "MOBI_RASTER  ----  6\n",
      "MOBI_REGIO  ----  6\n",
      "NATIONALITAET_KZ  ----  3\n",
      "ONLINE_AFFINITAET  ----  6\n",
      "ORTSGR_KLS9  ----  10\n",
      "OST_WEST_KZ  ----  2\n",
      "PLZ8_ANTG1  ----  5\n",
      "PLZ8_ANTG2  ----  5\n",
      "PLZ8_ANTG3  ----  4\n",
      "PLZ8_ANTG4  ----  3\n",
      "PLZ8_BAUMAX  ----  5\n",
      "PLZ8_GBZ  ----  5\n",
      "PLZ8_HHZ  ----  5\n",
      "PRAEGENDE_JUGENDJAHRE  ----  15\n",
      "REGIOTYP  ----  7\n",
      "RELAT_AB  ----  5\n",
      "RETOURTYP_BK_S  ----  5\n",
      "RT_KEIN_ANREIZ  ----  5\n",
      "RT_SCHNAEPPCHEN  ----  5\n",
      "RT_UEBERGROESSE  ----  6\n",
      "SEMIO_DOM  ----  7\n",
      "SEMIO_ERL  ----  7\n",
      "SEMIO_FAM  ----  7\n",
      "SEMIO_KAEM  ----  7\n",
      "SEMIO_KRIT  ----  7\n",
      "SEMIO_KULT  ----  7\n",
      "SEMIO_LUST  ----  7\n",
      "SEMIO_MAT  ----  7\n",
      "SEMIO_PFLICHT  ----  7\n",
      "SEMIO_RAT  ----  7\n",
      "SEMIO_REL  ----  7\n",
      "SEMIO_SOZ  ----  7\n",
      "SEMIO_TRADV  ----  7\n",
      "SEMIO_VERT  ----  7\n",
      "SHOPPER_TYP  ----  4\n",
      "SOHO_KZ  ----  2\n",
      "STRUKTURTYP  ----  3\n",
      "UMFELD_ALT  ----  5\n",
      "UMFELD_JUNG  ----  5\n",
      "UNGLEICHENN_FLAG  ----  2\n",
      "VERDICHTUNGSRAUM  ----  46\n",
      "VERS_TYP  ----  2\n",
      "VHA  ----  6\n",
      "VHN  ----  5\n",
      "VK_DHT4A  ----  11\n",
      "VK_DISTANZ  ----  13\n",
      "VK_ZG11  ----  11\n",
      "W_KEIT_KIND_HH  ----  6\n",
      "WOHNDAUER_2008  ----  9\n",
      "WOHNLAGE  ----  8\n",
      "ZABEOTYP  ----  6\n",
      "ANREDE_KZ  ----  2\n",
      "ALTERSKATEGORIE_GROB  ----  5\n",
      "CAMEO_DEU_2015_2  ----  9\n",
      "CAMEO_DEUG_2015_2  ----  9\n",
      "CAMEO_INTL_2015_2  ----  5\n"
     ]
    }
   ],
   "source": [
    "#get the columns with respective unique data groups\n",
    "big_cat_columns = []\n",
    "for columns in azdias.columns:\n",
    "    groups = azdias[columns].nunique()\n",
    "    print('{}  ----  {}'.format(columns, groups))\n",
    "    if groups >15:\n",
    "        big_cat_columns.append(columns)   #list of columns with more than 15 unique data. \n",
    "        "
   ]
  },
  {
   "cell_type": "code",
   "execution_count": 306,
   "metadata": {},
   "outputs": [
    {
     "data": {
      "text/plain": [
       "['ALTER_HH',\n",
       " 'ALTERSKATEGORIE_FEIN',\n",
       " 'ANZ_HAUSHALTE_AKTIV',\n",
       " 'ANZ_HH_TITEL',\n",
       " 'ANZ_PERSONEN',\n",
       " 'ANZ_STATISTISCHE_HAUSHALTE',\n",
       " 'EINGEZOGENAM_HH_JAHR',\n",
       " 'GEBURTSJAHR',\n",
       " 'KBA13_ANZAHL_PKW',\n",
       " 'LP_LEBENSPHASE_FEIN',\n",
       " 'MIN_GEBAEUDEJAHR',\n",
       " 'VERDICHTUNGSRAUM']"
      ]
     },
     "execution_count": 306,
     "metadata": {},
     "output_type": "execute_result"
    }
   ],
   "source": [
    "# big_cat_columns.pop(0)         #remove the lNR(index)\n",
    "big_cat_columns"
   ]
  },
  {
   "cell_type": "code",
   "execution_count": null,
   "metadata": {},
   "outputs": [],
   "source": [
    "# ALTER_HH  ----  21  \n",
    "# ALTERSKATEGORIE_FEIN  ----  26\n",
    "# ANZ_HAUSHALTE_AKTIV  ----  292\n",
    "# ANZ_HH_TITEL  ----  21\n",
    "# ANZ_PERSONEN  ----  30\n",
    "# ANZ_STATISTISCHE_HAUSHALTE  ----  268  ------drop(similar to aktiv in 3)\n",
    "# EINGEZOGENAM_HH_JAHR  ----  37\n",
    "# GEBURTSJAHR  ----  117\n",
    "# KBA13_ANZAHL_PKW  ----  1261\n",
    "# LP_LEBENSPHASE_FEIN  ----  41   ------ drop(fein)\n",
    "# MIN_GEBAEUDEJAHR  ----  32 ------- drop\n",
    "# VERDICHTUNGSRAUM  ----  46  -------drop"
   ]
  },
  {
   "cell_type": "code",
   "execution_count": 305,
   "metadata": {},
   "outputs": [],
   "source": [
    "qcut_10_labels = [1,2,3,4,5,6,7,8,9,10]\n",
    "qcut_7_labels = [1,2,3,4,5,6,7]\n",
    "cut_11_labels =  [0,1,2,3,4,5,6,7,8,9,10]\n",
    "\n",
    "# azdias['GEBURTSJAHR'].replace(0, np.nan, inplace=True)   #update the null coiumn library\n",
    "\n",
    "azdias['ALTER_HH_2'] = pd.qcut(azdias['ALTER_HH'], q=10, labels = qcut_10_labels)\n",
    "azdias['ALTERSKATEGORIE_FEIN_2'] = pd.qcut(azdias['ALTERSKATEGORIE_FEIN'], q=10, labels = qcut_10_labels)\n",
    "azdias['EINGEZOGENAM_HH_JAHR_2']= pd.qcut(x= azdias['EINGEZOGENAM_HH_JAHR'], q=10, labels = qcut_10_labels)\n",
    "azdias['KBA13_ANZAHL_PKW_2']= pd.qcut(x= azdias['KBA13_ANZAHL_PKW'], q=10, labels = qcut_10_labels)\n",
    "azdias['GEBURTSJAHR_2'] = pd.qcut(azdias['GEBURTSJAHR'], q=10, labels = qcut_10_labels)\n",
    "\n",
    "azdias['ANZ_HAUSHALTE_AKTIV_2'] = pd.qcut(azdias['ANZ_HAUSHALTE_AKTIV'], q=7, labels = qcut_7_labels)\n",
    "\n",
    "azdias['ANZ_HH_TITEL_2']= pd.cut(x= azdias['ANZ_HH_TITEL'], bins=[-1,0,1,2,3,4,5,6,7,8,9,23], labels = cut_11_labels)\n",
    "azdias['ANZ_PERSONEN_2']= pd.cut(x= azdias['ANZ_PERSONEN'], bins=[-1,0,1,2,3,4,5,6,7,8,9,46], labels = cut_11_labels)"
   ]
  },
  {
   "cell_type": "code",
   "execution_count": 307,
   "metadata": {},
   "outputs": [],
   "source": [
    "#drop the big_cat columns\n",
    "azdias.drop(columns= big_cat_columns, inplace=True)"
   ]
  },
  {
   "cell_type": "code",
   "execution_count": 308,
   "metadata": {},
   "outputs": [
    {
     "name": "stdout",
     "output_type": "stream",
     "text": [
      "<class 'pandas.core.frame.DataFrame'>\n",
      "RangeIndex: 891221 entries, 0 to 891220\n",
      "Columns: 351 entries, LNR to ANZ_PERSONEN_2\n",
      "dtypes: category(8), float64(257), int64(86)\n",
      "memory usage: 2.3 GB\n"
     ]
    }
   ],
   "source": [
    "azdias.info()"
   ]
  },
  {
   "cell_type": "code",
   "execution_count": 161,
   "metadata": {},
   "outputs": [],
   "source": [
    "# Set up the matplotlib figure for the disribution of big_cat_columns\n",
    "\n",
    "def distribution_graphs(features):\n",
    "    fig, axes = plt.subplots(figsize=(12, 7) , nrows = 3, ncols = 4)\n",
    "    fig.tight_layout(pad=4.0)\n",
    "\n",
    "    for i in range(12):\n",
    "        if i<4:\n",
    "            axes[0,i].hist(x=azdias[features[i]], color = 'blue', edgecolor = 'black')\n",
    "            axes[0,i].set_title('{}'.format(features[i]))\n",
    "        elif 4<=i<8:\n",
    "            axes[1,i-4].hist(x=azdias[features[i]], color = 'blue', edgecolor = 'black')\n",
    "            axes[1,i-4].set_title('{}'.format(features[i]))\n",
    "        elif 8<=i<12:   \n",
    "            axes[2,i-8].hist(x=azdias[features[i]], color = 'blue', edgecolor = 'black')\n",
    "            axes[2,i-8].set_title('{}'.format(features[i]))\n",
    "            "
   ]
  },
  {
   "cell_type": "code",
   "execution_count": 162,
   "metadata": {},
   "outputs": [
    {
     "data": {
      "image/png": "[encoded data removed]",
      "text/plain": [
       "<Figure size 864x504 with 12 Axes>"
      ]
     },
     "metadata": {
      "needs_background": "light"
     },
     "output_type": "display_data"
    }
   ],
   "source": [
    "distribution_graphs(big_cat_columns)"
   ]
  },
  {
   "cell_type": "code",
   "execution_count": 334,
   "metadata": {},
   "outputs": [],
   "source": [
    "#get the list of columns that doest have any nan values\n",
    "\n",
    "na_list = azdias.columns[azdias.isna().any()].tolist()\n",
    "col = azdias.columns.tolist()\n",
    "\n",
    "# not_list = set(col)- set(na_list)"
   ]
  },
  {
   "cell_type": "code",
   "execution_count": 368,
   "metadata": {},
   "outputs": [
    {
     "data": {
      "text/plain": [
       "265"
      ]
     },
     "execution_count": 368,
     "metadata": {},
     "output_type": "execute_result"
    }
   ],
   "source": [
    "len(na_list)"
   ]
  },
  {
   "cell_type": "code",
   "execution_count": 361,
   "metadata": {},
   "outputs": [
    {
     "name": "stdout",
     "output_type": "stream",
     "text": [
      "D19_BANKEN_ANZ_12---831734\n",
      "D19_BANKEN_ANZ_24---794100\n",
      "D19_BANKEN_DIREKT---728811\n",
      "D19_BANKEN_GROSS---785351\n",
      "D19_BANKEN_LOKAL---874745\n",
      "D19_BANKEN_REST---821760\n",
      "D19_BEKLEIDUNG_GEH---809304\n",
      "D19_BEKLEIDUNG_REST---692502\n",
      "D19_BILDUNG---813156\n",
      "D19_BIO_OEKO---854074\n",
      "D19_BUCH_CD---622788\n",
      "D19_DIGIT_SERV---857661\n",
      "D19_DROGERIEARTIKEL---761014\n",
      "D19_ENERGIE---829857\n",
      "D19_FREIZEIT---790748\n",
      "D19_GARTEN---851626\n",
      "D19_GESAMT_ANZ_12---584797\n",
      "D19_GESAMT_ANZ_24---505303\n",
      "D19_HANDWERK---768381\n",
      "D19_HAUS_DEKO---713100\n",
      "D19_KINDERARTIKEL---749365\n",
      "D19_KOSMETIK---745836\n",
      "D19_LEBENSMITTEL---837914\n",
      "D19_NAHRUNGSERGAENZUNG---852176\n",
      "D19_RATGEBER---805071\n",
      "D19_REISEN---736924\n",
      "D19_SAMMELARTIKEL---802085\n",
      "D19_SCHUHE---773024\n",
      "D19_SONSTIGE---505953\n",
      "D19_TECHNIK---630101\n",
      "D19_TELKO_ANZ_12---857990\n",
      "D19_TELKO_ANZ_24---826208\n",
      "D19_TELKO_MOBILE---726804\n",
      "D19_TELKO_REST---765973\n",
      "D19_TIERARTIKEL---852220\n",
      "D19_VERSAND_ANZ_12---637972\n",
      "D19_VERSAND_ANZ_24---563818\n",
      "D19_VERSAND_REST---734442\n",
      "D19_VERSICHERUNGEN---654664\n",
      "D19_VERSI_ANZ_12---821289\n",
      "D19_VERSI_ANZ_24---777037\n",
      "D19_VOLLSORTIMENT---600002\n",
      "D19_WEIN_FEINKOST---836142\n",
      "GREEN_AVANTGARDE---715996\n"
     ]
    }
   ],
   "source": [
    "#print the 0 value count of the not_list\n",
    "zero_list =[]\n",
    "for i in range(85):\n",
    "    column = not_list[i]\n",
    "    count = len(azdias[azdias[column]==0])\n",
    "    if count >0:\n",
    "        zero_list.append(column)\n",
    "        print('{}---{}'.format(column, count))\n",
    "    "
   ]
  },
  {
   "cell_type": "markdown",
   "metadata": {},
   "source": [
    "### Saving the Azdias file with all data convert"
   ]
  },
  {
   "cell_type": "code",
   "execution_count": 362,
   "metadata": {},
   "outputs": [],
   "source": [
    "#save the part cleaned azsias file\n",
    "azdias.to_csv(\"azdias_part_cleaned.zip\",compression=\"zip\")"
   ]
  },
  {
   "cell_type": "markdown",
   "metadata": {},
   "source": [
    "### Filling missing values"
   ]
  },
  {
   "cell_type": "code",
   "execution_count": 3,
   "metadata": {},
   "outputs": [],
   "source": [
    "azdias = pd.read_csv(\"azdias_part_cleaned.zip\",compression='zip')"
   ]
  },
  {
   "cell_type": "code",
   "execution_count": 4,
   "metadata": {},
   "outputs": [],
   "source": [
    "na_list = azdias.columns[azdias.isna().any()].tolist()"
   ]
  },
  {
   "cell_type": "code",
   "execution_count": 6,
   "metadata": {},
   "outputs": [
    {
     "data": {
      "text/plain": [
       "265"
      ]
     },
     "execution_count": 6,
     "metadata": {},
     "output_type": "execute_result"
    }
   ],
   "source": [
    "len(na_list)"
   ]
  },
  {
   "cell_type": "code",
   "execution_count": 365,
   "metadata": {},
   "outputs": [],
   "source": [
    "# r = azdias['D19_BANKEN_ANZ_12'].mode(dropna=True).iloc[0]"
   ]
  },
  {
   "cell_type": "code",
   "execution_count": 5,
   "metadata": {},
   "outputs": [],
   "source": [
    "for column in na_list:\n",
    "     azdias[column].fillna(value= azdias[column].mode(dropna=True).iloc[0], inplace=True)"
   ]
  },
  {
   "cell_type": "code",
   "execution_count": 6,
   "metadata": {},
   "outputs": [
    {
     "data": {
      "text/plain": [
       "0"
      ]
     },
     "execution_count": 6,
     "metadata": {},
     "output_type": "execute_result"
    }
   ],
   "source": [
    "check_list = azdias.columns[azdias.isna().any()].tolist()\n",
    "len(check_list)"
   ]
  },
  {
   "cell_type": "markdown",
   "metadata": {},
   "source": [
    "### PCA"
   ]
  },
  {
   "cell_type": "code",
   "execution_count": 7,
   "metadata": {},
   "outputs": [
    {
     "name": "stdout",
     "output_type": "stream",
     "text": [
      "<class 'pandas.core.frame.DataFrame'>\n",
      "RangeIndex: 891221 entries, 0 to 891220\n",
      "Columns: 352 entries, Unnamed: 0 to ANZ_PERSONEN_2\n",
      "dtypes: float64(265), int64(87)\n",
      "memory usage: 2.3 GB\n"
     ]
    }
   ],
   "source": [
    "azdias.info()"
   ]
  },
  {
   "cell_type": "code",
   "execution_count": 29,
   "metadata": {},
   "outputs": [],
   "source": [
    "#model pca and plot the variance\n",
    "from sklearn.decomposition import PCA\n",
    "from scipy.interpolate import make_interp_spline, BSpline\n",
    "\n",
    "def pca_variance(matrix, components):  #function to model pca and plot the variance graph\n",
    "    variance = []\n",
    "    for value in components:\n",
    "        my_model = PCA(n_components=value)  #model the pca\n",
    "        my_model.fit_transform(matrix)   \n",
    "        variance.append(my_model.explained_variance_ratio_.cumsum()[value-1])  #get the variace value\n",
    "    print(variance)\n",
    "    print(components)\n",
    "        \n",
    "    #plot the variace\n",
    "    components_smooth = np.linspace(components[0], components[-1], 10)  #10 points are selected to get a smooth line\n",
    "    spl = make_interp_spline(components, variance, k=3)  # type: BSpline\n",
    "    varaince_smooth = spl(xnew)\n",
    "    \n",
    "    plt.scatter(components, variance)   #plot the scatter variance graph\n",
    "    plt.plot(components_smooth, varaince_smooth)  #plot the smooth line\n",
    "    plt.ylabel(\"Variance Covered\")\n",
    "    plt.xlabel(\"PCA Components\")\n",
    "    plt.title(\"Variance covered by PCA Components\")\n",
    "    plt.show()"
   ]
  },
  {
   "cell_type": "code",
   "execution_count": 30,
   "metadata": {},
   "outputs": [
    {
     "name": "stdout",
     "output_type": "stream",
     "text": [
      "[0.2895337247977569, 0.4907732092251974, 0.7995186457742444, 0.9457937358872053]\n",
      "[1, 2, 4, 6]\n"
     ]
    },
    {
     "data": {
      "image/png": "[encoded data removed]",
      "text/plain": [
       "<Figure size 432x288 with 1 Axes>"
      ]
     },
     "metadata": {
      "needs_background": "light"
     },
     "output_type": "display_data"
    }
   ],
   "source": [
    "#testcode\n",
    "np.random.seed(0)\n",
    "my_matrix = np.random.randn(20, 8)\n",
    "my_components = [1,2,4,6]\n",
    "\n",
    "pca_variance(my_matrix,my_components)\n",
    "\n",
    "# Actual Code\n",
    "# components = [130, 150,170, 190]\n",
    "# pca_variance(azdias,my_components)"
   ]
  },
  {
   "cell_type": "code",
   "execution_count": null,
   "metadata": {},
   "outputs": [],
   "source": []
  },
  {
   "cell_type": "code",
   "execution_count": 12,
   "metadata": {},
   "outputs": [],
   "source": []
  },
  {
   "cell_type": "code",
   "execution_count": null,
   "metadata": {},
   "outputs": [],
   "source": []
  },
  {
   "cell_type": "code",
   "execution_count": null,
   "metadata": {},
   "outputs": [],
   "source": []
  }
 ],
 "metadata": {
  "kernelspec": {
   "display_name": "Python 3",
   "language": "python",
   "name": "python3"
  },
  "language_info": {
   "codemirror_mode": {
    "name": "ipython",
    "version": 3
   },
   "file_extension": ".py",
   "mimetype": "text/x-python",
   "name": "python",
   "nbconvert_exporter": "python",
   "pygments_lexer": "ipython3",
   "version": "3.8.2"
  }
 },
 "nbformat": 4,
 "nbformat_minor": 4
}
