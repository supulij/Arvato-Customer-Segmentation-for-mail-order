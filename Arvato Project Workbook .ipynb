{
 "cells": [
  {
   "cell_type": "markdown",
   "metadata": {},
   "source": [
    "# Capstone Project: Create a Customer Segmentation Report for Arvato Financial Services\n",
    "\n",
    "In this project, you will analyze demographics data for customers of a mail-order sales company in Germany, comparing it against demographics information for the general population. You'll use unsupervised learning techniques to perform customer segmentation, identifying the parts of the population that best describe the core customer base of the company. Then, you'll apply what you've learned on a third dataset with demographics information for targets of a marketing campaign for the company, and use a model to predict which individuals are most likely to convert into becoming customers for the company. The data that you will use has been provided by our partners at Bertelsmann Arvato Analytics, and represents a real-life data science task.\n",
    "\n",
    "If you completed the first term of this program, you will be familiar with the first part of this project, from the unsupervised learning project. The versions of those two datasets used in this project will include many more features and has not been pre-cleaned. You are also free to choose whatever approach you'd like to analyzing the data rather than follow pre-determined steps. In your work on this project, make sure that you carefully document your steps and decisions, since your main deliverable for this project will be a blog post reporting your findings."
   ]
  },
  {
   "cell_type": "code",
   "execution_count": 1,
   "metadata": {},
   "outputs": [],
   "source": [
    "# import libraries here; add more as necessary\n",
    "import numpy as np\n",
    "import pandas as pd\n",
    "import matplotlib.pyplot as plt\n",
    "import seaborn as sns\n",
    "# magic word for producing visualizations in notebook\n",
    "%matplotlib inline\n",
    "\n",
    "\n",
    "import math\n",
    "\n",
    "\n"
   ]
  },
  {
   "cell_type": "markdown",
   "metadata": {},
   "source": [
    "## Part 0: Get to Know the Data\n",
    "\n",
    "There are four data files associated with this project:\n",
    "\n",
    "- `Udacity_AZDIAS_052018.csv`: Demographics data for the general population of Germany; 891 211 persons (rows) x 366 features (columns).\n",
    "- `Udacity_CUSTOMERS_052018.csv`: Demographics data for customers of a mail-order company; 191 652 persons (rows) x 369 features (columns).\n",
    "- `Udacity_MAILOUT_052018_TRAIN.csv`: Demographics data for individuals who were targets of a marketing campaign; 42 982 persons (rows) x 367 (columns).\n",
    "- `Udacity_MAILOUT_052018_TEST.csv`: Demographics data for individuals who were targets of a marketing campaign; 42 833 persons (rows) x 366 (columns).\n",
    "\n",
    "Each row of the demographics files represents a single person, but also includes information outside of individuals, including information about their household, building, and neighborhood. Use the information from the first two files to figure out how customers (\"CUSTOMERS\") are similar to or differ from the general population at large (\"AZDIAS\"), then use your analysis to make predictions on the other two files (\"MAILOUT\"), predicting which recipients are most likely to become a customer for the mail-order company.\n",
    "\n",
    "The \"CUSTOMERS\" file contains three extra columns ('CUSTOMER_GROUP', 'ONLINE_PURCHASE', and 'PRODUCT_GROUP'), which provide broad information about the customers depicted in the file. The original \"MAILOUT\" file included one additional column, \"RESPONSE\", which indicated whether or not each recipient became a customer of the company. For the \"TRAIN\" subset, this column has been retained, but in the \"TEST\" subset it has been removed; it is against that withheld column that your final predictions will be assessed in the Kaggle competition.\n",
    "\n",
    "Otherwise, all of the remaining columns are the same between the three data files. For more information about the columns depicted in the files, you can refer to two Excel spreadsheets provided in the workspace. [One of them](./DIAS Information Levels - Attributes 2017.xlsx) is a top-level list of attributes and descriptions, organized by informational category. [The other](./DIAS Attributes - Values 2017.xlsx) is a detailed mapping of data values for each feature in alphabetical order.\n",
    "\n",
    "In the below cell, we've provided some initial code to load in the first two datasets. Note for all of the `.csv` data files in this project that they're semicolon (`;`) delimited, so an additional argument in the [`read_csv()`](https://pandas.pydata.org/pandas-docs/stable/generated/pandas.read_csv.html) call has been included to read in the data properly. Also, considering the size of the datasets, it may take some time for them to load completely.\n",
    "\n",
    "You'll notice when the data is loaded in that a warning message will immediately pop up. Before you really start digging into the modeling and analysis, you're going to need to perform some cleaning. Take some time to browse the structure of the data and look over the informational spreadsheets to understand the data values. Make some decisions on which features to keep, which features to drop, and if any revisions need to be made on data formats. It'll be a good idea to create a function with pre-processing steps, since you'll need to clean all of the datasets before you work with them."
   ]
  },
  {
   "cell_type": "code",
   "execution_count": 2,
   "metadata": {},
   "outputs": [
    {
     "name": "stderr",
     "output_type": "stream",
     "text": [
      "/opt/conda/lib/python3.6/site-packages/IPython/core/interactiveshell.py:2785: DtypeWarning: Columns (18,19) have mixed types. Specify dtype option on import or set low_memory=False.\n",
      "  interactivity=interactivity, compiler=compiler, result=result)\n"
     ]
    }
   ],
   "source": [
    "# load in the data\n",
    "azdias = pd.read_csv('../../data/Term2/capstone/arvato_data/Udacity_AZDIAS_052018.csv', sep=';')\n",
    "customers = pd.read_csv('../../data/Term2/capstone/arvato_data/Udacity_CUSTOMERS_052018.csv', sep=';')"
   ]
  },
  {
   "cell_type": "code",
   "execution_count": null,
   "metadata": {},
   "outputs": [],
   "source": [
    "# Be sure to add in a lot more cells (both markdown and code) to document your\n",
    "# approach and findings!"
   ]
  },
  {
   "cell_type": "code",
   "execution_count": 3,
   "metadata": {},
   "outputs": [
    {
     "data": {
      "text/html": [
       "<div>\n",
       "<style scoped>\n",
       "    .dataframe tbody tr th:only-of-type {\n",
       "        vertical-align: middle;\n",
       "    }\n",
       "\n",
       "    .dataframe tbody tr th {\n",
       "        vertical-align: top;\n",
       "    }\n",
       "\n",
       "    .dataframe thead th {\n",
       "        text-align: right;\n",
       "    }\n",
       "</style>\n",
       "<table border=\"1\" class=\"dataframe\">\n",
       "  <thead>\n",
       "    <tr style=\"text-align: right;\">\n",
       "      <th></th>\n",
       "      <th>LNR</th>\n",
       "      <th>AGER_TYP</th>\n",
       "      <th>AKT_DAT_KL</th>\n",
       "      <th>ALTER_HH</th>\n",
       "      <th>ALTER_KIND1</th>\n",
       "      <th>ALTER_KIND2</th>\n",
       "      <th>ALTER_KIND3</th>\n",
       "      <th>ALTER_KIND4</th>\n",
       "      <th>ALTERSKATEGORIE_FEIN</th>\n",
       "      <th>ANZ_HAUSHALTE_AKTIV</th>\n",
       "      <th>ANZ_HH_TITEL</th>\n",
       "      <th>ANZ_KINDER</th>\n",
       "    </tr>\n",
       "  </thead>\n",
       "  <tbody>\n",
       "    <tr>\n",
       "      <th>0</th>\n",
       "      <td>910215</td>\n",
       "      <td>-1</td>\n",
       "      <td>NaN</td>\n",
       "      <td>NaN</td>\n",
       "      <td>NaN</td>\n",
       "      <td>NaN</td>\n",
       "      <td>NaN</td>\n",
       "      <td>NaN</td>\n",
       "      <td>NaN</td>\n",
       "      <td>NaN</td>\n",
       "      <td>NaN</td>\n",
       "      <td>NaN</td>\n",
       "    </tr>\n",
       "    <tr>\n",
       "      <th>1</th>\n",
       "      <td>910220</td>\n",
       "      <td>-1</td>\n",
       "      <td>9.0</td>\n",
       "      <td>0.0</td>\n",
       "      <td>NaN</td>\n",
       "      <td>NaN</td>\n",
       "      <td>NaN</td>\n",
       "      <td>NaN</td>\n",
       "      <td>21.0</td>\n",
       "      <td>11.0</td>\n",
       "      <td>0.0</td>\n",
       "      <td>0.0</td>\n",
       "    </tr>\n",
       "    <tr>\n",
       "      <th>2</th>\n",
       "      <td>910225</td>\n",
       "      <td>-1</td>\n",
       "      <td>9.0</td>\n",
       "      <td>17.0</td>\n",
       "      <td>NaN</td>\n",
       "      <td>NaN</td>\n",
       "      <td>NaN</td>\n",
       "      <td>NaN</td>\n",
       "      <td>17.0</td>\n",
       "      <td>10.0</td>\n",
       "      <td>0.0</td>\n",
       "      <td>0.0</td>\n",
       "    </tr>\n",
       "    <tr>\n",
       "      <th>3</th>\n",
       "      <td>910226</td>\n",
       "      <td>2</td>\n",
       "      <td>1.0</td>\n",
       "      <td>13.0</td>\n",
       "      <td>NaN</td>\n",
       "      <td>NaN</td>\n",
       "      <td>NaN</td>\n",
       "      <td>NaN</td>\n",
       "      <td>13.0</td>\n",
       "      <td>1.0</td>\n",
       "      <td>0.0</td>\n",
       "      <td>0.0</td>\n",
       "    </tr>\n",
       "    <tr>\n",
       "      <th>4</th>\n",
       "      <td>910241</td>\n",
       "      <td>-1</td>\n",
       "      <td>1.0</td>\n",
       "      <td>20.0</td>\n",
       "      <td>NaN</td>\n",
       "      <td>NaN</td>\n",
       "      <td>NaN</td>\n",
       "      <td>NaN</td>\n",
       "      <td>14.0</td>\n",
       "      <td>3.0</td>\n",
       "      <td>0.0</td>\n",
       "      <td>0.0</td>\n",
       "    </tr>\n",
       "  </tbody>\n",
       "</table>\n",
       "</div>"
      ],
      "text/plain": [
       "      LNR  AGER_TYP  AKT_DAT_KL  ALTER_HH  ALTER_KIND1  ALTER_KIND2  \\\n",
       "0  910215        -1         NaN       NaN          NaN          NaN   \n",
       "1  910220        -1         9.0       0.0          NaN          NaN   \n",
       "2  910225        -1         9.0      17.0          NaN          NaN   \n",
       "3  910226         2         1.0      13.0          NaN          NaN   \n",
       "4  910241        -1         1.0      20.0          NaN          NaN   \n",
       "\n",
       "   ALTER_KIND3  ALTER_KIND4  ALTERSKATEGORIE_FEIN  ANZ_HAUSHALTE_AKTIV  \\\n",
       "0          NaN          NaN                   NaN                  NaN   \n",
       "1          NaN          NaN                  21.0                 11.0   \n",
       "2          NaN          NaN                  17.0                 10.0   \n",
       "3          NaN          NaN                  13.0                  1.0   \n",
       "4          NaN          NaN                  14.0                  3.0   \n",
       "\n",
       "   ANZ_HH_TITEL  ANZ_KINDER  \n",
       "0           NaN         NaN  \n",
       "1           0.0         0.0  \n",
       "2           0.0         0.0  \n",
       "3           0.0         0.0  \n",
       "4           0.0         0.0  "
      ]
     },
     "execution_count": 3,
     "metadata": {},
     "output_type": "execute_result"
    }
   ],
   "source": [
    "azdias.iloc[:5,:12]"
   ]
  },
  {
   "cell_type": "code",
   "execution_count": 7,
   "metadata": {},
   "outputs": [
    {
     "data": {
      "text/plain": [
       "3.0    258013\n",
       "4.0    194706\n",
       "2.0    123320\n",
       "1.0     84157\n",
       "5.0     82910\n",
       "9.0     14791\n",
       "Name: KBA05_AUTOQUOT, dtype: int64"
      ]
     },
     "execution_count": 7,
     "metadata": {},
     "output_type": "execute_result"
    }
   ],
   "source": [
    "azdias['KBA05_AUTOQUOT'].value_counts()"
   ]
  },
  {
   "cell_type": "code",
   "execution_count": 4,
   "metadata": {},
   "outputs": [
    {
     "data": {
      "text/html": [
       "<div>\n",
       "<style scoped>\n",
       "    .dataframe tbody tr th:only-of-type {\n",
       "        vertical-align: middle;\n",
       "    }\n",
       "\n",
       "    .dataframe tbody tr th {\n",
       "        vertical-align: top;\n",
       "    }\n",
       "\n",
       "    .dataframe thead th {\n",
       "        text-align: right;\n",
       "    }\n",
       "</style>\n",
       "<table border=\"1\" class=\"dataframe\">\n",
       "  <thead>\n",
       "    <tr style=\"text-align: right;\">\n",
       "      <th></th>\n",
       "      <th>LNR</th>\n",
       "      <th>AGER_TYP</th>\n",
       "      <th>AKT_DAT_KL</th>\n",
       "      <th>ALTER_HH</th>\n",
       "      <th>ALTER_KIND1</th>\n",
       "      <th>ALTER_KIND2</th>\n",
       "      <th>ALTER_KIND3</th>\n",
       "      <th>ALTER_KIND4</th>\n",
       "      <th>ALTERSKATEGORIE_FEIN</th>\n",
       "      <th>ANZ_HAUSHALTE_AKTIV</th>\n",
       "      <th>ANZ_HH_TITEL</th>\n",
       "      <th>ANZ_KINDER</th>\n",
       "    </tr>\n",
       "  </thead>\n",
       "  <tbody>\n",
       "    <tr>\n",
       "      <th>0</th>\n",
       "      <td>9626</td>\n",
       "      <td>2</td>\n",
       "      <td>1.0</td>\n",
       "      <td>10.0</td>\n",
       "      <td>NaN</td>\n",
       "      <td>NaN</td>\n",
       "      <td>NaN</td>\n",
       "      <td>NaN</td>\n",
       "      <td>10.0</td>\n",
       "      <td>1.0</td>\n",
       "      <td>0.0</td>\n",
       "      <td>0.0</td>\n",
       "    </tr>\n",
       "    <tr>\n",
       "      <th>1</th>\n",
       "      <td>9628</td>\n",
       "      <td>-1</td>\n",
       "      <td>9.0</td>\n",
       "      <td>11.0</td>\n",
       "      <td>NaN</td>\n",
       "      <td>NaN</td>\n",
       "      <td>NaN</td>\n",
       "      <td>NaN</td>\n",
       "      <td>NaN</td>\n",
       "      <td>NaN</td>\n",
       "      <td>NaN</td>\n",
       "      <td>0.0</td>\n",
       "    </tr>\n",
       "    <tr>\n",
       "      <th>2</th>\n",
       "      <td>143872</td>\n",
       "      <td>-1</td>\n",
       "      <td>1.0</td>\n",
       "      <td>6.0</td>\n",
       "      <td>NaN</td>\n",
       "      <td>NaN</td>\n",
       "      <td>NaN</td>\n",
       "      <td>NaN</td>\n",
       "      <td>0.0</td>\n",
       "      <td>1.0</td>\n",
       "      <td>0.0</td>\n",
       "      <td>0.0</td>\n",
       "    </tr>\n",
       "    <tr>\n",
       "      <th>3</th>\n",
       "      <td>143873</td>\n",
       "      <td>1</td>\n",
       "      <td>1.0</td>\n",
       "      <td>8.0</td>\n",
       "      <td>NaN</td>\n",
       "      <td>NaN</td>\n",
       "      <td>NaN</td>\n",
       "      <td>NaN</td>\n",
       "      <td>8.0</td>\n",
       "      <td>0.0</td>\n",
       "      <td>NaN</td>\n",
       "      <td>0.0</td>\n",
       "    </tr>\n",
       "    <tr>\n",
       "      <th>4</th>\n",
       "      <td>143874</td>\n",
       "      <td>-1</td>\n",
       "      <td>1.0</td>\n",
       "      <td>20.0</td>\n",
       "      <td>NaN</td>\n",
       "      <td>NaN</td>\n",
       "      <td>NaN</td>\n",
       "      <td>NaN</td>\n",
       "      <td>14.0</td>\n",
       "      <td>7.0</td>\n",
       "      <td>0.0</td>\n",
       "      <td>0.0</td>\n",
       "    </tr>\n",
       "  </tbody>\n",
       "</table>\n",
       "</div>"
      ],
      "text/plain": [
       "      LNR  AGER_TYP  AKT_DAT_KL  ALTER_HH  ALTER_KIND1  ALTER_KIND2  \\\n",
       "0    9626         2         1.0      10.0          NaN          NaN   \n",
       "1    9628        -1         9.0      11.0          NaN          NaN   \n",
       "2  143872        -1         1.0       6.0          NaN          NaN   \n",
       "3  143873         1         1.0       8.0          NaN          NaN   \n",
       "4  143874        -1         1.0      20.0          NaN          NaN   \n",
       "\n",
       "   ALTER_KIND3  ALTER_KIND4  ALTERSKATEGORIE_FEIN  ANZ_HAUSHALTE_AKTIV  \\\n",
       "0          NaN          NaN                  10.0                  1.0   \n",
       "1          NaN          NaN                   NaN                  NaN   \n",
       "2          NaN          NaN                   0.0                  1.0   \n",
       "3          NaN          NaN                   8.0                  0.0   \n",
       "4          NaN          NaN                  14.0                  7.0   \n",
       "\n",
       "   ANZ_HH_TITEL  ANZ_KINDER  \n",
       "0           0.0         0.0  \n",
       "1           NaN         0.0  \n",
       "2           0.0         0.0  \n",
       "3           NaN         0.0  \n",
       "4           0.0         0.0  "
      ]
     },
     "execution_count": 4,
     "metadata": {},
     "output_type": "execute_result"
    }
   ],
   "source": [
    "customers.iloc[:5,:12]"
   ]
  },
  {
   "cell_type": "code",
   "execution_count": 5,
   "metadata": {},
   "outputs": [],
   "source": [
    "#Get the csv file with null values and the deature data\n",
    "null_df = pd.read_csv(\"Null_Values_DIAS_2.csv\")\n",
    "\n",
    "#convert the df to a dictionary\n",
    "import math\n",
    "null_dict = null_df.set_index('Attribute').T.to_dict('list')\n",
    "null_columns = {k:[int(elem) for elem in v if math.isnan(elem)==False] for k,v in null_dict.items()}"
   ]
  },
  {
   "cell_type": "code",
   "execution_count": 6,
   "metadata": {},
   "outputs": [
    {
     "data": {
      "text/plain": [
       "{'AGER_TYP': [-1],\n",
       " 'ALTERSKATEGORIE_GROB': [-1, 0],\n",
       " 'ALTER_HH': [0],\n",
       " 'ANREDE_KZ': [-1, 0],\n",
       " 'BALLRAUM': [-1],\n",
       " 'BIP_FLAG': [-1],\n",
       " 'CAMEO_DEUG_2015': [-1],\n",
       " 'CAMEO_DEUINTL_2015': [-1],\n",
       " 'CJT_GESAMTTYP': [0],\n",
       " 'D19_KK_KUNDENTYP': [-1],\n",
       " 'EWDICHTE': [-1],\n",
       " 'FINANZTYP': [-1],\n",
       " 'FINANZ_ANLEGER': [-1],\n",
       " 'FINANZ_HAUSBAUER': [-1],\n",
       " 'FINANZ_MINIMALIST': [-1],\n",
       " 'FINANZ_SPARER': [-1],\n",
       " 'FINANZ_UNAUFFAELLIGER': [-1],\n",
       " 'FINANZ_VORSORGER': [-1],\n",
       " 'GEBAEUDETYP': [-1, 0],\n",
       " 'GEOSCORE_KLS7': [-1, 0],\n",
       " 'HAUSHALTSSTRUKTUR': [-1, 0],\n",
       " 'HEALTH_TYP': [-1],\n",
       " 'HH_EINKOMMEN_SCORE': [-1, 0],\n",
       " 'INNENSTADT': [-1],\n",
       " 'KBA05_ALTER1': [-1, 9],\n",
       " 'KBA05_ALTER2': [-1, 9],\n",
       " 'KBA05_ALTER3': [-1, 9],\n",
       " 'KBA05_ALTER4': [-1, 9],\n",
       " 'KBA05_ANHANG': [-1, 9],\n",
       " 'KBA05_ANTG1': [-1],\n",
       " 'KBA05_ANTG2': [-1],\n",
       " 'KBA05_ANTG3': [-1],\n",
       " 'KBA05_ANTG4': [-1],\n",
       " 'KBA05_AUTOQUOT': [-1, 9],\n",
       " 'KBA05_BAUMAX': [-1, 0],\n",
       " 'KBA05_CCM1': [-1, 9],\n",
       " 'KBA05_CCM2': [-1, 9],\n",
       " 'KBA05_CCM3': [-1, 9],\n",
       " 'KBA05_CCM4': [-1, 9],\n",
       " 'KBA05_DIESEL': [-1, 9],\n",
       " 'KBA05_FRAU': [-1, 9],\n",
       " 'KBA05_GBZ': [-1, 0],\n",
       " 'KBA05_HERST1': [-1, 9],\n",
       " 'KBA05_HERST2': [-1, 9],\n",
       " 'KBA05_HERST3': [-1, 9],\n",
       " 'KBA05_HERST4': [-1, 9],\n",
       " 'KBA05_HERST5': [-1, 9],\n",
       " 'KBA05_HERSTTEMP': [-1, 9],\n",
       " 'KBA05_KRSAQUOT': [-1, 9],\n",
       " 'KBA05_KRSHERST1': [-1, 9],\n",
       " 'KBA05_KRSHERST2': [-1, 9],\n",
       " 'KBA05_KRSHERST3': [-1, 9],\n",
       " 'KBA05_KRSKLEIN': [-1, 9],\n",
       " 'KBA05_KRSOBER': [-1, 9],\n",
       " 'KBA05_KRSVAN': [-1, 9],\n",
       " 'KBA05_KRSZUL': [-1, 9],\n",
       " 'KBA05_KW1': [-1, 9],\n",
       " 'KBA05_KW2': [-1, 9],\n",
       " 'KBA05_KW3': [-1, 9],\n",
       " 'KBA05_MAXAH': [-1, 9],\n",
       " 'KBA05_MAXBJ': [-1, 9],\n",
       " 'KBA05_MAXHERST': [-1, 9],\n",
       " 'KBA05_MAXSEG': [-1, 9],\n",
       " 'KBA05_MAXVORB': [-1, 9],\n",
       " 'KBA05_MOD1': [-1, 9],\n",
       " 'KBA05_MOD2': [-1, 9],\n",
       " 'KBA05_MOD3': [-1, 9],\n",
       " 'KBA05_MOD4': [-1, 9],\n",
       " 'KBA05_MOD8': [-1, 9],\n",
       " 'KBA05_MODTEMP': [-1, 9],\n",
       " 'KBA05_MOTOR': [-1, 9],\n",
       " 'KBA05_MOTRAD': [-1, 9],\n",
       " 'KBA05_SEG1': [-1, 9],\n",
       " 'KBA05_SEG10': [-1, 9],\n",
       " 'KBA05_SEG2': [-1, 9],\n",
       " 'KBA05_SEG3': [-1, 9],\n",
       " 'KBA05_SEG4': [-1, 9],\n",
       " 'KBA05_SEG5': [-1, 9],\n",
       " 'KBA05_SEG6': [-1, 9],\n",
       " 'KBA05_SEG7': [-1, 9],\n",
       " 'KBA05_SEG8': [-1, 9],\n",
       " 'KBA05_SEG9': [-1, 9],\n",
       " 'KBA05_VORB0': [-1, 9],\n",
       " 'KBA05_VORB1': [-1, 9],\n",
       " 'KBA05_VORB2': [-1, 9],\n",
       " 'KBA05_ZUL1': [-1, 9],\n",
       " 'KBA05_ZUL2': [-1, 9],\n",
       " 'KBA05_ZUL3': [-1, 9],\n",
       " 'KBA05_ZUL4': [-1, 9],\n",
       " 'KBA13_ALTERHALTER_30': [-1],\n",
       " 'KBA13_ALTERHALTER_45': [-1],\n",
       " 'KBA13_ALTERHALTER_60': [-1],\n",
       " 'KBA13_ALTERHALTER_61': [-1],\n",
       " 'KBA13_AUDI': [-1],\n",
       " 'KBA13_AUTOQUOTE': [-1],\n",
       " 'KBA13_BJ_1999': [-1],\n",
       " 'KBA13_BJ_2000': [-1],\n",
       " 'KBA13_BJ_2004': [-1],\n",
       " 'KBA13_BJ_2006': [-1],\n",
       " 'KBA13_BJ_2008': [-1],\n",
       " 'KBA13_BJ_2009': [-1],\n",
       " 'KBA13_BMW': [-1],\n",
       " 'KBA13_CCM_1000': [-1],\n",
       " 'KBA13_CCM_1200': [-1],\n",
       " 'KBA13_CCM_1400': [-1],\n",
       " 'KBA13_CCM_0_1400': [-1],\n",
       " 'KBA13_CCM_1500': [-1],\n",
       " 'KBA13_CCM_1400_2500': [-1],\n",
       " 'KBA13_CCM_1600': [-1],\n",
       " 'KBA13_CCM_1800': [-1],\n",
       " 'KBA13_CCM_2000': [-1],\n",
       " 'KBA13_CCM_2500': [-1],\n",
       " 'KBA13_CCM_2501': [-1],\n",
       " 'KBA13_CCM_3000': [-1],\n",
       " 'KBA13_CCM_3001': [-1],\n",
       " 'KBA13_FAB_ASIEN': [-1],\n",
       " 'KBA13_FAB_SONSTIGE': [-1],\n",
       " 'KBA13_FIAT': [-1],\n",
       " 'KBA13_FORD': [-1],\n",
       " 'KBA13_HALTER_20': [-1],\n",
       " 'KBA13_HALTER_25': [-1],\n",
       " 'KBA13_HALTER_30': [-1],\n",
       " 'KBA13_HALTER_35': [-1],\n",
       " 'KBA13_HALTER_40': [-1],\n",
       " 'KBA13_HALTER_45': [-1],\n",
       " 'KBA13_HALTER_50': [-1],\n",
       " 'KBA13_HALTER_55': [-1],\n",
       " 'KBA13_HALTER_60': [-1],\n",
       " 'KBA13_HALTER_65': [-1],\n",
       " 'KBA13_HALTER_66': [-1],\n",
       " 'KBA13_HERST_ASIEN': [-1],\n",
       " 'KBA13_HERST_AUDI_VW': [-1],\n",
       " 'KBA13_HERST_BMW_BENZ': [-1],\n",
       " 'KBA13_HERST_EUROPA': [-1],\n",
       " 'KBA13_HERST_FORD_OPEL': [-1],\n",
       " 'KBA13_HERST_SONST': [-1],\n",
       " 'KBA13_KMH_110': [-1],\n",
       " 'KBA13_KMH_140': [-1],\n",
       " 'KBA13_KMH_180': [-1],\n",
       " 'KBA13_KMH_0_140': [-1],\n",
       " 'KBA13_KMH_140_210': [-1],\n",
       " 'KBA13_KMH_211': [-1],\n",
       " 'KBA13_KMH_250': [-1],\n",
       " 'KBA13_KMH_251': [-1],\n",
       " 'KBA13_KRSAQUOT': [-1],\n",
       " 'KBA13_KRSHERST_AUDI_VW': [-1],\n",
       " 'KBA13_KRSHERST_BMW_BENZ': [-1],\n",
       " 'KBA13_KRSHERST_FORD_OPEL': [-1],\n",
       " 'KBA13_KRSSEG_KLEIN': [-1],\n",
       " 'KBA13_KRSSEG_OBER': [-1],\n",
       " 'KBA13_KRSSEG_VAN': [-1],\n",
       " 'KBA13_KRSZUL_NEU': [-1],\n",
       " 'KBA13_KW_30': [-1],\n",
       " 'KBA13_KW_40': [-1],\n",
       " 'KBA13_KW_50': [-1],\n",
       " 'KBA13_KW_60': [-1],\n",
       " 'KBA13_KW_0_60': [-1],\n",
       " 'KBA13_KW_70': [-1],\n",
       " 'KBA13_KW_61_120': [-1],\n",
       " 'KBA13_KW_80': [-1],\n",
       " 'KBA13_KW_90': [-1],\n",
       " 'KBA13_KW_110': [-1],\n",
       " 'KBA13_KW_120': [-1],\n",
       " 'KBA13_KW_121': [-1],\n",
       " 'KBA13_MAZDA': [-1],\n",
       " 'KBA13_MERCEDES': [-1],\n",
       " 'KBA13_MOTOR': [-1],\n",
       " 'KBA13_NISSAN': [-1],\n",
       " 'KBA13_OPEL': [-1],\n",
       " 'KBA13_PEUGEOT': [-1],\n",
       " 'KBA13_RENAULT': [-1],\n",
       " 'KBA13_SEG_GELAENDEWAGEN': [-1],\n",
       " 'KBA13_SEG_GROSSRAUMVANS': [-1],\n",
       " 'KBA13_SEG_KLEINST': [-1],\n",
       " 'KBA13_SEG_KLEINWAGEN': [-1],\n",
       " 'KBA13_SEG_KOMPAKTKLASSE': [-1],\n",
       " 'KBA13_SEG_MINIVANS': [-1],\n",
       " 'KBA13_SEG_MINIWAGEN': [-1],\n",
       " 'KBA13_SEG_MITTELKLASSE': [-1],\n",
       " 'KBA13_SEG_OBEREMITTELKLASSE': [-1],\n",
       " 'KBA13_SEG_OBERKLASSE': [-1],\n",
       " 'KBA13_SEG_SONSTIGE': [-1],\n",
       " 'KBA13_SEG_SPORTWAGEN': [-1],\n",
       " 'KBA13_SEG_UTILITIES': [-1],\n",
       " 'KBA13_SEG_VAN': [-1],\n",
       " 'KBA13_SEG_WOHNMOBILE': [-1],\n",
       " 'KBA13_SITZE_4': [-1],\n",
       " 'KBA13_SITZE_5': [-1],\n",
       " 'KBA13_SITZE_6': [-1],\n",
       " 'KBA13_TOYOTA': [-1],\n",
       " 'KBA13_VORB_0': [-1],\n",
       " 'KBA13_VORB_1': [-1],\n",
       " 'KBA13_VORB_1_2': [-1],\n",
       " 'KBA13_VORB_2': [-1],\n",
       " 'KBA13_VORB_3': [-1],\n",
       " 'KBA13_VW': [-1],\n",
       " 'KKK': [-1, 0],\n",
       " 'NATIONALITAET_KZ': [-1, 0],\n",
       " 'ORTSGR_KLS9': [-1],\n",
       " 'OST_WEST_KZ': [-1],\n",
       " 'PLZ8_ANTG1': [-1],\n",
       " 'PLZ8_ANTG2': [-1],\n",
       " 'PLZ8_ANTG3': [-1],\n",
       " 'PLZ8_ANTG4': [-1],\n",
       " 'PLZ8_GBZ': [-1],\n",
       " 'PLZ8_HHZ': [-1],\n",
       " 'PRAEGENDE_JUGENDJAHRE': [-1, 0],\n",
       " 'REGIOTYP': [-1, 0],\n",
       " 'RELAT_AB': [-1, 9],\n",
       " 'RETOURTYP_BK_S': [0],\n",
       " 'SEMIO_DOM': [-1, 9],\n",
       " 'SEMIO_ERL': [-1, 9],\n",
       " 'SEMIO_FAM': [-1, 9],\n",
       " 'SEMIO_KAEM': [-1, 9],\n",
       " 'SEMIO_KRIT': [-1, 9],\n",
       " 'SEMIO_KULT': [-1, 9],\n",
       " 'SEMIO_LUST': [-1, 9],\n",
       " 'SEMIO_MAT': [-1, 9],\n",
       " 'SEMIO_PFLICHT': [-1, 9],\n",
       " 'SEMIO_RAT': [-1, 9],\n",
       " 'SEMIO_REL': [-1, 9],\n",
       " 'SEMIO_SOZ': [-1, 9],\n",
       " 'SEMIO_TRADV': [-1, 9],\n",
       " 'SEMIO_VERT': [-1, 9],\n",
       " 'SHOPPER_TYP': [-1],\n",
       " 'SOHO_FLAG': [-1],\n",
       " 'TITEL_KZ': [-1, 0],\n",
       " 'VERS_TYP': [-1],\n",
       " 'WOHNDAUER_2008': [-1, 0],\n",
       " 'WOHNLAGE': [-1],\n",
       " 'WACHSTUMSGEBIET_NB': [-1, 0],\n",
       " 'W_KEIT_KIND_HH': [-1, 0],\n",
       " 'ZABEOTYP': [-1, 9]}"
      ]
     },
     "execution_count": 6,
     "metadata": {},
     "output_type": "execute_result"
    }
   ],
   "source": [
    "null_columns"
   ]
  },
  {
   "cell_type": "code",
   "execution_count": 7,
   "metadata": {},
   "outputs": [],
   "source": [
    "#replace null values with np.nan in the df\n",
    "azdias.replace(null_columns, np.nan, inplace=True)\n",
    "customers.replace(null_columns, np.nan, inplace=True)"
   ]
  },
  {
   "cell_type": "code",
   "execution_count": null,
   "metadata": {},
   "outputs": [],
   "source": [
    "#compress and save - delete file later\n",
    "azdias.to_csv(\"azdias_null.csv.zip\",compression=\"gzip\")\n",
    "customers.to_csv(\"customers_null.csv.zip\",compression=\"zip\")"
   ]
  },
  {
   "cell_type": "code",
   "execution_count": 2,
   "metadata": {},
   "outputs": [
    {
     "name": "stderr",
     "output_type": "stream",
     "text": [
      "/mnt/d/ML_venv/ML_basic_venv/lib/python3.8/site-packages/IPython/core/interactiveshell.py:3071: DtypeWarning: Columns (19,20) have mixed types.Specify dtype option on import or set low_memory=False.\n",
      "  has_raised = await self.run_ast_nodes(code_ast.body, cell_name,\n"
     ]
    }
   ],
   "source": [
    "#open the file - delete file later\n",
    "azdias = pd.read_csv(\"azdias_null.csv.zip\",compression='gzip')"
   ]
  },
  {
   "cell_type": "code",
   "execution_count": 3,
   "metadata": {},
   "outputs": [],
   "source": [
    "customers =pd.read_csv(\"customers_null.csv.zip\",compression='zip')"
   ]
  },
  {
   "cell_type": "code",
   "execution_count": 6,
   "metadata": {},
   "outputs": [
    {
     "data": {
      "text/html": [
       "<div>\n",
       "<style scoped>\n",
       "    .dataframe tbody tr th:only-of-type {\n",
       "        vertical-align: middle;\n",
       "    }\n",
       "\n",
       "    .dataframe tbody tr th {\n",
       "        vertical-align: top;\n",
       "    }\n",
       "\n",
       "    .dataframe thead th {\n",
       "        text-align: right;\n",
       "    }\n",
       "</style>\n",
       "<table border=\"1\" class=\"dataframe\">\n",
       "  <thead>\n",
       "    <tr style=\"text-align: right;\">\n",
       "      <th></th>\n",
       "      <th>Unnamed: 0</th>\n",
       "      <th>LNR</th>\n",
       "      <th>AGER_TYP</th>\n",
       "      <th>AKT_DAT_KL</th>\n",
       "      <th>ALTER_HH</th>\n",
       "      <th>ALTER_KIND1</th>\n",
       "      <th>ALTER_KIND2</th>\n",
       "      <th>ALTER_KIND3</th>\n",
       "      <th>ALTER_KIND4</th>\n",
       "      <th>ALTERSKATEGORIE_FEIN</th>\n",
       "      <th>...</th>\n",
       "      <th>VHN</th>\n",
       "      <th>VK_DHT4A</th>\n",
       "      <th>VK_DISTANZ</th>\n",
       "      <th>VK_ZG11</th>\n",
       "      <th>W_KEIT_KIND_HH</th>\n",
       "      <th>WOHNDAUER_2008</th>\n",
       "      <th>WOHNLAGE</th>\n",
       "      <th>ZABEOTYP</th>\n",
       "      <th>ANREDE_KZ</th>\n",
       "      <th>ALTERSKATEGORIE_GROB</th>\n",
       "    </tr>\n",
       "  </thead>\n",
       "  <tbody>\n",
       "    <tr>\n",
       "      <th>0</th>\n",
       "      <td>0</td>\n",
       "      <td>910215</td>\n",
       "      <td>NaN</td>\n",
       "      <td>NaN</td>\n",
       "      <td>NaN</td>\n",
       "      <td>NaN</td>\n",
       "      <td>NaN</td>\n",
       "      <td>NaN</td>\n",
       "      <td>NaN</td>\n",
       "      <td>NaN</td>\n",
       "      <td>...</td>\n",
       "      <td>NaN</td>\n",
       "      <td>NaN</td>\n",
       "      <td>NaN</td>\n",
       "      <td>NaN</td>\n",
       "      <td>NaN</td>\n",
       "      <td>NaN</td>\n",
       "      <td>NaN</td>\n",
       "      <td>3</td>\n",
       "      <td>1</td>\n",
       "      <td>2</td>\n",
       "    </tr>\n",
       "    <tr>\n",
       "      <th>1</th>\n",
       "      <td>1</td>\n",
       "      <td>910220</td>\n",
       "      <td>NaN</td>\n",
       "      <td>9.0</td>\n",
       "      <td>NaN</td>\n",
       "      <td>NaN</td>\n",
       "      <td>NaN</td>\n",
       "      <td>NaN</td>\n",
       "      <td>NaN</td>\n",
       "      <td>21.0</td>\n",
       "      <td>...</td>\n",
       "      <td>4.0</td>\n",
       "      <td>8.0</td>\n",
       "      <td>11.0</td>\n",
       "      <td>10.0</td>\n",
       "      <td>3.0</td>\n",
       "      <td>9.0</td>\n",
       "      <td>4.0</td>\n",
       "      <td>5</td>\n",
       "      <td>2</td>\n",
       "      <td>1</td>\n",
       "    </tr>\n",
       "    <tr>\n",
       "      <th>2</th>\n",
       "      <td>2</td>\n",
       "      <td>910225</td>\n",
       "      <td>NaN</td>\n",
       "      <td>9.0</td>\n",
       "      <td>17.0</td>\n",
       "      <td>NaN</td>\n",
       "      <td>NaN</td>\n",
       "      <td>NaN</td>\n",
       "      <td>NaN</td>\n",
       "      <td>17.0</td>\n",
       "      <td>...</td>\n",
       "      <td>2.0</td>\n",
       "      <td>9.0</td>\n",
       "      <td>9.0</td>\n",
       "      <td>6.0</td>\n",
       "      <td>3.0</td>\n",
       "      <td>9.0</td>\n",
       "      <td>2.0</td>\n",
       "      <td>5</td>\n",
       "      <td>2</td>\n",
       "      <td>3</td>\n",
       "    </tr>\n",
       "    <tr>\n",
       "      <th>3</th>\n",
       "      <td>3</td>\n",
       "      <td>910226</td>\n",
       "      <td>2.0</td>\n",
       "      <td>1.0</td>\n",
       "      <td>13.0</td>\n",
       "      <td>NaN</td>\n",
       "      <td>NaN</td>\n",
       "      <td>NaN</td>\n",
       "      <td>NaN</td>\n",
       "      <td>13.0</td>\n",
       "      <td>...</td>\n",
       "      <td>0.0</td>\n",
       "      <td>7.0</td>\n",
       "      <td>10.0</td>\n",
       "      <td>11.0</td>\n",
       "      <td>NaN</td>\n",
       "      <td>9.0</td>\n",
       "      <td>7.0</td>\n",
       "      <td>3</td>\n",
       "      <td>2</td>\n",
       "      <td>4</td>\n",
       "    </tr>\n",
       "    <tr>\n",
       "      <th>4</th>\n",
       "      <td>4</td>\n",
       "      <td>910241</td>\n",
       "      <td>NaN</td>\n",
       "      <td>1.0</td>\n",
       "      <td>20.0</td>\n",
       "      <td>NaN</td>\n",
       "      <td>NaN</td>\n",
       "      <td>NaN</td>\n",
       "      <td>NaN</td>\n",
       "      <td>14.0</td>\n",
       "      <td>...</td>\n",
       "      <td>2.0</td>\n",
       "      <td>3.0</td>\n",
       "      <td>5.0</td>\n",
       "      <td>4.0</td>\n",
       "      <td>2.0</td>\n",
       "      <td>9.0</td>\n",
       "      <td>3.0</td>\n",
       "      <td>4</td>\n",
       "      <td>1</td>\n",
       "      <td>3</td>\n",
       "    </tr>\n",
       "  </tbody>\n",
       "</table>\n",
       "<p>5 rows × 367 columns</p>\n",
       "</div>"
      ],
      "text/plain": [
       "   Unnamed: 0     LNR  AGER_TYP  AKT_DAT_KL  ALTER_HH  ALTER_KIND1  \\\n",
       "0           0  910215       NaN         NaN       NaN          NaN   \n",
       "1           1  910220       NaN         9.0       NaN          NaN   \n",
       "2           2  910225       NaN         9.0      17.0          NaN   \n",
       "3           3  910226       2.0         1.0      13.0          NaN   \n",
       "4           4  910241       NaN         1.0      20.0          NaN   \n",
       "\n",
       "   ALTER_KIND2  ALTER_KIND3  ALTER_KIND4  ALTERSKATEGORIE_FEIN  ...  VHN  \\\n",
       "0          NaN          NaN          NaN                   NaN  ...  NaN   \n",
       "1          NaN          NaN          NaN                  21.0  ...  4.0   \n",
       "2          NaN          NaN          NaN                  17.0  ...  2.0   \n",
       "3          NaN          NaN          NaN                  13.0  ...  0.0   \n",
       "4          NaN          NaN          NaN                  14.0  ...  2.0   \n",
       "\n",
       "   VK_DHT4A  VK_DISTANZ  VK_ZG11  W_KEIT_KIND_HH  WOHNDAUER_2008  WOHNLAGE  \\\n",
       "0       NaN         NaN      NaN             NaN             NaN       NaN   \n",
       "1       8.0        11.0     10.0             3.0             9.0       4.0   \n",
       "2       9.0         9.0      6.0             3.0             9.0       2.0   \n",
       "3       7.0        10.0     11.0             NaN             9.0       7.0   \n",
       "4       3.0         5.0      4.0             2.0             9.0       3.0   \n",
       "\n",
       "   ZABEOTYP ANREDE_KZ ALTERSKATEGORIE_GROB  \n",
       "0         3         1                    2  \n",
       "1         5         2                    1  \n",
       "2         5         2                    3  \n",
       "3         3         2                    4  \n",
       "4         4         1                    3  \n",
       "\n",
       "[5 rows x 367 columns]"
      ]
     },
     "execution_count": 6,
     "metadata": {},
     "output_type": "execute_result"
    }
   ],
   "source": [
    "azdias.head()\n"
   ]
  },
  {
   "cell_type": "markdown",
   "metadata": {},
   "source": [
    "### head, info and shape can be used"
   ]
  },
  {
   "cell_type": "code",
   "execution_count": 5,
   "metadata": {},
   "outputs": [
    {
     "name": "stdout",
     "output_type": "stream",
     "text": [
      "(891221, 367)\n",
      "(191652, 370)\n"
     ]
    }
   ],
   "source": [
    "print(azdias.shape)\n",
    "print(customers.shape)"
   ]
  },
  {
   "cell_type": "code",
   "execution_count": null,
   "metadata": {},
   "outputs": [],
   "source": []
  },
  {
   "cell_type": "code",
   "execution_count": null,
   "metadata": {},
   "outputs": [],
   "source": []
  },
  {
   "cell_type": "markdown",
   "metadata": {},
   "source": [
    "### 0.1 Data Preprocessing/cleaning\n",
    "\n",
    "The azdias and custoemr dataframes contains a features with mixed datatypes, missing data and some features contain over 15 types of caegories. Thus to get a clean, complete and effective dataset following steps are done to both dataframes.\n",
    "\n",
    "1. Get the null value/incomplete data value code (from /DIAS Attributes - Values 2017.xlsx) and convert those values to null in the df.\n",
    "2. Get the missing value percentage of each feature and drop features which have more than 40% missing data.\n",
    "3. Get the number of missing values for each row and drop rows which have large missing data. Exact cutoff value to be decided upon inspection of the data.\n",
    "4. For features containing large number of catagories or object data type, either bin them into suitable sizes, or map them into integers or drop them.  \n",
    "5. Impute the missing value with the most frequent value for each feature in the azdias dataset.\n",
    "6. Scale features in to the same range.\n",
    "\n",
    "\n",
    "\n",
    "\n"
   ]
  },
  {
   "cell_type": "code",
   "execution_count": null,
   "metadata": {},
   "outputs": [],
   "source": [
    "#get the null value codes from the excel file to convert df.\n",
    "null_df = pd.read_csv(\"Null_Values_DIAS_2.csv\")  #Get the csv file with null values and the deature data\n",
    "\n",
    "null_dict = null_df.set_index('Attribute').T.to_dict('list')  #convert the df to a dictionary\n",
    "null_columns = {k:[int(elem) for elem in v if math.isnan(elem)==False] for k,v in null_dict.items()}"
   ]
  },
  {
   "cell_type": "code",
   "execution_count": null,
   "metadata": {},
   "outputs": [],
   "source": [
    "#replace null value codes with np.nan in the df\n",
    "azdias.replace(null_columns, np.nan, inplace=True)\n",
    "customers.replace(null_columns, np.nan, inplace=True)"
   ]
  },
  {
   "cell_type": "code",
   "execution_count": 106,
   "metadata": {},
   "outputs": [],
   "source": [
    "#function to plot missing values percentage for features.\n",
    "\n",
    "def plot_missingvalues_percentage(df_list, limit, plot_titles):\n",
    "    \"\"\"\n",
    "    This function will take dataframes and calcualte the missing value percentage of each feature.\n",
    "    Then plot the percentage above a set limit.\n",
    "    \n",
    "    Args: dataframe list, missing value percentage limit to plot, plot titles\n",
    "    Return: None\n",
    "    \n",
    "    \"\"\"\n",
    "    Dataset = df_list\n",
    "    missing_limit = limit   #set the limit for missing values to plot.\n",
    "    titles = plot_titles\n",
    "               \n",
    "    fig, axes = plt.subplots(figsize=(14, 8) , nrows = 1, ncols = len(Dataset))  # Set up the matplotlib figure\n",
    "    fig.tight_layout(pad=8.0)\n",
    "\n",
    "    for i,data in enumerate(Dataset):\n",
    "        feature =[]\n",
    "        missing_value =[]\n",
    "        total = data.shape[0]        \n",
    "\n",
    "        for column in data:\n",
    "            missing_col = 1-(data[column].count()/total)     #calculate the missing value percentage\n",
    "            if  missing_col >= missing_limit:\n",
    "                feature.append(column)\n",
    "                missing_value.append(missing_col)\n",
    "\n",
    "        axes[i].barh(y = feature, width=missing_value, height=0.4)  #plot the graph\n",
    "        axes[i].set(xlabel='Missing Value %')\n",
    "        axes[i].set_title(titles[i])\n",
    "        axes[i].vlines(x = 0.4, ymin =feature[0], ymax=feature[-1], colors='r', linestyles='dashed') #add a cutoffline to plot\n",
    "        for u, v in enumerate(missing_value):\n",
    "            value = \"{:.2f}\".format(v)\n",
    "            axes[i].text(v, u, str(value), color='blue', fontweight='bold')   \n"
   ]
  },
  {
   "cell_type": "code",
   "execution_count": 107,
   "metadata": {},
   "outputs": [
    {
     "data": {
      "image/png": "[encoded data removed]",
      "text/plain": [
       "<Figure size 1008x576 with 2 Axes>"
      ]
     },
     "metadata": {
      "needs_background": "light"
     },
     "output_type": "display_data"
    }
   ],
   "source": [
    "data_list = [azdias, customers]\n",
    "data_titles = ['azdias', 'customers']\n",
    "plot_missingvalues_percentage(data_list, 0.3, data_titles)"
   ]
  },
  {
   "cell_type": "markdown",
   "metadata": {},
   "source": [
    "**Dropping features with higher missing value**\n",
    "<br>\n",
    "For this task, missing value percentage above 40% is dropped from the dfs. \n",
    "'AGER_TYP', 'ALTER_KIND1', 'ALTER_KIND2', 'ALTER_KIND3', 'ALTER_KIND4', 'EXTSEL992', 'KBA05_BAUMAX', 'KK_KUNDENTYP', 'TITEL_KZ' features are dropped from both the dfs.\n",
    "<br>\n",
    "In addition 'CUSTOMER_GROUP','PRODUCT_GROUP','ONLINE_PURCHASE'  features are also dropped from the customers dfs."
   ]
  },
  {
   "cell_type": "code",
   "execution_count": 7,
   "metadata": {},
   "outputs": [
    {
     "data": {
      "text/html": [
       "<div>\n",
       "<style scoped>\n",
       "    .dataframe tbody tr th:only-of-type {\n",
       "        vertical-align: middle;\n",
       "    }\n",
       "\n",
       "    .dataframe tbody tr th {\n",
       "        vertical-align: top;\n",
       "    }\n",
       "\n",
       "    .dataframe thead th {\n",
       "        text-align: right;\n",
       "    }\n",
       "</style>\n",
       "<table border=\"1\" class=\"dataframe\">\n",
       "  <thead>\n",
       "    <tr style=\"text-align: right;\">\n",
       "      <th></th>\n",
       "      <th>delete</th>\n",
       "      <th>LNR</th>\n",
       "      <th>AGER_TYP</th>\n",
       "      <th>AKT_DAT_KL</th>\n",
       "      <th>ALTER_HH</th>\n",
       "      <th>ALTER_KIND1</th>\n",
       "      <th>ALTER_KIND2</th>\n",
       "      <th>ALTER_KIND3</th>\n",
       "      <th>ALTER_KIND4</th>\n",
       "      <th>ALTERSKATEGORIE_FEIN</th>\n",
       "      <th>...</th>\n",
       "      <th>VK_ZG11</th>\n",
       "      <th>W_KEIT_KIND_HH</th>\n",
       "      <th>WOHNDAUER_2008</th>\n",
       "      <th>WOHNLAGE</th>\n",
       "      <th>ZABEOTYP</th>\n",
       "      <th>PRODUCT_GROUP</th>\n",
       "      <th>CUSTOMER_GROUP</th>\n",
       "      <th>ONLINE_PURCHASE</th>\n",
       "      <th>ANREDE_KZ</th>\n",
       "      <th>ALTERSKATEGORIE_GROB</th>\n",
       "    </tr>\n",
       "  </thead>\n",
       "  <tbody>\n",
       "    <tr>\n",
       "      <th>0</th>\n",
       "      <td>0</td>\n",
       "      <td>9626</td>\n",
       "      <td>2.0</td>\n",
       "      <td>1.0</td>\n",
       "      <td>10.0</td>\n",
       "      <td>NaN</td>\n",
       "      <td>NaN</td>\n",
       "      <td>NaN</td>\n",
       "      <td>NaN</td>\n",
       "      <td>10.0</td>\n",
       "      <td>...</td>\n",
       "      <td>2.0</td>\n",
       "      <td>6.0</td>\n",
       "      <td>9.0</td>\n",
       "      <td>7.0</td>\n",
       "      <td>3</td>\n",
       "      <td>COSMETIC_AND_FOOD</td>\n",
       "      <td>MULTI_BUYER</td>\n",
       "      <td>0</td>\n",
       "      <td>1</td>\n",
       "      <td>4</td>\n",
       "    </tr>\n",
       "    <tr>\n",
       "      <th>1</th>\n",
       "      <td>1</td>\n",
       "      <td>9628</td>\n",
       "      <td>NaN</td>\n",
       "      <td>9.0</td>\n",
       "      <td>11.0</td>\n",
       "      <td>NaN</td>\n",
       "      <td>NaN</td>\n",
       "      <td>NaN</td>\n",
       "      <td>NaN</td>\n",
       "      <td>NaN</td>\n",
       "      <td>...</td>\n",
       "      <td>3.0</td>\n",
       "      <td>NaN</td>\n",
       "      <td>9.0</td>\n",
       "      <td>NaN</td>\n",
       "      <td>3</td>\n",
       "      <td>FOOD</td>\n",
       "      <td>SINGLE_BUYER</td>\n",
       "      <td>0</td>\n",
       "      <td>1</td>\n",
       "      <td>4</td>\n",
       "    </tr>\n",
       "    <tr>\n",
       "      <th>2</th>\n",
       "      <td>2</td>\n",
       "      <td>143872</td>\n",
       "      <td>NaN</td>\n",
       "      <td>1.0</td>\n",
       "      <td>6.0</td>\n",
       "      <td>NaN</td>\n",
       "      <td>NaN</td>\n",
       "      <td>NaN</td>\n",
       "      <td>NaN</td>\n",
       "      <td>0.0</td>\n",
       "      <td>...</td>\n",
       "      <td>11.0</td>\n",
       "      <td>6.0</td>\n",
       "      <td>9.0</td>\n",
       "      <td>2.0</td>\n",
       "      <td>3</td>\n",
       "      <td>COSMETIC_AND_FOOD</td>\n",
       "      <td>MULTI_BUYER</td>\n",
       "      <td>0</td>\n",
       "      <td>2</td>\n",
       "      <td>4</td>\n",
       "    </tr>\n",
       "    <tr>\n",
       "      <th>3</th>\n",
       "      <td>3</td>\n",
       "      <td>143873</td>\n",
       "      <td>1.0</td>\n",
       "      <td>1.0</td>\n",
       "      <td>8.0</td>\n",
       "      <td>NaN</td>\n",
       "      <td>NaN</td>\n",
       "      <td>NaN</td>\n",
       "      <td>NaN</td>\n",
       "      <td>8.0</td>\n",
       "      <td>...</td>\n",
       "      <td>2.0</td>\n",
       "      <td>NaN</td>\n",
       "      <td>9.0</td>\n",
       "      <td>7.0</td>\n",
       "      <td>1</td>\n",
       "      <td>COSMETIC</td>\n",
       "      <td>MULTI_BUYER</td>\n",
       "      <td>0</td>\n",
       "      <td>1</td>\n",
       "      <td>4</td>\n",
       "    </tr>\n",
       "    <tr>\n",
       "      <th>4</th>\n",
       "      <td>4</td>\n",
       "      <td>143874</td>\n",
       "      <td>NaN</td>\n",
       "      <td>1.0</td>\n",
       "      <td>20.0</td>\n",
       "      <td>NaN</td>\n",
       "      <td>NaN</td>\n",
       "      <td>NaN</td>\n",
       "      <td>NaN</td>\n",
       "      <td>14.0</td>\n",
       "      <td>...</td>\n",
       "      <td>4.0</td>\n",
       "      <td>2.0</td>\n",
       "      <td>9.0</td>\n",
       "      <td>3.0</td>\n",
       "      <td>1</td>\n",
       "      <td>FOOD</td>\n",
       "      <td>MULTI_BUYER</td>\n",
       "      <td>0</td>\n",
       "      <td>1</td>\n",
       "      <td>3</td>\n",
       "    </tr>\n",
       "  </tbody>\n",
       "</table>\n",
       "<p>5 rows × 370 columns</p>\n",
       "</div>"
      ],
      "text/plain": [
       "   delete     LNR  AGER_TYP  AKT_DAT_KL  ALTER_HH  ALTER_KIND1  ALTER_KIND2  \\\n",
       "0       0    9626       2.0         1.0      10.0          NaN          NaN   \n",
       "1       1    9628       NaN         9.0      11.0          NaN          NaN   \n",
       "2       2  143872       NaN         1.0       6.0          NaN          NaN   \n",
       "3       3  143873       1.0         1.0       8.0          NaN          NaN   \n",
       "4       4  143874       NaN         1.0      20.0          NaN          NaN   \n",
       "\n",
       "   ALTER_KIND3  ALTER_KIND4  ALTERSKATEGORIE_FEIN  ...  VK_ZG11  \\\n",
       "0          NaN          NaN                  10.0  ...      2.0   \n",
       "1          NaN          NaN                   NaN  ...      3.0   \n",
       "2          NaN          NaN                   0.0  ...     11.0   \n",
       "3          NaN          NaN                   8.0  ...      2.0   \n",
       "4          NaN          NaN                  14.0  ...      4.0   \n",
       "\n",
       "   W_KEIT_KIND_HH  WOHNDAUER_2008  WOHNLAGE  ZABEOTYP      PRODUCT_GROUP  \\\n",
       "0             6.0             9.0       7.0         3  COSMETIC_AND_FOOD   \n",
       "1             NaN             9.0       NaN         3               FOOD   \n",
       "2             6.0             9.0       2.0         3  COSMETIC_AND_FOOD   \n",
       "3             NaN             9.0       7.0         1           COSMETIC   \n",
       "4             2.0             9.0       3.0         1               FOOD   \n",
       "\n",
       "   CUSTOMER_GROUP  ONLINE_PURCHASE ANREDE_KZ ALTERSKATEGORIE_GROB  \n",
       "0     MULTI_BUYER                0         1                    4  \n",
       "1    SINGLE_BUYER                0         1                    4  \n",
       "2     MULTI_BUYER                0         2                    4  \n",
       "3     MULTI_BUYER                0         1                    4  \n",
       "4     MULTI_BUYER                0         1                    3  \n",
       "\n",
       "[5 rows x 370 columns]"
      ]
     },
     "execution_count": 7,
     "metadata": {},
     "output_type": "execute_result"
    }
   ],
   "source": [
    "#change the unamed column name to  delete \n",
    "azdias.rename(columns={'Unnamed: 0': \"delete\"}, inplace= True)\n",
    "customers.rename(columns={'Unnamed: 0': \"delete\"}, inplace= True)\n",
    "\n",
    "customers.head()\n"
   ]
  },
  {
   "cell_type": "code",
   "execution_count": 38,
   "metadata": {},
   "outputs": [],
   "source": [
    "#drop columns which have more than 40% missing values from azdias and customers\n",
    "#drop additional 'CUSTOMER_GROUP','ONLINE_PURCHASE','PRODUCT_GROUP' cloumns from customers\n",
    "\n",
    "drop_azdias = ['delete', 'AGER_TYP', 'ALTER_KIND1', 'ALTER_KIND2', 'ALTER_KIND3', 'ALTER_KIND4', 'EXTSEL992', 'KBA05_BAUMAX', 'KK_KUNDENTYP', 'TITEL_KZ']\n",
    "drop_customers = ['delete','CUSTOMER_GROUP','PRODUCT_GROUP','ONLINE_PURCHASE','AGER_TYP', 'ALTER_KIND1', 'ALTER_KIND2', 'ALTER_KIND3', 'ALTER_KIND4', 'EXTSEL992', 'KBA05_BAUMAX', 'KK_KUNDENTYP', 'TITEL_KZ']\n",
    "\n",
    "azdias.drop(columns= drop_azdias, inplace=True)\n",
    "customers.drop(columns= drop_customers, inplace=True)\n"
   ]
  },
  {
   "cell_type": "code",
   "execution_count": 8,
   "metadata": {},
   "outputs": [
    {
     "name": "stdout",
     "output_type": "stream",
     "text": [
      "(891221, 367)\n",
      "(191652, 370)\n"
     ]
    }
   ],
   "source": [
    "print(azdias.shape)\n",
    "print(customers.shape)"
   ]
  },
  {
   "cell_type": "code",
   "execution_count": 24,
   "metadata": {},
   "outputs": [
    {
     "data": {
      "image/png": "[encoded data removed]",
      "text/plain": [
       "<Figure size 1008x576 with 2 Axes>"
      ]
     },
     "metadata": {
      "needs_background": "light"
     },
     "output_type": "display_data"
    }
   ],
   "source": [
    "#plot the rows with the number of null value cell count\n",
    "\n",
    "Dataset = [azdias, customers]\n",
    "titles = ['azdias', 'customers']\n",
    "fig, axes = plt.subplots(figsize=(14, 8) , nrows = len(Dataset), ncols = 1)  # Set up the matplotlib figure\n",
    "fig.tight_layout(pad=8.0)\n",
    "\n",
    "for i,data in enumerate(Dataset):\n",
    "    missing_values_row = data.isnull().sum(axis=1).value_counts().index.tolist()\n",
    "    missing_counts_row = data.isnull().sum(axis=1).value_counts().values.tolist()      \n",
    "\n",
    "    axes[i].bar(x= missing_values_row, height=missing_counts_row, width=0.8)  #plot the graph\n",
    "    axes[i].set(xlabel='Null value cell count')\n",
    "    axes[i].set(ylabel='No.of rows')\n",
    "    axes[i].set_title(titles[i])    \n",
    "        \n"
   ]
  },
  {
   "cell_type": "markdown",
   "metadata": {},
   "source": [
    "Both df has 357 features and 250 is selected as the cutoff value since more than that means the rows do not have 70% of the data.From the graph, we can see customers df has more missing cell values above the cutoff value. It should be noted that droping these rows will still retain majority of the data."
   ]
  },
  {
   "cell_type": "code",
   "execution_count": 35,
   "metadata": {},
   "outputs": [],
   "source": [
    "#drop rows which has more then 250 null cells\n",
    "\n",
    "azdias.dropna(axis=0, thresh=250, inplace=True)\n",
    "customers.dropna(axis=0, thresh=250, inplace=True)"
   ]
  },
  {
   "cell_type": "code",
   "execution_count": 39,
   "metadata": {},
   "outputs": [
    {
     "name": "stdout",
     "output_type": "stream",
     "text": [
      "(785420, 357)\n",
      "(140371, 357)\n"
     ]
    }
   ],
   "source": [
    "print(azdias.shape)\n",
    "print(customers.shape)"
   ]
  },
  {
   "cell_type": "markdown",
   "metadata": {},
   "source": [
    "The next section will analyse features with object data type and convert data to integers or bin large groups into suitable sizes. "
   ]
  },
  {
   "cell_type": "code",
   "execution_count": 40,
   "metadata": {},
   "outputs": [
    {
     "data": {
      "text/plain": [
       "Index(['CAMEO_DEU_2015', 'CAMEO_DEUG_2015', 'CAMEO_INTL_2015',\n",
       "       'D19_LETZTER_KAUF_BRANCHE', 'EINGEFUEGT_AM', 'OST_WEST_KZ'],\n",
       "      dtype='object')"
      ]
     },
     "execution_count": 40,
     "metadata": {},
     "output_type": "execute_result"
    }
   ],
   "source": [
    "#get the list of column names with dtype as object\n",
    "obj_list = azdias.select_dtypes(include='object').columns\n",
    "obj_list"
   ]
  },
  {
   "cell_type": "code",
   "execution_count": 41,
   "metadata": {},
   "outputs": [
    {
     "data": {
      "text/plain": [
       "Index(['CAMEO_DEU_2015', 'CAMEO_DEUG_2015', 'CAMEO_INTL_2015',\n",
       "       'D19_LETZTER_KAUF_BRANCHE', 'EINGEFUEGT_AM', 'OST_WEST_KZ'],\n",
       "      dtype='object')"
      ]
     },
     "execution_count": 41,
     "metadata": {},
     "output_type": "execute_result"
    }
   ],
   "source": [
    "obj_list_2 = customers.select_dtypes(include='object').columns\n",
    "obj_list_2"
   ]
  },
  {
   "cell_type": "markdown",
   "metadata": {},
   "source": [
    "Since object dtype features are same in azdias as well as customers (and later on in the mailout train/test data) function will be written for these features. Also, 'D19_LETZTER_KAUF_BRANCHE' column will be dropped due to follwoing reason.\n",
    "'D19_LETZTER_KAUF_BRANCHE': No explanation is provided on the attribute in the addiaionl file and looking at the values, it seems like this column contain the group of the last tranctional activty group. Since detail transctional acitivity of individuals are provided in other columns , it is decided to drop this.  \n"
   ]
  },
  {
   "cell_type": "code",
   "execution_count": 53,
   "metadata": {},
   "outputs": [],
   "source": [
    "#convert object dtype columns to ints dtype\n",
    "\n",
    "def convertobjects(dataset):\n",
    "    \"\"\"\n",
    "    convert object dtype features to integers by mapping.\n",
    "    args: dataset\n",
    "    return: None\n",
    "    \n",
    "    \"\"\"\n",
    "    CAMEO_dict = {\"1\": 1, \"2\": 2, \"3\": 3, \"4\": 4, \"5\":5, \"6\":6, \"7\":7, \"8\": 8, \"9\":9}\n",
    "    \n",
    "    #get the first element of the string and map.\n",
    "    dataset['CAMEO_DEU_2015']= dataset['CAMEO_DEU_2015'].astype(str).str[0].map(CAMEO_dict)\n",
    "    dataset['CAMEO_DEUG_2015']= dataset['CAMEO_DEUG_2015'].astype(str).str[0].map(CAMEO_dict)\n",
    "    dataset['CAMEO_INTL_2015']= dataset['CAMEO_INTL_2015'].astype(str).str[0].map(CAMEO_dict)\n",
    "    \n",
    "    #extract the first 4 characters as a int\n",
    "    dataset['EINGEFUEGT_AM']= dataset['EINGEFUEGT_AM'].str[:4].astype('float').astype('Int32')  \n",
    "    \n",
    "    dataset['OST_WEST_KZ']= dataset['OST_WEST_KZ'].map({\"W\":1 , \"O\":0})"
   ]
  },
  {
   "cell_type": "code",
   "execution_count": 54,
   "metadata": {},
   "outputs": [],
   "source": [
    "convertobjects(azdias)\n",
    "convertobjects(customers)"
   ]
  },
  {
   "cell_type": "code",
   "execution_count": 58,
   "metadata": {},
   "outputs": [],
   "source": [
    "# customers['EINGEFUEGT_AM'] = customers['EINGEFUEGT_AM'].astype('float').astype('Int32')"
   ]
  },
  {
   "cell_type": "code",
   "execution_count": 61,
   "metadata": {},
   "outputs": [],
   "source": [
    "# azdias['EINGEFUEGT_AM'] = azdias['EINGEFUEGT_AM'].astype('float').astype('Int32')"
   ]
  },
  {
   "cell_type": "code",
   "execution_count": 62,
   "metadata": {},
   "outputs": [
    {
     "data": {
      "text/plain": [
       "Index(['D19_LETZTER_KAUF_BRANCHE'], dtype='object')"
      ]
     },
     "execution_count": 62,
     "metadata": {},
     "output_type": "execute_result"
    }
   ],
   "source": [
    "azdias.select_dtypes(include='object').columns"
   ]
  },
  {
   "cell_type": "code",
   "execution_count": 65,
   "metadata": {},
   "outputs": [],
   "source": [
    "#drop the object dtype columns and LNR\n",
    "azdias.drop(columns= ['D19_LETZTER_KAUF_BRANCHE','LNR'], inplace=True)\n",
    "customers.drop(columns= ['D19_LETZTER_KAUF_BRANCHE','LNR'], inplace=True)"
   ]
  },
  {
   "cell_type": "code",
   "execution_count": 35,
   "metadata": {},
   "outputs": [],
   "source": [
    "#drop 'LNR' from the dataset  ---- Need to do this in first drop\n",
    "# azdias.drop(columns= 'LNR', inplace=True)\n",
    "# customers.drop(columns= 'LNR', inplace=True)"
   ]
  },
  {
   "cell_type": "code",
   "execution_count": 66,
   "metadata": {},
   "outputs": [
    {
     "name": "stdout",
     "output_type": "stream",
     "text": [
      "(785420, 355)\n",
      "(140371, 355)\n"
     ]
    }
   ],
   "source": [
    "print(azdias.shape)\n",
    "print(customers.shape)"
   ]
  },
  {
   "cell_type": "markdown",
   "metadata": {},
   "source": [
    "Most of the features in the dfs are categorical type. Once the object dtype are succefully convert to ints/floats, the next step is to identify how many categories are there in each feature and if it is too large (high cardinality), reconstruct them in to smaller categories by binning."
   ]
  },
  {
   "cell_type": "code",
   "execution_count": 70,
   "metadata": {},
   "outputs": [],
   "source": [
    "#get the columns with more than 15 categories.\n",
    "big_category_columns = []\n",
    "for columns in azdias.columns:\n",
    "    groups = azdias[columns].nunique()\n",
    "#     print('{}  ----  {}'.format(columns, groups))\n",
    "    if groups >15:\n",
    "        big_category_columns.append(columns)   #list of columns with more than 15 unique data. \n",
    "        "
   ]
  },
  {
   "cell_type": "code",
   "execution_count": 71,
   "metadata": {},
   "outputs": [
    {
     "data": {
      "text/plain": [
       "['ALTER_HH',\n",
       " 'ALTERSKATEGORIE_FEIN',\n",
       " 'ANZ_HAUSHALTE_AKTIV',\n",
       " 'ANZ_HH_TITEL',\n",
       " 'ANZ_PERSONEN',\n",
       " 'ANZ_STATISTISCHE_HAUSHALTE',\n",
       " 'EINGEFUEGT_AM',\n",
       " 'EINGEZOGENAM_HH_JAHR',\n",
       " 'GEBURTSJAHR',\n",
       " 'KBA13_ANZAHL_PKW',\n",
       " 'LP_LEBENSPHASE_FEIN',\n",
       " 'MIN_GEBAEUDEJAHR',\n",
       " 'VERDICHTUNGSRAUM']"
      ]
     },
     "execution_count": 71,
     "metadata": {},
     "output_type": "execute_result"
    }
   ],
   "source": [
    "big_category_columns"
   ]
  },
  {
   "cell_type": "code",
   "execution_count": null,
   "metadata": {},
   "outputs": [],
   "source": []
  },
  {
   "cell_type": "code",
   "execution_count": 72,
   "metadata": {},
   "outputs": [
    {
     "data": {
      "text/plain": [
       "0.0     132286\n",
       "1.0       5111\n",
       "2.0        453\n",
       "3.0        105\n",
       "4.0         56\n",
       "6.0         49\n",
       "13.0        39\n",
       "7.0         27\n",
       "8.0         25\n",
       "5.0         22\n",
       "9.0         13\n",
       "14.0        12\n",
       "11.0        12\n",
       "20.0        10\n",
       "10.0         8\n",
       "17.0         7\n",
       "15.0         5\n",
       "18.0         5\n",
       "12.0         4\n",
       "Name: ANZ_HH_TITEL, dtype: int64"
      ]
     },
     "execution_count": 72,
     "metadata": {},
     "output_type": "execute_result"
    }
   ],
   "source": [
    "customers['ANZ_HH_TITEL'].value_counts()"
   ]
  },
  {
   "cell_type": "code",
   "execution_count": 73,
   "metadata": {},
   "outputs": [
    {
     "data": {
      "text/plain": [
       "1.0      72198\n",
       "2.0      22163\n",
       "3.0       7709\n",
       "4.0       4540\n",
       "5.0       3575\n",
       "         ...  \n",
       "123.0        1\n",
       "196.0        1\n",
       "126.0        1\n",
       "139.0        1\n",
       "238.0        1\n",
       "Name: ANZ_HAUSHALTE_AKTIV, Length: 208, dtype: int64"
      ]
     },
     "execution_count": 73,
     "metadata": {},
     "output_type": "execute_result"
    }
   ],
   "source": [
    "customers['ANZ_HAUSHALTE_AKTIV'].value_counts()"
   ]
  },
  {
   "cell_type": "code",
   "execution_count": 74,
   "metadata": {},
   "outputs": [
    {
     "data": {
      "text/plain": [
       "2.0     42295\n",
       "1.0     39384\n",
       "3.0     26477\n",
       "4.0     15715\n",
       "0.0      6872\n",
       "5.0      6325\n",
       "6.0      2270\n",
       "7.0       703\n",
       "8.0       215\n",
       "9.0        63\n",
       "10.0       22\n",
       "11.0       12\n",
       "12.0        9\n",
       "14.0        3\n",
       "13.0        2\n",
       "21.0        2\n",
       "16.0        1\n",
       "15.0        1\n",
       "Name: ANZ_PERSONEN, dtype: int64"
      ]
     },
     "execution_count": 74,
     "metadata": {},
     "output_type": "execute_result"
    }
   ],
   "source": [
    "customers['ANZ_PERSONEN'].value_counts()"
   ]
  },
  {
   "cell_type": "code",
   "execution_count": null,
   "metadata": {},
   "outputs": [],
   "source": []
  },
  {
   "cell_type": "code",
   "execution_count": 21,
   "metadata": {},
   "outputs": [],
   "source": [
    "azdias['GEBURTSJAHR'].replace(0, np.nan, inplace=True)   #update the null coiumn value\n",
    "customers['GEBURTSJAHR'].replace(0, np.nan, inplace=True)   #update the null coiumn value"
   ]
  },
  {
   "cell_type": "code",
   "execution_count": 63,
   "metadata": {},
   "outputs": [],
   "source": [
    "# Set up the matplotlib figure for the disribution of big_cat_columns\n",
    "\n",
    "def distribution_graphs(features):\n",
    "    fig, axes = plt.subplots(figsize=(12, 7) , nrows = 3, ncols = 4)\n",
    "    fig.tight_layout(pad=4.0)\n",
    "\n",
    "    for i in range(12):\n",
    "        if i<4:\n",
    "            axes[0,i].hist(x=azdias[features[i]].dropna(), color = 'blue', edgecolor = 'black')\n",
    "            axes[0,i].set_title('{}'.format(features[i]))\n",
    "        elif 4<=i<8:\n",
    "            axes[1,i-4].hist(x=azdias[features[i]].dropna(), color = 'blue', edgecolor = 'black')\n",
    "            axes[1,i-4].set_title('{}'.format(features[i]))\n",
    "        elif 8<=i<12:   \n",
    "            axes[2,i-8].hist(x=azdias[features[i]].dropna(), color = 'blue', edgecolor = 'black')\n",
    "            axes[2,i-8].set_title('{}'.format(features[i]))\n",
    "            "
   ]
  },
  {
   "cell_type": "code",
   "execution_count": 64,
   "metadata": {},
   "outputs": [
    {
     "data": {
      "image/png": "[encoded data removed]",
      "text/plain": [
       "<matplotlib.figure.Figure at 0x7fe5a2aa9fd0>"
      ]
     },
     "metadata": {
      "needs_background": "light"
     },
     "output_type": "display_data"
    }
   ],
   "source": [
    "distribution_graphs(big_cat_columns)"
   ]
  },
  {
   "cell_type": "code",
   "execution_count": 96,
   "metadata": {},
   "outputs": [
    {
     "name": "stdout",
     "output_type": "stream",
     "text": [
      "ALTER_HH_2\n",
      "ALTERSKATEGORIE_FEIN_2\n",
      "EINGEZOGENAM_HH_JAHR_2\n",
      "KBA13_ANZAHL_PKW_2\n",
      "GEBURTSJAHR_2\n",
      "one\n"
     ]
    }
   ],
   "source": [
    "#qcut binning to reclassify big_cat_columns \n",
    "qcut_features = ['ALTER_HH','ALTERSKATEGORIE_FEIN', 'EINGEZOGENAM_HH_JAHR','KBA13_ANZAHL_PKW','GEBURTSJAHR','ANZ_HAUSHALTE_AKTIV']\n",
    "qcut_10_labels = [1,2,3,4,5,6,7,8,9,10]\n",
    "qcut_7_labels = [1,2,3,4,5,6,7]\n",
    "\n",
    "for feature in qcut_features:\n",
    "    new_feature = str(feature)+'_2'\n",
    "\n",
    "    if feature == 'ANZ_HAUSHALTE_AKTIV':\n",
    "#         print('one')\n",
    "        azdias[new_feature], bins = pd.qcut(azdias[feature], q=7,labels = qcut_7_labels, retbins=True)\n",
    "        customers[new_feature] = pd.cut(customers[feature], bins, labels=qcut_7_labels, include_lowest=True)\n",
    "    else:\n",
    "#         print(new_feature)\n",
    "        azdias[new_feature], bins = pd.qcut(azdias[feature], q=10,labels = qcut_10_labels, retbins=True)\n",
    "        customers[new_feature] = pd.cut(customers[feature], bins, labels=qcut_10_labels, include_lowest=True)"
   ]
  },
  {
   "cell_type": "code",
   "execution_count": null,
   "metadata": {},
   "outputs": [],
   "source": []
  },
  {
   "cell_type": "code",
   "execution_count": 97,
   "metadata": {},
   "outputs": [],
   "source": [
    "#pd cut binning\n",
    "cut_11_labels =  [0,1,2,3,4,5,6,7,8,9,10]\n",
    "azdias['ANZ_HH_TITEL_2']= pd.cut(x= azdias['ANZ_HH_TITEL'], bins=[-1,0,1,2,3,4,5,6,7,8,9,23], labels = cut_11_labels)\n",
    "azdias['ANZ_PERSONEN_2']= pd.cut(x= azdias['ANZ_PERSONEN'], bins=[-1,0,1,2,3,4,5,6,7,8,9,46], labels = cut_11_labels)\n",
    "customers['ANZ_HH_TITEL_2']= pd.cut(x= customers['ANZ_HH_TITEL'], bins=[-1,0,1,2,3,4,5,6,7,8,9,23], labels = cut_11_labels)\n",
    "customers['ANZ_PERSONEN_2']= pd.cut(x= customers['ANZ_PERSONEN'], bins=[-1,0,1,2,3,4,5,6,7,8,9,46], labels = cut_11_labels)"
   ]
  },
  {
   "cell_type": "code",
   "execution_count": 103,
   "metadata": {},
   "outputs": [],
   "source": [
    "#drop big_cat_columns from the dfs\n",
    "azdias.drop(columns= big_cat_columns, inplace=True)\n",
    "customers.drop(columns= big_cat_columns, inplace=True)"
   ]
  },
  {
   "cell_type": "code",
   "execution_count": 112,
   "metadata": {},
   "outputs": [],
   "source": [
    "#fill the missing values with the most common value in each column\n",
    "\n",
    "Dataset = [azdias, customers]\n",
    "for data in Dataset:\n",
    "    null_list = data.columns[data.isna().any()].tolist()  #get the null value containig columns\n",
    "    for column in null_list:\n",
    "         data[column].fillna(value= data[column].mode().iloc[0], inplace=True) #fill with most common value"
   ]
  },
  {
   "cell_type": "code",
   "execution_count": 67,
   "metadata": {},
   "outputs": [
    {
     "name": "stdout",
     "output_type": "stream",
     "text": [
      "<class 'pandas.core.frame.DataFrame'>\n",
      "Int64Index: 785420 entries, 1 to 891220\n",
      "Columns: 355 entries, AKT_DAT_KL to ALTERSKATEGORIE_GROB\n",
      "dtypes: Int32(1), float64(267), int64(87)\n",
      "memory usage: 2.1 GB\n"
     ]
    }
   ],
   "source": [
    "azdias.info()"
   ]
  },
  {
   "cell_type": "code",
   "execution_count": 68,
   "metadata": {},
   "outputs": [
    {
     "name": "stdout",
     "output_type": "stream",
     "text": [
      "<class 'pandas.core.frame.DataFrame'>\n",
      "Int64Index: 140371 entries, 0 to 191651\n",
      "Columns: 355 entries, AKT_DAT_KL to ALTERSKATEGORIE_GROB\n",
      "dtypes: Int32(1), float64(267), int64(87)\n",
      "memory usage: 380.9 MB\n"
     ]
    }
   ],
   "source": [
    "customers.info()"
   ]
  },
  {
   "cell_type": "code",
   "execution_count": 115,
   "metadata": {},
   "outputs": [
    {
     "data": {
      "text/plain": [
       "0"
      ]
     },
     "execution_count": 115,
     "metadata": {},
     "output_type": "execute_result"
    }
   ],
   "source": [
    "checklist = customers.columns[customers.isna().any()].tolist()\n",
    "len(checklist)"
   ]
  },
  {
   "cell_type": "code",
   "execution_count": null,
   "metadata": {},
   "outputs": [],
   "source": [
    "#save the cleaned file\n",
    "azdias.to_csv(\"azdias_cleaned.zip\",index = False, compression=\"zip\")\n",
    "customers.to_csv(\"customers_cleaned.zip\",index = False, compression=\"zip\")"
   ]
  },
  {
   "cell_type": "markdown",
   "metadata": {},
   "source": [
    "## Part 1: Customer Segmentation Report\n",
    "\n",
    "The main bulk of your analysis will come in this part of the project. Here, you should use unsupervised learning techniques to describe the relationship between the demographics of the company's existing customers and the general population of Germany. By the end of this part, you should be able to describe parts of the general population that are more likely to be part of the mail-order company's main customer base, and which parts of the general population are less so."
   ]
  },
  {
   "cell_type": "code",
   "execution_count": null,
   "metadata": {},
   "outputs": [],
   "source": [
    "#open the cleaned files\n",
    "azdias = pd.read_csv(\"azdias_cleaned.zip\",compression='zip')\n",
    "customers = pd.read_csv(\"customers_cleaned.zip\",compression='zip')"
   ]
  },
  {
   "cell_type": "markdown",
   "metadata": {},
   "source": [
    "### Apply PCA"
   ]
  },
  {
   "cell_type": "code",
   "execution_count": 5,
   "metadata": {},
   "outputs": [],
   "source": [
    "#function to model pca and plot the variance\n",
    "from sklearn.decomposition import PCA\n",
    "from scipy.interpolate import make_interp_spline, BSpline\n",
    "\n",
    "def pca_variance(dataframe, components):  #function to model pca and plot the variance graph\n",
    "    variance = []\n",
    "    for value in components:\n",
    "        pca_model = PCA(n_components=value)  #model the pca\n",
    "        pca_model.fit_transform(dataframe)   \n",
    "        variance.append(pca_model.explained_variance_ratio_.cumsum()[value-1])  #get the variace value\n",
    "    print(variance)\n",
    "    print(components)\n",
    "        \n",
    "    #plot the variace\n",
    "    components_smooth = np.linspace(components[0], components[-1], 10)  #10 points are selected to get a smooth line\n",
    "    spl = make_interp_spline(components, variance, k=3)  # type: BSpline\n",
    "    varaince_smooth = spl(components_smooth)\n",
    "    \n",
    "    plt.scatter(components, variance)   #plot the variance as a scatter graph\n",
    "    plt.plot(components_smooth, varaince_smooth)  #plot the smooth line\n",
    "    plt.ylabel(\"Variance Covered\")\n",
    "    plt.xlabel(\"PCA Components\")\n",
    "    plt.title(\"Variance covered by PCA Components\")\n",
    "    plt.show()"
   ]
  },
  {
   "cell_type": "code",
   "execution_count": null,
   "metadata": {},
   "outputs": [],
   "source": [
    "#apply pca\n",
    "pca_components = [110, 120, 130, 140, 150, 160, 170,180]\n",
    "pca_variance(azdias,pca_components)\n",
    "\n",
    "#This is run in colab for faster computing. The results are given in the next cell. \n",
    "#For more reference, colab notebook for pca is atached."
   ]
  },
  {
   "cell_type": "code",
   "execution_count": 6,
   "metadata": {},
   "outputs": [],
   "source": [
    "components = [110, 120, 130, 140, 150, 160, 170,180]\n",
    "variance = [0.8218630006090925, 0.8412655807822145, 0.859175979216605, 0.8756760189295024, 0.8909399374647844, 0.9047352506022815,0.9171057845275419, 0.9280132999633186]\n"
   ]
  },
  {
   "cell_type": "code",
   "execution_count": 7,
   "metadata": {},
   "outputs": [
    {
     "data": {
      "image/png": "[encoded data removed]",
      "text/plain": [
       "<Figure size 432x288 with 1 Axes>"
      ]
     },
     "metadata": {
      "needs_background": "light"
     },
     "output_type": "display_data"
    }
   ],
   "source": [
    "#plot the pca graph\n",
    "\n",
    "components_smooth = np.linspace(components[0], components[-1], 10)  #10 points are selected to get a smooth line\n",
    "spl = make_interp_spline(components, variance, k=3)  # type: BSpline\n",
    "varaince_smooth = spl(components_smooth)\n",
    "\n",
    "plt.scatter(components, variance)   #plot the variance as a scatter graph\n",
    "plt.plot(components_smooth, varaince_smooth)  #plot the smooth line\n",
    "plt.ylabel(\"Variance Covered\")\n",
    "plt.xlabel(\"PCA Components\")\n",
    "plt.title(\"Variance covered by PCA Components\")\n",
    "plt.show()"
   ]
  },
  {
   "cell_type": "markdown",
   "metadata": {},
   "source": [
    "##### Considering the total variace captured by principal components, 170 PCA components is selected as it covers around 92% of the total variance."
   ]
  },
  {
   "cell_type": "code",
   "execution_count": null,
   "metadata": {},
   "outputs": [],
   "source": [
    "#select a good pca_component and transf0rm the dataset\n",
    "\n",
    "pca_model = PCA(n_components=170)  #selected value 170\n",
    "\n",
    "azdias_transformed = pca_model.fit_transform(azdias)  #fit and transform the azdias dataset\n",
    "customers_transformed = pca_model.transform(customers) #transform the customers"
   ]
  },
  {
   "cell_type": "markdown",
   "metadata": {},
   "source": [
    "### Elbow plot for k-means"
   ]
  },
  {
   "cell_type": "code",
   "execution_count": null,
   "metadata": {},
   "outputs": [],
   "source": [
    "#plot the elbow graph to find the optimum k for k-means\n",
    "from sklearn.cluster import KMeans\n",
    "\n",
    "Sum_of_squared_distances = []\n",
    "for k in range(3,10):\n",
    "    km = KMeans(n_clusters=k)\n",
    "    km = km.fit(azdias_transformed)\n",
    "    Sum_of_squared_distances.append(km.inertia_)\n"
   ]
  },
  {
   "cell_type": "code",
   "execution_count": 8,
   "metadata": {},
   "outputs": [
    {
     "data": {
      "image/png": "[encoded data removed]",
      "text/plain": [
       "<Figure size 432x288 with 1 Axes>"
      ]
     },
     "metadata": {
      "needs_background": "light"
     },
     "output_type": "display_data"
    }
   ],
   "source": [
    "#Elbow graph is plotted in colab for faster performance. Results are plotted in here.\n",
    "\n",
    "K = [3,4,5,6,7,8,9,10,11,12,13,14,15,16,17]\n",
    "Sum_of_squared_distances = [19101670.897752788,18473412.900836088,17998313.638482377,17625599.474804416,17364182.332419813, \n",
    "                            17133268.665771253,16958477.17330367,16801939.93121694,16666725.068677064,16552372.559374245,\n",
    "         16432142.602628695,16344327.71689674, 16260535.705382742,16189203.441679705,16106114.367119506]\n",
    "\n",
    "\n",
    "plt.plot(K, Sum_of_squared_distances, 'bx-')\n",
    "plt.xlabel('k value')\n",
    "plt.ylabel('Inertia/Sum of squared distances')\n",
    "plt.title('Elbow Method For Optimal k')\n",
    "plt.show()\n"
   ]
  },
  {
   "cell_type": "markdown",
   "metadata": {},
   "source": [
    "Based on the elbow method, 8 is seleced as a good k value."
   ]
  },
  {
   "cell_type": "markdown",
   "metadata": {},
   "source": [
    "### Apply k-menas clustering"
   ]
  },
  {
   "cell_type": "code",
   "execution_count": 87,
   "metadata": {},
   "outputs": [],
   "source": [
    "#open the cleaned files\n",
    "azdias= pd.read_csv(\"azdias_transformed.gzip\",compression='gzip')\n",
    "customers= pd.read_csv(\"customers_transformed.gzip\",compression='gzip')"
   ]
  },
  {
   "cell_type": "code",
   "execution_count": 88,
   "metadata": {},
   "outputs": [
    {
     "data": {
      "text/html": [
       "<div>\n",
       "<style scoped>\n",
       "    .dataframe tbody tr th:only-of-type {\n",
       "        vertical-align: middle;\n",
       "    }\n",
       "\n",
       "    .dataframe tbody tr th {\n",
       "        vertical-align: top;\n",
       "    }\n",
       "\n",
       "    .dataframe thead th {\n",
       "        text-align: right;\n",
       "    }\n",
       "</style>\n",
       "<table border=\"1\" class=\"dataframe\">\n",
       "  <thead>\n",
       "    <tr style=\"text-align: right;\">\n",
       "      <th></th>\n",
       "      <th>0</th>\n",
       "      <th>1</th>\n",
       "      <th>2</th>\n",
       "      <th>3</th>\n",
       "      <th>4</th>\n",
       "      <th>5</th>\n",
       "      <th>6</th>\n",
       "      <th>7</th>\n",
       "      <th>8</th>\n",
       "      <th>9</th>\n",
       "      <th>...</th>\n",
       "      <th>160</th>\n",
       "      <th>161</th>\n",
       "      <th>162</th>\n",
       "      <th>163</th>\n",
       "      <th>164</th>\n",
       "      <th>165</th>\n",
       "      <th>166</th>\n",
       "      <th>167</th>\n",
       "      <th>168</th>\n",
       "      <th>169</th>\n",
       "    </tr>\n",
       "  </thead>\n",
       "  <tbody>\n",
       "    <tr>\n",
       "      <th>0</th>\n",
       "      <td>-1.262458</td>\n",
       "      <td>-1.366644</td>\n",
       "      <td>-1.006291</td>\n",
       "      <td>-0.160180</td>\n",
       "      <td>-0.685798</td>\n",
       "      <td>-1.786472</td>\n",
       "      <td>-0.222555</td>\n",
       "      <td>-0.002131</td>\n",
       "      <td>-0.139836</td>\n",
       "      <td>0.014822</td>\n",
       "      <td>...</td>\n",
       "      <td>0.032164</td>\n",
       "      <td>-0.108730</td>\n",
       "      <td>0.048029</td>\n",
       "      <td>0.092055</td>\n",
       "      <td>0.142903</td>\n",
       "      <td>-0.167326</td>\n",
       "      <td>-0.045630</td>\n",
       "      <td>-0.116774</td>\n",
       "      <td>-0.007438</td>\n",
       "      <td>0.001932</td>\n",
       "    </tr>\n",
       "    <tr>\n",
       "      <th>1</th>\n",
       "      <td>-1.818264</td>\n",
       "      <td>1.294131</td>\n",
       "      <td>-0.934025</td>\n",
       "      <td>1.881508</td>\n",
       "      <td>-0.144415</td>\n",
       "      <td>1.416541</td>\n",
       "      <td>-0.174874</td>\n",
       "      <td>-0.295500</td>\n",
       "      <td>-1.436023</td>\n",
       "      <td>-0.253875</td>\n",
       "      <td>...</td>\n",
       "      <td>0.055808</td>\n",
       "      <td>-0.182872</td>\n",
       "      <td>0.025936</td>\n",
       "      <td>-0.151042</td>\n",
       "      <td>0.349888</td>\n",
       "      <td>0.274372</td>\n",
       "      <td>0.041775</td>\n",
       "      <td>-0.157690</td>\n",
       "      <td>-0.193403</td>\n",
       "      <td>0.009808</td>\n",
       "    </tr>\n",
       "    <tr>\n",
       "      <th>2</th>\n",
       "      <td>-0.075750</td>\n",
       "      <td>-0.000964</td>\n",
       "      <td>-0.644911</td>\n",
       "      <td>1.109457</td>\n",
       "      <td>-0.623964</td>\n",
       "      <td>1.244952</td>\n",
       "      <td>1.331270</td>\n",
       "      <td>1.253994</td>\n",
       "      <td>1.188159</td>\n",
       "      <td>-0.994766</td>\n",
       "      <td>...</td>\n",
       "      <td>0.110362</td>\n",
       "      <td>-0.209966</td>\n",
       "      <td>-0.399512</td>\n",
       "      <td>-0.038592</td>\n",
       "      <td>0.312399</td>\n",
       "      <td>0.184343</td>\n",
       "      <td>0.051100</td>\n",
       "      <td>-0.063449</td>\n",
       "      <td>-0.123997</td>\n",
       "      <td>-0.003097</td>\n",
       "    </tr>\n",
       "    <tr>\n",
       "      <th>3</th>\n",
       "      <td>1.389092</td>\n",
       "      <td>-1.922397</td>\n",
       "      <td>-0.563339</td>\n",
       "      <td>0.414488</td>\n",
       "      <td>-0.119979</td>\n",
       "      <td>0.977940</td>\n",
       "      <td>-0.201678</td>\n",
       "      <td>0.036096</td>\n",
       "      <td>-0.346882</td>\n",
       "      <td>0.597050</td>\n",
       "      <td>...</td>\n",
       "      <td>-0.262175</td>\n",
       "      <td>0.065937</td>\n",
       "      <td>-0.002464</td>\n",
       "      <td>0.011603</td>\n",
       "      <td>0.160104</td>\n",
       "      <td>-0.091568</td>\n",
       "      <td>0.174741</td>\n",
       "      <td>-0.073589</td>\n",
       "      <td>-0.122319</td>\n",
       "      <td>0.018119</td>\n",
       "    </tr>\n",
       "    <tr>\n",
       "      <th>4</th>\n",
       "      <td>1.733425</td>\n",
       "      <td>1.931019</td>\n",
       "      <td>1.698991</td>\n",
       "      <td>0.385329</td>\n",
       "      <td>0.451856</td>\n",
       "      <td>-1.164693</td>\n",
       "      <td>-0.902004</td>\n",
       "      <td>0.589805</td>\n",
       "      <td>0.523459</td>\n",
       "      <td>0.683344</td>\n",
       "      <td>...</td>\n",
       "      <td>0.143684</td>\n",
       "      <td>0.557090</td>\n",
       "      <td>-0.225955</td>\n",
       "      <td>0.002856</td>\n",
       "      <td>-0.029614</td>\n",
       "      <td>0.014103</td>\n",
       "      <td>0.233657</td>\n",
       "      <td>-0.011296</td>\n",
       "      <td>-0.403514</td>\n",
       "      <td>-0.258973</td>\n",
       "    </tr>\n",
       "  </tbody>\n",
       "</table>\n",
       "<p>5 rows × 170 columns</p>\n",
       "</div>"
      ],
      "text/plain": [
       "          0         1         2         3         4         5         6  \\\n",
       "0 -1.262458 -1.366644 -1.006291 -0.160180 -0.685798 -1.786472 -0.222555   \n",
       "1 -1.818264  1.294131 -0.934025  1.881508 -0.144415  1.416541 -0.174874   \n",
       "2 -0.075750 -0.000964 -0.644911  1.109457 -0.623964  1.244952  1.331270   \n",
       "3  1.389092 -1.922397 -0.563339  0.414488 -0.119979  0.977940 -0.201678   \n",
       "4  1.733425  1.931019  1.698991  0.385329  0.451856 -1.164693 -0.902004   \n",
       "\n",
       "          7         8         9  ...       160       161       162       163  \\\n",
       "0 -0.002131 -0.139836  0.014822  ...  0.032164 -0.108730  0.048029  0.092055   \n",
       "1 -0.295500 -1.436023 -0.253875  ...  0.055808 -0.182872  0.025936 -0.151042   \n",
       "2  1.253994  1.188159 -0.994766  ...  0.110362 -0.209966 -0.399512 -0.038592   \n",
       "3  0.036096 -0.346882  0.597050  ... -0.262175  0.065937 -0.002464  0.011603   \n",
       "4  0.589805  0.523459  0.683344  ...  0.143684  0.557090 -0.225955  0.002856   \n",
       "\n",
       "        164       165       166       167       168       169  \n",
       "0  0.142903 -0.167326 -0.045630 -0.116774 -0.007438  0.001932  \n",
       "1  0.349888  0.274372  0.041775 -0.157690 -0.193403  0.009808  \n",
       "2  0.312399  0.184343  0.051100 -0.063449 -0.123997 -0.003097  \n",
       "3  0.160104 -0.091568  0.174741 -0.073589 -0.122319  0.018119  \n",
       "4 -0.029614  0.014103  0.233657 -0.011296 -0.403514 -0.258973  \n",
       "\n",
       "[5 rows x 170 columns]"
      ]
     },
     "execution_count": 88,
     "metadata": {},
     "output_type": "execute_result"
    }
   ],
   "source": [
    "azdias.head()"
   ]
  },
  {
   "cell_type": "code",
   "execution_count": 89,
   "metadata": {},
   "outputs": [
    {
     "data": {
      "text/html": [
       "<div>\n",
       "<style scoped>\n",
       "    .dataframe tbody tr th:only-of-type {\n",
       "        vertical-align: middle;\n",
       "    }\n",
       "\n",
       "    .dataframe tbody tr th {\n",
       "        vertical-align: top;\n",
       "    }\n",
       "\n",
       "    .dataframe thead th {\n",
       "        text-align: right;\n",
       "    }\n",
       "</style>\n",
       "<table border=\"1\" class=\"dataframe\">\n",
       "  <thead>\n",
       "    <tr style=\"text-align: right;\">\n",
       "      <th></th>\n",
       "      <th>0</th>\n",
       "      <th>1</th>\n",
       "      <th>2</th>\n",
       "      <th>3</th>\n",
       "      <th>4</th>\n",
       "      <th>5</th>\n",
       "      <th>6</th>\n",
       "      <th>7</th>\n",
       "      <th>8</th>\n",
       "      <th>9</th>\n",
       "      <th>...</th>\n",
       "      <th>160</th>\n",
       "      <th>161</th>\n",
       "      <th>162</th>\n",
       "      <th>163</th>\n",
       "      <th>164</th>\n",
       "      <th>165</th>\n",
       "      <th>166</th>\n",
       "      <th>167</th>\n",
       "      <th>168</th>\n",
       "      <th>169</th>\n",
       "    </tr>\n",
       "  </thead>\n",
       "  <tbody>\n",
       "    <tr>\n",
       "      <th>0</th>\n",
       "      <td>2.577022</td>\n",
       "      <td>-2.212057</td>\n",
       "      <td>0.462295</td>\n",
       "      <td>1.171006</td>\n",
       "      <td>1.143311</td>\n",
       "      <td>0.028992</td>\n",
       "      <td>-0.314259</td>\n",
       "      <td>0.064057</td>\n",
       "      <td>0.307384</td>\n",
       "      <td>0.053282</td>\n",
       "      <td>...</td>\n",
       "      <td>0.078965</td>\n",
       "      <td>-0.351656</td>\n",
       "      <td>-0.193473</td>\n",
       "      <td>0.239393</td>\n",
       "      <td>0.295806</td>\n",
       "      <td>0.139963</td>\n",
       "      <td>-0.077457</td>\n",
       "      <td>0.442067</td>\n",
       "      <td>-0.021039</td>\n",
       "      <td>-0.021996</td>\n",
       "    </tr>\n",
       "    <tr>\n",
       "      <th>1</th>\n",
       "      <td>0.989375</td>\n",
       "      <td>-1.640664</td>\n",
       "      <td>0.287764</td>\n",
       "      <td>-0.124600</td>\n",
       "      <td>0.700622</td>\n",
       "      <td>-0.593600</td>\n",
       "      <td>0.100964</td>\n",
       "      <td>0.075785</td>\n",
       "      <td>0.311151</td>\n",
       "      <td>-0.004399</td>\n",
       "      <td>...</td>\n",
       "      <td>-0.135936</td>\n",
       "      <td>0.017130</td>\n",
       "      <td>-0.151628</td>\n",
       "      <td>0.134525</td>\n",
       "      <td>-0.235417</td>\n",
       "      <td>0.080205</td>\n",
       "      <td>0.020255</td>\n",
       "      <td>0.003939</td>\n",
       "      <td>0.058762</td>\n",
       "      <td>0.109880</td>\n",
       "    </tr>\n",
       "    <tr>\n",
       "      <th>2</th>\n",
       "      <td>0.033198</td>\n",
       "      <td>-1.966991</td>\n",
       "      <td>1.465943</td>\n",
       "      <td>0.840923</td>\n",
       "      <td>-0.812315</td>\n",
       "      <td>-0.137798</td>\n",
       "      <td>-0.579536</td>\n",
       "      <td>-1.161128</td>\n",
       "      <td>0.772321</td>\n",
       "      <td>1.658540</td>\n",
       "      <td>...</td>\n",
       "      <td>0.061411</td>\n",
       "      <td>0.158659</td>\n",
       "      <td>-0.489255</td>\n",
       "      <td>0.076911</td>\n",
       "      <td>0.132329</td>\n",
       "      <td>0.008967</td>\n",
       "      <td>0.190309</td>\n",
       "      <td>0.076749</td>\n",
       "      <td>0.412575</td>\n",
       "      <td>-0.093849</td>\n",
       "    </tr>\n",
       "    <tr>\n",
       "      <th>3</th>\n",
       "      <td>1.736152</td>\n",
       "      <td>-1.972577</td>\n",
       "      <td>0.183831</td>\n",
       "      <td>-0.672838</td>\n",
       "      <td>1.073929</td>\n",
       "      <td>-0.081035</td>\n",
       "      <td>0.344026</td>\n",
       "      <td>1.205592</td>\n",
       "      <td>-0.547860</td>\n",
       "      <td>0.579584</td>\n",
       "      <td>...</td>\n",
       "      <td>0.018531</td>\n",
       "      <td>0.100700</td>\n",
       "      <td>-0.211837</td>\n",
       "      <td>0.109875</td>\n",
       "      <td>0.191734</td>\n",
       "      <td>0.308058</td>\n",
       "      <td>-0.073221</td>\n",
       "      <td>0.110874</td>\n",
       "      <td>0.252127</td>\n",
       "      <td>-0.415366</td>\n",
       "    </tr>\n",
       "    <tr>\n",
       "      <th>4</th>\n",
       "      <td>0.925881</td>\n",
       "      <td>2.114115</td>\n",
       "      <td>1.114241</td>\n",
       "      <td>-0.758067</td>\n",
       "      <td>-0.008408</td>\n",
       "      <td>-1.182272</td>\n",
       "      <td>-1.538029</td>\n",
       "      <td>0.070950</td>\n",
       "      <td>0.110402</td>\n",
       "      <td>-0.394982</td>\n",
       "      <td>...</td>\n",
       "      <td>-0.120179</td>\n",
       "      <td>-0.104908</td>\n",
       "      <td>0.510133</td>\n",
       "      <td>0.348640</td>\n",
       "      <td>0.067688</td>\n",
       "      <td>-0.130623</td>\n",
       "      <td>-0.089777</td>\n",
       "      <td>0.242518</td>\n",
       "      <td>-0.145946</td>\n",
       "      <td>-0.154391</td>\n",
       "    </tr>\n",
       "  </tbody>\n",
       "</table>\n",
       "<p>5 rows × 170 columns</p>\n",
       "</div>"
      ],
      "text/plain": [
       "          0         1         2         3         4         5         6  \\\n",
       "0  2.577022 -2.212057  0.462295  1.171006  1.143311  0.028992 -0.314259   \n",
       "1  0.989375 -1.640664  0.287764 -0.124600  0.700622 -0.593600  0.100964   \n",
       "2  0.033198 -1.966991  1.465943  0.840923 -0.812315 -0.137798 -0.579536   \n",
       "3  1.736152 -1.972577  0.183831 -0.672838  1.073929 -0.081035  0.344026   \n",
       "4  0.925881  2.114115  1.114241 -0.758067 -0.008408 -1.182272 -1.538029   \n",
       "\n",
       "          7         8         9  ...       160       161       162       163  \\\n",
       "0  0.064057  0.307384  0.053282  ...  0.078965 -0.351656 -0.193473  0.239393   \n",
       "1  0.075785  0.311151 -0.004399  ... -0.135936  0.017130 -0.151628  0.134525   \n",
       "2 -1.161128  0.772321  1.658540  ...  0.061411  0.158659 -0.489255  0.076911   \n",
       "3  1.205592 -0.547860  0.579584  ...  0.018531  0.100700 -0.211837  0.109875   \n",
       "4  0.070950  0.110402 -0.394982  ... -0.120179 -0.104908  0.510133  0.348640   \n",
       "\n",
       "        164       165       166       167       168       169  \n",
       "0  0.295806  0.139963 -0.077457  0.442067 -0.021039 -0.021996  \n",
       "1 -0.235417  0.080205  0.020255  0.003939  0.058762  0.109880  \n",
       "2  0.132329  0.008967  0.190309  0.076749  0.412575 -0.093849  \n",
       "3  0.191734  0.308058 -0.073221  0.110874  0.252127 -0.415366  \n",
       "4  0.067688 -0.130623 -0.089777  0.242518 -0.145946 -0.154391  \n",
       "\n",
       "[5 rows x 170 columns]"
      ]
     },
     "execution_count": 89,
     "metadata": {},
     "output_type": "execute_result"
    }
   ],
   "source": [
    "customers.head()"
   ]
  },
  {
   "cell_type": "code",
   "execution_count": 5,
   "metadata": {},
   "outputs": [],
   "source": [
    "#apply kmenas clustering method for the dataset\n",
    "from sklearn.cluster import KMeans\n",
    "\n",
    "cluster_model = KMeans(n_clusters=8).fit(azdias)  #selected cluster size is 8\n",
    "azdias_cluster = cluster_model.predict(azdias)\n",
    "customers_cluster = cluster_model.predict(customers)"
   ]
  },
  {
   "cell_type": "code",
   "execution_count": 15,
   "metadata": {},
   "outputs": [
    {
     "name": "stdout",
     "output_type": "stream",
     "text": [
      "[0, 1, 2, 3, 4, 5, 6, 7]\n",
      "[113796, 138696, 80430, 142829, 124920, 126792, 85754, 78004]\n"
     ]
    }
   ],
   "source": [
    "#get the azdias cluster points count\n",
    "unique, azdias_counts = np.unique(azdias_cluster, return_counts=True)\n",
    "print(unique)\n",
    "print(azdias_counts)"
   ]
  },
  {
   "cell_type": "code",
   "execution_count": 11,
   "metadata": {},
   "outputs": [
    {
     "name": "stdout",
     "output_type": "stream",
     "text": [
      "[0 1 2 3 4 5 6 7]\n",
      "[ 1684  2047 42066 40090 41030 18226  5425 41084]\n"
     ]
    }
   ],
   "source": [
    "#get the custoemrs cluster points count\n",
    "unique2, customers_counts = np.unique(customers_cluster, return_counts=True)\n",
    "print(unique2)\n",
    "print(customers_counts)"
   ]
  },
  {
   "cell_type": "code",
   "execution_count": 25,
   "metadata": {},
   "outputs": [
    {
     "data": {
      "image/png": "[encoded data removed]",
      "text/plain": [
       "<Figure size 432x288 with 1 Axes>"
      ]
     },
     "metadata": {
      "needs_background": "light"
     },
     "output_type": "display_data"
    }
   ],
   "source": [
    "#plot graph\n",
    "\n",
    "x = np.arange(len(unique))  # the label locations\n",
    "width = 0.35  # the width of the bars\n",
    "\n",
    "cluster_fig, cluster_ax = plt.subplots()\n",
    "chart1 = cluster_ax.bar(x - width/2, azdias_counts/azdias_counts.sum(), width, label='General Population')\n",
    "chart2 = cluster_ax.bar(x + width/2, customers_counts/customers_counts.sum(), width, label='Cutomers')\n",
    "\n",
    "# Add some text for labels, title and custom x-axis tick labels, etc.\n",
    "cluster_ax.set_ylabel('Portion of people')\n",
    "cluster_ax.set_title('Cluster segementation for General population and Cutomers')\n",
    "cluster_ax.set_xlabel('Cluster Number')\n",
    "cluster_ax.set_xticks(x)\n",
    "cluster_ax.set_xticklabels(unique)\n",
    "cluster_ax.legend()\n",
    "cluster_fig.tight_layout()\n",
    "\n",
    "plt.show()"
   ]
  },
  {
   "cell_type": "code",
   "execution_count": 41,
   "metadata": {},
   "outputs": [
    {
     "data": {
      "image/png": "[encoded data removed]",
      "text/plain": [
       "<Figure size 432x288 with 1 Axes>"
      ]
     },
     "metadata": {
      "needs_background": "light"
     },
     "output_type": "display_data"
    }
   ],
   "source": [
    "#plot the ratio for each cluster grph\n",
    "\n",
    "cluster_ratio = (customers_counts/customers_counts.sum())/(azdias_counts/azdias_counts.sum()) #caluclate the ratio\n",
    "\n",
    "ratio_chart = plt.bar(x, cluster_ratio,width)\n",
    "plt.ylabel('Portion of people')\n",
    "plt.title('Cluster segementation for General population and Cutomers')\n",
    "plt.xlabel('Cluster Number')\n",
    "plt.hlines(y=1, xmin=-0.5, xmax=7.5, colors='r',linestyles='dashed')\n",
    "plt.xticks(x)\n",
    "plt.show()"
   ]
  },
  {
   "cell_type": "code",
   "execution_count": null,
   "metadata": {},
   "outputs": [],
   "source": []
  },
  {
   "cell_type": "code",
   "execution_count": null,
   "metadata": {},
   "outputs": [],
   "source": []
  },
  {
   "cell_type": "markdown",
   "metadata": {},
   "source": [
    "## Part 2: Supervised Learning Model\n",
    "\n",
    "Now that you've found which parts of the population are more likely to be customers of the mail-order company, it's time to build a prediction model. Each of the rows in the \"MAILOUT\" data files represents an individual that was targeted for a mailout campaign. Ideally, we should be able to use the demographic information from each individual to decide whether or not it will be worth it to include that person in the campaign.\n",
    "\n",
    "The \"MAILOUT\" data has been split into two approximately equal parts, each with almost 43 000 data rows. In this part, you can verify your model with the \"TRAIN\" partition, which includes a column, \"RESPONSE\", that states whether or not a person became a customer of the company following the campaign. In the next part, you'll need to create predictions on the \"TEST\" partition, where the \"RESPONSE\" column has been withheld."
   ]
  },
  {
   "cell_type": "code",
   "execution_count": null,
   "metadata": {},
   "outputs": [],
   "source": [
    "# mailout_train = pd.read_csv('../../data/Term2/capstone/arvato_data/Udacity_MAILOUT_052018_TRAIN.csv', sep=';')"
   ]
  },
  {
   "cell_type": "code",
   "execution_count": 90,
   "metadata": {},
   "outputs": [
    {
     "name": "stderr",
     "output_type": "stream",
     "text": [
      "/mnt/d/ML_venv/ML_basic_venv/lib/python3.8/site-packages/IPython/core/interactiveshell.py:3071: DtypeWarning: Columns (18,19) have mixed types.Specify dtype option on import or set low_memory=False.\n",
      "  has_raised = await self.run_ast_nodes(code_ast.body, cell_name,\n"
     ]
    }
   ],
   "source": [
    "#open the file - delete file later\n",
    "mailout_train = pd.read_csv(\"mailout_train.gzip\",compression='gzip')\n"
   ]
  },
  {
   "cell_type": "code",
   "execution_count": 91,
   "metadata": {},
   "outputs": [
    {
     "data": {
      "text/html": [
       "<div>\n",
       "<style scoped>\n",
       "    .dataframe tbody tr th:only-of-type {\n",
       "        vertical-align: middle;\n",
       "    }\n",
       "\n",
       "    .dataframe tbody tr th {\n",
       "        vertical-align: top;\n",
       "    }\n",
       "\n",
       "    .dataframe thead th {\n",
       "        text-align: right;\n",
       "    }\n",
       "</style>\n",
       "<table border=\"1\" class=\"dataframe\">\n",
       "  <thead>\n",
       "    <tr style=\"text-align: right;\">\n",
       "      <th></th>\n",
       "      <th>LNR</th>\n",
       "      <th>AGER_TYP</th>\n",
       "      <th>AKT_DAT_KL</th>\n",
       "      <th>ALTER_HH</th>\n",
       "      <th>ALTER_KIND1</th>\n",
       "      <th>ALTER_KIND2</th>\n",
       "      <th>ALTER_KIND3</th>\n",
       "      <th>ALTER_KIND4</th>\n",
       "      <th>ALTERSKATEGORIE_FEIN</th>\n",
       "      <th>ANZ_HAUSHALTE_AKTIV</th>\n",
       "      <th>...</th>\n",
       "      <th>VK_DHT4A</th>\n",
       "      <th>VK_DISTANZ</th>\n",
       "      <th>VK_ZG11</th>\n",
       "      <th>W_KEIT_KIND_HH</th>\n",
       "      <th>WOHNDAUER_2008</th>\n",
       "      <th>WOHNLAGE</th>\n",
       "      <th>ZABEOTYP</th>\n",
       "      <th>RESPONSE</th>\n",
       "      <th>ANREDE_KZ</th>\n",
       "      <th>ALTERSKATEGORIE_GROB</th>\n",
       "    </tr>\n",
       "  </thead>\n",
       "  <tbody>\n",
       "    <tr>\n",
       "      <th>0</th>\n",
       "      <td>1763</td>\n",
       "      <td>2.0</td>\n",
       "      <td>1.0</td>\n",
       "      <td>8.0</td>\n",
       "      <td>NaN</td>\n",
       "      <td>NaN</td>\n",
       "      <td>NaN</td>\n",
       "      <td>NaN</td>\n",
       "      <td>8.0</td>\n",
       "      <td>15.0</td>\n",
       "      <td>...</td>\n",
       "      <td>5.0</td>\n",
       "      <td>2.0</td>\n",
       "      <td>1.0</td>\n",
       "      <td>6.0</td>\n",
       "      <td>9.0</td>\n",
       "      <td>3.0</td>\n",
       "      <td>3</td>\n",
       "      <td>0</td>\n",
       "      <td>2</td>\n",
       "      <td>4</td>\n",
       "    </tr>\n",
       "    <tr>\n",
       "      <th>1</th>\n",
       "      <td>1771</td>\n",
       "      <td>1.0</td>\n",
       "      <td>4.0</td>\n",
       "      <td>13.0</td>\n",
       "      <td>NaN</td>\n",
       "      <td>NaN</td>\n",
       "      <td>NaN</td>\n",
       "      <td>NaN</td>\n",
       "      <td>13.0</td>\n",
       "      <td>1.0</td>\n",
       "      <td>...</td>\n",
       "      <td>1.0</td>\n",
       "      <td>2.0</td>\n",
       "      <td>1.0</td>\n",
       "      <td>4.0</td>\n",
       "      <td>9.0</td>\n",
       "      <td>7.0</td>\n",
       "      <td>1</td>\n",
       "      <td>0</td>\n",
       "      <td>2</td>\n",
       "      <td>3</td>\n",
       "    </tr>\n",
       "    <tr>\n",
       "      <th>2</th>\n",
       "      <td>1776</td>\n",
       "      <td>1.0</td>\n",
       "      <td>1.0</td>\n",
       "      <td>9.0</td>\n",
       "      <td>NaN</td>\n",
       "      <td>NaN</td>\n",
       "      <td>NaN</td>\n",
       "      <td>NaN</td>\n",
       "      <td>7.0</td>\n",
       "      <td>0.0</td>\n",
       "      <td>...</td>\n",
       "      <td>6.0</td>\n",
       "      <td>4.0</td>\n",
       "      <td>2.0</td>\n",
       "      <td>NaN</td>\n",
       "      <td>9.0</td>\n",
       "      <td>2.0</td>\n",
       "      <td>3</td>\n",
       "      <td>0</td>\n",
       "      <td>1</td>\n",
       "      <td>4</td>\n",
       "    </tr>\n",
       "    <tr>\n",
       "      <th>3</th>\n",
       "      <td>1460</td>\n",
       "      <td>2.0</td>\n",
       "      <td>1.0</td>\n",
       "      <td>6.0</td>\n",
       "      <td>NaN</td>\n",
       "      <td>NaN</td>\n",
       "      <td>NaN</td>\n",
       "      <td>NaN</td>\n",
       "      <td>6.0</td>\n",
       "      <td>4.0</td>\n",
       "      <td>...</td>\n",
       "      <td>8.0</td>\n",
       "      <td>11.0</td>\n",
       "      <td>11.0</td>\n",
       "      <td>6.0</td>\n",
       "      <td>9.0</td>\n",
       "      <td>1.0</td>\n",
       "      <td>3</td>\n",
       "      <td>0</td>\n",
       "      <td>2</td>\n",
       "      <td>4</td>\n",
       "    </tr>\n",
       "    <tr>\n",
       "      <th>4</th>\n",
       "      <td>1783</td>\n",
       "      <td>2.0</td>\n",
       "      <td>1.0</td>\n",
       "      <td>9.0</td>\n",
       "      <td>NaN</td>\n",
       "      <td>NaN</td>\n",
       "      <td>NaN</td>\n",
       "      <td>NaN</td>\n",
       "      <td>9.0</td>\n",
       "      <td>53.0</td>\n",
       "      <td>...</td>\n",
       "      <td>2.0</td>\n",
       "      <td>2.0</td>\n",
       "      <td>1.0</td>\n",
       "      <td>6.0</td>\n",
       "      <td>9.0</td>\n",
       "      <td>3.0</td>\n",
       "      <td>3</td>\n",
       "      <td>0</td>\n",
       "      <td>1</td>\n",
       "      <td>3</td>\n",
       "    </tr>\n",
       "  </tbody>\n",
       "</table>\n",
       "<p>5 rows × 367 columns</p>\n",
       "</div>"
      ],
      "text/plain": [
       "    LNR  AGER_TYP  AKT_DAT_KL  ALTER_HH  ALTER_KIND1  ALTER_KIND2  \\\n",
       "0  1763       2.0         1.0       8.0          NaN          NaN   \n",
       "1  1771       1.0         4.0      13.0          NaN          NaN   \n",
       "2  1776       1.0         1.0       9.0          NaN          NaN   \n",
       "3  1460       2.0         1.0       6.0          NaN          NaN   \n",
       "4  1783       2.0         1.0       9.0          NaN          NaN   \n",
       "\n",
       "   ALTER_KIND3  ALTER_KIND4  ALTERSKATEGORIE_FEIN  ANZ_HAUSHALTE_AKTIV  ...  \\\n",
       "0          NaN          NaN                   8.0                 15.0  ...   \n",
       "1          NaN          NaN                  13.0                  1.0  ...   \n",
       "2          NaN          NaN                   7.0                  0.0  ...   \n",
       "3          NaN          NaN                   6.0                  4.0  ...   \n",
       "4          NaN          NaN                   9.0                 53.0  ...   \n",
       "\n",
       "   VK_DHT4A  VK_DISTANZ  VK_ZG11  W_KEIT_KIND_HH  WOHNDAUER_2008  WOHNLAGE  \\\n",
       "0       5.0         2.0      1.0             6.0             9.0       3.0   \n",
       "1       1.0         2.0      1.0             4.0             9.0       7.0   \n",
       "2       6.0         4.0      2.0             NaN             9.0       2.0   \n",
       "3       8.0        11.0     11.0             6.0             9.0       1.0   \n",
       "4       2.0         2.0      1.0             6.0             9.0       3.0   \n",
       "\n",
       "   ZABEOTYP RESPONSE ANREDE_KZ ALTERSKATEGORIE_GROB  \n",
       "0         3        0         2                    4  \n",
       "1         1        0         2                    3  \n",
       "2         3        0         1                    4  \n",
       "3         3        0         2                    4  \n",
       "4         3        0         1                    3  \n",
       "\n",
       "[5 rows x 367 columns]"
      ]
     },
     "execution_count": 91,
     "metadata": {},
     "output_type": "execute_result"
    }
   ],
   "source": [
    "mailout_train.head()"
   ]
  },
  {
   "cell_type": "code",
   "execution_count": 108,
   "metadata": {},
   "outputs": [
    {
     "data": {
      "image/png": "[encoded data removed]",
      "text/plain": [
       "<Figure size 1008x576 with 2 Axes>"
      ]
     },
     "metadata": {
      "needs_background": "light"
     },
     "output_type": "display_data"
    }
   ],
   "source": [
    "data_list2 = [mailout_train, mailout_test]\n",
    "data_titles2 = ['mailout_train', 'mailout_test']\n",
    "plot_missingvalues_percentage(data_list2, 0.3, data_titles2)\n"
   ]
  },
  {
   "cell_type": "code",
   "execution_count": 46,
   "metadata": {},
   "outputs": [],
   "source": [
    "#drop columns with more than 40% missing values--- in the cluster case change it to 40 instead of 50\n",
    "drop_mailout = ['AGER_TYP', 'ALTER_KIND1', 'ALTER_KIND2', 'ALTER_KIND3', 'ALTER_KIND4', 'KBA05_BAUMAX', 'KK_KUNDENTYP', 'TITEL_KZ']\n",
    "\n",
    "# Remove EXTSEL992 - no discription given and large data group\n",
    "mailout_train.drop(columns= drop_mailout, inplace=True)\n",
    "mailout_test.drop(columns= drop_mailout, inplace=True)\n"
   ]
  },
  {
   "cell_type": "code",
   "execution_count": null,
   "metadata": {},
   "outputs": [],
   "source": []
  },
  {
   "cell_type": "code",
   "execution_count": 47,
   "metadata": {},
   "outputs": [
    {
     "name": "stdout",
     "output_type": "stream",
     "text": [
      "(42962, 359)\n",
      "(42833, 358)\n"
     ]
    }
   ],
   "source": [
    "print(mailout_train.shape)\n",
    "print(mailout_test.shape)"
   ]
  },
  {
   "cell_type": "code",
   "execution_count": 51,
   "metadata": {},
   "outputs": [
    {
     "data": {
      "text/plain": [
       "Index(['CAMEO_DEU_2015', 'CAMEO_DEUG_2015', 'CAMEO_INTL_2015',\n",
       "       'D19_LETZTER_KAUF_BRANCHE', 'EINGEFUEGT_AM', 'OST_WEST_KZ'],\n",
       "      dtype='object')"
      ]
     },
     "execution_count": 51,
     "metadata": {},
     "output_type": "execute_result"
    }
   ],
   "source": [
    "obj_list = mailout_train.select_dtypes(include='object').columns\n",
    "obj_list"
   ]
  },
  {
   "cell_type": "code",
   "execution_count": 50,
   "metadata": {},
   "outputs": [
    {
     "data": {
      "text/plain": [
       "Index(['CAMEO_DEU_2015', 'CAMEO_DEUG_2015', 'CAMEO_INTL_2015',\n",
       "       'D19_LETZTER_KAUF_BRANCHE', 'EINGEFUEGT_AM', 'OST_WEST_KZ'],\n",
       "      dtype='object')"
      ]
     },
     "execution_count": 50,
     "metadata": {},
     "output_type": "execute_result"
    }
   ],
   "source": [
    "obj_list2 = mailout_test.select_dtypes(include='object').columns\n",
    "obj_list2"
   ]
  },
  {
   "cell_type": "code",
   "execution_count": 53,
   "metadata": {},
   "outputs": [
    {
     "name": "stdout",
     "output_type": "stream",
     "text": [
      "<class 'pandas.core.frame.DataFrame'>\n",
      "RangeIndex: 42962 entries, 0 to 42961\n",
      "Columns: 359 entries, LNR to ALTERSKATEGORIE_GROB\n",
      "dtypes: float64(265), int64(88), object(6)\n",
      "memory usage: 117.7+ MB\n"
     ]
    }
   ],
   "source": [
    "mailout_train.info()"
   ]
  },
  {
   "cell_type": "code",
   "execution_count": 54,
   "metadata": {},
   "outputs": [
    {
     "name": "stdout",
     "output_type": "stream",
     "text": [
      "<class 'pandas.core.frame.DataFrame'>\n",
      "RangeIndex: 42833 entries, 0 to 42832\n",
      "Columns: 358 entries, LNR to ALTERSKATEGORIE_GROB\n",
      "dtypes: float64(265), int64(87), object(6)\n",
      "memory usage: 117.0+ MB\n"
     ]
    }
   ],
   "source": [
    "mailout_test.info()"
   ]
  },
  {
   "cell_type": "code",
   "execution_count": 55,
   "metadata": {},
   "outputs": [],
   "source": [
    "convertobjects(mailout_train)\n",
    "convertobjects(mailout_test)"
   ]
  },
  {
   "cell_type": "code",
   "execution_count": 59,
   "metadata": {},
   "outputs": [],
   "source": [
    "#drop the object dtype columns\n",
    "object_dtype_drop = ['CAMEO_DEU_2015', 'CAMEO_DEUG_2015', 'CAMEO_INTL_2015', 'D19_LETZTER_KAUF_BRANCHE', 'EINGEFUEGT_AM']\n",
    "mailout_train.drop(columns= object_dtype_drop, inplace=True)\n",
    "mailout_test.drop(columns= object_dtype_drop, inplace=True)"
   ]
  },
  {
   "cell_type": "code",
   "execution_count": 60,
   "metadata": {},
   "outputs": [
    {
     "name": "stdout",
     "output_type": "stream",
     "text": [
      "<class 'pandas.core.frame.DataFrame'>\n",
      "RangeIndex: 42962 entries, 0 to 42961\n",
      "Columns: 357 entries, LNR to CAMEO_INTL_2015_2\n",
      "dtypes: float64(269), int64(88)\n",
      "memory usage: 117.0 MB\n"
     ]
    }
   ],
   "source": [
    "mailout_train.info()"
   ]
  },
  {
   "cell_type": "code",
   "execution_count": 61,
   "metadata": {},
   "outputs": [
    {
     "name": "stdout",
     "output_type": "stream",
     "text": [
      "<class 'pandas.core.frame.DataFrame'>\n",
      "RangeIndex: 42833 entries, 0 to 42832\n",
      "Columns: 356 entries, LNR to CAMEO_INTL_2015_2\n",
      "dtypes: float64(269), int64(87)\n",
      "memory usage: 116.3 MB\n"
     ]
    }
   ],
   "source": [
    "mailout_test.info()"
   ]
  },
  {
   "cell_type": "code",
   "execution_count": 67,
   "metadata": {},
   "outputs": [],
   "source": [
    "big_cat_columns2 = []\n",
    "for columns in mailout_train.columns:\n",
    "    groups = mailout_train[columns].nunique()\n",
    "#     print('{}  ----  {}'.format(columns, groups))\n",
    "    if groups >=15:\n",
    "        big_cat_columns2.append(columns)   #list of columns with more than 15 unique data. \n",
    "        "
   ]
  },
  {
   "cell_type": "code",
   "execution_count": 68,
   "metadata": {},
   "outputs": [
    {
     "data": {
      "text/plain": [
       "['LNR',\n",
       " 'ALTER_HH',\n",
       " 'ALTERSKATEGORIE_FEIN',\n",
       " 'ANZ_HAUSHALTE_AKTIV',\n",
       " 'ANZ_HH_TITEL',\n",
       " 'ANZ_STATISTISCHE_HAUSHALTE',\n",
       " 'EINGEZOGENAM_HH_JAHR',\n",
       " 'EXTSEL992',\n",
       " 'GEBURTSJAHR',\n",
       " 'KBA13_ANZAHL_PKW',\n",
       " 'LP_LEBENSPHASE_FEIN',\n",
       " 'MIN_GEBAEUDEJAHR',\n",
       " 'PRAEGENDE_JUGENDJAHRE',\n",
       " 'VERDICHTUNGSRAUM']"
      ]
     },
     "execution_count": 68,
     "metadata": {},
     "output_type": "execute_result"
    }
   ],
   "source": [
    "big_cat_columns2  #simialar ro the previous one .. remove the lnr and extsel"
   ]
  },
  {
   "cell_type": "code",
   "execution_count": 64,
   "metadata": {},
   "outputs": [
    {
     "data": {
      "text/plain": [
       "0       17475\n",
       "1941      918\n",
       "1939      871\n",
       "1940      847\n",
       "1938      791\n",
       "        ...  \n",
       "1908        1\n",
       "2003        1\n",
       "2002        1\n",
       "1905        1\n",
       "2000        1\n",
       "Name: GEBURTSJAHR, Length: 108, dtype: int64"
      ]
     },
     "execution_count": 64,
     "metadata": {},
     "output_type": "execute_result"
    }
   ],
   "source": [
    "mailout_train['GEBURTSJAHR'].value_counts()"
   ]
  },
  {
   "cell_type": "code",
   "execution_count": 65,
   "metadata": {},
   "outputs": [],
   "source": [
    "mailout_train['GEBURTSJAHR'].replace(0, np.nan, inplace=True)   #update the null coiumn value\n",
    "mailout_test['GEBURTSJAHR'].replace(0, np.nan, inplace=True)   #update the null coiumn value"
   ]
  },
  {
   "cell_type": "code",
   "execution_count": 72,
   "metadata": {},
   "outputs": [
    {
     "ename": "ValueError",
     "evalue": "Bin edges must be unique: array([ 3.,  8.,  9.,  9., 10., 11., 13., 15., 17., 19., 21.]).\nYou can drop duplicate edges by setting the 'duplicates' kwarg",
     "output_type": "error",
     "traceback": [
      "\u001b[0;31m---------------------------------------------------------------------------\u001b[0m",
      "\u001b[0;31mValueError\u001b[0m                                Traceback (most recent call last)",
      "\u001b[0;32m<ipython-input-72-8017be20df55>\u001b[0m in \u001b[0;36m<module>\u001b[0;34m\u001b[0m\n\u001b[1;32m     11\u001b[0m         \u001b[0mmailout_test\u001b[0m\u001b[0;34m[\u001b[0m\u001b[0mnew_feature\u001b[0m\u001b[0;34m]\u001b[0m \u001b[0;34m=\u001b[0m \u001b[0mpd\u001b[0m\u001b[0;34m.\u001b[0m\u001b[0mcut\u001b[0m\u001b[0;34m(\u001b[0m\u001b[0mmailout_test\u001b[0m\u001b[0;34m[\u001b[0m\u001b[0mfeature\u001b[0m\u001b[0;34m]\u001b[0m\u001b[0;34m,\u001b[0m \u001b[0mbins\u001b[0m\u001b[0;34m,\u001b[0m \u001b[0mlabels\u001b[0m\u001b[0;34m=\u001b[0m\u001b[0mqcut_7_labels\u001b[0m\u001b[0;34m,\u001b[0m \u001b[0minclude_lowest\u001b[0m\u001b[0;34m=\u001b[0m\u001b[0;32mTrue\u001b[0m\u001b[0;34m)\u001b[0m\u001b[0;34m\u001b[0m\u001b[0;34m\u001b[0m\u001b[0m\n\u001b[1;32m     12\u001b[0m     \u001b[0;32melse\u001b[0m\u001b[0;34m:\u001b[0m\u001b[0;34m\u001b[0m\u001b[0;34m\u001b[0m\u001b[0m\n\u001b[0;32m---> 13\u001b[0;31m         \u001b[0mmailout_train\u001b[0m\u001b[0;34m[\u001b[0m\u001b[0mnew_feature\u001b[0m\u001b[0;34m]\u001b[0m\u001b[0;34m,\u001b[0m \u001b[0mbins\u001b[0m \u001b[0;34m=\u001b[0m \u001b[0mpd\u001b[0m\u001b[0;34m.\u001b[0m\u001b[0mqcut\u001b[0m\u001b[0;34m(\u001b[0m\u001b[0mmailout_train\u001b[0m\u001b[0;34m[\u001b[0m\u001b[0mfeature\u001b[0m\u001b[0;34m]\u001b[0m\u001b[0;34m,\u001b[0m \u001b[0mq\u001b[0m\u001b[0;34m=\u001b[0m\u001b[0;36m10\u001b[0m\u001b[0;34m,\u001b[0m\u001b[0mlabels\u001b[0m \u001b[0;34m=\u001b[0m \u001b[0mqcut_10_labels\u001b[0m\u001b[0;34m,\u001b[0m \u001b[0mretbins\u001b[0m\u001b[0;34m=\u001b[0m\u001b[0;32mTrue\u001b[0m\u001b[0;34m)\u001b[0m\u001b[0;34m\u001b[0m\u001b[0;34m\u001b[0m\u001b[0m\n\u001b[0m\u001b[1;32m     14\u001b[0m         \u001b[0mmailout_test\u001b[0m\u001b[0;34m[\u001b[0m\u001b[0mnew_feature\u001b[0m\u001b[0;34m]\u001b[0m \u001b[0;34m=\u001b[0m \u001b[0mpd\u001b[0m\u001b[0;34m.\u001b[0m\u001b[0mcut\u001b[0m\u001b[0;34m(\u001b[0m\u001b[0mmailout_test\u001b[0m\u001b[0;34m[\u001b[0m\u001b[0mfeature\u001b[0m\u001b[0;34m]\u001b[0m\u001b[0;34m,\u001b[0m \u001b[0mbins\u001b[0m\u001b[0;34m,\u001b[0m \u001b[0mlabels\u001b[0m\u001b[0;34m=\u001b[0m\u001b[0mqcut_10_labels\u001b[0m\u001b[0;34m,\u001b[0m \u001b[0minclude_lowest\u001b[0m\u001b[0;34m=\u001b[0m\u001b[0;32mTrue\u001b[0m\u001b[0;34m)\u001b[0m\u001b[0;34m\u001b[0m\u001b[0;34m\u001b[0m\u001b[0m\n",
      "\u001b[0;32m/mnt/d/ML_venv/ML_basic_venv/lib/python3.8/site-packages/pandas/core/reshape/tile.py\u001b[0m in \u001b[0;36mqcut\u001b[0;34m(x, q, labels, retbins, precision, duplicates)\u001b[0m\n\u001b[1;32m    339\u001b[0m         \u001b[0mquantiles\u001b[0m \u001b[0;34m=\u001b[0m \u001b[0mq\u001b[0m\u001b[0;34m\u001b[0m\u001b[0;34m\u001b[0m\u001b[0m\n\u001b[1;32m    340\u001b[0m     \u001b[0mbins\u001b[0m \u001b[0;34m=\u001b[0m \u001b[0malgos\u001b[0m\u001b[0;34m.\u001b[0m\u001b[0mquantile\u001b[0m\u001b[0;34m(\u001b[0m\u001b[0mx\u001b[0m\u001b[0;34m,\u001b[0m \u001b[0mquantiles\u001b[0m\u001b[0;34m)\u001b[0m\u001b[0;34m\u001b[0m\u001b[0;34m\u001b[0m\u001b[0m\n\u001b[0;32m--> 341\u001b[0;31m     fac, bins = _bins_to_cuts(\n\u001b[0m\u001b[1;32m    342\u001b[0m         \u001b[0mx\u001b[0m\u001b[0;34m,\u001b[0m\u001b[0;34m\u001b[0m\u001b[0;34m\u001b[0m\u001b[0m\n\u001b[1;32m    343\u001b[0m         \u001b[0mbins\u001b[0m\u001b[0;34m,\u001b[0m\u001b[0;34m\u001b[0m\u001b[0;34m\u001b[0m\u001b[0m\n",
      "\u001b[0;32m/mnt/d/ML_venv/ML_basic_venv/lib/python3.8/site-packages/pandas/core/reshape/tile.py\u001b[0m in \u001b[0;36m_bins_to_cuts\u001b[0;34m(x, bins, right, labels, precision, include_lowest, dtype, duplicates)\u001b[0m\n\u001b[1;32m    378\u001b[0m     \u001b[0;32mif\u001b[0m \u001b[0mlen\u001b[0m\u001b[0;34m(\u001b[0m\u001b[0munique_bins\u001b[0m\u001b[0;34m)\u001b[0m \u001b[0;34m<\u001b[0m \u001b[0mlen\u001b[0m\u001b[0;34m(\u001b[0m\u001b[0mbins\u001b[0m\u001b[0;34m)\u001b[0m \u001b[0;32mand\u001b[0m \u001b[0mlen\u001b[0m\u001b[0;34m(\u001b[0m\u001b[0mbins\u001b[0m\u001b[0;34m)\u001b[0m \u001b[0;34m!=\u001b[0m \u001b[0;36m2\u001b[0m\u001b[0;34m:\u001b[0m\u001b[0;34m\u001b[0m\u001b[0;34m\u001b[0m\u001b[0m\n\u001b[1;32m    379\u001b[0m         \u001b[0;32mif\u001b[0m \u001b[0mduplicates\u001b[0m \u001b[0;34m==\u001b[0m \u001b[0;34m\"raise\"\u001b[0m\u001b[0;34m:\u001b[0m\u001b[0;34m\u001b[0m\u001b[0;34m\u001b[0m\u001b[0m\n\u001b[0;32m--> 380\u001b[0;31m             raise ValueError(\n\u001b[0m\u001b[1;32m    381\u001b[0m                 \u001b[0;34mf\"Bin edges must be unique: {repr(bins)}.\\n\"\u001b[0m\u001b[0;34m\u001b[0m\u001b[0;34m\u001b[0m\u001b[0m\n\u001b[1;32m    382\u001b[0m                 \u001b[0;34mf\"You can drop duplicate edges by setting the 'duplicates' kwarg\"\u001b[0m\u001b[0;34m\u001b[0m\u001b[0;34m\u001b[0m\u001b[0m\n",
      "\u001b[0;31mValueError\u001b[0m: Bin edges must be unique: array([ 3.,  8.,  9.,  9., 10., 11., 13., 15., 17., 19., 21.]).\nYou can drop duplicate edges by setting the 'duplicates' kwarg"
     ]
    }
   ],
   "source": [
    "#qcut binning to reclassify big_cat_columns2 \n",
    "qcut_features = ['ALTER_HH','ALTERSKATEGORIE_FEIN', 'EINGEZOGENAM_HH_JAHR','KBA13_ANZAHL_PKW','GEBURTSJAHR','ANZ_HAUSHALTE_AKTIV']\n",
    "qcut_10_labels = [1,2,3,4,5,6,7,8,9,10]\n",
    "qcut_7_labels = [1,2,3,4,5,6,7]\n",
    "\n",
    "for feature in qcut_features:\n",
    "    new_feature = str(feature)+'_2'\n",
    "\n",
    "    if feature == 'ANZ_HAUSHALTE_AKTIV':\n",
    "#         bins = #include from azdias\n",
    "        mailout_train[new_feature] = pd.cut(mailout_test[feature], bins, labels=qcut_7_labels, include_lowest=True)\n",
    "        mailout_test[new_feature] = pd.cut(mailout_test[feature], bins, labels=qcut_7_labels, include_lowest=True)\n",
    "    else:\n",
    "#         bins = #include from azdias\n",
    "        mailout_train[new_feature] = pd.cut(mailout_test[feature], bins, labels=qcut_10_labels, include_lowest=True)\n",
    "        mailout_test[new_feature] = pd.cut(mailout_test[feature], bins, labels=qcut_10_labels, include_lowest=True)"
   ]
  },
  {
   "cell_type": "code",
   "execution_count": 73,
   "metadata": {},
   "outputs": [],
   "source": [
    "#pd cut binning\n",
    "cut_11_labels =  [0,1,2,3,4,5,6,7,8,9,10]\n",
    "mailout_train['ANZ_HH_TITEL_2']= pd.cut(x= mailout_train['ANZ_HH_TITEL'], bins=[-1,0,1,2,3,4,5,6,7,8,9,23], labels = cut_11_labels)\n",
    "mailout_train['ANZ_PERSONEN_2']= pd.cut(x= mailout_train['ANZ_PERSONEN'], bins=[-1,0,1,2,3,4,5,6,7,8,9,46], labels = cut_11_labels)\n",
    "mailout_test['ANZ_HH_TITEL_2']= pd.cut(x= mailout_test['ANZ_HH_TITEL'], bins=[-1,0,1,2,3,4,5,6,7,8,9,23], labels = cut_11_labels)\n",
    "mailout_test['ANZ_PERSONEN_2']= pd.cut(x= mailout_test['ANZ_PERSONEN'], bins=[-1,0,1,2,3,4,5,6,7,8,9,46], labels = cut_11_labels)"
   ]
  },
  {
   "cell_type": "code",
   "execution_count": 74,
   "metadata": {},
   "outputs": [],
   "source": [
    "#fix the qcut before running\n",
    "\n",
    "\n",
    "#drop big_cat_columns2 from the dfs\n",
    "mailout_train.drop(columns= big_cat_columns2, inplace=True)\n",
    "mailout_test.drop(columns= big_cat_columns2, inplace=True)"
   ]
  },
  {
   "cell_type": "code",
   "execution_count": 75,
   "metadata": {},
   "outputs": [],
   "source": [
    "#fill the missing values with the most common value in each column\n",
    "\n",
    "Dataset = [mailout_train, mailout_test]\n",
    "for data in Dataset:\n",
    "    null_list = data.columns[data.isna().any()].tolist()  #get the null value containig columns\n",
    "    for column in null_list:\n",
    "         data[column].fillna(value= data[column].mode().iloc[0], inplace=True) #fill with most common value"
   ]
  },
  {
   "cell_type": "code",
   "execution_count": 78,
   "metadata": {},
   "outputs": [
    {
     "data": {
      "text/html": [
       "<div>\n",
       "<style scoped>\n",
       "    .dataframe tbody tr th:only-of-type {\n",
       "        vertical-align: middle;\n",
       "    }\n",
       "\n",
       "    .dataframe tbody tr th {\n",
       "        vertical-align: top;\n",
       "    }\n",
       "\n",
       "    .dataframe thead th {\n",
       "        text-align: right;\n",
       "    }\n",
       "</style>\n",
       "<table border=\"1\" class=\"dataframe\">\n",
       "  <thead>\n",
       "    <tr style=\"text-align: right;\">\n",
       "      <th></th>\n",
       "      <th>AKT_DAT_KL</th>\n",
       "      <th>ANZ_KINDER</th>\n",
       "      <th>ANZ_PERSONEN</th>\n",
       "      <th>ANZ_TITEL</th>\n",
       "      <th>ARBEIT</th>\n",
       "      <th>BALLRAUM</th>\n",
       "      <th>CJT_GESAMTTYP</th>\n",
       "      <th>CJT_KATALOGNUTZER</th>\n",
       "      <th>CJT_TYP_1</th>\n",
       "      <th>CJT_TYP_2</th>\n",
       "      <th>...</th>\n",
       "      <th>ZABEOTYP</th>\n",
       "      <th>RESPONSE</th>\n",
       "      <th>ANREDE_KZ</th>\n",
       "      <th>ALTERSKATEGORIE_GROB</th>\n",
       "      <th>CAMEO_DEU_2015_2</th>\n",
       "      <th>CAMEO_DEUG_2015_2</th>\n",
       "      <th>CAMEO_INTL_2015_2</th>\n",
       "      <th>GEBURTSJAHR_2</th>\n",
       "      <th>ANZ_HH_TITEL_2</th>\n",
       "      <th>ANZ_PERSONEN_2</th>\n",
       "    </tr>\n",
       "  </thead>\n",
       "  <tbody>\n",
       "    <tr>\n",
       "      <th>0</th>\n",
       "      <td>1.0</td>\n",
       "      <td>0.0</td>\n",
       "      <td>1.0</td>\n",
       "      <td>0.0</td>\n",
       "      <td>3.0</td>\n",
       "      <td>5.0</td>\n",
       "      <td>2.0</td>\n",
       "      <td>5.0</td>\n",
       "      <td>2.0</td>\n",
       "      <td>2.0</td>\n",
       "      <td>...</td>\n",
       "      <td>3</td>\n",
       "      <td>0</td>\n",
       "      <td>2</td>\n",
       "      <td>4</td>\n",
       "      <td>5.0</td>\n",
       "      <td>5.0</td>\n",
       "      <td>3.0</td>\n",
       "      <td>3</td>\n",
       "      <td>0</td>\n",
       "      <td>1</td>\n",
       "    </tr>\n",
       "    <tr>\n",
       "      <th>1</th>\n",
       "      <td>4.0</td>\n",
       "      <td>0.0</td>\n",
       "      <td>2.0</td>\n",
       "      <td>0.0</td>\n",
       "      <td>2.0</td>\n",
       "      <td>5.0</td>\n",
       "      <td>2.0</td>\n",
       "      <td>2.0</td>\n",
       "      <td>2.0</td>\n",
       "      <td>2.0</td>\n",
       "      <td>...</td>\n",
       "      <td>1</td>\n",
       "      <td>0</td>\n",
       "      <td>2</td>\n",
       "      <td>3</td>\n",
       "      <td>5.0</td>\n",
       "      <td>5.0</td>\n",
       "      <td>3.0</td>\n",
       "      <td>8</td>\n",
       "      <td>0</td>\n",
       "      <td>2</td>\n",
       "    </tr>\n",
       "    <tr>\n",
       "      <th>2</th>\n",
       "      <td>1.0</td>\n",
       "      <td>0.0</td>\n",
       "      <td>0.0</td>\n",
       "      <td>0.0</td>\n",
       "      <td>4.0</td>\n",
       "      <td>1.0</td>\n",
       "      <td>4.0</td>\n",
       "      <td>5.0</td>\n",
       "      <td>1.0</td>\n",
       "      <td>1.0</td>\n",
       "      <td>...</td>\n",
       "      <td>3</td>\n",
       "      <td>0</td>\n",
       "      <td>1</td>\n",
       "      <td>4</td>\n",
       "      <td>2.0</td>\n",
       "      <td>2.0</td>\n",
       "      <td>1.0</td>\n",
       "      <td>1</td>\n",
       "      <td>0</td>\n",
       "      <td>0</td>\n",
       "    </tr>\n",
       "    <tr>\n",
       "      <th>3</th>\n",
       "      <td>1.0</td>\n",
       "      <td>0.0</td>\n",
       "      <td>2.0</td>\n",
       "      <td>0.0</td>\n",
       "      <td>4.0</td>\n",
       "      <td>2.0</td>\n",
       "      <td>2.0</td>\n",
       "      <td>5.0</td>\n",
       "      <td>2.0</td>\n",
       "      <td>2.0</td>\n",
       "      <td>...</td>\n",
       "      <td>3</td>\n",
       "      <td>0</td>\n",
       "      <td>2</td>\n",
       "      <td>4</td>\n",
       "      <td>2.0</td>\n",
       "      <td>2.0</td>\n",
       "      <td>1.0</td>\n",
       "      <td>1</td>\n",
       "      <td>0</td>\n",
       "      <td>2</td>\n",
       "    </tr>\n",
       "    <tr>\n",
       "      <th>4</th>\n",
       "      <td>1.0</td>\n",
       "      <td>0.0</td>\n",
       "      <td>1.0</td>\n",
       "      <td>0.0</td>\n",
       "      <td>3.0</td>\n",
       "      <td>4.0</td>\n",
       "      <td>6.0</td>\n",
       "      <td>5.0</td>\n",
       "      <td>1.0</td>\n",
       "      <td>2.0</td>\n",
       "      <td>...</td>\n",
       "      <td>3</td>\n",
       "      <td>0</td>\n",
       "      <td>1</td>\n",
       "      <td>3</td>\n",
       "      <td>7.0</td>\n",
       "      <td>7.0</td>\n",
       "      <td>4.0</td>\n",
       "      <td>3</td>\n",
       "      <td>0</td>\n",
       "      <td>1</td>\n",
       "    </tr>\n",
       "  </tbody>\n",
       "</table>\n",
       "<p>5 rows × 346 columns</p>\n",
       "</div>"
      ],
      "text/plain": [
       "   AKT_DAT_KL  ANZ_KINDER  ANZ_PERSONEN  ANZ_TITEL  ARBEIT  BALLRAUM  \\\n",
       "0         1.0         0.0           1.0        0.0     3.0       5.0   \n",
       "1         4.0         0.0           2.0        0.0     2.0       5.0   \n",
       "2         1.0         0.0           0.0        0.0     4.0       1.0   \n",
       "3         1.0         0.0           2.0        0.0     4.0       2.0   \n",
       "4         1.0         0.0           1.0        0.0     3.0       4.0   \n",
       "\n",
       "   CJT_GESAMTTYP  CJT_KATALOGNUTZER  CJT_TYP_1  CJT_TYP_2  ...  ZABEOTYP  \\\n",
       "0            2.0                5.0        2.0        2.0  ...         3   \n",
       "1            2.0                2.0        2.0        2.0  ...         1   \n",
       "2            4.0                5.0        1.0        1.0  ...         3   \n",
       "3            2.0                5.0        2.0        2.0  ...         3   \n",
       "4            6.0                5.0        1.0        2.0  ...         3   \n",
       "\n",
       "   RESPONSE  ANREDE_KZ  ALTERSKATEGORIE_GROB  CAMEO_DEU_2015_2  \\\n",
       "0         0          2                     4               5.0   \n",
       "1         0          2                     3               5.0   \n",
       "2         0          1                     4               2.0   \n",
       "3         0          2                     4               2.0   \n",
       "4         0          1                     3               7.0   \n",
       "\n",
       "   CAMEO_DEUG_2015_2  CAMEO_INTL_2015_2  GEBURTSJAHR_2  ANZ_HH_TITEL_2  \\\n",
       "0                5.0                3.0              3               0   \n",
       "1                5.0                3.0              8               0   \n",
       "2                2.0                1.0              1               0   \n",
       "3                2.0                1.0              1               0   \n",
       "4                7.0                4.0              3               0   \n",
       "\n",
       "   ANZ_PERSONEN_2  \n",
       "0               1  \n",
       "1               2  \n",
       "2               0  \n",
       "3               2  \n",
       "4               1  \n",
       "\n",
       "[5 rows x 346 columns]"
      ]
     },
     "execution_count": 78,
     "metadata": {},
     "output_type": "execute_result"
    }
   ],
   "source": [
    "mailout_train.head()"
   ]
  },
  {
   "cell_type": "code",
   "execution_count": 102,
   "metadata": {},
   "outputs": [
    {
     "data": {
      "text/html": [
       "<div>\n",
       "<style scoped>\n",
       "    .dataframe tbody tr th:only-of-type {\n",
       "        vertical-align: middle;\n",
       "    }\n",
       "\n",
       "    .dataframe tbody tr th {\n",
       "        vertical-align: top;\n",
       "    }\n",
       "\n",
       "    .dataframe thead th {\n",
       "        text-align: right;\n",
       "    }\n",
       "</style>\n",
       "<table border=\"1\" class=\"dataframe\">\n",
       "  <thead>\n",
       "    <tr style=\"text-align: right;\">\n",
       "      <th></th>\n",
       "      <th>LNR</th>\n",
       "      <th>AGER_TYP</th>\n",
       "      <th>AKT_DAT_KL</th>\n",
       "      <th>ALTER_HH</th>\n",
       "      <th>ALTER_KIND1</th>\n",
       "      <th>ALTER_KIND2</th>\n",
       "      <th>ALTER_KIND3</th>\n",
       "      <th>ALTER_KIND4</th>\n",
       "      <th>ALTERSKATEGORIE_FEIN</th>\n",
       "      <th>ANZ_HAUSHALTE_AKTIV</th>\n",
       "      <th>...</th>\n",
       "      <th>VHN</th>\n",
       "      <th>VK_DHT4A</th>\n",
       "      <th>VK_DISTANZ</th>\n",
       "      <th>VK_ZG11</th>\n",
       "      <th>W_KEIT_KIND_HH</th>\n",
       "      <th>WOHNDAUER_2008</th>\n",
       "      <th>WOHNLAGE</th>\n",
       "      <th>ZABEOTYP</th>\n",
       "      <th>ANREDE_KZ</th>\n",
       "      <th>ALTERSKATEGORIE_GROB</th>\n",
       "    </tr>\n",
       "  </thead>\n",
       "  <tbody>\n",
       "    <tr>\n",
       "      <th>0</th>\n",
       "      <td>1754</td>\n",
       "      <td>2.0</td>\n",
       "      <td>1.0</td>\n",
       "      <td>7.0</td>\n",
       "      <td>NaN</td>\n",
       "      <td>NaN</td>\n",
       "      <td>NaN</td>\n",
       "      <td>NaN</td>\n",
       "      <td>6.0</td>\n",
       "      <td>2.0</td>\n",
       "      <td>...</td>\n",
       "      <td>4.0</td>\n",
       "      <td>5.0</td>\n",
       "      <td>6.0</td>\n",
       "      <td>3.0</td>\n",
       "      <td>6.0</td>\n",
       "      <td>9.0</td>\n",
       "      <td>3.0</td>\n",
       "      <td>3</td>\n",
       "      <td>1</td>\n",
       "      <td>4</td>\n",
       "    </tr>\n",
       "    <tr>\n",
       "      <th>1</th>\n",
       "      <td>1770</td>\n",
       "      <td>NaN</td>\n",
       "      <td>1.0</td>\n",
       "      <td>NaN</td>\n",
       "      <td>NaN</td>\n",
       "      <td>NaN</td>\n",
       "      <td>NaN</td>\n",
       "      <td>NaN</td>\n",
       "      <td>0.0</td>\n",
       "      <td>20.0</td>\n",
       "      <td>...</td>\n",
       "      <td>1.0</td>\n",
       "      <td>5.0</td>\n",
       "      <td>2.0</td>\n",
       "      <td>1.0</td>\n",
       "      <td>6.0</td>\n",
       "      <td>9.0</td>\n",
       "      <td>5.0</td>\n",
       "      <td>3</td>\n",
       "      <td>1</td>\n",
       "      <td>4</td>\n",
       "    </tr>\n",
       "    <tr>\n",
       "      <th>2</th>\n",
       "      <td>1465</td>\n",
       "      <td>2.0</td>\n",
       "      <td>9.0</td>\n",
       "      <td>16.0</td>\n",
       "      <td>NaN</td>\n",
       "      <td>NaN</td>\n",
       "      <td>NaN</td>\n",
       "      <td>NaN</td>\n",
       "      <td>11.0</td>\n",
       "      <td>2.0</td>\n",
       "      <td>...</td>\n",
       "      <td>3.0</td>\n",
       "      <td>9.0</td>\n",
       "      <td>6.0</td>\n",
       "      <td>3.0</td>\n",
       "      <td>2.0</td>\n",
       "      <td>9.0</td>\n",
       "      <td>4.0</td>\n",
       "      <td>3</td>\n",
       "      <td>2</td>\n",
       "      <td>4</td>\n",
       "    </tr>\n",
       "    <tr>\n",
       "      <th>3</th>\n",
       "      <td>1470</td>\n",
       "      <td>NaN</td>\n",
       "      <td>7.0</td>\n",
       "      <td>NaN</td>\n",
       "      <td>NaN</td>\n",
       "      <td>NaN</td>\n",
       "      <td>NaN</td>\n",
       "      <td>NaN</td>\n",
       "      <td>0.0</td>\n",
       "      <td>1.0</td>\n",
       "      <td>...</td>\n",
       "      <td>2.0</td>\n",
       "      <td>6.0</td>\n",
       "      <td>6.0</td>\n",
       "      <td>3.0</td>\n",
       "      <td>NaN</td>\n",
       "      <td>9.0</td>\n",
       "      <td>2.0</td>\n",
       "      <td>3</td>\n",
       "      <td>2</td>\n",
       "      <td>4</td>\n",
       "    </tr>\n",
       "    <tr>\n",
       "      <th>4</th>\n",
       "      <td>1478</td>\n",
       "      <td>1.0</td>\n",
       "      <td>1.0</td>\n",
       "      <td>21.0</td>\n",
       "      <td>NaN</td>\n",
       "      <td>NaN</td>\n",
       "      <td>NaN</td>\n",
       "      <td>NaN</td>\n",
       "      <td>13.0</td>\n",
       "      <td>1.0</td>\n",
       "      <td>...</td>\n",
       "      <td>1.0</td>\n",
       "      <td>2.0</td>\n",
       "      <td>4.0</td>\n",
       "      <td>3.0</td>\n",
       "      <td>3.0</td>\n",
       "      <td>9.0</td>\n",
       "      <td>7.0</td>\n",
       "      <td>4</td>\n",
       "      <td>2</td>\n",
       "      <td>4</td>\n",
       "    </tr>\n",
       "  </tbody>\n",
       "</table>\n",
       "<p>5 rows × 366 columns</p>\n",
       "</div>"
      ],
      "text/plain": [
       "    LNR  AGER_TYP  AKT_DAT_KL  ALTER_HH  ALTER_KIND1  ALTER_KIND2  \\\n",
       "0  1754       2.0         1.0       7.0          NaN          NaN   \n",
       "1  1770       NaN         1.0       NaN          NaN          NaN   \n",
       "2  1465       2.0         9.0      16.0          NaN          NaN   \n",
       "3  1470       NaN         7.0       NaN          NaN          NaN   \n",
       "4  1478       1.0         1.0      21.0          NaN          NaN   \n",
       "\n",
       "   ALTER_KIND3  ALTER_KIND4  ALTERSKATEGORIE_FEIN  ANZ_HAUSHALTE_AKTIV  ...  \\\n",
       "0          NaN          NaN                   6.0                  2.0  ...   \n",
       "1          NaN          NaN                   0.0                 20.0  ...   \n",
       "2          NaN          NaN                  11.0                  2.0  ...   \n",
       "3          NaN          NaN                   0.0                  1.0  ...   \n",
       "4          NaN          NaN                  13.0                  1.0  ...   \n",
       "\n",
       "   VHN  VK_DHT4A  VK_DISTANZ  VK_ZG11  W_KEIT_KIND_HH  WOHNDAUER_2008  \\\n",
       "0  4.0       5.0         6.0      3.0             6.0             9.0   \n",
       "1  1.0       5.0         2.0      1.0             6.0             9.0   \n",
       "2  3.0       9.0         6.0      3.0             2.0             9.0   \n",
       "3  2.0       6.0         6.0      3.0             NaN             9.0   \n",
       "4  1.0       2.0         4.0      3.0             3.0             9.0   \n",
       "\n",
       "   WOHNLAGE ZABEOTYP ANREDE_KZ ALTERSKATEGORIE_GROB  \n",
       "0       3.0        3         1                    4  \n",
       "1       5.0        3         1                    4  \n",
       "2       4.0        3         2                    4  \n",
       "3       2.0        3         2                    4  \n",
       "4       7.0        4         2                    4  \n",
       "\n",
       "[5 rows x 366 columns]"
      ]
     },
     "execution_count": 102,
     "metadata": {},
     "output_type": "execute_result"
    }
   ],
   "source": [
    "mailout_test.head()"
   ]
  },
  {
   "cell_type": "code",
   "execution_count": 84,
   "metadata": {},
   "outputs": [
    {
     "data": {
      "text/plain": [
       "{'RESPONSE'}"
      ]
     },
     "execution_count": 84,
     "metadata": {},
     "output_type": "execute_result"
    }
   ],
   "source": [
    "set(mailout_train.columns)-set(mailout_test.columns)"
   ]
  },
  {
   "cell_type": "code",
   "execution_count": 85,
   "metadata": {},
   "outputs": [
    {
     "data": {
      "text/plain": [
       "0    42430\n",
       "1      532\n",
       "Name: RESPONSE, dtype: int64"
      ]
     },
     "execution_count": 85,
     "metadata": {},
     "output_type": "execute_result"
    }
   ],
   "source": [
    "mailout_train['RESPONSE'].value_counts()"
   ]
  },
  {
   "cell_type": "code",
   "execution_count": null,
   "metadata": {},
   "outputs": [],
   "source": []
  },
  {
   "cell_type": "code",
   "execution_count": 77,
   "metadata": {},
   "outputs": [
    {
     "ename": "IndexError",
     "evalue": "boolean index did not match indexed array along dimension 0; dimension is 346 but corresponding boolean dimension is 345",
     "output_type": "error",
     "traceback": [
      "\u001b[0;31m---------------------------------------------------------------------------\u001b[0m",
      "\u001b[0;31mIndexError\u001b[0m                                Traceback (most recent call last)",
      "\u001b[0;32m<ipython-input-77-61ac82a9dafa>\u001b[0m in \u001b[0;36m<module>\u001b[0;34m\u001b[0m\n\u001b[0;32m----> 1\u001b[0;31m \u001b[0mchecklist\u001b[0m \u001b[0;34m=\u001b[0m \u001b[0mmailout_train\u001b[0m\u001b[0;34m.\u001b[0m\u001b[0mcolumns\u001b[0m\u001b[0;34m[\u001b[0m\u001b[0mdata\u001b[0m\u001b[0;34m.\u001b[0m\u001b[0misna\u001b[0m\u001b[0;34m(\u001b[0m\u001b[0;34m)\u001b[0m\u001b[0;34m.\u001b[0m\u001b[0many\u001b[0m\u001b[0;34m(\u001b[0m\u001b[0;34m)\u001b[0m\u001b[0;34m]\u001b[0m\u001b[0;34m.\u001b[0m\u001b[0mtolist\u001b[0m\u001b[0;34m(\u001b[0m\u001b[0;34m)\u001b[0m\u001b[0;34m\u001b[0m\u001b[0;34m\u001b[0m\u001b[0m\n\u001b[0m",
      "\u001b[0;32m/mnt/d/ML_venv/ML_basic_venv/lib/python3.8/site-packages/pandas/core/indexes/base.py\u001b[0m in \u001b[0;36m__getitem__\u001b[0;34m(self, key)\u001b[0m\n\u001b[1;32m   3939\u001b[0m \u001b[0;34m\u001b[0m\u001b[0m\n\u001b[1;32m   3940\u001b[0m         \u001b[0mkey\u001b[0m \u001b[0;34m=\u001b[0m \u001b[0mcom\u001b[0m\u001b[0;34m.\u001b[0m\u001b[0mvalues_from_object\u001b[0m\u001b[0;34m(\u001b[0m\u001b[0mkey\u001b[0m\u001b[0;34m)\u001b[0m\u001b[0;34m\u001b[0m\u001b[0;34m\u001b[0m\u001b[0m\n\u001b[0;32m-> 3941\u001b[0;31m         \u001b[0mresult\u001b[0m \u001b[0;34m=\u001b[0m \u001b[0mgetitem\u001b[0m\u001b[0;34m(\u001b[0m\u001b[0mkey\u001b[0m\u001b[0;34m)\u001b[0m\u001b[0;34m\u001b[0m\u001b[0;34m\u001b[0m\u001b[0m\n\u001b[0m\u001b[1;32m   3942\u001b[0m         \u001b[0;32mif\u001b[0m \u001b[0;32mnot\u001b[0m \u001b[0mis_scalar\u001b[0m\u001b[0;34m(\u001b[0m\u001b[0mresult\u001b[0m\u001b[0;34m)\u001b[0m\u001b[0;34m:\u001b[0m\u001b[0;34m\u001b[0m\u001b[0;34m\u001b[0m\u001b[0m\n\u001b[1;32m   3943\u001b[0m             \u001b[0;32mif\u001b[0m \u001b[0mnp\u001b[0m\u001b[0;34m.\u001b[0m\u001b[0mndim\u001b[0m\u001b[0;34m(\u001b[0m\u001b[0mresult\u001b[0m\u001b[0;34m)\u001b[0m \u001b[0;34m>\u001b[0m \u001b[0;36m1\u001b[0m\u001b[0;34m:\u001b[0m\u001b[0;34m\u001b[0m\u001b[0;34m\u001b[0m\u001b[0m\n",
      "\u001b[0;31mIndexError\u001b[0m: boolean index did not match indexed array along dimension 0; dimension is 346 but corresponding boolean dimension is 345"
     ]
    }
   ],
   "source": [
    "checklist = mailout_train.columns[data.isna().any()].tolist()"
   ]
  },
  {
   "cell_type": "code",
   "execution_count": null,
   "metadata": {},
   "outputs": [],
   "source": []
  },
  {
   "cell_type": "markdown",
   "metadata": {},
   "source": [
    "## Part 3: Kaggle Competition\n",
    "\n",
    "Now that you've created a model to predict which individuals are most likely to respond to a mailout campaign, it's time to test that model in competition through Kaggle. If you click on the link [here](http://www.kaggle.com/t/21e6d45d4c574c7fa2d868f0e8c83140), you'll be taken to the competition page where, if you have a Kaggle account, you can enter. If you're one of the top performers, you may have the chance to be contacted by a hiring manager from Arvato or Bertelsmann for an interview!\n",
    "\n",
    "Your entry to the competition should be a CSV file with two columns. The first column should be a copy of \"LNR\", which acts as an ID number for each individual in the \"TEST\" partition. The second column, \"RESPONSE\", should be some measure of how likely each individual became a customer – this might not be a straightforward probability. As you should have found in Part 2, there is a large output class imbalance, where most individuals did not respond to the mailout. Thus, predicting individual classes and using accuracy does not seem to be an appropriate performance evaluation method. Instead, the competition will be using AUC to evaluate performance. The exact values of the \"RESPONSE\" column do not matter as much: only that the higher values try to capture as many of the actual customers as possible, early in the ROC curve sweep."
   ]
  },
  {
   "cell_type": "code",
   "execution_count": null,
   "metadata": {},
   "outputs": [],
   "source": [
    "# mailout_test = pd.read_csv('../../data/Term2/capstone/arvato_data/Udacity_MAILOUT_052018_TEST.csv', sep=';')"
   ]
  },
  {
   "cell_type": "code",
   "execution_count": 92,
   "metadata": {},
   "outputs": [
    {
     "name": "stderr",
     "output_type": "stream",
     "text": [
      "/mnt/d/ML_venv/ML_basic_venv/lib/python3.8/site-packages/IPython/core/interactiveshell.py:3071: DtypeWarning: Columns (18,19) have mixed types.Specify dtype option on import or set low_memory=False.\n",
      "  has_raised = await self.run_ast_nodes(code_ast.body, cell_name,\n"
     ]
    }
   ],
   "source": [
    "mailout_test = pd.read_csv(\"mailout_test.gzip\",compression='gzip')"
   ]
  },
  {
   "cell_type": "code",
   "execution_count": null,
   "metadata": {},
   "outputs": [],
   "source": []
  }
 ],
 "metadata": {
  "kernelspec": {
   "display_name": "Python 3",
   "language": "python",
   "name": "python3"
  },
  "language_info": {
   "codemirror_mode": {
    "name": "ipython",
    "version": 3
   },
   "file_extension": ".py",
   "mimetype": "text/x-python",
   "name": "python",
   "nbconvert_exporter": "python",
   "pygments_lexer": "ipython3",
   "version": "3.8.2"
  }
 },
 "nbformat": 4,
 "nbformat_minor": 2
}
