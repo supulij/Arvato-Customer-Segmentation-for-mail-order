{
  "nbformat": 4,
  "nbformat_minor": 0,
  "metadata": {
    "colab": {
      "name": "Arvato_Project_Final_Notebook.ipynb",
      "provenance": [],
      "collapsed_sections": [],
      "toc_visible": true
    },
    "kernelspec": {
      "name": "python3",
      "display_name": "Python 3"
    },
    "accelerator": "TPU"
  },
  "cells": [
    {
      "cell_type": "markdown",
      "metadata": {
        "id": "LKcbY20UJbJ5",
        "colab_type": "text"
      },
      "source": [
        "# Capstone Project: Create a Customer Segmentation Report for Arvato Financial Services\n",
        "\n",
        "In this project, you will analyze demographics data for customers of a mail-order sales company in Germany, comparing it against demographics information for the general population. You'll use unsupervised learning techniques to perform customer segmentation, identifying the parts of the population that best describe the core customer base of the company. Then, you'll apply what you've learned on a third dataset with demographics information for targets of a marketing campaign for the company, and use a model to predict which individuals are most likely to convert into becoming customers for the company. The data that you will use has been provided by our partners at Bertelsmann Arvato Analytics, and represents a real-life data science task.\n",
        "\n",
        "If you completed the first term of this program, you will be familiar with the first part of this project, from the unsupervised learning project. The versions of those two datasets used in this project will include many more features and has not been pre-cleaned. You are also free to choose whatever approach you'd like to analyzing the data rather than follow pre-determined steps. In your work on this project, make sure that you carefully document your steps and decisions, since your main deliverable for this project will be a blog post reporting your findings."
      ]
    },
    {
      "cell_type": "code",
      "metadata": {
        "id": "k9jkDqNDmgGl",
        "colab_type": "code",
        "colab": {
          "base_uri": "https://localhost:8080/",
          "height": 70
        },
        "outputId": "ebfe0507-e9de-44a7-e4f5-186c92a5ef20"
      },
      "source": [
        "# import libraries here; add more as necessary\n",
        "import numpy as np\n",
        "import pandas as pd\n",
        "import matplotlib.pyplot as plt\n",
        "import seaborn as sns\n",
        "# magic word for producing visualizations in notebook\n",
        "%matplotlib inline\n",
        "\n",
        "import math\n",
        "import time\n",
        "from sklearn.impute import SimpleImputer\n",
        "from sklearn.preprocessing import StandardScaler\n",
        "from sklearn.preprocessing import MinMaxScaler\n",
        "from sklearn.decomposition import PCA\n",
        "from scipy.interpolate import make_interp_spline, BSpline\n",
        "from sklearn.cluster import KMeans\n",
        "\n",
        "from sklearn.model_selection import train_test_split\n",
        "from sklearn.model_selection import GridSearchCV\n",
        "from sklearn.ensemble import RandomForestClassifier\n",
        "from sklearn.ensemble import GradientBoostingClassifier\n",
        "from sklearn.ensemble import AdaBoostClassifier\n",
        "from sklearn import tree\n",
        "import xgboost as xgb\n",
        "from sklearn.metrics import roc_auc_score\n",
        "\n",
        "random_seed = 5"
      ],
      "execution_count": 1,
      "outputs": [
        {
          "output_type": "stream",
          "text": [
            "/usr/local/lib/python3.6/dist-packages/statsmodels/tools/_testing.py:19: FutureWarning: pandas.util.testing is deprecated. Use the functions in the public API at pandas.testing instead.\n",
            "  import pandas.util.testing as tm\n"
          ],
          "name": "stderr"
        }
      ]
    },
    {
      "cell_type": "markdown",
      "metadata": {
        "id": "yFOug5hkJlFD",
        "colab_type": "text"
      },
      "source": [
        "## Part 0: Get to Know the Data\n",
        "\n",
        "There are four data files associated with this project:\n",
        "\n",
        "- `Udacity_AZDIAS_052018.csv`: Demographics data for the general population of Germany; 891 211 persons (rows) x 366 features (columns).\n",
        "- `Udacity_CUSTOMERS_052018.csv`: Demographics data for customers of a mail-order company; 191 652 persons (rows) x 369 features (columns).\n",
        "- `Udacity_MAILOUT_052018_TRAIN.csv`: Demographics data for individuals who were targets of a marketing campaign; 42 982 persons (rows) x 367 (columns).\n",
        "- `Udacity_MAILOUT_052018_TEST.csv`: Demographics data for individuals who were targets of a marketing campaign; 42 833 persons (rows) x 366 (columns).\n",
        "\n",
        "Each row of the demographics files represents a single person, but also includes information outside of individuals, including information about their household, building, and neighborhood. Use the information from the first two files to figure out how customers (\"CUSTOMERS\") are similar to or differ from the general population at large (\"AZDIAS\"), then use your analysis to make predictions on the other two files (\"MAILOUT\"), predicting which recipients are most likely to become a customer for the mail-order company.\n",
        "\n",
        "The \"CUSTOMERS\" file contains three extra columns ('CUSTOMER_GROUP', 'ONLINE_PURCHASE', and 'PRODUCT_GROUP'), which provide broad information about the customers depicted in the file. The original \"MAILOUT\" file included one additional column, \"RESPONSE\", which indicated whether or not each recipient became a customer of the company. For the \"TRAIN\" subset, this column has been retained, but in the \"TEST\" subset it has been removed; it is against that withheld column that your final predictions will be assessed in the Kaggle competition.\n",
        "\n",
        "Otherwise, all of the remaining columns are the same between the three data files. For more information about the columns depicted in the files, you can refer to two Excel spreadsheets provided in the workspace. [One of them](./DIAS Information Levels - Attributes 2017.xlsx) is a top-level list of attributes and descriptions, organized by informational category. [The other](./DIAS Attributes - Values 2017.xlsx) is a detailed mapping of data values for each feature in alphabetical order.\n",
        "\n",
        "In the below cell, we've provided some initial code to load in the first two datasets. Note for all of the `.csv` data files in this project that they're semicolon (`;`) delimited, so an additional argument in the [`read_csv()`](https://pandas.pydata.org/pandas-docs/stable/generated/pandas.read_csv.html) call has been included to read in the data properly. Also, considering the size of the datasets, it may take some time for them to load completely.\n",
        "\n",
        "You'll notice when the data is loaded in that a warning message will immediately pop up. Before you really start digging into the modeling and analysis, you're going to need to perform some cleaning. Take some time to browse the structure of the data and look over the informational spreadsheets to understand the data values. Make some decisions on which features to keep, which features to drop, and if any revisions need to be made on data formats. It'll be a good idea to create a function with pre-processing steps, since you'll need to clean all of the datasets before you work with them."
      ]
    },
    {
      "cell_type": "code",
      "metadata": {
        "id": "Mz2jId3KmFMK",
        "colab_type": "code",
        "colab": {
          "base_uri": "https://localhost:8080/",
          "height": 70
        },
        "outputId": "b7dbefef-0ca7-4276-9891-af10be0dc20a"
      },
      "source": [
        "azdias = pd.read_csv(\"azdias_original.gzip\", compression=\"gzip\")\n",
        "customers = pd.read_csv(\"customers_original.gzip\", compression=\"gzip\")"
      ],
      "execution_count": null,
      "outputs": [
        {
          "output_type": "stream",
          "text": [
            "/usr/local/lib/python3.6/dist-packages/IPython/core/interactiveshell.py:2718: DtypeWarning: Columns (18,19) have mixed types.Specify dtype option on import or set low_memory=False.\n",
            "  interactivity=interactivity, compiler=compiler, result=result)\n"
          ],
          "name": "stderr"
        }
      ]
    },
    {
      "cell_type": "code",
      "metadata": {
        "id": "4BRN_0G8mFRj",
        "colab_type": "code",
        "colab": {
          "base_uri": "https://localhost:8080/",
          "height": 244
        },
        "outputId": "85eff99d-7741-4ba7-ecb0-d676b76834c2"
      },
      "source": [
        "azdias.head()"
      ],
      "execution_count": null,
      "outputs": [
        {
          "output_type": "execute_result",
          "data": {
            "text/html": [
              "<div>\n",
              "<style scoped>\n",
              "    .dataframe tbody tr th:only-of-type {\n",
              "        vertical-align: middle;\n",
              "    }\n",
              "\n",
              "    .dataframe tbody tr th {\n",
              "        vertical-align: top;\n",
              "    }\n",
              "\n",
              "    .dataframe thead th {\n",
              "        text-align: right;\n",
              "    }\n",
              "</style>\n",
              "<table border=\"1\" class=\"dataframe\">\n",
              "  <thead>\n",
              "    <tr style=\"text-align: right;\">\n",
              "      <th></th>\n",
              "      <th>LNR</th>\n",
              "      <th>AGER_TYP</th>\n",
              "      <th>AKT_DAT_KL</th>\n",
              "      <th>ALTER_HH</th>\n",
              "      <th>ALTER_KIND1</th>\n",
              "      <th>ALTER_KIND2</th>\n",
              "      <th>ALTER_KIND3</th>\n",
              "      <th>ALTER_KIND4</th>\n",
              "      <th>ALTERSKATEGORIE_FEIN</th>\n",
              "      <th>ANZ_HAUSHALTE_AKTIV</th>\n",
              "      <th>ANZ_HH_TITEL</th>\n",
              "      <th>ANZ_KINDER</th>\n",
              "      <th>ANZ_PERSONEN</th>\n",
              "      <th>ANZ_STATISTISCHE_HAUSHALTE</th>\n",
              "      <th>ANZ_TITEL</th>\n",
              "      <th>ARBEIT</th>\n",
              "      <th>BALLRAUM</th>\n",
              "      <th>CAMEO_DEU_2015</th>\n",
              "      <th>CAMEO_DEUG_2015</th>\n",
              "      <th>CAMEO_INTL_2015</th>\n",
              "      <th>CJT_GESAMTTYP</th>\n",
              "      <th>CJT_KATALOGNUTZER</th>\n",
              "      <th>CJT_TYP_1</th>\n",
              "      <th>CJT_TYP_2</th>\n",
              "      <th>CJT_TYP_3</th>\n",
              "      <th>CJT_TYP_4</th>\n",
              "      <th>CJT_TYP_5</th>\n",
              "      <th>CJT_TYP_6</th>\n",
              "      <th>D19_BANKEN_ANZ_12</th>\n",
              "      <th>D19_BANKEN_ANZ_24</th>\n",
              "      <th>D19_BANKEN_DATUM</th>\n",
              "      <th>D19_BANKEN_DIREKT</th>\n",
              "      <th>D19_BANKEN_GROSS</th>\n",
              "      <th>D19_BANKEN_LOKAL</th>\n",
              "      <th>D19_BANKEN_OFFLINE_DATUM</th>\n",
              "      <th>D19_BANKEN_ONLINE_DATUM</th>\n",
              "      <th>D19_BANKEN_ONLINE_QUOTE_12</th>\n",
              "      <th>D19_BANKEN_REST</th>\n",
              "      <th>D19_BEKLEIDUNG_GEH</th>\n",
              "      <th>D19_BEKLEIDUNG_REST</th>\n",
              "      <th>...</th>\n",
              "      <th>REGIOTYP</th>\n",
              "      <th>RELAT_AB</th>\n",
              "      <th>RETOURTYP_BK_S</th>\n",
              "      <th>RT_KEIN_ANREIZ</th>\n",
              "      <th>RT_SCHNAEPPCHEN</th>\n",
              "      <th>RT_UEBERGROESSE</th>\n",
              "      <th>SEMIO_DOM</th>\n",
              "      <th>SEMIO_ERL</th>\n",
              "      <th>SEMIO_FAM</th>\n",
              "      <th>SEMIO_KAEM</th>\n",
              "      <th>SEMIO_KRIT</th>\n",
              "      <th>SEMIO_KULT</th>\n",
              "      <th>SEMIO_LUST</th>\n",
              "      <th>SEMIO_MAT</th>\n",
              "      <th>SEMIO_PFLICHT</th>\n",
              "      <th>SEMIO_RAT</th>\n",
              "      <th>SEMIO_REL</th>\n",
              "      <th>SEMIO_SOZ</th>\n",
              "      <th>SEMIO_TRADV</th>\n",
              "      <th>SEMIO_VERT</th>\n",
              "      <th>SHOPPER_TYP</th>\n",
              "      <th>SOHO_KZ</th>\n",
              "      <th>STRUKTURTYP</th>\n",
              "      <th>TITEL_KZ</th>\n",
              "      <th>UMFELD_ALT</th>\n",
              "      <th>UMFELD_JUNG</th>\n",
              "      <th>UNGLEICHENN_FLAG</th>\n",
              "      <th>VERDICHTUNGSRAUM</th>\n",
              "      <th>VERS_TYP</th>\n",
              "      <th>VHA</th>\n",
              "      <th>VHN</th>\n",
              "      <th>VK_DHT4A</th>\n",
              "      <th>VK_DISTANZ</th>\n",
              "      <th>VK_ZG11</th>\n",
              "      <th>W_KEIT_KIND_HH</th>\n",
              "      <th>WOHNDAUER_2008</th>\n",
              "      <th>WOHNLAGE</th>\n",
              "      <th>ZABEOTYP</th>\n",
              "      <th>ANREDE_KZ</th>\n",
              "      <th>ALTERSKATEGORIE_GROB</th>\n",
              "    </tr>\n",
              "  </thead>\n",
              "  <tbody>\n",
              "    <tr>\n",
              "      <th>0</th>\n",
              "      <td>910215</td>\n",
              "      <td>-1</td>\n",
              "      <td>NaN</td>\n",
              "      <td>NaN</td>\n",
              "      <td>NaN</td>\n",
              "      <td>NaN</td>\n",
              "      <td>NaN</td>\n",
              "      <td>NaN</td>\n",
              "      <td>NaN</td>\n",
              "      <td>NaN</td>\n",
              "      <td>NaN</td>\n",
              "      <td>NaN</td>\n",
              "      <td>NaN</td>\n",
              "      <td>NaN</td>\n",
              "      <td>NaN</td>\n",
              "      <td>NaN</td>\n",
              "      <td>NaN</td>\n",
              "      <td>NaN</td>\n",
              "      <td>NaN</td>\n",
              "      <td>NaN</td>\n",
              "      <td>2.0</td>\n",
              "      <td>5.0</td>\n",
              "      <td>1.0</td>\n",
              "      <td>1.0</td>\n",
              "      <td>5.0</td>\n",
              "      <td>5.0</td>\n",
              "      <td>5.0</td>\n",
              "      <td>5.0</td>\n",
              "      <td>0</td>\n",
              "      <td>0</td>\n",
              "      <td>10</td>\n",
              "      <td>0</td>\n",
              "      <td>0</td>\n",
              "      <td>0</td>\n",
              "      <td>10</td>\n",
              "      <td>10</td>\n",
              "      <td>NaN</td>\n",
              "      <td>0</td>\n",
              "      <td>0</td>\n",
              "      <td>0</td>\n",
              "      <td>...</td>\n",
              "      <td>NaN</td>\n",
              "      <td>NaN</td>\n",
              "      <td>5.0</td>\n",
              "      <td>1.0</td>\n",
              "      <td>4.0</td>\n",
              "      <td>1.0</td>\n",
              "      <td>6</td>\n",
              "      <td>3</td>\n",
              "      <td>6</td>\n",
              "      <td>6</td>\n",
              "      <td>7</td>\n",
              "      <td>3</td>\n",
              "      <td>5</td>\n",
              "      <td>5</td>\n",
              "      <td>5</td>\n",
              "      <td>4</td>\n",
              "      <td>7</td>\n",
              "      <td>2</td>\n",
              "      <td>3</td>\n",
              "      <td>1</td>\n",
              "      <td>-1</td>\n",
              "      <td>NaN</td>\n",
              "      <td>NaN</td>\n",
              "      <td>NaN</td>\n",
              "      <td>NaN</td>\n",
              "      <td>NaN</td>\n",
              "      <td>NaN</td>\n",
              "      <td>NaN</td>\n",
              "      <td>-1</td>\n",
              "      <td>NaN</td>\n",
              "      <td>NaN</td>\n",
              "      <td>NaN</td>\n",
              "      <td>NaN</td>\n",
              "      <td>NaN</td>\n",
              "      <td>NaN</td>\n",
              "      <td>NaN</td>\n",
              "      <td>NaN</td>\n",
              "      <td>3</td>\n",
              "      <td>1</td>\n",
              "      <td>2</td>\n",
              "    </tr>\n",
              "    <tr>\n",
              "      <th>1</th>\n",
              "      <td>910220</td>\n",
              "      <td>-1</td>\n",
              "      <td>9.0</td>\n",
              "      <td>0.0</td>\n",
              "      <td>NaN</td>\n",
              "      <td>NaN</td>\n",
              "      <td>NaN</td>\n",
              "      <td>NaN</td>\n",
              "      <td>21.0</td>\n",
              "      <td>11.0</td>\n",
              "      <td>0.0</td>\n",
              "      <td>0.0</td>\n",
              "      <td>2.0</td>\n",
              "      <td>12.0</td>\n",
              "      <td>0.0</td>\n",
              "      <td>3.0</td>\n",
              "      <td>6.0</td>\n",
              "      <td>8A</td>\n",
              "      <td>8</td>\n",
              "      <td>51</td>\n",
              "      <td>5.0</td>\n",
              "      <td>1.0</td>\n",
              "      <td>5.0</td>\n",
              "      <td>5.0</td>\n",
              "      <td>2.0</td>\n",
              "      <td>3.0</td>\n",
              "      <td>1.0</td>\n",
              "      <td>1.0</td>\n",
              "      <td>0</td>\n",
              "      <td>0</td>\n",
              "      <td>10</td>\n",
              "      <td>0</td>\n",
              "      <td>0</td>\n",
              "      <td>0</td>\n",
              "      <td>10</td>\n",
              "      <td>10</td>\n",
              "      <td>NaN</td>\n",
              "      <td>0</td>\n",
              "      <td>0</td>\n",
              "      <td>0</td>\n",
              "      <td>...</td>\n",
              "      <td>3.0</td>\n",
              "      <td>4.0</td>\n",
              "      <td>1.0</td>\n",
              "      <td>5.0</td>\n",
              "      <td>3.0</td>\n",
              "      <td>5.0</td>\n",
              "      <td>7</td>\n",
              "      <td>2</td>\n",
              "      <td>4</td>\n",
              "      <td>4</td>\n",
              "      <td>4</td>\n",
              "      <td>3</td>\n",
              "      <td>2</td>\n",
              "      <td>3</td>\n",
              "      <td>7</td>\n",
              "      <td>6</td>\n",
              "      <td>4</td>\n",
              "      <td>5</td>\n",
              "      <td>6</td>\n",
              "      <td>1</td>\n",
              "      <td>3</td>\n",
              "      <td>1.0</td>\n",
              "      <td>2.0</td>\n",
              "      <td>0.0</td>\n",
              "      <td>3.0</td>\n",
              "      <td>3.0</td>\n",
              "      <td>1.0</td>\n",
              "      <td>0.0</td>\n",
              "      <td>2</td>\n",
              "      <td>0.0</td>\n",
              "      <td>4.0</td>\n",
              "      <td>8.0</td>\n",
              "      <td>11.0</td>\n",
              "      <td>10.0</td>\n",
              "      <td>3.0</td>\n",
              "      <td>9.0</td>\n",
              "      <td>4.0</td>\n",
              "      <td>5</td>\n",
              "      <td>2</td>\n",
              "      <td>1</td>\n",
              "    </tr>\n",
              "    <tr>\n",
              "      <th>2</th>\n",
              "      <td>910225</td>\n",
              "      <td>-1</td>\n",
              "      <td>9.0</td>\n",
              "      <td>17.0</td>\n",
              "      <td>NaN</td>\n",
              "      <td>NaN</td>\n",
              "      <td>NaN</td>\n",
              "      <td>NaN</td>\n",
              "      <td>17.0</td>\n",
              "      <td>10.0</td>\n",
              "      <td>0.0</td>\n",
              "      <td>0.0</td>\n",
              "      <td>1.0</td>\n",
              "      <td>7.0</td>\n",
              "      <td>0.0</td>\n",
              "      <td>3.0</td>\n",
              "      <td>2.0</td>\n",
              "      <td>4C</td>\n",
              "      <td>4</td>\n",
              "      <td>24</td>\n",
              "      <td>3.0</td>\n",
              "      <td>2.0</td>\n",
              "      <td>4.0</td>\n",
              "      <td>4.0</td>\n",
              "      <td>1.0</td>\n",
              "      <td>3.0</td>\n",
              "      <td>2.0</td>\n",
              "      <td>2.0</td>\n",
              "      <td>0</td>\n",
              "      <td>0</td>\n",
              "      <td>10</td>\n",
              "      <td>0</td>\n",
              "      <td>0</td>\n",
              "      <td>0</td>\n",
              "      <td>10</td>\n",
              "      <td>10</td>\n",
              "      <td>0.0</td>\n",
              "      <td>0</td>\n",
              "      <td>0</td>\n",
              "      <td>0</td>\n",
              "      <td>...</td>\n",
              "      <td>2.0</td>\n",
              "      <td>2.0</td>\n",
              "      <td>3.0</td>\n",
              "      <td>5.0</td>\n",
              "      <td>4.0</td>\n",
              "      <td>5.0</td>\n",
              "      <td>7</td>\n",
              "      <td>6</td>\n",
              "      <td>1</td>\n",
              "      <td>7</td>\n",
              "      <td>7</td>\n",
              "      <td>3</td>\n",
              "      <td>4</td>\n",
              "      <td>3</td>\n",
              "      <td>3</td>\n",
              "      <td>4</td>\n",
              "      <td>3</td>\n",
              "      <td>4</td>\n",
              "      <td>3</td>\n",
              "      <td>4</td>\n",
              "      <td>2</td>\n",
              "      <td>0.0</td>\n",
              "      <td>3.0</td>\n",
              "      <td>0.0</td>\n",
              "      <td>2.0</td>\n",
              "      <td>5.0</td>\n",
              "      <td>0.0</td>\n",
              "      <td>1.0</td>\n",
              "      <td>1</td>\n",
              "      <td>0.0</td>\n",
              "      <td>2.0</td>\n",
              "      <td>9.0</td>\n",
              "      <td>9.0</td>\n",
              "      <td>6.0</td>\n",
              "      <td>3.0</td>\n",
              "      <td>9.0</td>\n",
              "      <td>2.0</td>\n",
              "      <td>5</td>\n",
              "      <td>2</td>\n",
              "      <td>3</td>\n",
              "    </tr>\n",
              "    <tr>\n",
              "      <th>3</th>\n",
              "      <td>910226</td>\n",
              "      <td>2</td>\n",
              "      <td>1.0</td>\n",
              "      <td>13.0</td>\n",
              "      <td>NaN</td>\n",
              "      <td>NaN</td>\n",
              "      <td>NaN</td>\n",
              "      <td>NaN</td>\n",
              "      <td>13.0</td>\n",
              "      <td>1.0</td>\n",
              "      <td>0.0</td>\n",
              "      <td>0.0</td>\n",
              "      <td>0.0</td>\n",
              "      <td>2.0</td>\n",
              "      <td>0.0</td>\n",
              "      <td>2.0</td>\n",
              "      <td>4.0</td>\n",
              "      <td>2A</td>\n",
              "      <td>2</td>\n",
              "      <td>12</td>\n",
              "      <td>2.0</td>\n",
              "      <td>3.0</td>\n",
              "      <td>2.0</td>\n",
              "      <td>2.0</td>\n",
              "      <td>4.0</td>\n",
              "      <td>4.0</td>\n",
              "      <td>5.0</td>\n",
              "      <td>3.0</td>\n",
              "      <td>0</td>\n",
              "      <td>0</td>\n",
              "      <td>10</td>\n",
              "      <td>0</td>\n",
              "      <td>0</td>\n",
              "      <td>0</td>\n",
              "      <td>10</td>\n",
              "      <td>10</td>\n",
              "      <td>0.0</td>\n",
              "      <td>0</td>\n",
              "      <td>0</td>\n",
              "      <td>0</td>\n",
              "      <td>...</td>\n",
              "      <td>0.0</td>\n",
              "      <td>3.0</td>\n",
              "      <td>2.0</td>\n",
              "      <td>3.0</td>\n",
              "      <td>2.0</td>\n",
              "      <td>3.0</td>\n",
              "      <td>4</td>\n",
              "      <td>7</td>\n",
              "      <td>1</td>\n",
              "      <td>5</td>\n",
              "      <td>4</td>\n",
              "      <td>4</td>\n",
              "      <td>4</td>\n",
              "      <td>1</td>\n",
              "      <td>4</td>\n",
              "      <td>3</td>\n",
              "      <td>2</td>\n",
              "      <td>5</td>\n",
              "      <td>4</td>\n",
              "      <td>4</td>\n",
              "      <td>1</td>\n",
              "      <td>0.0</td>\n",
              "      <td>1.0</td>\n",
              "      <td>0.0</td>\n",
              "      <td>4.0</td>\n",
              "      <td>5.0</td>\n",
              "      <td>0.0</td>\n",
              "      <td>0.0</td>\n",
              "      <td>1</td>\n",
              "      <td>1.0</td>\n",
              "      <td>0.0</td>\n",
              "      <td>7.0</td>\n",
              "      <td>10.0</td>\n",
              "      <td>11.0</td>\n",
              "      <td>NaN</td>\n",
              "      <td>9.0</td>\n",
              "      <td>7.0</td>\n",
              "      <td>3</td>\n",
              "      <td>2</td>\n",
              "      <td>4</td>\n",
              "    </tr>\n",
              "    <tr>\n",
              "      <th>4</th>\n",
              "      <td>910241</td>\n",
              "      <td>-1</td>\n",
              "      <td>1.0</td>\n",
              "      <td>20.0</td>\n",
              "      <td>NaN</td>\n",
              "      <td>NaN</td>\n",
              "      <td>NaN</td>\n",
              "      <td>NaN</td>\n",
              "      <td>14.0</td>\n",
              "      <td>3.0</td>\n",
              "      <td>0.0</td>\n",
              "      <td>0.0</td>\n",
              "      <td>4.0</td>\n",
              "      <td>3.0</td>\n",
              "      <td>0.0</td>\n",
              "      <td>4.0</td>\n",
              "      <td>2.0</td>\n",
              "      <td>6B</td>\n",
              "      <td>6</td>\n",
              "      <td>43</td>\n",
              "      <td>5.0</td>\n",
              "      <td>3.0</td>\n",
              "      <td>3.0</td>\n",
              "      <td>3.0</td>\n",
              "      <td>3.0</td>\n",
              "      <td>4.0</td>\n",
              "      <td>3.0</td>\n",
              "      <td>3.0</td>\n",
              "      <td>3</td>\n",
              "      <td>5</td>\n",
              "      <td>5</td>\n",
              "      <td>1</td>\n",
              "      <td>2</td>\n",
              "      <td>0</td>\n",
              "      <td>10</td>\n",
              "      <td>5</td>\n",
              "      <td>10.0</td>\n",
              "      <td>6</td>\n",
              "      <td>6</td>\n",
              "      <td>1</td>\n",
              "      <td>...</td>\n",
              "      <td>5.0</td>\n",
              "      <td>5.0</td>\n",
              "      <td>5.0</td>\n",
              "      <td>3.0</td>\n",
              "      <td>5.0</td>\n",
              "      <td>5.0</td>\n",
              "      <td>2</td>\n",
              "      <td>4</td>\n",
              "      <td>4</td>\n",
              "      <td>2</td>\n",
              "      <td>3</td>\n",
              "      <td>6</td>\n",
              "      <td>4</td>\n",
              "      <td>2</td>\n",
              "      <td>4</td>\n",
              "      <td>2</td>\n",
              "      <td>4</td>\n",
              "      <td>6</td>\n",
              "      <td>2</td>\n",
              "      <td>7</td>\n",
              "      <td>2</td>\n",
              "      <td>0.0</td>\n",
              "      <td>3.0</td>\n",
              "      <td>0.0</td>\n",
              "      <td>4.0</td>\n",
              "      <td>3.0</td>\n",
              "      <td>0.0</td>\n",
              "      <td>1.0</td>\n",
              "      <td>2</td>\n",
              "      <td>0.0</td>\n",
              "      <td>2.0</td>\n",
              "      <td>3.0</td>\n",
              "      <td>5.0</td>\n",
              "      <td>4.0</td>\n",
              "      <td>2.0</td>\n",
              "      <td>9.0</td>\n",
              "      <td>3.0</td>\n",
              "      <td>4</td>\n",
              "      <td>1</td>\n",
              "      <td>3</td>\n",
              "    </tr>\n",
              "  </tbody>\n",
              "</table>\n",
              "<p>5 rows × 366 columns</p>\n",
              "</div>"
            ],
            "text/plain": [
              "      LNR  AGER_TYP  AKT_DAT_KL  ...  ZABEOTYP  ANREDE_KZ  ALTERSKATEGORIE_GROB\n",
              "0  910215        -1         NaN  ...         3          1                     2\n",
              "1  910220        -1         9.0  ...         5          2                     1\n",
              "2  910225        -1         9.0  ...         5          2                     3\n",
              "3  910226         2         1.0  ...         3          2                     4\n",
              "4  910241        -1         1.0  ...         4          1                     3\n",
              "\n",
              "[5 rows x 366 columns]"
            ]
          },
          "metadata": {
            "tags": []
          },
          "execution_count": 3
        }
      ]
    },
    {
      "cell_type": "code",
      "metadata": {
        "id": "YEb8g2_8mFTv",
        "colab_type": "code",
        "colab": {
          "base_uri": "https://localhost:8080/",
          "height": 50
        },
        "outputId": "b1a1b18b-1834-4722-9b9e-3f9a7e1ce534"
      },
      "source": [
        "print(azdias.shape)\n",
        "print(customers.shape)"
      ],
      "execution_count": null,
      "outputs": [
        {
          "output_type": "stream",
          "text": [
            "(891221, 366)\n",
            "(191652, 369)\n"
          ],
          "name": "stdout"
        }
      ]
    },
    {
      "cell_type": "markdown",
      "metadata": {
        "id": "ELNtPEnpJ48f",
        "colab_type": "text"
      },
      "source": [
        "### 0.1 Data Preprocessing/cleaning\n",
        "\n",
        "The azdias and custoemr dataframes contains a features with mixed datatypes, missing data and some features contain over 15 types of caegories. Thus to get a clean, complete and effective dataset following steps are done to both dataframes.\n",
        "\n",
        "1. Get the null value/incomplete data value code (from /DIAS Attributes - Values 2017.xlsx) and convert those values to null in the df.\n",
        "2. Get the missing value percentage of each feature and drop features which have more than 40% missing data.\n",
        "3. Get the number of missing values for each row and drop rows which have large missing data. Exact cutoff value to be decided upon inspection of the data.\n",
        "4. For features containing large number of catagories or object data type, either bin them into suitable sizes, or map them into integers or drop them.  \n",
        "5. Impute the missing value with the most frequent value for each feature in the azdias dataset.\n",
        "6. Scale features in to the same range."
      ]
    },
    {
      "cell_type": "code",
      "metadata": {
        "id": "clt3BEFbmFWQ",
        "colab_type": "code",
        "colab": {}
      },
      "source": [
        "#Get the csv file with null values and the feature data\n",
        "null_df = pd.read_csv(\"Null_Values_DIAS_2.csv\")\n",
        "\n",
        "#convert the df to a dictionary\n",
        "null_dict = null_df.set_index('Attribute').T.to_dict('list')\n",
        "null_columns = {k:[int(elem) for elem in v if math.isnan(elem)==False] for k,v in null_dict.items()}"
      ],
      "execution_count": null,
      "outputs": []
    },
    {
      "cell_type": "code",
      "metadata": {
        "id": "nchqU7N0mFak",
        "colab_type": "code",
        "colab": {
          "base_uri": "https://localhost:8080/",
          "height": 1000
        },
        "outputId": "fdb9af89-85f5-47b2-ea40-c3d7cbf2ed27"
      },
      "source": [
        "null_columns"
      ],
      "execution_count": null,
      "outputs": [
        {
          "output_type": "execute_result",
          "data": {
            "text/plain": [
              "{'AGER_TYP': [-1],\n",
              " 'ALTERSKATEGORIE_GROB': [-1, 0],\n",
              " 'ALTER_HH': [0],\n",
              " 'ANREDE_KZ': [-1, 0],\n",
              " 'BALLRAUM': [-1],\n",
              " 'BIP_FLAG': [-1],\n",
              " 'CAMEO_DEUG_2015': [-1],\n",
              " 'CAMEO_DEUINTL_2015': [-1],\n",
              " 'CJT_GESAMTTYP': [0],\n",
              " 'D19_KK_KUNDENTYP': [-1],\n",
              " 'EWDICHTE': [-1],\n",
              " 'FINANZTYP': [-1],\n",
              " 'FINANZ_ANLEGER': [-1],\n",
              " 'FINANZ_HAUSBAUER': [-1],\n",
              " 'FINANZ_MINIMALIST': [-1],\n",
              " 'FINANZ_SPARER': [-1],\n",
              " 'FINANZ_UNAUFFAELLIGER': [-1],\n",
              " 'FINANZ_VORSORGER': [-1],\n",
              " 'GEBAEUDETYP': [-1, 0],\n",
              " 'GEOSCORE_KLS7': [-1, 0],\n",
              " 'HAUSHALTSSTRUKTUR': [-1, 0],\n",
              " 'HEALTH_TYP': [-1],\n",
              " 'HH_EINKOMMEN_SCORE': [-1, 0],\n",
              " 'INNENSTADT': [-1],\n",
              " 'KBA05_ALTER1': [-1, 9],\n",
              " 'KBA05_ALTER2': [-1, 9],\n",
              " 'KBA05_ALTER3': [-1, 9],\n",
              " 'KBA05_ALTER4': [-1, 9],\n",
              " 'KBA05_ANHANG': [-1, 9],\n",
              " 'KBA05_ANTG1': [-1],\n",
              " 'KBA05_ANTG2': [-1],\n",
              " 'KBA05_ANTG3': [-1],\n",
              " 'KBA05_ANTG4': [-1],\n",
              " 'KBA05_AUTOQUOT': [-1, 9],\n",
              " 'KBA05_BAUMAX': [-1, 0],\n",
              " 'KBA05_CCM1': [-1, 9],\n",
              " 'KBA05_CCM2': [-1, 9],\n",
              " 'KBA05_CCM3': [-1, 9],\n",
              " 'KBA05_CCM4': [-1, 9],\n",
              " 'KBA05_DIESEL': [-1, 9],\n",
              " 'KBA05_FRAU': [-1, 9],\n",
              " 'KBA05_GBZ': [-1, 0],\n",
              " 'KBA05_HERST1': [-1, 9],\n",
              " 'KBA05_HERST2': [-1, 9],\n",
              " 'KBA05_HERST3': [-1, 9],\n",
              " 'KBA05_HERST4': [-1, 9],\n",
              " 'KBA05_HERST5': [-1, 9],\n",
              " 'KBA05_HERSTTEMP': [-1, 9],\n",
              " 'KBA05_KRSAQUOT': [-1, 9],\n",
              " 'KBA05_KRSHERST1': [-1, 9],\n",
              " 'KBA05_KRSHERST2': [-1, 9],\n",
              " 'KBA05_KRSHERST3': [-1, 9],\n",
              " 'KBA05_KRSKLEIN': [-1, 9],\n",
              " 'KBA05_KRSOBER': [-1, 9],\n",
              " 'KBA05_KRSVAN': [-1, 9],\n",
              " 'KBA05_KRSZUL': [-1, 9],\n",
              " 'KBA05_KW1': [-1, 9],\n",
              " 'KBA05_KW2': [-1, 9],\n",
              " 'KBA05_KW3': [-1, 9],\n",
              " 'KBA05_MAXAH': [-1, 9],\n",
              " 'KBA05_MAXBJ': [-1, 9],\n",
              " 'KBA05_MAXHERST': [-1, 9],\n",
              " 'KBA05_MAXSEG': [-1, 9],\n",
              " 'KBA05_MAXVORB': [-1, 9],\n",
              " 'KBA05_MOD1': [-1, 9],\n",
              " 'KBA05_MOD2': [-1, 9],\n",
              " 'KBA05_MOD3': [-1, 9],\n",
              " 'KBA05_MOD4': [-1, 9],\n",
              " 'KBA05_MOD8': [-1, 9],\n",
              " 'KBA05_MODTEMP': [-1, 9],\n",
              " 'KBA05_MOTOR': [-1, 9],\n",
              " 'KBA05_MOTRAD': [-1, 9],\n",
              " 'KBA05_SEG1': [-1, 9],\n",
              " 'KBA05_SEG10': [-1, 9],\n",
              " 'KBA05_SEG2': [-1, 9],\n",
              " 'KBA05_SEG3': [-1, 9],\n",
              " 'KBA05_SEG4': [-1, 9],\n",
              " 'KBA05_SEG5': [-1, 9],\n",
              " 'KBA05_SEG6': [-1, 9],\n",
              " 'KBA05_SEG7': [-1, 9],\n",
              " 'KBA05_SEG8': [-1, 9],\n",
              " 'KBA05_SEG9': [-1, 9],\n",
              " 'KBA05_VORB0': [-1, 9],\n",
              " 'KBA05_VORB1': [-1, 9],\n",
              " 'KBA05_VORB2': [-1, 9],\n",
              " 'KBA05_ZUL1': [-1, 9],\n",
              " 'KBA05_ZUL2': [-1, 9],\n",
              " 'KBA05_ZUL3': [-1, 9],\n",
              " 'KBA05_ZUL4': [-1, 9],\n",
              " 'KBA13_ALTERHALTER_30': [-1],\n",
              " 'KBA13_ALTERHALTER_45': [-1],\n",
              " 'KBA13_ALTERHALTER_60': [-1],\n",
              " 'KBA13_ALTERHALTER_61': [-1],\n",
              " 'KBA13_AUDI': [-1],\n",
              " 'KBA13_AUTOQUOTE': [-1],\n",
              " 'KBA13_BJ_1999': [-1],\n",
              " 'KBA13_BJ_2000': [-1],\n",
              " 'KBA13_BJ_2004': [-1],\n",
              " 'KBA13_BJ_2006': [-1],\n",
              " 'KBA13_BJ_2008': [-1],\n",
              " 'KBA13_BJ_2009': [-1],\n",
              " 'KBA13_BMW': [-1],\n",
              " 'KBA13_CCM_0_1400': [-1],\n",
              " 'KBA13_CCM_1000': [-1],\n",
              " 'KBA13_CCM_1200': [-1],\n",
              " 'KBA13_CCM_1400': [-1],\n",
              " 'KBA13_CCM_1400_2500': [-1],\n",
              " 'KBA13_CCM_1500': [-1],\n",
              " 'KBA13_CCM_1600': [-1],\n",
              " 'KBA13_CCM_1800': [-1],\n",
              " 'KBA13_CCM_2000': [-1],\n",
              " 'KBA13_CCM_2500': [-1],\n",
              " 'KBA13_CCM_2501': [-1],\n",
              " 'KBA13_CCM_3000': [-1],\n",
              " 'KBA13_CCM_3001': [-1],\n",
              " 'KBA13_FAB_ASIEN': [-1],\n",
              " 'KBA13_FAB_SONSTIGE': [-1],\n",
              " 'KBA13_FIAT': [-1],\n",
              " 'KBA13_FORD': [-1],\n",
              " 'KBA13_HALTER_20': [-1],\n",
              " 'KBA13_HALTER_25': [-1],\n",
              " 'KBA13_HALTER_30': [-1],\n",
              " 'KBA13_HALTER_35': [-1],\n",
              " 'KBA13_HALTER_40': [-1],\n",
              " 'KBA13_HALTER_45': [-1],\n",
              " 'KBA13_HALTER_50': [-1],\n",
              " 'KBA13_HALTER_55': [-1],\n",
              " 'KBA13_HALTER_60': [-1],\n",
              " 'KBA13_HALTER_65': [-1],\n",
              " 'KBA13_HALTER_66': [-1],\n",
              " 'KBA13_HERST_ASIEN': [-1],\n",
              " 'KBA13_HERST_AUDI_VW': [-1],\n",
              " 'KBA13_HERST_BMW_BENZ': [-1],\n",
              " 'KBA13_HERST_EUROPA': [-1],\n",
              " 'KBA13_HERST_FORD_OPEL': [-1],\n",
              " 'KBA13_HERST_SONST': [-1],\n",
              " 'KBA13_KMH_0_140': [-1],\n",
              " 'KBA13_KMH_110': [-1],\n",
              " 'KBA13_KMH_140': [-1],\n",
              " 'KBA13_KMH_140_210': [-1],\n",
              " 'KBA13_KMH_180': [-1],\n",
              " 'KBA13_KMH_211': [-1],\n",
              " 'KBA13_KMH_250': [-1],\n",
              " 'KBA13_KMH_251': [-1],\n",
              " 'KBA13_KRSAQUOT': [-1],\n",
              " 'KBA13_KRSHERST_AUDI_VW': [-1],\n",
              " 'KBA13_KRSHERST_BMW_BENZ': [-1],\n",
              " 'KBA13_KRSHERST_FORD_OPEL': [-1],\n",
              " 'KBA13_KRSSEG_KLEIN': [-1],\n",
              " 'KBA13_KRSSEG_OBER': [-1],\n",
              " 'KBA13_KRSSEG_VAN': [-1],\n",
              " 'KBA13_KRSZUL_NEU': [-1],\n",
              " 'KBA13_KW_0_60': [-1],\n",
              " 'KBA13_KW_110': [-1],\n",
              " 'KBA13_KW_120': [-1],\n",
              " 'KBA13_KW_121': [-1],\n",
              " 'KBA13_KW_30': [-1],\n",
              " 'KBA13_KW_40': [-1],\n",
              " 'KBA13_KW_50': [-1],\n",
              " 'KBA13_KW_60': [-1],\n",
              " 'KBA13_KW_61_120': [-1],\n",
              " 'KBA13_KW_70': [-1],\n",
              " 'KBA13_KW_80': [-1],\n",
              " 'KBA13_KW_90': [-1],\n",
              " 'KBA13_MAZDA': [-1],\n",
              " 'KBA13_MERCEDES': [-1],\n",
              " 'KBA13_MOTOR': [-1],\n",
              " 'KBA13_NISSAN': [-1],\n",
              " 'KBA13_OPEL': [-1],\n",
              " 'KBA13_PEUGEOT': [-1],\n",
              " 'KBA13_RENAULT': [-1],\n",
              " 'KBA13_SEG_GELAENDEWAGEN': [-1],\n",
              " 'KBA13_SEG_GROSSRAUMVANS': [-1],\n",
              " 'KBA13_SEG_KLEINST': [-1],\n",
              " 'KBA13_SEG_KLEINWAGEN': [-1],\n",
              " 'KBA13_SEG_KOMPAKTKLASSE': [-1],\n",
              " 'KBA13_SEG_MINIVANS': [-1],\n",
              " 'KBA13_SEG_MINIWAGEN': [-1],\n",
              " 'KBA13_SEG_MITTELKLASSE': [-1],\n",
              " 'KBA13_SEG_OBEREMITTELKLASSE': [-1],\n",
              " 'KBA13_SEG_OBERKLASSE': [-1],\n",
              " 'KBA13_SEG_SONSTIGE': [-1],\n",
              " 'KBA13_SEG_SPORTWAGEN': [-1],\n",
              " 'KBA13_SEG_UTILITIES': [-1],\n",
              " 'KBA13_SEG_VAN': [-1],\n",
              " 'KBA13_SEG_WOHNMOBILE': [-1],\n",
              " 'KBA13_SITZE_4': [-1],\n",
              " 'KBA13_SITZE_5': [-1],\n",
              " 'KBA13_SITZE_6': [-1],\n",
              " 'KBA13_TOYOTA': [-1],\n",
              " 'KBA13_VORB_0': [-1],\n",
              " 'KBA13_VORB_1': [-1],\n",
              " 'KBA13_VORB_1_2': [-1],\n",
              " 'KBA13_VORB_2': [-1],\n",
              " 'KBA13_VORB_3': [-1],\n",
              " 'KBA13_VW': [-1],\n",
              " 'KKK': [-1, 0],\n",
              " 'NATIONALITAET_KZ': [-1, 0],\n",
              " 'ORTSGR_KLS9': [-1],\n",
              " 'OST_WEST_KZ': [-1],\n",
              " 'PLZ8_ANTG1': [-1],\n",
              " 'PLZ8_ANTG2': [-1],\n",
              " 'PLZ8_ANTG3': [-1],\n",
              " 'PLZ8_ANTG4': [-1],\n",
              " 'PLZ8_GBZ': [-1],\n",
              " 'PLZ8_HHZ': [-1],\n",
              " 'PRAEGENDE_JUGENDJAHRE': [-1, 0],\n",
              " 'REGIOTYP': [-1, 0],\n",
              " 'RELAT_AB': [-1, 9],\n",
              " 'RETOURTYP_BK_S': [0],\n",
              " 'SEMIO_DOM': [-1, 9],\n",
              " 'SEMIO_ERL': [-1, 9],\n",
              " 'SEMIO_FAM': [-1, 9],\n",
              " 'SEMIO_KAEM': [-1, 9],\n",
              " 'SEMIO_KRIT': [-1, 9],\n",
              " 'SEMIO_KULT': [-1, 9],\n",
              " 'SEMIO_LUST': [-1, 9],\n",
              " 'SEMIO_MAT': [-1, 9],\n",
              " 'SEMIO_PFLICHT': [-1, 9],\n",
              " 'SEMIO_RAT': [-1, 9],\n",
              " 'SEMIO_REL': [-1, 9],\n",
              " 'SEMIO_SOZ': [-1, 9],\n",
              " 'SEMIO_TRADV': [-1, 9],\n",
              " 'SEMIO_VERT': [-1, 9],\n",
              " 'SHOPPER_TYP': [-1],\n",
              " 'SOHO_FLAG': [-1],\n",
              " 'TITEL_KZ': [-1, 0],\n",
              " 'VERS_TYP': [-1],\n",
              " 'WACHSTUMSGEBIET_NB': [-1, 0],\n",
              " 'WOHNDAUER_2008': [-1, 0],\n",
              " 'WOHNLAGE': [-1],\n",
              " 'W_KEIT_KIND_HH': [-1, 0],\n",
              " 'ZABEOTYP': [-1, 9]}"
            ]
          },
          "metadata": {
            "tags": []
          },
          "execution_count": 80
        }
      ]
    },
    {
      "cell_type": "code",
      "metadata": {
        "id": "b16L3ECOmFYz",
        "colab_type": "code",
        "colab": {}
      },
      "source": [
        "#replace null values with np.nan in the df\n",
        "azdias.replace(null_columns, np.nan, inplace=True)\n",
        "customers.replace(null_columns, np.nan, inplace=True)"
      ],
      "execution_count": null,
      "outputs": []
    },
    {
      "cell_type": "code",
      "metadata": {
        "id": "O5GzBgGEnQtS",
        "colab_type": "code",
        "colab": {
          "base_uri": "https://localhost:8080/",
          "height": 50
        },
        "outputId": "db15b8cc-d1b0-4547-abd8-b3ef18b512a9"
      },
      "source": [
        "print(azdias.shape)\n",
        "print(customers.shape)"
      ],
      "execution_count": null,
      "outputs": [
        {
          "output_type": "stream",
          "text": [
            "(891221, 366)\n",
            "(191652, 369)\n"
          ],
          "name": "stdout"
        }
      ]
    },
    {
      "cell_type": "code",
      "metadata": {
        "id": "WsrfLDPjnQzP",
        "colab_type": "code",
        "colab": {}
      },
      "source": [
        "#function to plot missing values percentage for features.\n",
        "\n",
        "def plot_missingvalues_percentage(df_list, limit, plot_titles):\n",
        "    \"\"\"\n",
        "    This function will take dataframes and calcualte the missing value percentage of each feature.\n",
        "    Then plot the percentage above a set limit.\n",
        "    \n",
        "    Args: dataframe list, missing value percentage limit to plot, plot titles\n",
        "    Return: None\n",
        "    \n",
        "    \"\"\"\n",
        "    Dataset = df_list\n",
        "    missing_limit = limit   #set the limit for missing values to plot.\n",
        "    titles = plot_titles\n",
        "               \n",
        "    fig, axes = plt.subplots(figsize=(14, 8) , nrows = 1, ncols = len(Dataset))  # Set up the matplotlib figure\n",
        "    fig.tight_layout(pad=8.0)\n",
        "\n",
        "    for i,data in enumerate(Dataset):\n",
        "        feature =[]\n",
        "        missing_value =[]\n",
        "        total = data.shape[0]        \n",
        "\n",
        "        for column in data:\n",
        "            missing_col = 1-(data[column].count()/total)     #calculate the missing value percentage\n",
        "            if  missing_col >= missing_limit:\n",
        "                feature.append(column)\n",
        "                missing_value.append(missing_col)\n",
        "\n",
        "        axes[i].barh(y = feature, width=missing_value, height=0.4)  #plot the graph\n",
        "        axes[i].set(xlabel='Missing Value %')\n",
        "        axes[i].set_title(titles[i])\n",
        "        axes[i].vlines(x = 0.4, ymin =feature[0], ymax=feature[-1], colors='r', linestyles='dashed') #add a cutoffline to plot\n",
        "        for u, v in enumerate(missing_value):\n",
        "            value = \"{:.2f}\".format(v)\n",
        "            axes[i].text(v, u, str(value), color='blue', fontweight='bold') "
      ],
      "execution_count": null,
      "outputs": []
    },
    {
      "cell_type": "code",
      "metadata": {
        "id": "ApxGqy2anQ2A",
        "colab_type": "code",
        "colab": {
          "base_uri": "https://localhost:8080/",
          "height": 473
        },
        "outputId": "e3143f5d-874e-4835-a6ac-b8011838969c"
      },
      "source": [
        "data_list = [azdias, customers]\n",
        "data_titles = ['azdias', 'customers']\n",
        "plot_missingvalues_percentage(data_list, 0.3, data_titles)"
      ],
      "execution_count": null,
      "outputs": [
        {
          "output_type": "display_data",
          "data": {
            "image/png": "[encoded data removed]",
            "text/plain": [
              "<Figure size 1008x576 with 2 Axes>"
            ]
          },
          "metadata": {
            "tags": [],
            "needs_background": "light"
          }
        }
      ]
    },
    {
      "cell_type": "markdown",
      "metadata": {
        "id": "Qxi8rAsKKB1F",
        "colab_type": "text"
      },
      "source": [
        "**Dropping features with higher missing value**\n",
        "<br>\n",
        "For this task, missing value percentage above 40% is dropped from the dfs. \n",
        "'AGER_TYP', 'ALTER_KIND1', 'ALTER_KIND2', 'ALTER_KIND3', 'ALTER_KIND4', 'EXTSEL992', 'KBA05_BAUMAX', 'KK_KUNDENTYP', 'TITEL_KZ' features are dropped from both the dfs.\n",
        "<br>\n",
        "In addition 'CUSTOMER_GROUP','PRODUCT_GROUP','ONLINE_PURCHASE'  features are also dropped from the customers dfs."
      ]
    },
    {
      "cell_type": "code",
      "metadata": {
        "id": "lxvPG2PpnQ5P",
        "colab_type": "code",
        "colab": {}
      },
      "source": [
        "#drop columns which have more than 40% missing values from azdias and customers\n",
        "#drop additional 'CUSTOMER_GROUP','ONLINE_PURCHASE','PRODUCT_GROUP' cloumns from customers\n",
        "\n",
        "drop_azdias = ['AGER_TYP', 'ALTER_KIND1', 'ALTER_KIND2', 'ALTER_KIND3', 'ALTER_KIND4', 'EXTSEL992', 'KBA05_BAUMAX', 'KK_KUNDENTYP', 'TITEL_KZ']\n",
        "drop_customers = ['CUSTOMER_GROUP','PRODUCT_GROUP','ONLINE_PURCHASE','AGER_TYP', 'ALTER_KIND1', 'ALTER_KIND2', 'ALTER_KIND3', 'ALTER_KIND4', 'EXTSEL992', 'KBA05_BAUMAX', 'KK_KUNDENTYP', 'TITEL_KZ']\n",
        "\n",
        "azdias.drop(columns= drop_azdias, inplace=True)\n",
        "customers.drop(columns= drop_customers, inplace=True)"
      ],
      "execution_count": null,
      "outputs": []
    },
    {
      "cell_type": "code",
      "metadata": {
        "id": "yiwQ9RXfnQ7i",
        "colab_type": "code",
        "colab": {
          "base_uri": "https://localhost:8080/",
          "height": 473
        },
        "outputId": "65e17daa-4b15-4411-a958-cbbf06e96c45"
      },
      "source": [
        "#plot the rows with the number of null value cell count\n",
        "\n",
        "Dataset = [azdias, customers]\n",
        "titles = ['azdias', 'customers']\n",
        "fig, axes = plt.subplots(figsize=(14, 8) , nrows = len(Dataset), ncols = 1)  # Set up the matplotlib figure\n",
        "fig.tight_layout(pad=8.0)\n",
        "\n",
        "for i,data in enumerate(Dataset):\n",
        "    missing_values_row = data.isnull().sum(axis=1).value_counts().index.tolist()\n",
        "    missing_counts_row = data.isnull().sum(axis=1).value_counts().values.tolist()      \n",
        "\n",
        "    axes[i].bar(x= missing_values_row, height=missing_counts_row, width=0.8)  #plot the graph\n",
        "    axes[i].set(xlabel='Null value cell count')\n",
        "    axes[i].set(ylabel='No.of rows')\n",
        "    axes[i].set_title(titles[i])  "
      ],
      "execution_count": null,
      "outputs": [
        {
          "output_type": "display_data",
          "data": {
            "image/png": "[encoded data removed]",
            "text/plain": [
              "<Figure size 1008x576 with 2 Axes>"
            ]
          },
          "metadata": {
            "tags": [],
            "needs_background": "light"
          }
        }
      ]
    },
    {
      "cell_type": "markdown",
      "metadata": {
        "id": "OdLw--0mKIHT",
        "colab_type": "text"
      },
      "source": [
        "Both df has 357 features and 250 is selected as the cutoff value since more than that means the rows do not have 70% of the data.From the graph, we can see customers df has more missing cell values above the cutoff value. It should be noted that droping these rows will still retain majority of the data."
      ]
    },
    {
      "cell_type": "code",
      "metadata": {
        "id": "r3I-1kMSnRAJ",
        "colab_type": "code",
        "colab": {}
      },
      "source": [
        "#drop rows which has more then 250 null cells\n",
        "azdias.dropna(axis=0, thresh=250, inplace=True)\n",
        "customers.dropna(axis=0, thresh=250, inplace=True)"
      ],
      "execution_count": null,
      "outputs": []
    },
    {
      "cell_type": "code",
      "metadata": {
        "id": "-sBjRI9knQ-7",
        "colab_type": "code",
        "colab": {
          "base_uri": "https://localhost:8080/",
          "height": 50
        },
        "outputId": "1afb12a9-99ad-47f6-f726-d3a62200ec34"
      },
      "source": [
        "print(azdias.shape)\n",
        "print(customers.shape)"
      ],
      "execution_count": null,
      "outputs": [
        {
          "output_type": "stream",
          "text": [
            "(785420, 357)\n",
            "(140371, 357)\n"
          ],
          "name": "stdout"
        }
      ]
    },
    {
      "cell_type": "markdown",
      "metadata": {
        "id": "CDUQ2g0IKRZo",
        "colab_type": "text"
      },
      "source": [
        "The next section will analyse features with object data type and convert data to integers or bin large groups into suitable sizes."
      ]
    },
    {
      "cell_type": "code",
      "metadata": {
        "id": "q5wYx7FNngB7",
        "colab_type": "code",
        "colab": {
          "base_uri": "https://localhost:8080/",
          "height": 67
        },
        "outputId": "c870e3e5-807e-4c7f-e619-167d233a61fa"
      },
      "source": [
        "#get the list of column names with dtype as object\n",
        "obj_list = azdias.select_dtypes(include='object').columns\n",
        "obj_list"
      ],
      "execution_count": null,
      "outputs": [
        {
          "output_type": "execute_result",
          "data": {
            "text/plain": [
              "Index(['CAMEO_DEU_2015', 'CAMEO_DEUG_2015', 'CAMEO_INTL_2015',\n",
              "       'D19_LETZTER_KAUF_BRANCHE', 'EINGEFUEGT_AM', 'OST_WEST_KZ'],\n",
              "      dtype='object')"
            ]
          },
          "metadata": {
            "tags": []
          },
          "execution_count": 15
        }
      ]
    },
    {
      "cell_type": "code",
      "metadata": {
        "id": "mg5mZDTUngI5",
        "colab_type": "code",
        "colab": {
          "base_uri": "https://localhost:8080/",
          "height": 67
        },
        "outputId": "5e7cabb5-bf89-4d36-c378-a5164f824d2c"
      },
      "source": [
        "obj_list_2 = customers.select_dtypes(include='object').columns\n",
        "obj_list_2"
      ],
      "execution_count": null,
      "outputs": [
        {
          "output_type": "execute_result",
          "data": {
            "text/plain": [
              "Index(['CAMEO_DEU_2015', 'CAMEO_DEUG_2015', 'CAMEO_INTL_2015',\n",
              "       'D19_LETZTER_KAUF_BRANCHE', 'EINGEFUEGT_AM', 'OST_WEST_KZ'],\n",
              "      dtype='object')"
            ]
          },
          "metadata": {
            "tags": []
          },
          "execution_count": 16
        }
      ]
    },
    {
      "cell_type": "markdown",
      "metadata": {
        "id": "2tzXnbWZKVPc",
        "colab_type": "text"
      },
      "source": [
        "Since object dtype features are same in azdias as well as customers (and later on in the mailout train/test data), function will be written to convert these features. \n",
        "\n",
        "Also, 'D19_LETZTER_KAUF_BRANCHE' column will be dropped since no explanation is provided on the attribute in the addiaionl file and looking at the values, it seems like this column contain the group of the last tranctional activty group. Since detail transctional acitivity of individuals are provided in other columns , it is decided to drop this.  "
      ]
    },
    {
      "cell_type": "code",
      "metadata": {
        "id": "bba49UhvngN6",
        "colab_type": "code",
        "colab": {}
      },
      "source": [
        "#convert object dtype columns to ints dtype\n",
        "\n",
        "def convertobjects(dataset):\n",
        "    \"\"\"\n",
        "    convert object dtype features to integers by mapping.\n",
        "    args: dataset\n",
        "    return: None\n",
        "    \n",
        "    \"\"\"\n",
        "    CAMEO_dict = {\"1\": 1, \"2\": 2, \"3\": 3, \"4\": 4, \"5\":5, \"6\":6, \"7\":7, \"8\": 8, \"9\":9}\n",
        "    \n",
        "    #get the first element of the string and map.\n",
        "    dataset['CAMEO_DEU_2015']= dataset['CAMEO_DEU_2015'].astype(str).str[0].map(CAMEO_dict)\n",
        "    dataset['CAMEO_DEUG_2015']= dataset['CAMEO_DEUG_2015'].astype(str).str[0].map(CAMEO_dict)\n",
        "    dataset['CAMEO_INTL_2015']= dataset['CAMEO_INTL_2015'].astype(str).str[0].map(CAMEO_dict)\n",
        "    \n",
        "    #extract the first 4 characters as a int\n",
        "    dataset['EINGEFUEGT_AM']= dataset['EINGEFUEGT_AM'].str[:4].astype('float').astype('Int32')  \n",
        "    \n",
        "    dataset['OST_WEST_KZ']= dataset['OST_WEST_KZ'].map({\"W\":1 , \"O\":0})"
      ],
      "execution_count": null,
      "outputs": []
    },
    {
      "cell_type": "code",
      "metadata": {
        "id": "vHcyXHinnlk6",
        "colab_type": "code",
        "colab": {}
      },
      "source": [
        "convertobjects(azdias)\n",
        "convertobjects(customers)"
      ],
      "execution_count": null,
      "outputs": []
    },
    {
      "cell_type": "code",
      "metadata": {
        "id": "FRlfrqyLnlrK",
        "colab_type": "code",
        "colab": {
          "base_uri": "https://localhost:8080/",
          "height": 34
        },
        "outputId": "1f48b70f-faeb-43be-a466-d17515efb6e0"
      },
      "source": [
        "azdias.select_dtypes(include='object').columns"
      ],
      "execution_count": null,
      "outputs": [
        {
          "output_type": "execute_result",
          "data": {
            "text/plain": [
              "Index(['D19_LETZTER_KAUF_BRANCHE'], dtype='object')"
            ]
          },
          "metadata": {
            "tags": []
          },
          "execution_count": 19
        }
      ]
    },
    {
      "cell_type": "code",
      "metadata": {
        "id": "crU9lslenlub",
        "colab_type": "code",
        "colab": {}
      },
      "source": [
        "#drop the object dtype columns and LNR\n",
        "azdias.drop(columns= ['D19_LETZTER_KAUF_BRANCHE','LNR'], inplace=True)\n",
        "customers.drop(columns= ['D19_LETZTER_KAUF_BRANCHE','LNR'], inplace=True)"
      ],
      "execution_count": null,
      "outputs": []
    },
    {
      "cell_type": "code",
      "metadata": {
        "id": "_x0S1wnLnl12",
        "colab_type": "code",
        "colab": {
          "base_uri": "https://localhost:8080/",
          "height": 50
        },
        "outputId": "f06843a8-590c-426e-f1b5-15e3fae97132"
      },
      "source": [
        "print(azdias.shape)\n",
        "print(customers.shape)"
      ],
      "execution_count": null,
      "outputs": [
        {
          "output_type": "stream",
          "text": [
            "(785420, 355)\n",
            "(140371, 355)\n"
          ],
          "name": "stdout"
        }
      ]
    },
    {
      "cell_type": "markdown",
      "metadata": {
        "id": "RZpjraSuKc3K",
        "colab_type": "text"
      },
      "source": [
        "Most of the features in the dfs are categorical type. Once the object dtype are succefully convert to ints/floats, the next step is to identify how many categories are there in each feature and if it is too large (high cardinality), reconstruct them in to smaller categories by binning."
      ]
    },
    {
      "cell_type": "code",
      "metadata": {
        "id": "8qeMHO00nlzJ",
        "colab_type": "code",
        "colab": {}
      },
      "source": [
        "#get the columns with more than 15 categories.\n",
        "big_category_columns = []\n",
        "for columns in azdias.columns:\n",
        "    groups = azdias[columns].nunique()\n",
        "#     print('{}  ----  {}'.format(columns, groups))\n",
        "    if groups >15:\n",
        "        big_category_columns.append(columns)   #list of columns with more than 15 unique data. \n",
        "        "
      ],
      "execution_count": null,
      "outputs": []
    },
    {
      "cell_type": "code",
      "metadata": {
        "id": "xoxJM88Xnlxs",
        "colab_type": "code",
        "colab": {
          "base_uri": "https://localhost:8080/",
          "height": 235
        },
        "outputId": "ba8752ec-a88f-4311-e9c7-0ffacdcfbad1"
      },
      "source": [
        "big_category_columns"
      ],
      "execution_count": null,
      "outputs": [
        {
          "output_type": "execute_result",
          "data": {
            "text/plain": [
              "['ALTER_HH',\n",
              " 'ALTERSKATEGORIE_FEIN',\n",
              " 'ANZ_HAUSHALTE_AKTIV',\n",
              " 'ANZ_HH_TITEL',\n",
              " 'ANZ_PERSONEN',\n",
              " 'ANZ_STATISTISCHE_HAUSHALTE',\n",
              " 'EINGEFUEGT_AM',\n",
              " 'EINGEZOGENAM_HH_JAHR',\n",
              " 'GEBURTSJAHR',\n",
              " 'KBA13_ANZAHL_PKW',\n",
              " 'LP_LEBENSPHASE_FEIN',\n",
              " 'MIN_GEBAEUDEJAHR',\n",
              " 'VERDICHTUNGSRAUM']"
            ]
          },
          "metadata": {
            "tags": []
          },
          "execution_count": 23
        }
      ]
    },
    {
      "cell_type": "markdown",
      "metadata": {
        "id": "y7vvuAc9KmTG",
        "colab_type": "text"
      },
      "source": [
        "Looking at these columns, \n",
        "*   'LP_LEBENSPHASE_FEIN' is the more detailed breakdown of 'LP_LEBENSPHASE_GROB'. Considering 'LP_LEBENSPHASE_FEIN' has over 40 categories, this is dropped from the df.\n",
        "*   'GEBURTSJAHR' is the year of birth. But it contains value 0 which is not a valid data. Thus, the 0 is converted to a np.nan. Afterwards The distribution graphs of the big_category_columns were plotted to analyse the data. For the plotting azdias data is selected as it represents the general population.\n",
        "\n"
      ]
    },
    {
      "cell_type": "code",
      "metadata": {
        "id": "KEbNzUPCnxUg",
        "colab_type": "code",
        "colab": {}
      },
      "source": [
        "#droping the 'LP_LEBENSPHASE_FEIN' feature\n",
        "azdias.drop(columns= ['LP_LEBENSPHASE_FEIN'], inplace=True)\n",
        "customers.drop(columns= ['LP_LEBENSPHASE_FEIN'], inplace=True)"
      ],
      "execution_count": null,
      "outputs": []
    },
    {
      "cell_type": "code",
      "metadata": {
        "id": "tFRUrg7unxbp",
        "colab_type": "code",
        "colab": {}
      },
      "source": [
        "#converting value 0 of 'GEBURTSJAHR' feature to np.nan\n",
        "azdias['GEBURTSJAHR'].replace(0, np.nan, inplace=True)   #update the null coiumn value\n",
        "customers['GEBURTSJAHR'].replace(0, np.nan, inplace=True)   #update the null coiumn value"
      ],
      "execution_count": null,
      "outputs": []
    },
    {
      "cell_type": "code",
      "metadata": {
        "id": "l9XbUFRVnxhw",
        "colab_type": "code",
        "colab": {}
      },
      "source": [
        "# Set up the matplotlib figure for the disribution of big_category_columns\n",
        "\n",
        "def distribution_graphs(features):\n",
        "    fig, axes = plt.subplots(figsize=(12, 7) , nrows = 3, ncols = 4)\n",
        "    fig.tight_layout(pad=4.0)\n",
        "\n",
        "    for i in range(12):\n",
        "        if i<4:\n",
        "            axes[0,i].hist(x=azdias[features[i]].dropna(), color = 'blue', edgecolor = 'black')\n",
        "            axes[0,i].set_title('{}'.format(features[i]))\n",
        "        elif 4<=i<8:\n",
        "            axes[1,i-4].hist(x=azdias[features[i]].dropna(), color = 'blue', edgecolor = 'black')\n",
        "            axes[1,i-4].set_title('{}'.format(features[i]))\n",
        "        elif 8<=i<12:   \n",
        "            axes[2,i-8].hist(x=azdias[features[i]].dropna(), color = 'blue', edgecolor = 'black')\n",
        "            axes[2,i-8].set_title('{}'.format(features[i]))"
      ],
      "execution_count": null,
      "outputs": []
    },
    {
      "cell_type": "code",
      "metadata": {
        "id": "wDdCSSdYn3bl",
        "colab_type": "code",
        "colab": {
          "base_uri": "https://localhost:8080/",
          "height": 467
        },
        "outputId": "bdfedd64-e94a-411f-f665-9cc0367940eb"
      },
      "source": [
        "big_category_columns.remove('LP_LEBENSPHASE_FEIN')\n",
        "distribution_graphs(big_category_columns)"
      ],
      "execution_count": null,
      "outputs": [
        {
          "output_type": "display_data",
          "data": {
            "image/png": "[encoded data removed]",
            "text/plain": [
              "<Figure size 864x504 with 12 Axes>"
            ]
          },
          "metadata": {
            "tags": [],
            "needs_background": "light"
          }
        }
      ]
    },
    {
      "cell_type": "markdown",
      "metadata": {
        "id": "1rhrkrQUK8F_",
        "colab_type": "text"
      },
      "source": [
        "From the distribution graphs, we can see ANZ_HAUSHALTE_AKTIV','ANZ_HH_TITEL','ANZ_PERSONEN' and 'ANZ_STATISTISCHE_HAUSHALTE', 'EINGEFUEGT_AM', 'VERDICHTUNGSRAUM', 'MIN_GEBAEUDEJAHR' features are highly skewed. Also, 'EINGEFUEGT_AM','EINGEZOGENAM_HH_JAHR','GEBURTSJAHR' and 'MIN_GEBAEUDEJAHR' has year values for data. \n",
        "\n",
        "All of these features are reconstrued to cateogorical bins of levels <=10. The bin sizes/limits are decided by the azdias data. Once the bins are selected customers data is transformed according to those limits. For non skewed data bin limits are decied based on the quantile mathod. (e.g. value, bins = pd.qcut(azdias['feature'], q=10, retbins=True)"
      ]
    },
    {
      "cell_type": "code",
      "metadata": {
        "id": "cRXPl80qn3h_",
        "colab_type": "code",
        "colab": {}
      },
      "source": [
        "#function for reconstructing big_cateogrory columns to smaller number of levels.\n",
        "\n",
        "def reconstruct_big_cateogory(df):\n",
        "    \"\"\"\n",
        "    Reconstruct the large categorical features to levels <=10\n",
        "    args: dataframe\n",
        "    return:None\n",
        "    \n",
        "    \"\"\"\n",
        "    cut_10_labels= [1,2,3,4,5,6,7,8,9,10]\n",
        "    df['ALTER_HH_2']= pd.cut(x= df['ALTER_HH'], bins=[0,10,12,13,15,16,17,18,19,20,21], labels = cut_10_labels)   \n",
        "    df['ALTERSKATEGORIE_FEIN_2']= pd.cut(x= df['ALTERSKATEGORIE_FEIN'], bins=[-1,8,10,12,13,14,15,17,18,19,25], labels = cut_10_labels)\n",
        "    df['EINGEZOGENAM_HH_JAHR_2']= pd.cut(x= df['EINGEZOGENAM_HH_JAHR'], bins=[1899,1994,1997,1998,2001,2003,2005,2008, 2012,2014,2018], labels = cut_10_labels)\n",
        "    df['KBA13_ANZAHL_PKW_2']= pd.cut(x= df['KBA13_ANZAHL_PKW'], bins=[-1,263,347,417,482,549,623,719,851,1070,2300], labels = cut_10_labels)\n",
        "    df['GEBURTSJAHR_2']= pd.cut(x= df['GEBURTSJAHR'], bins=[1899,1942,1951,1958,1963,1967,1972,1978,1983,1990,2017], labels = cut_10_labels)\n",
        "    df['EINGEFUEGT_AM_2']= pd.cut(x= df['EINGEFUEGT_AM'], bins=[1990,1992,1993,1994,1995,1996,1997,2002,2004,2005,2013], labels = cut_10_labels)\n",
        "    df['MIN_GEBAEUDEJAHR_2']= pd.cut(x= df['MIN_GEBAEUDEJAHR'], bins=[1985,1991,1992,1993,1994,1995,1996,1997,2000,2004,2013], labels = cut_10_labels)\n",
        "    df['VERDICHTUNGSRAUM_2']= pd.cut(x= df['VERDICHTUNGSRAUM'], bins=[-1,0,1,2,3,4,7,11,15,30,45], labels = cut_10_labels)\n",
        "    \n",
        "    cut_7_labels =  [1,2,3,4,5,6,7]\n",
        "    df['ANZ_HAUSHALTE_AKTIV_2']= pd.cut(x= df['ANZ_HAUSHALTE_AKTIV'], bins=[-1,1,2,3,5,9,14,595], labels = cut_7_labels)\n",
        "    df['ANZ_STATISTISCHE_HAUSHALTE_2']= pd.cut(x= df['ANZ_STATISTISCHE_HAUSHALTE'], bins=[-1,1,2,3,5,8,13,449], labels = cut_7_labels)\n",
        "    df['ANZ_PERSONEN_2']= pd.cut(x= df['ANZ_PERSONEN'], bins=[-1,0,1,2,3,4,5,46], labels = cut_7_labels)\n",
        "    \n",
        "    cut_8_labels =  [0,1,2,3,4,5,6,7]\n",
        "    df['ANZ_HH_TITEL_2']= pd.cut(x= df['ANZ_HH_TITEL'], bins=[-1,0,1,2,3,4,5,8,23], labels = cut_8_labels)   "
      ],
      "execution_count": null,
      "outputs": []
    },
    {
      "cell_type": "code",
      "metadata": {
        "id": "0gK1jR4Wn3mC",
        "colab_type": "code",
        "colab": {}
      },
      "source": [
        "#reconstruct the dfs\n",
        "reconstruct_big_cateogory(azdias)\n",
        "reconstruct_big_cateogory(customers)"
      ],
      "execution_count": null,
      "outputs": []
    },
    {
      "cell_type": "code",
      "metadata": {
        "id": "HM8Tlvngn3pU",
        "colab_type": "code",
        "colab": {}
      },
      "source": [
        "reconstruct_cat_columns = ['ALTER_HH_2','ALTERSKATEGORIE_FEIN_2','ANZ_HAUSHALTE_AKTIV_2','ANZ_HH_TITEL_2','ANZ_PERSONEN_2',\n",
        "                     'ANZ_STATISTISCHE_HAUSHALTE_2','EINGEFUEGT_AM_2','EINGEZOGENAM_HH_JAHR_2','GEBURTSJAHR_2',\n",
        "                     'KBA13_ANZAHL_PKW_2','MIN_GEBAEUDEJAHR_2','VERDICHTUNGSRAUM_2']"
      ],
      "execution_count": null,
      "outputs": []
    },
    {
      "cell_type": "code",
      "metadata": {
        "id": "X3FGmoN4n3wT",
        "colab_type": "code",
        "colab": {
          "base_uri": "https://localhost:8080/",
          "height": 467
        },
        "outputId": "238dae67-bab8-4fd2-9297-2a8f7cccb29e"
      },
      "source": [
        "distribution_graphs(reconstruct_cat_columns)"
      ],
      "execution_count": null,
      "outputs": [
        {
          "output_type": "display_data",
          "data": {
            "image/png": "[encoded data removed]",
            "text/plain": [
              "<Figure size 864x504 with 12 Axes>"
            ]
          },
          "metadata": {
            "tags": [],
            "needs_background": "light"
          }
        }
      ]
    },
    {
      "cell_type": "markdown",
      "metadata": {
        "id": "qMQmZqKrLDPy",
        "colab_type": "text"
      },
      "source": [
        "The leves of the new features are now at a suitable range. So the big_category_columns are dropped from the dfs."
      ]
    },
    {
      "cell_type": "code",
      "metadata": {
        "id": "E1NHqmzdn3zZ",
        "colab_type": "code",
        "colab": {}
      },
      "source": [
        "#drop  big_category_columns from the dfs\n",
        "azdias.drop(columns=  big_category_columns, inplace=True)\n",
        "customers.drop(columns=  big_category_columns, inplace=True)"
      ],
      "execution_count": null,
      "outputs": []
    },
    {
      "cell_type": "code",
      "metadata": {
        "id": "bauZtIofoEhZ",
        "colab_type": "code",
        "colab": {
          "base_uri": "https://localhost:8080/",
          "height": 50
        },
        "outputId": "d532c66e-bbf9-4813-d6fb-00890c39f6be"
      },
      "source": [
        "print(azdias.shape)\n",
        "print(customers.shape)"
      ],
      "execution_count": null,
      "outputs": [
        {
          "output_type": "stream",
          "text": [
            "(785420, 354)\n",
            "(140371, 354)\n"
          ],
          "name": "stdout"
        }
      ]
    },
    {
      "cell_type": "markdown",
      "metadata": {
        "id": "Lk4cw0xQLJkP",
        "colab_type": "text"
      },
      "source": [
        "Moving to the last two steps in the data processing. The next step is to impute the missing value with the most frequent value for each feature. For each feature, frequnet value is seleced by the azdias dataset since it represents the population at large and that value is used to fill the cusotmers missing data as well. "
      ]
    },
    {
      "cell_type": "code",
      "metadata": {
        "id": "utU0oC1jKM82",
        "colab_type": "code",
        "colab": {}
      },
      "source": [
        "#get the most frequent value for each feature and create a dictionary\n",
        "frequent_dict = {}\n",
        "for columns in azdias.columns:\n",
        "  frequent_dict[columns] = azdias[columns].mode().iloc[0]\n",
        "  "
      ],
      "execution_count": null,
      "outputs": []
    },
    {
      "cell_type": "code",
      "metadata": {
        "id": "6UUbmJTUD0rt",
        "colab_type": "code",
        "colab": {}
      },
      "source": [
        "#fill dfs with the most frequent values  \n",
        "azdias.fillna(value=frequent_dict, inplace=True)\n",
        "customers.fillna(value=frequent_dict, inplace=True)"
      ],
      "execution_count": null,
      "outputs": []
    },
    {
      "cell_type": "code",
      "metadata": {
        "id": "xQ6knI7soEu0",
        "colab_type": "code",
        "colab": {
          "base_uri": "https://localhost:8080/",
          "height": 34
        },
        "outputId": "944a4bb3-7e4b-4bd1-80bd-6cd7ed64034f"
      },
      "source": [
        "#checking for null columns\n",
        "# checklist = azdias.columns[azdias.isna().any()].tolist()\n",
        "# checklist"
      ],
      "execution_count": null,
      "outputs": [
        {
          "output_type": "execute_result",
          "data": {
            "text/plain": [
              "[]"
            ]
          },
          "metadata": {
            "tags": []
          },
          "execution_count": 37
        }
      ]
    },
    {
      "cell_type": "code",
      "metadata": {
        "id": "eddGUhOQoEsq",
        "colab_type": "code",
        "colab": {
          "base_uri": "https://localhost:8080/",
          "height": 101
        },
        "outputId": "92a28e07-3102-4bf2-9a78-8108de9dc039"
      },
      "source": [
        "azdias.info()"
      ],
      "execution_count": null,
      "outputs": [
        {
          "output_type": "stream",
          "text": [
            "<class 'pandas.core.frame.DataFrame'>\n",
            "Int64Index: 785420 entries, 1 to 891220\n",
            "Columns: 354 entries, AKT_DAT_KL to ANZ_HH_TITEL_2\n",
            "dtypes: category(12), float64(256), int64(86)\n",
            "memory usage: 2.0 GB\n"
          ],
          "name": "stdout"
        }
      ]
    },
    {
      "cell_type": "code",
      "metadata": {
        "id": "VHF-V5oLoL-a",
        "colab_type": "code",
        "colab": {
          "base_uri": "https://localhost:8080/",
          "height": 101
        },
        "outputId": "d81abffd-f825-4477-e12d-1ad555a77f48"
      },
      "source": [
        "customers.info()"
      ],
      "execution_count": null,
      "outputs": [
        {
          "output_type": "stream",
          "text": [
            "<class 'pandas.core.frame.DataFrame'>\n",
            "Int64Index: 140371 entries, 0 to 191651\n",
            "Columns: 354 entries, AKT_DAT_KL to ANZ_HH_TITEL_2\n",
            "dtypes: category(12), float64(256), int64(86)\n",
            "memory usage: 368.9 MB\n"
          ],
          "name": "stdout"
        }
      ]
    },
    {
      "cell_type": "code",
      "metadata": {
        "id": "N1m8HYomoSix",
        "colab_type": "code",
        "colab": {}
      },
      "source": [
        "#save the cleaned file\n",
        "# azdias.to_csv(\"azdias_cleaned.gzip\",index = False, compression=\"gzip\")\n",
        "# customers.to_csv(\"customers_cleaned.gzip\",index = False, compression=\"gzip\")\n",
        "\n",
        "#open the cleaned data\n",
        "# azdias = pd.read_csv(\"azdias_cleaned.gzip\", compression=\"gzip\")\n",
        "# customers = pd.read_csv(\"customers_cleaned.gzip\", compression=\"gzip\")"
      ],
      "execution_count": 28,
      "outputs": []
    },
    {
      "cell_type": "markdown",
      "metadata": {
        "id": "Zcnc41TELoP_",
        "colab_type": "text"
      },
      "source": [
        "## Part 1: Customer Segmentation Report\n",
        "\n",
        "The main bulk of your analysis will come in this part of the project. Here, you should use unsupervised learning techniques to describe the relationship between the demographics of the company's existing customers and the general population of Germany. By the end of this part, you should be able to describe parts of the general population that are more likely to be part of the mail-order company's main customer base, and which parts of the general population are less so."
      ]
    },
    {
      "cell_type": "code",
      "metadata": {
        "id": "NvPBNUEw-pe4",
        "colab_type": "code",
        "colab": {}
      },
      "source": [
        "feature_list = azdias.columns  #get the feature names"
      ],
      "execution_count": 29,
      "outputs": []
    },
    {
      "cell_type": "markdown",
      "metadata": {
        "id": "yDbyJte5Lz5I",
        "colab_type": "text"
      },
      "source": [
        "Before applying PCA, feature shoould be scaled to a uniform size. In this case Min Max scaler is used."
      ]
    },
    {
      "cell_type": "code",
      "metadata": {
        "id": "xk4po5MnTB5P",
        "colab_type": "code",
        "colab": {
          "base_uri": "https://localhost:8080/",
          "height": 34
        },
        "outputId": "d9d50aff-d407-45a2-b799-db9125315d5d"
      },
      "source": [
        "#scaling the df using minmaxscaler\n",
        "scaler = MinMaxScaler()\n",
        "scaler.fit(azdias)"
      ],
      "execution_count": 30,
      "outputs": [
        {
          "output_type": "execute_result",
          "data": {
            "text/plain": [
              "MinMaxScaler(copy=True, feature_range=(0, 1))"
            ]
          },
          "metadata": {
            "tags": []
          },
          "execution_count": 30
        }
      ]
    },
    {
      "cell_type": "code",
      "metadata": {
        "id": "IcfWVLoxTy_O",
        "colab_type": "code",
        "colab": {}
      },
      "source": [
        "azdias = scaler.transform(azdias)\n",
        "customers = scaler.transform(customers)"
      ],
      "execution_count": 31,
      "outputs": []
    },
    {
      "cell_type": "markdown",
      "metadata": {
        "id": "6KsX7tLz4aBm",
        "colab_type": "text"
      },
      "source": [
        "### 1.1 PCA"
      ]
    },
    {
      "cell_type": "code",
      "metadata": {
        "id": "JOIbFjLxqYFe",
        "colab_type": "code",
        "colab": {}
      },
      "source": [
        "#function to model pca and plot the variance\n",
        "\n",
        "def pca_variance(dataframe, components): \n",
        "\n",
        "  \"\"\"\n",
        "  calculate the explained variance and plot the variance with the pca componenet number\n",
        "  args: dataframe/array, pca_components number\n",
        "  return: None  \n",
        "  \"\"\"\n",
        "  variance = []\n",
        "  for value in components:\n",
        "      pca_model = PCA(n_components=value)  #model the pca\n",
        "      pca_model.fit_transform(dataframe)   \n",
        "      variance.append(pca_model.explained_variance_ratio_.cumsum()[value-1])  #get the variace value\n",
        "      print(pca_model.explained_variance_ratio_.cumsum()[value-1])\n",
        "  print(variance)\n",
        "  print(components)\n",
        "      \n",
        "  #plot the variace\n",
        "  components_smooth = np.linspace(components[0], components[-1], 10)  #10 points are selected to get a smooth line\n",
        "  spl = make_interp_spline(components, variance, k=3)  # type: BSpline\n",
        "  varaince_smooth = spl(components_smooth)\n",
        "  \n",
        "  plt.scatter(components, variance)   #plot the variance as a scatter graph\n",
        "  plt.plot(components_smooth, varaince_smooth)  #plot the smooth line\n",
        "  plt.ylabel(\"Variance Covered\")\n",
        "  plt.xlabel(\"PCA Components\")\n",
        "  plt.title(\"Variance covered by PCA Components\")\n",
        "  plt.show()"
      ],
      "execution_count": 35,
      "outputs": []
    },
    {
      "cell_type": "code",
      "metadata": {
        "id": "2lsyEVtwqYCp",
        "colab_type": "code",
        "colab": {
          "base_uri": "https://localhost:8080/",
          "height": 396
        },
        "outputId": "72d667ae-03ff-41ad-92c8-649f661d4212"
      },
      "source": [
        "#apply pca\n",
        "pca_components = [130, 150,170, 190]\n",
        "pca_variance(azdias,pca_components)"
      ],
      "execution_count": null,
      "outputs": [
        {
          "output_type": "stream",
          "text": [
            "0.8534275636952924\n",
            "0.8863019460905036\n",
            "0.9131666289781691\n",
            "0.9347333415629413\n",
            "[0.8534275636952924, 0.8863019460905036, 0.9131666289781691, 0.9347333415629413]\n",
            "[130, 150, 170, 190]\n"
          ],
          "name": "stdout"
        },
        {
          "output_type": "display_data",
          "data": {
            "image/png": "[encoded data removed]",
            "text/plain": [
              "<Figure size 432x288 with 1 Axes>"
            ]
          },
          "metadata": {
            "tags": [],
            "needs_background": "light"
          }
        }
      ]
    },
    {
      "cell_type": "markdown",
      "metadata": {
        "id": "8syYNxJmMBRj",
        "colab_type": "text"
      },
      "source": [
        "Considering the total variace captured by principal components, 170 PCA components is selected as it covers above 90% of the total variance."
      ]
    },
    {
      "cell_type": "code",
      "metadata": {
        "id": "C30K8I0WoSgr",
        "colab_type": "code",
        "colab": {}
      },
      "source": [
        "#select the pca_component and transform the dataset\n",
        "\n",
        "pca_model = PCA(n_components=170)\n",
        "\n",
        "azdias_transformed = pca_model.fit_transform(azdias)\n",
        "customers_transformed = pca_model.transform(customers)"
      ],
      "execution_count": 36,
      "outputs": []
    },
    {
      "cell_type": "code",
      "metadata": {
        "id": "3c2fpV-Oq51M",
        "colab_type": "code",
        "colab": {}
      },
      "source": [
        "#save the transformed file\n",
        "# pd.DataFrame(azdias_transformed).to_csv(\"azdias_transformed.gzip\",index = False, compression=\"gzip\")\n",
        "# pd.DataFrame(customers_transformed).to_csv(\"customers_transformed.gzip\",index = False, compression=\"gzip\")\n",
        "\n",
        "#open the transformed files\n",
        "# azdias_transformed = pd.read_csv(\"azdias_transformed.gzip\",compression='gzip')\n",
        "# customers_transformed = pd.read_csv(\"customers_transformed.gzip\",compression='gzip')"
      ],
      "execution_count": null,
      "outputs": []
    },
    {
      "cell_type": "markdown",
      "metadata": {
        "id": "fl6pcvVA4h5H",
        "colab_type": "text"
      },
      "source": [
        "### 1.2 Elbow method\n",
        "\n",
        "Too high clusters points will fail to capture the patterns of clusters and overfit. To select the optimum cluster size elbow method is used. This is a common heuristic mathematical optimisation method in which it calucate the sum of squared distances from each point to its assigned center. The elbow act as a cutoff point where the additioanl clusters will not significanlty reduce the cost."
      ]
    },
    {
      "cell_type": "code",
      "metadata": {
        "id": "AfJ87srzrITF",
        "colab_type": "code",
        "colab": {
          "base_uri": "https://localhost:8080/",
          "height": 54
        },
        "outputId": "abf14dd7-8967-4b57-e7b9-3104112e20f4"
      },
      "source": [
        "# calcualte the SSD for the optimum k for k-means\n",
        "from sklearn.cluster import KMeans\n",
        "\n",
        "Sum_of_squared_distances = []\n",
        "K = range(3,12)\n",
        "for k in K:\n",
        "    km = KMeans(n_clusters=k)\n",
        "    km = km.fit(azdias_transformed)\n",
        "    Sum_of_squared_distances.append(km.inertia_)\n",
        "\n",
        "print(Sum_of_squared_distances)"
      ],
      "execution_count": null,
      "outputs": [
        {
          "output_type": "stream",
          "text": [
            "[18122589.056397907, 17643776.05023587, 17275167.16116114, 17013594.43496224, 16783384.56645064, 16609821.431585163, 16458156.700706284, 16329332.757143894, 16208475.838180523]\n"
          ],
          "name": "stdout"
        }
      ]
    },
    {
      "cell_type": "code",
      "metadata": {
        "id": "M46os7aYrIeA",
        "colab_type": "code",
        "colab": {
          "base_uri": "https://localhost:8080/",
          "height": 295
        },
        "outputId": "5a1472f3-3e16-45ee-b94c-a197b5dc611a"
      },
      "source": [
        "#plot the elbow graph\n",
        "plt.plot(K, Sum_of_squared_distances, 'bx-')\n",
        "plt.xlabel('k value')\n",
        "plt.ylabel('Inertia/Sum of squared distances')\n",
        "plt.title('Elbow Method For Optimal k')\n",
        "plt.show()"
      ],
      "execution_count": null,
      "outputs": [
        {
          "output_type": "display_data",
          "data": {
            "image/png": "[encoded data removed]",
            "text/plain": [
              "<Figure size 432x288 with 1 Axes>"
            ]
          },
          "metadata": {
            "tags": [],
            "needs_background": "light"
          }
        }
      ]
    },
    {
      "cell_type": "markdown",
      "metadata": {
        "id": "wyDZmeMWMyf3",
        "colab_type": "text"
      },
      "source": [
        "### 1.3 K-means clustering\n",
        "Based on the elbow graph, 7 is seleced as a good cluster(k) size."
      ]
    },
    {
      "cell_type": "code",
      "metadata": {
        "id": "bviQz2Oprhfe",
        "colab_type": "code",
        "colab": {}
      },
      "source": [
        "#apply kmenas clustering method for the dataset\n",
        "\n",
        "cluster_model = KMeans(n_clusters=7).fit(azdias_transformed )  #selected cluster size is 7\n",
        "azdias_cluster = cluster_model.predict(azdias_transformed )\n",
        "customers_cluster = cluster_model.predict(customers_transformed)"
      ],
      "execution_count": 37,
      "outputs": []
    },
    {
      "cell_type": "markdown",
      "metadata": {
        "id": "Y92jprk2tIoO",
        "colab_type": "text"
      },
      "source": [
        "azdias_cluster and the customers_cluster represent the individuals cluster number. To analyse these cluster ans identify trends bettwen clusters and general polulation(azdias) following graphs are plotted.\n"
      ]
    },
    {
      "cell_type": "code",
      "metadata": {
        "id": "ccJDKFVNvZDr",
        "colab_type": "code",
        "colab": {
          "base_uri": "https://localhost:8080/",
          "height": 50
        },
        "outputId": "27e4e8bf-2ccd-45b5-819d-18fe91f72be1"
      },
      "source": [
        "#get the azdias cluster points count\n",
        "clusterpoint_azdias, azdias_counts = np.unique(azdias_cluster, return_counts=True)\n",
        "print(clusterpoint_azdias)\n",
        "print(azdias_counts)"
      ],
      "execution_count": 38,
      "outputs": [
        {
          "output_type": "stream",
          "text": [
            "[0 1 2 3 4 5 6]\n",
            "[ 82145 131044 114524 139250 120396 118405  79656]\n"
          ],
          "name": "stdout"
        }
      ]
    },
    {
      "cell_type": "code",
      "metadata": {
        "id": "TRQ3pXBYvZH0",
        "colab_type": "code",
        "colab": {
          "base_uri": "https://localhost:8080/",
          "height": 50
        },
        "outputId": "d518cbfa-e7b3-4edf-c161-c45b6959301f"
      },
      "source": [
        "#get the custoemrs cluster points count\n",
        "clusterpoint_customers, customers_counts = np.unique(customers_cluster, return_counts=True)\n",
        "print(clusterpoint_customers)\n",
        "print(customers_counts)"
      ],
      "execution_count": 39,
      "outputs": [
        {
          "output_type": "stream",
          "text": [
            "[0 1 2 3 4 5 6]\n",
            "[44686  1409  1723 37486 18087 31158  5822]\n"
          ],
          "name": "stdout"
        }
      ]
    },
    {
      "cell_type": "code",
      "metadata": {
        "id": "cRWflY4ovZL4",
        "colab_type": "code",
        "colab": {
          "base_uri": "https://localhost:8080/",
          "height": 297
        },
        "outputId": "6c6cf676-12c4-4e42-a34a-a99c562aacec"
      },
      "source": [
        "#plot cluster graphs for azdias and customers\n",
        "\n",
        "cluster_label = np.arange(len(clusterpoint_azdias))  # the label locations\n",
        "width = 0.35  # the width of the bars\n",
        "\n",
        "cluster_fig, cluster_ax = plt.subplots()\n",
        "chart1 = cluster_ax.bar(cluster_label - width/2, azdias_counts/azdias_counts.sum(), width, label='General Population')\n",
        "chart2 = cluster_ax.bar(cluster_label + width/2, customers_counts/customers_counts.sum(), width, label='Cutomers')\n",
        "\n",
        "# Add some text for labels, title and custom x-axis tick labels, etc.\n",
        "cluster_ax.set_ylabel('Portion of people')\n",
        "cluster_ax.set_title('Cluster segementation for General population and Cutomers')\n",
        "cluster_ax.set_xlabel('Cluster Number')\n",
        "cluster_ax.set_xticks(cluster_label)\n",
        "cluster_ax.set_xticklabels(cluster_label)\n",
        "cluster_ax.legend()\n",
        "cluster_fig.tight_layout()\n",
        "\n",
        "plt.show()"
      ],
      "execution_count": 40,
      "outputs": [
        {
          "output_type": "display_data",
          "data": {
            "image/png": "[encoded data removed]",
            "text/plain": [
              "<Figure size 432x288 with 1 Axes>"
            ]
          },
          "metadata": {
            "tags": [],
            "needs_background": "light"
          }
        }
      ]
    },
    {
      "cell_type": "markdown",
      "metadata": {
        "id": "jjySX2envuSR",
        "colab_type": "text"
      },
      "source": [
        "From the above graphs it can be seen, the general population is approximatley evenly distributed among the 7 clusters. From these clusters, customers are mostly located in cluster 1, 4 and 6 while cluster 0,2 and 3 has the lowest number of customer representation. To better analyse, this ratio of the clusters(customers/general population) is plotted."
      ]
    },
    {
      "cell_type": "code",
      "metadata": {
        "id": "bdxXUS7Mv17h",
        "colab_type": "code",
        "colab": {
          "base_uri": "https://localhost:8080/",
          "height": 295
        },
        "outputId": "9910eb85-dcd5-4ca7-b514-5dfa84bdf24d"
      },
      "source": [
        "#plot the ratio for each cluster graph\n",
        "\n",
        "cluster_ratio = (customers_counts/customers_counts.sum())/(azdias_counts/azdias_counts.sum()) #calculate the ratio\n",
        "\n",
        "ratio_chart = plt.bar(cluster_label, cluster_ratio,width)\n",
        "plt.ylabel('Portion of people')\n",
        "plt.title('Cluster segementation for General population and Cutomers')\n",
        "plt.xlabel('Cluster Number')\n",
        "plt.hlines(y=1, xmin=-0.5, xmax=7.5, colors='r',linestyles='dashed')\n",
        "plt.xticks(cluster_label)\n",
        "plt.show()"
      ],
      "execution_count": 41,
      "outputs": [
        {
          "output_type": "display_data",
          "data": {
            "image/png": "[encoded data removed]",
            "text/plain": [
              "<Figure size 432x288 with 1 Axes>"
            ]
          },
          "metadata": {
            "tags": [],
            "needs_background": "light"
          }
        }
      ]
    },
    {
      "cell_type": "markdown",
      "metadata": {
        "id": "sousgL38B2a2",
        "colab_type": "text"
      },
      "source": [
        "The Ratio of customers to general population provids an insight in to which cluster of the population should be targeted by arvato. If this ratio is more than 1, it indicates that there is a higher portion of customers present in that cluster and most importantly higher probablity that poeple in that cluster will become future customers."
      ]
    },
    {
      "cell_type": "code",
      "metadata": {
        "id": "dyrKE5vdv2Dl",
        "colab_type": "code",
        "colab": {}
      },
      "source": [
        "#composition of pca components and clusters\n",
        "\n",
        "pca_composition = pca_model.components_  #arr of feature weights of the pca components(170 x 354)"
      ],
      "execution_count": 42,
      "outputs": []
    },
    {
      "cell_type": "code",
      "metadata": {
        "id": "r8fRrhRh33gc",
        "colab_type": "code",
        "colab": {}
      },
      "source": [
        "#function to plot the pca composition.\n",
        "\n",
        "def display_component(pca_composition, features_list, component_num, n_weights):\n",
        "    \"\"\"\n",
        "    plot the top n composition/features of a given pca component.\n",
        "    args: \n",
        "        pca_composition = arr of features weights of the pca components\n",
        "        features_list = list of feature names\n",
        "        component_num = the pca component that need to be plotted\n",
        "        n_weights = the number of top features to analyse\n",
        "    return : None\n",
        "\n",
        "    \"\"\"\n",
        "\n",
        "    weights  = pca_composition[component_num-1]  #weights list for each feature for a given pca component\n",
        "    # match weights to features in azdias using list comporehension\n",
        "    weight_df = pd.DataFrame(list(zip(weights, features_list)), \n",
        "                         columns=['weights', 'features'])\n",
        "    weight_df['abs_weights']=weight_df['weights'].apply(lambda x: np.abs(x)) #get the abs value of the weights\n",
        "    sorted_weight_df = weight_df.sort_values('abs_weights', ascending=False).head(n_weights) #sort based on the largest abs value\n",
        "   \n",
        "\n",
        "    # display the pca component plot\n",
        "    ax=plt.subplots(figsize=(8,4))\n",
        "    ax=sns.barplot(data=sorted_weight_df, \n",
        "                   x=\"weights\", \n",
        "                   y=\"features\", \n",
        "                   palette=\"Blues_d\")\n",
        "    ax.set_title(\"PCA Component composition : Component #\" + str(component_num))\n",
        "    plt.show()"
      ],
      "execution_count": 48,
      "outputs": []
    },
    {
      "cell_type": "code",
      "metadata": {
        "id": "S8yRq1wgEUiF",
        "colab_type": "code",
        "colab": {
          "base_uri": "https://localhost:8080/",
          "height": 295
        },
        "outputId": "669a93b1-7c68-498d-aa19-e39d27f3f917"
      },
      "source": [
        "display_component(pca_composition, feature_list, component_num= 1, n_weights = 6)"
      ],
      "execution_count": 49,
      "outputs": [
        {
          "output_type": "display_data",
          "data": {
            "image/png": "[encoded data removed]",
            "text/plain": [
              "<Figure size 576x288 with 1 Axes>"
            ]
          },
          "metadata": {
            "tags": [],
            "needs_background": "light"
          }
        }
      ]
    },
    {
      "cell_type": "code",
      "metadata": {
        "id": "ArVtq0ykxqbL",
        "colab_type": "code",
        "colab": {
          "base_uri": "https://localhost:8080/",
          "height": 295
        },
        "outputId": "c36cb27b-c255-4be3-b9b0-c52eb492e21a"
      },
      "source": [
        "display_component(pca_composition, feature_list, component_num= 2, n_weights = 6)"
      ],
      "execution_count": 50,
      "outputs": [
        {
          "output_type": "display_data",
          "data": {
            "image/png": "[encoded data removed]",
            "text/plain": [
              "<Figure size 576x288 with 1 Axes>"
            ]
          },
          "metadata": {
            "tags": [],
            "needs_background": "light"
          }
        }
      ]
    },
    {
      "cell_type": "code",
      "metadata": {
        "id": "LYT_ULvvxqwX",
        "colab_type": "code",
        "colab": {
          "base_uri": "https://localhost:8080/",
          "height": 295
        },
        "outputId": "77c429b1-e78f-46c4-a9d7-4f79d2641014"
      },
      "source": [
        "display_component(pca_composition, feature_list, component_num= 3, n_weights = 6)"
      ],
      "execution_count": 51,
      "outputs": [
        {
          "output_type": "display_data",
          "data": {
            "image/png": "[encoded data removed]",
            "text/plain": [
              "<Figure size 576x288 with 1 Axes>"
            ]
          },
          "metadata": {
            "tags": [],
            "needs_background": "light"
          }
        }
      ]
    },
    {
      "cell_type": "code",
      "metadata": {
        "id": "Nzh0oy9txrHK",
        "colab_type": "code",
        "colab": {
          "base_uri": "https://localhost:8080/",
          "height": 295
        },
        "outputId": "ad539058-63f5-47cd-9fdd-cbc4ce069718"
      },
      "source": [
        "display_component(pca_composition, feature_list, component_num= 4, n_weights = 6)"
      ],
      "execution_count": 52,
      "outputs": [
        {
          "output_type": "display_data",
          "data": {
            "image/png": "[encoded data removed]",
            "text/plain": [
              "<Figure size 576x288 with 1 Axes>"
            ]
          },
          "metadata": {
            "tags": [],
            "needs_background": "light"
          }
        }
      ]
    },
    {
      "cell_type": "code",
      "metadata": {
        "id": "65z2KJNwzUHq",
        "colab_type": "code",
        "colab": {
          "base_uri": "https://localhost:8080/",
          "height": 295
        },
        "outputId": "a3c79eec-3494-451e-90b1-7d095292a2a4"
      },
      "source": [
        "display_component(pca_composition, feature_list, component_num= 8, n_weights = 6)"
      ],
      "execution_count": 61,
      "outputs": [
        {
          "output_type": "display_data",
          "data": {
            "image/png": "[encoded data removed]",
            "text/plain": [
              "<Figure size 576x288 with 1 Axes>"
            ]
          },
          "metadata": {
            "tags": [],
            "needs_background": "light"
          }
        }
      ]
    },
    {
      "cell_type": "markdown",
      "metadata": {
        "id": "mf7h2KmX8wM3",
        "colab_type": "text"
      },
      "source": [
        "PCA_Component 1:\n",
        "1.   It has a high positive weight for LP_STATUS_FEIN (LP_STATUS_GROB is the rough estimate of the same feature) which represents the social status of an individual.\n",
        "2.   The largest negative weights are for ANZ_HAUSHALTE_AKTIV, KBA13_BAUMAX and KBA13_ANTG4. Although exact explanation is not provided for all features, based on other similar naming varibales it can be said that 'HAUSHALTE' features represent the number of household details and 'KBA13' features represents the share of cars."
      ]
    },
    {
      "cell_type": "code",
      "metadata": {
        "id": "IgYk7HAjFJfT",
        "colab_type": "code",
        "colab": {}
      },
      "source": [
        "#analyse the cluster composition\n",
        "cluster_composition = cluster_model.cluster_centers_ #arr of pca weights of the clusters(7 x170)\n",
        "\n",
        "def analyse_cluster(cluster_composition, cluster_num, n_components):\n",
        "    \"\"\"\n",
        "    Show the top n PCA components for a given cluster\n",
        "    args:\n",
        "          cluster_composition = arr of pca weights of the cluster\n",
        "          cluster_num = number of cluster to be evaluated\n",
        "          n_components = number of top PCA components to show\n",
        "    Return: None\n",
        "\n",
        "    \"\"\"\n",
        "\n",
        "    cluster_weights  = cluster_composition[cluster_num]  #pca component weights for the selected cluster\n",
        "    cluster_df = pd.DataFrame(list(cluster_weights),columns=['pca_weights'])\n",
        "    cluster_df['component']= cluster_df.index +1 #get the component number \n",
        "    cluster_df['abs_pca_weights']= cluster_df['pca_weights'].apply(lambda x: np.abs(x)) #get the abs value of the pca_weights\n",
        "    sorted_cluster_df = cluster_df.sort_values('abs_pca_weights', ascending=False).head(n_components) #sort based on the largest abs value\n",
        "       \n",
        "    top_components = sorted_cluster_df['component'].tolist()\n",
        "    print(\"Top {} PCA components for the cluster {} are :{}\".format(n_components,cluster_num,top_components))\n",
        "   "
      ],
      "execution_count": 53,
      "outputs": []
    },
    {
      "cell_type": "code",
      "metadata": {
        "id": "3yQGln-xTaNn",
        "colab_type": "code",
        "colab": {
          "base_uri": "https://localhost:8080/",
          "height": 134
        },
        "outputId": "38634b40-f8d7-41de-f288-1ed819cd8b97"
      },
      "source": [
        "#analyse the top pca components for each cluster\n",
        "\n",
        "analyse_cluster(cluster_composition, cluster_num= 0, n_components=5)\n",
        "analyse_cluster(cluster_composition, cluster_num= 1, n_components=5)\n",
        "analyse_cluster(cluster_composition, cluster_num= 2, n_components=5)\n",
        "analyse_cluster(cluster_composition, cluster_num= 3, n_components=5)\n",
        "analyse_cluster(cluster_composition, cluster_num= 4, n_components=5)\n",
        "analyse_cluster(cluster_composition, cluster_num= 5, n_components=5)\n",
        "analyse_cluster(cluster_composition, cluster_num= 6, n_components=5)\n"
      ],
      "execution_count": 60,
      "outputs": [
        {
          "output_type": "stream",
          "text": [
            "Top 5 PCA components for the cluster 0 are :[3, 1, 2, 4, 6]\n",
            "Top 5 PCA components for the cluster 1 are :[4, 3, 1, 2, 11]\n",
            "Top 5 PCA components for the cluster 2 are :[1, 2, 8, 7, 5]\n",
            "Top 5 PCA components for the cluster 3 are :[1, 2, 4, 6, 11]\n",
            "Top 5 PCA components for the cluster 4 are :[1, 2, 4, 3, 11]\n",
            "Top 5 PCA components for the cluster 5 are :[2, 1, 3, 11, 8]\n",
            "Top 5 PCA components for the cluster 6 are :[2, 4, 3, 1, 10]\n"
          ],
          "name": "stdout"
        }
      ]
    },
    {
      "cell_type": "code",
      "metadata": {
        "id": "3tphMvxnzjgo",
        "colab_type": "code",
        "colab": {
          "base_uri": "https://localhost:8080/",
          "height": 295
        },
        "outputId": "614c46b3-d64b-4d80-e1fc-58c0d3e44f2b"
      },
      "source": [
        "display_component(pca_composition, feature_list, component_num= 11, n_weights = 6)"
      ],
      "execution_count": 62,
      "outputs": [
        {
          "output_type": "display_data",
          "data": {
            "image/png": "[encoded data removed]",
            "text/plain": [
              "<Figure size 576x288 with 1 Axes>"
            ]
          },
          "metadata": {
            "tags": [],
            "needs_background": "light"
          }
        }
      ]
    },
    {
      "cell_type": "markdown",
      "metadata": {
        "id": "J_jdrhBGDBA8",
        "colab_type": "text"
      },
      "source": [
        "The top PCA component for cluster 1 (the higherst customer to general population cluser) is PCA ccomponent 3. Analysing that PCA component, we can see the top 3 positive features are 'EWDICHTE','STRUKTURYTP' and 'KBA13_HERST_BMW_BENZ'.  'EWDICHTE' stands for density of inhabitants per square kilometer while 'KBA13_HERST_BMW_BENZ' stands for the share of BMW & Mercedes Benz. The 3 most negative features are 'FINANZ_ANLEGER', 'BALLRAUM' and 'GEMEINDETYP'. The first two of the negative features stands for financial typology: investor and distance to the next metropole, respectively. The 'GEMEINDETYP' could mean the local community type, but it was not provided in the attribute file.  "
      ]
    },
    {
      "cell_type": "markdown",
      "metadata": {
        "id": "splBdd1WM9o-",
        "colab_type": "text"
      },
      "source": [
        "## Part 2: Supervised Learning Model\n",
        "\n",
        "Now that you've found which parts of the population are more likely to be customers of the mail-order company, it's time to build a prediction model. Each of the rows in the \"MAILOUT\" data files represents an individual that was targeted for a mailout campaign. Ideally, we should be able to use the demographic information from each individual to decide whether or not it will be worth it to include that person in the campaign.\n",
        "\n",
        "The \"MAILOUT\" data has been split into two approximately equal parts, each with almost 43 000 data rows. In this part, you can verify your model with the \"TRAIN\" partition, which includes a column, \"RESPONSE\", that states whether or not a person became a customer of the company following the campaign. In the next part, you'll need to create predictions on the \"TEST\" partition, where the \"RESPONSE\" column has been withheld."
      ]
    },
    {
      "cell_type": "code",
      "metadata": {
        "id": "U55BudTuNCWT",
        "colab_type": "code",
        "colab": {
          "base_uri": "https://localhost:8080/",
          "height": 70
        },
        "outputId": "6f8de9e9-26b3-490d-b182-b8081d3f7a90"
      },
      "source": [
        "#open the training data file\n",
        "mailout_train = pd.read_csv(\"mailout_train.gzip\",compression='gzip')"
      ],
      "execution_count": null,
      "outputs": [
        {
          "output_type": "stream",
          "text": [
            "/usr/local/lib/python3.6/dist-packages/IPython/core/interactiveshell.py:2718: DtypeWarning: Columns (18,19) have mixed types.Specify dtype option on import or set low_memory=False.\n",
            "  interactivity=interactivity, compiler=compiler, result=result)\n"
          ],
          "name": "stderr"
        }
      ]
    },
    {
      "cell_type": "markdown",
      "metadata": {
        "id": "PnqTG829AoNc",
        "colab_type": "text"
      },
      "source": [
        "#### 2.1 Initial Data Analysis"
      ]
    },
    {
      "cell_type": "code",
      "metadata": {
        "id": "J4WXpzrDfW_t",
        "colab_type": "code",
        "colab": {
          "base_uri": "https://localhost:8080/",
          "height": 261
        },
        "outputId": "2c4da597-3c5c-433d-ae45-127b560045c1"
      },
      "source": [
        "print(mailout_train.shape)\n",
        "mailout_train.head()"
      ],
      "execution_count": null,
      "outputs": [
        {
          "output_type": "stream",
          "text": [
            "(42962, 367)\n"
          ],
          "name": "stdout"
        },
        {
          "output_type": "execute_result",
          "data": {
            "text/html": [
              "<div>\n",
              "<style scoped>\n",
              "    .dataframe tbody tr th:only-of-type {\n",
              "        vertical-align: middle;\n",
              "    }\n",
              "\n",
              "    .dataframe tbody tr th {\n",
              "        vertical-align: top;\n",
              "    }\n",
              "\n",
              "    .dataframe thead th {\n",
              "        text-align: right;\n",
              "    }\n",
              "</style>\n",
              "<table border=\"1\" class=\"dataframe\">\n",
              "  <thead>\n",
              "    <tr style=\"text-align: right;\">\n",
              "      <th></th>\n",
              "      <th>LNR</th>\n",
              "      <th>AGER_TYP</th>\n",
              "      <th>AKT_DAT_KL</th>\n",
              "      <th>ALTER_HH</th>\n",
              "      <th>ALTER_KIND1</th>\n",
              "      <th>ALTER_KIND2</th>\n",
              "      <th>ALTER_KIND3</th>\n",
              "      <th>ALTER_KIND4</th>\n",
              "      <th>ALTERSKATEGORIE_FEIN</th>\n",
              "      <th>ANZ_HAUSHALTE_AKTIV</th>\n",
              "      <th>ANZ_HH_TITEL</th>\n",
              "      <th>ANZ_KINDER</th>\n",
              "      <th>ANZ_PERSONEN</th>\n",
              "      <th>ANZ_STATISTISCHE_HAUSHALTE</th>\n",
              "      <th>ANZ_TITEL</th>\n",
              "      <th>ARBEIT</th>\n",
              "      <th>BALLRAUM</th>\n",
              "      <th>CAMEO_DEU_2015</th>\n",
              "      <th>CAMEO_DEUG_2015</th>\n",
              "      <th>CAMEO_INTL_2015</th>\n",
              "      <th>CJT_GESAMTTYP</th>\n",
              "      <th>CJT_KATALOGNUTZER</th>\n",
              "      <th>CJT_TYP_1</th>\n",
              "      <th>CJT_TYP_2</th>\n",
              "      <th>CJT_TYP_3</th>\n",
              "      <th>CJT_TYP_4</th>\n",
              "      <th>CJT_TYP_5</th>\n",
              "      <th>CJT_TYP_6</th>\n",
              "      <th>D19_BANKEN_ANZ_12</th>\n",
              "      <th>D19_BANKEN_ANZ_24</th>\n",
              "      <th>D19_BANKEN_DATUM</th>\n",
              "      <th>D19_BANKEN_DIREKT</th>\n",
              "      <th>D19_BANKEN_GROSS</th>\n",
              "      <th>D19_BANKEN_LOKAL</th>\n",
              "      <th>D19_BANKEN_OFFLINE_DATUM</th>\n",
              "      <th>D19_BANKEN_ONLINE_DATUM</th>\n",
              "      <th>D19_BANKEN_ONLINE_QUOTE_12</th>\n",
              "      <th>D19_BANKEN_REST</th>\n",
              "      <th>D19_BEKLEIDUNG_GEH</th>\n",
              "      <th>D19_BEKLEIDUNG_REST</th>\n",
              "      <th>...</th>\n",
              "      <th>RELAT_AB</th>\n",
              "      <th>RETOURTYP_BK_S</th>\n",
              "      <th>RT_KEIN_ANREIZ</th>\n",
              "      <th>RT_SCHNAEPPCHEN</th>\n",
              "      <th>RT_UEBERGROESSE</th>\n",
              "      <th>SEMIO_DOM</th>\n",
              "      <th>SEMIO_ERL</th>\n",
              "      <th>SEMIO_FAM</th>\n",
              "      <th>SEMIO_KAEM</th>\n",
              "      <th>SEMIO_KRIT</th>\n",
              "      <th>SEMIO_KULT</th>\n",
              "      <th>SEMIO_LUST</th>\n",
              "      <th>SEMIO_MAT</th>\n",
              "      <th>SEMIO_PFLICHT</th>\n",
              "      <th>SEMIO_RAT</th>\n",
              "      <th>SEMIO_REL</th>\n",
              "      <th>SEMIO_SOZ</th>\n",
              "      <th>SEMIO_TRADV</th>\n",
              "      <th>SEMIO_VERT</th>\n",
              "      <th>SHOPPER_TYP</th>\n",
              "      <th>SOHO_KZ</th>\n",
              "      <th>STRUKTURTYP</th>\n",
              "      <th>TITEL_KZ</th>\n",
              "      <th>UMFELD_ALT</th>\n",
              "      <th>UMFELD_JUNG</th>\n",
              "      <th>UNGLEICHENN_FLAG</th>\n",
              "      <th>VERDICHTUNGSRAUM</th>\n",
              "      <th>VERS_TYP</th>\n",
              "      <th>VHA</th>\n",
              "      <th>VHN</th>\n",
              "      <th>VK_DHT4A</th>\n",
              "      <th>VK_DISTANZ</th>\n",
              "      <th>VK_ZG11</th>\n",
              "      <th>W_KEIT_KIND_HH</th>\n",
              "      <th>WOHNDAUER_2008</th>\n",
              "      <th>WOHNLAGE</th>\n",
              "      <th>ZABEOTYP</th>\n",
              "      <th>RESPONSE</th>\n",
              "      <th>ANREDE_KZ</th>\n",
              "      <th>ALTERSKATEGORIE_GROB</th>\n",
              "    </tr>\n",
              "  </thead>\n",
              "  <tbody>\n",
              "    <tr>\n",
              "      <th>0</th>\n",
              "      <td>1763</td>\n",
              "      <td>2.0</td>\n",
              "      <td>1.0</td>\n",
              "      <td>8.0</td>\n",
              "      <td>NaN</td>\n",
              "      <td>NaN</td>\n",
              "      <td>NaN</td>\n",
              "      <td>NaN</td>\n",
              "      <td>8.0</td>\n",
              "      <td>15.0</td>\n",
              "      <td>0.0</td>\n",
              "      <td>0.0</td>\n",
              "      <td>1.0</td>\n",
              "      <td>13.0</td>\n",
              "      <td>0.0</td>\n",
              "      <td>3.0</td>\n",
              "      <td>5.0</td>\n",
              "      <td>5D</td>\n",
              "      <td>5</td>\n",
              "      <td>34</td>\n",
              "      <td>2.0</td>\n",
              "      <td>5.0</td>\n",
              "      <td>2.0</td>\n",
              "      <td>2.0</td>\n",
              "      <td>5.0</td>\n",
              "      <td>5.0</td>\n",
              "      <td>5.0</td>\n",
              "      <td>5.0</td>\n",
              "      <td>0</td>\n",
              "      <td>0</td>\n",
              "      <td>10</td>\n",
              "      <td>0</td>\n",
              "      <td>0</td>\n",
              "      <td>0</td>\n",
              "      <td>10</td>\n",
              "      <td>10</td>\n",
              "      <td>0.0</td>\n",
              "      <td>0</td>\n",
              "      <td>0</td>\n",
              "      <td>0</td>\n",
              "      <td>...</td>\n",
              "      <td>5.0</td>\n",
              "      <td>5.0</td>\n",
              "      <td>2.0</td>\n",
              "      <td>5.0</td>\n",
              "      <td>1.0</td>\n",
              "      <td>6</td>\n",
              "      <td>7</td>\n",
              "      <td>2</td>\n",
              "      <td>6</td>\n",
              "      <td>6</td>\n",
              "      <td>1</td>\n",
              "      <td>7</td>\n",
              "      <td>1</td>\n",
              "      <td>3</td>\n",
              "      <td>2</td>\n",
              "      <td>1</td>\n",
              "      <td>5</td>\n",
              "      <td>1</td>\n",
              "      <td>3</td>\n",
              "      <td>3.0</td>\n",
              "      <td>0.0</td>\n",
              "      <td>3.0</td>\n",
              "      <td>NaN</td>\n",
              "      <td>2.0</td>\n",
              "      <td>4.0</td>\n",
              "      <td>0.0</td>\n",
              "      <td>4.0</td>\n",
              "      <td>2.0</td>\n",
              "      <td>1.0</td>\n",
              "      <td>2.0</td>\n",
              "      <td>5.0</td>\n",
              "      <td>2.0</td>\n",
              "      <td>1.0</td>\n",
              "      <td>6.0</td>\n",
              "      <td>9.0</td>\n",
              "      <td>3.0</td>\n",
              "      <td>3</td>\n",
              "      <td>0</td>\n",
              "      <td>2</td>\n",
              "      <td>4</td>\n",
              "    </tr>\n",
              "    <tr>\n",
              "      <th>1</th>\n",
              "      <td>1771</td>\n",
              "      <td>1.0</td>\n",
              "      <td>4.0</td>\n",
              "      <td>13.0</td>\n",
              "      <td>NaN</td>\n",
              "      <td>NaN</td>\n",
              "      <td>NaN</td>\n",
              "      <td>NaN</td>\n",
              "      <td>13.0</td>\n",
              "      <td>1.0</td>\n",
              "      <td>0.0</td>\n",
              "      <td>0.0</td>\n",
              "      <td>2.0</td>\n",
              "      <td>1.0</td>\n",
              "      <td>0.0</td>\n",
              "      <td>2.0</td>\n",
              "      <td>5.0</td>\n",
              "      <td>5B</td>\n",
              "      <td>5</td>\n",
              "      <td>32</td>\n",
              "      <td>2.0</td>\n",
              "      <td>2.0</td>\n",
              "      <td>2.0</td>\n",
              "      <td>2.0</td>\n",
              "      <td>4.0</td>\n",
              "      <td>3.0</td>\n",
              "      <td>5.0</td>\n",
              "      <td>4.0</td>\n",
              "      <td>1</td>\n",
              "      <td>1</td>\n",
              "      <td>5</td>\n",
              "      <td>0</td>\n",
              "      <td>0</td>\n",
              "      <td>3</td>\n",
              "      <td>10</td>\n",
              "      <td>10</td>\n",
              "      <td>0.0</td>\n",
              "      <td>0</td>\n",
              "      <td>0</td>\n",
              "      <td>6</td>\n",
              "      <td>...</td>\n",
              "      <td>1.0</td>\n",
              "      <td>2.0</td>\n",
              "      <td>3.0</td>\n",
              "      <td>1.0</td>\n",
              "      <td>3.0</td>\n",
              "      <td>6</td>\n",
              "      <td>6</td>\n",
              "      <td>1</td>\n",
              "      <td>5</td>\n",
              "      <td>6</td>\n",
              "      <td>3</td>\n",
              "      <td>6</td>\n",
              "      <td>5</td>\n",
              "      <td>5</td>\n",
              "      <td>4</td>\n",
              "      <td>3</td>\n",
              "      <td>1</td>\n",
              "      <td>3</td>\n",
              "      <td>4</td>\n",
              "      <td>2.0</td>\n",
              "      <td>0.0</td>\n",
              "      <td>1.0</td>\n",
              "      <td>NaN</td>\n",
              "      <td>2.0</td>\n",
              "      <td>5.0</td>\n",
              "      <td>0.0</td>\n",
              "      <td>0.0</td>\n",
              "      <td>1.0</td>\n",
              "      <td>1.0</td>\n",
              "      <td>3.0</td>\n",
              "      <td>1.0</td>\n",
              "      <td>2.0</td>\n",
              "      <td>1.0</td>\n",
              "      <td>4.0</td>\n",
              "      <td>9.0</td>\n",
              "      <td>7.0</td>\n",
              "      <td>1</td>\n",
              "      <td>0</td>\n",
              "      <td>2</td>\n",
              "      <td>3</td>\n",
              "    </tr>\n",
              "    <tr>\n",
              "      <th>2</th>\n",
              "      <td>1776</td>\n",
              "      <td>1.0</td>\n",
              "      <td>1.0</td>\n",
              "      <td>9.0</td>\n",
              "      <td>NaN</td>\n",
              "      <td>NaN</td>\n",
              "      <td>NaN</td>\n",
              "      <td>NaN</td>\n",
              "      <td>7.0</td>\n",
              "      <td>0.0</td>\n",
              "      <td>NaN</td>\n",
              "      <td>0.0</td>\n",
              "      <td>0.0</td>\n",
              "      <td>1.0</td>\n",
              "      <td>0.0</td>\n",
              "      <td>4.0</td>\n",
              "      <td>1.0</td>\n",
              "      <td>2D</td>\n",
              "      <td>2</td>\n",
              "      <td>14</td>\n",
              "      <td>4.0</td>\n",
              "      <td>5.0</td>\n",
              "      <td>1.0</td>\n",
              "      <td>1.0</td>\n",
              "      <td>5.0</td>\n",
              "      <td>5.0</td>\n",
              "      <td>5.0</td>\n",
              "      <td>5.0</td>\n",
              "      <td>0</td>\n",
              "      <td>1</td>\n",
              "      <td>7</td>\n",
              "      <td>0</td>\n",
              "      <td>0</td>\n",
              "      <td>0</td>\n",
              "      <td>10</td>\n",
              "      <td>7</td>\n",
              "      <td>0.0</td>\n",
              "      <td>5</td>\n",
              "      <td>0</td>\n",
              "      <td>0</td>\n",
              "      <td>...</td>\n",
              "      <td>4.0</td>\n",
              "      <td>3.0</td>\n",
              "      <td>1.0</td>\n",
              "      <td>5.0</td>\n",
              "      <td>2.0</td>\n",
              "      <td>3</td>\n",
              "      <td>3</td>\n",
              "      <td>4</td>\n",
              "      <td>1</td>\n",
              "      <td>3</td>\n",
              "      <td>4</td>\n",
              "      <td>7</td>\n",
              "      <td>6</td>\n",
              "      <td>1</td>\n",
              "      <td>1</td>\n",
              "      <td>5</td>\n",
              "      <td>3</td>\n",
              "      <td>1</td>\n",
              "      <td>7</td>\n",
              "      <td>3.0</td>\n",
              "      <td>0.0</td>\n",
              "      <td>3.0</td>\n",
              "      <td>NaN</td>\n",
              "      <td>1.0</td>\n",
              "      <td>5.0</td>\n",
              "      <td>0.0</td>\n",
              "      <td>10.0</td>\n",
              "      <td>1.0</td>\n",
              "      <td>4.0</td>\n",
              "      <td>1.0</td>\n",
              "      <td>6.0</td>\n",
              "      <td>4.0</td>\n",
              "      <td>2.0</td>\n",
              "      <td>NaN</td>\n",
              "      <td>9.0</td>\n",
              "      <td>2.0</td>\n",
              "      <td>3</td>\n",
              "      <td>0</td>\n",
              "      <td>1</td>\n",
              "      <td>4</td>\n",
              "    </tr>\n",
              "    <tr>\n",
              "      <th>3</th>\n",
              "      <td>1460</td>\n",
              "      <td>2.0</td>\n",
              "      <td>1.0</td>\n",
              "      <td>6.0</td>\n",
              "      <td>NaN</td>\n",
              "      <td>NaN</td>\n",
              "      <td>NaN</td>\n",
              "      <td>NaN</td>\n",
              "      <td>6.0</td>\n",
              "      <td>4.0</td>\n",
              "      <td>0.0</td>\n",
              "      <td>0.0</td>\n",
              "      <td>2.0</td>\n",
              "      <td>4.0</td>\n",
              "      <td>0.0</td>\n",
              "      <td>4.0</td>\n",
              "      <td>2.0</td>\n",
              "      <td>2D</td>\n",
              "      <td>2</td>\n",
              "      <td>14</td>\n",
              "      <td>2.0</td>\n",
              "      <td>5.0</td>\n",
              "      <td>2.0</td>\n",
              "      <td>2.0</td>\n",
              "      <td>5.0</td>\n",
              "      <td>5.0</td>\n",
              "      <td>5.0</td>\n",
              "      <td>4.0</td>\n",
              "      <td>0</td>\n",
              "      <td>0</td>\n",
              "      <td>10</td>\n",
              "      <td>0</td>\n",
              "      <td>0</td>\n",
              "      <td>0</td>\n",
              "      <td>10</td>\n",
              "      <td>10</td>\n",
              "      <td>0.0</td>\n",
              "      <td>0</td>\n",
              "      <td>0</td>\n",
              "      <td>6</td>\n",
              "      <td>...</td>\n",
              "      <td>3.0</td>\n",
              "      <td>5.0</td>\n",
              "      <td>2.0</td>\n",
              "      <td>5.0</td>\n",
              "      <td>1.0</td>\n",
              "      <td>5</td>\n",
              "      <td>7</td>\n",
              "      <td>1</td>\n",
              "      <td>6</td>\n",
              "      <td>7</td>\n",
              "      <td>1</td>\n",
              "      <td>7</td>\n",
              "      <td>1</td>\n",
              "      <td>4</td>\n",
              "      <td>2</td>\n",
              "      <td>2</td>\n",
              "      <td>5</td>\n",
              "      <td>3</td>\n",
              "      <td>2</td>\n",
              "      <td>1.0</td>\n",
              "      <td>0.0</td>\n",
              "      <td>3.0</td>\n",
              "      <td>NaN</td>\n",
              "      <td>3.0</td>\n",
              "      <td>5.0</td>\n",
              "      <td>0.0</td>\n",
              "      <td>5.0</td>\n",
              "      <td>2.0</td>\n",
              "      <td>1.0</td>\n",
              "      <td>4.0</td>\n",
              "      <td>8.0</td>\n",
              "      <td>11.0</td>\n",
              "      <td>11.0</td>\n",
              "      <td>6.0</td>\n",
              "      <td>9.0</td>\n",
              "      <td>1.0</td>\n",
              "      <td>3</td>\n",
              "      <td>0</td>\n",
              "      <td>2</td>\n",
              "      <td>4</td>\n",
              "    </tr>\n",
              "    <tr>\n",
              "      <th>4</th>\n",
              "      <td>1783</td>\n",
              "      <td>2.0</td>\n",
              "      <td>1.0</td>\n",
              "      <td>9.0</td>\n",
              "      <td>NaN</td>\n",
              "      <td>NaN</td>\n",
              "      <td>NaN</td>\n",
              "      <td>NaN</td>\n",
              "      <td>9.0</td>\n",
              "      <td>53.0</td>\n",
              "      <td>0.0</td>\n",
              "      <td>0.0</td>\n",
              "      <td>1.0</td>\n",
              "      <td>44.0</td>\n",
              "      <td>0.0</td>\n",
              "      <td>3.0</td>\n",
              "      <td>4.0</td>\n",
              "      <td>7B</td>\n",
              "      <td>7</td>\n",
              "      <td>41</td>\n",
              "      <td>6.0</td>\n",
              "      <td>5.0</td>\n",
              "      <td>1.0</td>\n",
              "      <td>2.0</td>\n",
              "      <td>5.0</td>\n",
              "      <td>5.0</td>\n",
              "      <td>5.0</td>\n",
              "      <td>5.0</td>\n",
              "      <td>0</td>\n",
              "      <td>0</td>\n",
              "      <td>10</td>\n",
              "      <td>0</td>\n",
              "      <td>0</td>\n",
              "      <td>0</td>\n",
              "      <td>10</td>\n",
              "      <td>10</td>\n",
              "      <td>0.0</td>\n",
              "      <td>0</td>\n",
              "      <td>5</td>\n",
              "      <td>0</td>\n",
              "      <td>...</td>\n",
              "      <td>3.0</td>\n",
              "      <td>5.0</td>\n",
              "      <td>1.0</td>\n",
              "      <td>5.0</td>\n",
              "      <td>1.0</td>\n",
              "      <td>5</td>\n",
              "      <td>4</td>\n",
              "      <td>6</td>\n",
              "      <td>2</td>\n",
              "      <td>5</td>\n",
              "      <td>5</td>\n",
              "      <td>6</td>\n",
              "      <td>6</td>\n",
              "      <td>4</td>\n",
              "      <td>5</td>\n",
              "      <td>4</td>\n",
              "      <td>6</td>\n",
              "      <td>2</td>\n",
              "      <td>7</td>\n",
              "      <td>1.0</td>\n",
              "      <td>0.0</td>\n",
              "      <td>3.0</td>\n",
              "      <td>NaN</td>\n",
              "      <td>2.0</td>\n",
              "      <td>5.0</td>\n",
              "      <td>0.0</td>\n",
              "      <td>4.0</td>\n",
              "      <td>1.0</td>\n",
              "      <td>0.0</td>\n",
              "      <td>4.0</td>\n",
              "      <td>2.0</td>\n",
              "      <td>2.0</td>\n",
              "      <td>1.0</td>\n",
              "      <td>6.0</td>\n",
              "      <td>9.0</td>\n",
              "      <td>3.0</td>\n",
              "      <td>3</td>\n",
              "      <td>0</td>\n",
              "      <td>1</td>\n",
              "      <td>3</td>\n",
              "    </tr>\n",
              "  </tbody>\n",
              "</table>\n",
              "<p>5 rows × 367 columns</p>\n",
              "</div>"
            ],
            "text/plain": [
              "    LNR  AGER_TYP  AKT_DAT_KL  ...  RESPONSE  ANREDE_KZ  ALTERSKATEGORIE_GROB\n",
              "0  1763       2.0         1.0  ...         0          2                     4\n",
              "1  1771       1.0         4.0  ...         0          2                     3\n",
              "2  1776       1.0         1.0  ...         0          1                     4\n",
              "3  1460       2.0         1.0  ...         0          2                     4\n",
              "4  1783       2.0         1.0  ...         0          1                     3\n",
              "\n",
              "[5 rows x 367 columns]"
            ]
          },
          "metadata": {
            "tags": []
          },
          "execution_count": 4
        }
      ]
    },
    {
      "cell_type": "code",
      "metadata": {
        "id": "QxW79Zw_Ad-C",
        "colab_type": "code",
        "colab": {
          "base_uri": "https://localhost:8080/",
          "height": 101
        },
        "outputId": "957405cb-867c-4f89-968f-8d4cd62bc00c"
      },
      "source": [
        "mailout_train.info()"
      ],
      "execution_count": null,
      "outputs": [
        {
          "output_type": "stream",
          "text": [
            "<class 'pandas.core.frame.DataFrame'>\n",
            "RangeIndex: 42962 entries, 0 to 42961\n",
            "Columns: 367 entries, LNR to ALTERSKATEGORIE_GROB\n",
            "dtypes: float64(273), int64(88), object(6)\n",
            "memory usage: 120.3+ MB\n"
          ],
          "name": "stdout"
        }
      ]
    },
    {
      "cell_type": "code",
      "metadata": {
        "id": "djJjq-DVzXRE",
        "colab_type": "code",
        "colab": {
          "base_uri": "https://localhost:8080/",
          "height": 296
        },
        "outputId": "e4cd255f-5da5-4e74-fa2c-717d44c03fa5"
      },
      "source": [
        "#response of the customers\n",
        "sns.countplot(mailout_train['RESPONSE'])"
      ],
      "execution_count": null,
      "outputs": [
        {
          "output_type": "execute_result",
          "data": {
            "text/plain": [
              "<matplotlib.axes._subplots.AxesSubplot at 0x7f2cc08b8438>"
            ]
          },
          "metadata": {
            "tags": []
          },
          "execution_count": 71
        },
        {
          "output_type": "display_data",
          "data": {
            "image/png": "[encoded data removed]",
            "text/plain": [
              "<Figure size 432x288 with 1 Axes>"
            ]
          },
          "metadata": {
            "tags": [],
            "needs_background": "light"
          }
        }
      ]
    },
    {
      "cell_type": "markdown",
      "metadata": {
        "id": "FiYJqyC_zZ6a",
        "colab_type": "text"
      },
      "source": [
        "From the response data of the training data, it is evident the data is highly imbalanced with more data with negative reponses. Thus, as an evaluation metric ROC curve is used."
      ]
    },
    {
      "cell_type": "code",
      "metadata": {
        "id": "aY3wnHmhBHxc",
        "colab_type": "code",
        "colab": {}
      },
      "source": [
        "def similarity_azdias_mailout (df, azdias_missing_cols, azdias_cat_cols):\n",
        "  \"\"\"\n",
        "  check the data similarity(missing value and large categorical columns) between azdias df and a given df\n",
        "  args: \n",
        "    df = df to be checked for similarity \n",
        "    azdias_missing_cols= missing columns (>40%) for azdias\n",
        "    azdias_cat_cols = large categorical columns of azdias\n",
        "  return: \n",
        "    missing_mailout: missing column list for the df\n",
        "    cat_columns: large categorical column list for the df\n",
        "  \"\"\"\n",
        " \n",
        "  missing_mailout =[]   #above 35% missing value columns list\n",
        "  cat_columns = []  #columns with more than 15 categories\n",
        "  total = df.shape[0] \n",
        "\n",
        "  for columns in df.columns:\n",
        "    missing_col = 1-(df[columns].count()/total)  \n",
        "    if  missing_col >= 0.35:      \n",
        "      missing_mailout.append(columns)\n",
        "\n",
        "    else:                       #cut off missing columns dropped before getting cat_columns\n",
        "      groups = df[columns].nunique()  \n",
        "      if groups >15:\n",
        "        cat_columns.append(columns)\n",
        "\n",
        "\n",
        "  diff_miss_cols = list(set(list(set(missing_mailout)-set(azdias_missing_cols))+\n",
        "                            list(set(azdias_missing_cols)-set(missing_mailout))))\n",
        "  if diff_miss_cols:\n",
        "    print('Missing columns list difference between azdias -- features: {}'.format(diff_miss_cols))\n",
        "  else:\n",
        "    print('Missing columns list is similar to azdias')\n",
        "  \n",
        "  diff_cat_cols = list(set(list(set(cat_columns)-set(azdias_cat_cols))+\n",
        "                            list(set(azdias_cat_cols)-set(cat_columns))))  \n",
        "  if diff_cat_cols:\n",
        "    print('Large categorical column list difference between azdias -- features: {}'.format(diff_cat_cols))\n",
        "  else:\n",
        "    print('Large categorical column list is similar to azdias')  \n",
        "\n",
        "  return missing_mailout, cat_columns"
      ],
      "execution_count": null,
      "outputs": []
    },
    {
      "cell_type": "code",
      "metadata": {
        "id": "wD_-6rNyLFsY",
        "colab_type": "code",
        "colab": {}
      },
      "source": [
        "#azdias data columns data\n",
        "drop_azdias = ['AGER_TYP', 'ALTER_KIND1', 'ALTER_KIND2', 'ALTER_KIND3', 'ALTER_KIND4', 'EXTSEL992', 'KBA05_BAUMAX', 'KK_KUNDENTYP', 'TITEL_KZ']\n",
        "big_category_columns = ['ALTER_HH','ALTERSKATEGORIE_FEIN','ANZ_HAUSHALTE_AKTIV','ANZ_HH_TITEL','ANZ_PERSONEN','ANZ_STATISTISCHE_HAUSHALTE',\n",
        "                        'EINGEFUEGT_AM','EINGEZOGENAM_HH_JAHR','GEBURTSJAHR','LP_LEBENSPHASE_FEIN','KBA13_ANZAHL_PKW','MIN_GEBAEUDEJAHR','VERDICHTUNGSRAUM']              "
      ],
      "execution_count": null,
      "outputs": []
    },
    {
      "cell_type": "code",
      "metadata": {
        "id": "qzppLeaEBH_E",
        "colab_type": "code",
        "colab": {
          "base_uri": "https://localhost:8080/",
          "height": 70
        },
        "outputId": "72cb917f-b8cd-43cc-c005-7df5b5f83730"
      },
      "source": [
        "#check the similarity between azdias and the mailout\n",
        "missing_mailout, cat_columns = similarity_azdias_mailout (mailout_train,drop_azdias,big_category_columns)     \n",
        "            "
      ],
      "execution_count": null,
      "outputs": [
        {
          "output_type": "stream",
          "text": [
            "Missing columns list is similar to azdias\n",
            "Large categorical column list difference between azdias -- features: ['D19_LETZTER_KAUF_BRANCHE', 'CAMEO_DEU_2015', 'CAMEO_INTL_2015', 'CAMEO_DEUG_2015', 'ANZ_PERSONEN', 'ANZ_HH_TITEL', 'LNR']\n"
          ],
          "name": "stdout"
        }
      ]
    },
    {
      "cell_type": "markdown",
      "metadata": {
        "id": "ZYM-L4gzS9vk",
        "colab_type": "text"
      },
      "source": [
        "From the data it can be seen that mailout data is simialr to the azdias data.\n",
        "1.   Missing data columns is same as the azdias missing data columns that were dropped. Slight adjustment is made on the cutoff value in the function (0.35 instead of 0.4). This was made to accomadate 'EXTESEL992' which has a missing values percentage of over 37%.\n",
        "\n",
        "2.   From the large categorical columns, there is a difference between 7 feautres. 3 features include to 'CAMEO_', which are object data type and can undergo the defined convertobject function. The two features,'D19_LETZTER_KAUF_BRANCHE' and 'LNR' were already droped from azdias when big_category_columns is populated. These two features can be droped from mailout as well (reason explained during azdias data processing).Final 2 features ''ANZ_PERSONEN' and 'ANZ_HH_TITEL' has 14-15 categorical levels. So this can undergo the defined  reconstruct_big_cateogory function along with other features in cat_columns.\n",
        "\n",
        "Thus, it can be conlcuded that mailout df can be treated as the same way as the azdias.\n",
        "\n"
      ]
    },
    {
      "cell_type": "markdown",
      "metadata": {
        "id": "MknT4PYfg37G",
        "colab_type": "text"
      },
      "source": [
        "### 2.2 Mailout data processing"
      ]
    },
    {
      "cell_type": "code",
      "metadata": {
        "id": "RsZ93XLAbfEz",
        "colab_type": "code",
        "colab": {}
      },
      "source": [
        "def mailout_dataprocessing(df, null_columns, missing_mailout, drop_mailout,frequent_dict):\n",
        "  \"\"\"\n",
        "  cleaning and processing the df\n",
        "  return: cleaned df \n",
        "  \"\"\"\n",
        "  \n",
        "  print('Initial df shape: {}'.format(df.shape))\n",
        "  print('-----------')\n",
        "\n",
        "  #replace null values with np.nan in the df\n",
        "  df.replace(null_columns, np.nan, inplace=True)\n",
        "  print('Replacing null values with np.nan is completed')\n",
        "\n",
        "  #drop large missing data columns\n",
        "  df.drop(columns= missing_mailout, inplace=True)\n",
        "  print('Droping missing data columns completed')\n",
        "\n",
        "  #convert object dtype\n",
        "  convertobjects(df)\n",
        "  print('Converting object dtype is completed')\n",
        "\n",
        "  #reconstructing large categoical columns\n",
        "  df['GEBURTSJAHR'].replace(0, np.nan, inplace=True)   #update the null column value\n",
        "  reconstruct_big_cateogory(df) #reconstruct the dfs\n",
        "  print('Reconstructing large categoical columns is completed')\n",
        "\n",
        "  #drop converted, object dtype and LNR columns\n",
        "  df.drop(columns= drop_mailout, inplace=True)\n",
        "  print('Droping converted/cat columns is completed')\n",
        "\n",
        "\n",
        "  #fill dfs with the most frequent values  \n",
        "  df.fillna(value=frequent_dict, inplace=True)\n",
        "  print('filling missing data is completed')\n",
        "  \n",
        "  print('-----------')\n",
        "  print('Final df shape: {}'.format(df.shape))\n",
        "\n",
        "  return df"
      ],
      "execution_count": null,
      "outputs": []
    },
    {
      "cell_type": "code",
      "metadata": {
        "id": "_zP7LUeeggpx",
        "colab_type": "code",
        "colab": {}
      },
      "source": [
        "#create the drop_feature list\n",
        "drop_mailout = list(set(cat_columns)-set(['CAMEO_DEU_2015','CAMEO_DEUG_2015','CAMEO_INTL_2015'])) #remove the CAMEO_ features\n",
        "drop_mailout.extend(['ANZ_HH_TITEL','ANZ_PERSONEN']) "
      ],
      "execution_count": null,
      "outputs": []
    },
    {
      "cell_type": "code",
      "metadata": {
        "id": "8NL6B1QUy5XB",
        "colab_type": "code",
        "colab": {
          "base_uri": "https://localhost:8080/",
          "height": 185
        },
        "outputId": "f296f068-ccaf-4653-d473-4ba0bf49df09"
      },
      "source": [
        "#cleaned mailout_train df\n",
        "cleaned_train = mailout_dataprocessing(mailout_train, null_columns, missing_mailout, drop_mailout,frequent_dict)"
      ],
      "execution_count": null,
      "outputs": [
        {
          "output_type": "stream",
          "text": [
            "Initial df shape: (42962, 367)\n",
            "-----------\n",
            "Replacing null values with np.nan is completed\n",
            "Droping missing data columns completed\n",
            "Converting object dtype is completed\n",
            "Reconstructing large categoical columns is completed\n",
            "Droping converted/cat columns is completed\n",
            "filling missing data is completed\n",
            "-----------\n",
            "Final df shape: (42962, 355)\n"
          ],
          "name": "stdout"
        }
      ]
    },
    {
      "cell_type": "code",
      "metadata": {
        "id": "ZWnT1Vl04ho5",
        "colab_type": "code",
        "colab": {}
      },
      "source": [
        "#save the transformed file\n",
        "# cleaned_train.to_csv(\"cleaned_train.gzip\",index = False, compression=\"gzip\")\n",
        "\n",
        "#open the transformed files\n",
        "# cleaned_train = pd.read_csv(\"cleaned_train.gzip\",compression='gzip')"
      ],
      "execution_count": 2,
      "outputs": []
    },
    {
      "cell_type": "markdown",
      "metadata": {
        "id": "jfPvGUzz0GFb",
        "colab_type": "text"
      },
      "source": [
        "### 2.3 Classification Models"
      ]
    },
    {
      "cell_type": "code",
      "metadata": {
        "id": "IabTrPFn3JPz",
        "colab_type": "code",
        "colab": {}
      },
      "source": [
        "#seperate the labels from the features\n",
        "labels = cleaned_train['RESPONSE']\n",
        "cleaned_train.drop(columns='RESPONSE', inplace= True)"
      ],
      "execution_count": 3,
      "outputs": []
    },
    {
      "cell_type": "code",
      "metadata": {
        "id": "24KEUZ93MCjC",
        "colab_type": "code",
        "colab": {
          "base_uri": "https://localhost:8080/",
          "height": 244
        },
        "outputId": "2e62106e-04b4-4cf5-a1fd-bbac9f8b59e1"
      },
      "source": [
        "cleaned_train.head()"
      ],
      "execution_count": null,
      "outputs": [
        {
          "output_type": "execute_result",
          "data": {
            "text/html": [
              "<div>\n",
              "<style scoped>\n",
              "    .dataframe tbody tr th:only-of-type {\n",
              "        vertical-align: middle;\n",
              "    }\n",
              "\n",
              "    .dataframe tbody tr th {\n",
              "        vertical-align: top;\n",
              "    }\n",
              "\n",
              "    .dataframe thead th {\n",
              "        text-align: right;\n",
              "    }\n",
              "</style>\n",
              "<table border=\"1\" class=\"dataframe\">\n",
              "  <thead>\n",
              "    <tr style=\"text-align: right;\">\n",
              "      <th></th>\n",
              "      <th>AKT_DAT_KL</th>\n",
              "      <th>ANZ_KINDER</th>\n",
              "      <th>ANZ_TITEL</th>\n",
              "      <th>ARBEIT</th>\n",
              "      <th>BALLRAUM</th>\n",
              "      <th>CAMEO_DEU_2015</th>\n",
              "      <th>CAMEO_DEUG_2015</th>\n",
              "      <th>CAMEO_INTL_2015</th>\n",
              "      <th>CJT_GESAMTTYP</th>\n",
              "      <th>CJT_KATALOGNUTZER</th>\n",
              "      <th>CJT_TYP_1</th>\n",
              "      <th>CJT_TYP_2</th>\n",
              "      <th>CJT_TYP_3</th>\n",
              "      <th>CJT_TYP_4</th>\n",
              "      <th>CJT_TYP_5</th>\n",
              "      <th>CJT_TYP_6</th>\n",
              "      <th>D19_BANKEN_ANZ_12</th>\n",
              "      <th>D19_BANKEN_ANZ_24</th>\n",
              "      <th>D19_BANKEN_DATUM</th>\n",
              "      <th>D19_BANKEN_DIREKT</th>\n",
              "      <th>D19_BANKEN_GROSS</th>\n",
              "      <th>D19_BANKEN_LOKAL</th>\n",
              "      <th>D19_BANKEN_OFFLINE_DATUM</th>\n",
              "      <th>D19_BANKEN_ONLINE_DATUM</th>\n",
              "      <th>D19_BANKEN_ONLINE_QUOTE_12</th>\n",
              "      <th>D19_BANKEN_REST</th>\n",
              "      <th>D19_BEKLEIDUNG_GEH</th>\n",
              "      <th>D19_BEKLEIDUNG_REST</th>\n",
              "      <th>D19_BILDUNG</th>\n",
              "      <th>D19_BIO_OEKO</th>\n",
              "      <th>D19_BUCH_CD</th>\n",
              "      <th>D19_DIGIT_SERV</th>\n",
              "      <th>D19_DROGERIEARTIKEL</th>\n",
              "      <th>D19_ENERGIE</th>\n",
              "      <th>D19_FREIZEIT</th>\n",
              "      <th>D19_GARTEN</th>\n",
              "      <th>D19_GESAMT_ANZ_12</th>\n",
              "      <th>D19_GESAMT_ANZ_24</th>\n",
              "      <th>D19_GESAMT_DATUM</th>\n",
              "      <th>D19_GESAMT_OFFLINE_DATUM</th>\n",
              "      <th>...</th>\n",
              "      <th>SEMIO_KRIT</th>\n",
              "      <th>SEMIO_KULT</th>\n",
              "      <th>SEMIO_LUST</th>\n",
              "      <th>SEMIO_MAT</th>\n",
              "      <th>SEMIO_PFLICHT</th>\n",
              "      <th>SEMIO_RAT</th>\n",
              "      <th>SEMIO_REL</th>\n",
              "      <th>SEMIO_SOZ</th>\n",
              "      <th>SEMIO_TRADV</th>\n",
              "      <th>SEMIO_VERT</th>\n",
              "      <th>SHOPPER_TYP</th>\n",
              "      <th>SOHO_KZ</th>\n",
              "      <th>STRUKTURTYP</th>\n",
              "      <th>UMFELD_ALT</th>\n",
              "      <th>UMFELD_JUNG</th>\n",
              "      <th>UNGLEICHENN_FLAG</th>\n",
              "      <th>VERS_TYP</th>\n",
              "      <th>VHA</th>\n",
              "      <th>VHN</th>\n",
              "      <th>VK_DHT4A</th>\n",
              "      <th>VK_DISTANZ</th>\n",
              "      <th>VK_ZG11</th>\n",
              "      <th>W_KEIT_KIND_HH</th>\n",
              "      <th>WOHNDAUER_2008</th>\n",
              "      <th>WOHNLAGE</th>\n",
              "      <th>ZABEOTYP</th>\n",
              "      <th>ANREDE_KZ</th>\n",
              "      <th>ALTERSKATEGORIE_GROB</th>\n",
              "      <th>ALTER_HH_2</th>\n",
              "      <th>ALTERSKATEGORIE_FEIN_2</th>\n",
              "      <th>EINGEZOGENAM_HH_JAHR_2</th>\n",
              "      <th>KBA13_ANZAHL_PKW_2</th>\n",
              "      <th>GEBURTSJAHR_2</th>\n",
              "      <th>EINGEFUEGT_AM_2</th>\n",
              "      <th>MIN_GEBAEUDEJAHR_2</th>\n",
              "      <th>VERDICHTUNGSRAUM_2</th>\n",
              "      <th>ANZ_HAUSHALTE_AKTIV_2</th>\n",
              "      <th>ANZ_STATISTISCHE_HAUSHALTE_2</th>\n",
              "      <th>ANZ_PERSONEN_2</th>\n",
              "      <th>ANZ_HH_TITEL_2</th>\n",
              "    </tr>\n",
              "  </thead>\n",
              "  <tbody>\n",
              "    <tr>\n",
              "      <th>0</th>\n",
              "      <td>1.0</td>\n",
              "      <td>0.0</td>\n",
              "      <td>0.0</td>\n",
              "      <td>3.0</td>\n",
              "      <td>5.0</td>\n",
              "      <td>5.0</td>\n",
              "      <td>5.0</td>\n",
              "      <td>3.0</td>\n",
              "      <td>2.0</td>\n",
              "      <td>5.0</td>\n",
              "      <td>2.0</td>\n",
              "      <td>2.0</td>\n",
              "      <td>5.0</td>\n",
              "      <td>5.0</td>\n",
              "      <td>5.0</td>\n",
              "      <td>5.0</td>\n",
              "      <td>0</td>\n",
              "      <td>0</td>\n",
              "      <td>10</td>\n",
              "      <td>0</td>\n",
              "      <td>0</td>\n",
              "      <td>0</td>\n",
              "      <td>10</td>\n",
              "      <td>10</td>\n",
              "      <td>0.0</td>\n",
              "      <td>0</td>\n",
              "      <td>0</td>\n",
              "      <td>0</td>\n",
              "      <td>0</td>\n",
              "      <td>0</td>\n",
              "      <td>0</td>\n",
              "      <td>0</td>\n",
              "      <td>0</td>\n",
              "      <td>0</td>\n",
              "      <td>0</td>\n",
              "      <td>0</td>\n",
              "      <td>0</td>\n",
              "      <td>0</td>\n",
              "      <td>9</td>\n",
              "      <td>9</td>\n",
              "      <td>...</td>\n",
              "      <td>6</td>\n",
              "      <td>1</td>\n",
              "      <td>7</td>\n",
              "      <td>1</td>\n",
              "      <td>3</td>\n",
              "      <td>2</td>\n",
              "      <td>1</td>\n",
              "      <td>5</td>\n",
              "      <td>1</td>\n",
              "      <td>3</td>\n",
              "      <td>3.0</td>\n",
              "      <td>0.0</td>\n",
              "      <td>3.0</td>\n",
              "      <td>2.0</td>\n",
              "      <td>4.0</td>\n",
              "      <td>0.0</td>\n",
              "      <td>2.0</td>\n",
              "      <td>1.0</td>\n",
              "      <td>2.0</td>\n",
              "      <td>5.0</td>\n",
              "      <td>2.0</td>\n",
              "      <td>1.0</td>\n",
              "      <td>6.0</td>\n",
              "      <td>9.0</td>\n",
              "      <td>3.0</td>\n",
              "      <td>3</td>\n",
              "      <td>2</td>\n",
              "      <td>4</td>\n",
              "      <td>1</td>\n",
              "      <td>1</td>\n",
              "      <td>6</td>\n",
              "      <td>3</td>\n",
              "      <td>9</td>\n",
              "      <td>1</td>\n",
              "      <td>2</td>\n",
              "      <td>5</td>\n",
              "      <td>7</td>\n",
              "      <td>6</td>\n",
              "      <td>2</td>\n",
              "      <td>0</td>\n",
              "    </tr>\n",
              "    <tr>\n",
              "      <th>1</th>\n",
              "      <td>4.0</td>\n",
              "      <td>0.0</td>\n",
              "      <td>0.0</td>\n",
              "      <td>2.0</td>\n",
              "      <td>5.0</td>\n",
              "      <td>5.0</td>\n",
              "      <td>5.0</td>\n",
              "      <td>3.0</td>\n",
              "      <td>2.0</td>\n",
              "      <td>2.0</td>\n",
              "      <td>2.0</td>\n",
              "      <td>2.0</td>\n",
              "      <td>4.0</td>\n",
              "      <td>3.0</td>\n",
              "      <td>5.0</td>\n",
              "      <td>4.0</td>\n",
              "      <td>1</td>\n",
              "      <td>1</td>\n",
              "      <td>5</td>\n",
              "      <td>0</td>\n",
              "      <td>0</td>\n",
              "      <td>3</td>\n",
              "      <td>10</td>\n",
              "      <td>10</td>\n",
              "      <td>0.0</td>\n",
              "      <td>0</td>\n",
              "      <td>0</td>\n",
              "      <td>6</td>\n",
              "      <td>0</td>\n",
              "      <td>0</td>\n",
              "      <td>0</td>\n",
              "      <td>0</td>\n",
              "      <td>6</td>\n",
              "      <td>0</td>\n",
              "      <td>0</td>\n",
              "      <td>0</td>\n",
              "      <td>2</td>\n",
              "      <td>2</td>\n",
              "      <td>1</td>\n",
              "      <td>1</td>\n",
              "      <td>...</td>\n",
              "      <td>6</td>\n",
              "      <td>3</td>\n",
              "      <td>6</td>\n",
              "      <td>5</td>\n",
              "      <td>5</td>\n",
              "      <td>4</td>\n",
              "      <td>3</td>\n",
              "      <td>1</td>\n",
              "      <td>3</td>\n",
              "      <td>4</td>\n",
              "      <td>2.0</td>\n",
              "      <td>0.0</td>\n",
              "      <td>1.0</td>\n",
              "      <td>2.0</td>\n",
              "      <td>5.0</td>\n",
              "      <td>0.0</td>\n",
              "      <td>1.0</td>\n",
              "      <td>1.0</td>\n",
              "      <td>3.0</td>\n",
              "      <td>1.0</td>\n",
              "      <td>2.0</td>\n",
              "      <td>1.0</td>\n",
              "      <td>4.0</td>\n",
              "      <td>9.0</td>\n",
              "      <td>7.0</td>\n",
              "      <td>1</td>\n",
              "      <td>2</td>\n",
              "      <td>3</td>\n",
              "      <td>3</td>\n",
              "      <td>4</td>\n",
              "      <td>1</td>\n",
              "      <td>6</td>\n",
              "      <td>3</td>\n",
              "      <td>6</td>\n",
              "      <td>4</td>\n",
              "      <td>1</td>\n",
              "      <td>1</td>\n",
              "      <td>1</td>\n",
              "      <td>3</td>\n",
              "      <td>0</td>\n",
              "    </tr>\n",
              "    <tr>\n",
              "      <th>2</th>\n",
              "      <td>1.0</td>\n",
              "      <td>0.0</td>\n",
              "      <td>0.0</td>\n",
              "      <td>4.0</td>\n",
              "      <td>1.0</td>\n",
              "      <td>2.0</td>\n",
              "      <td>2.0</td>\n",
              "      <td>1.0</td>\n",
              "      <td>4.0</td>\n",
              "      <td>5.0</td>\n",
              "      <td>1.0</td>\n",
              "      <td>1.0</td>\n",
              "      <td>5.0</td>\n",
              "      <td>5.0</td>\n",
              "      <td>5.0</td>\n",
              "      <td>5.0</td>\n",
              "      <td>0</td>\n",
              "      <td>1</td>\n",
              "      <td>7</td>\n",
              "      <td>0</td>\n",
              "      <td>0</td>\n",
              "      <td>0</td>\n",
              "      <td>10</td>\n",
              "      <td>7</td>\n",
              "      <td>0.0</td>\n",
              "      <td>5</td>\n",
              "      <td>0</td>\n",
              "      <td>0</td>\n",
              "      <td>0</td>\n",
              "      <td>0</td>\n",
              "      <td>0</td>\n",
              "      <td>0</td>\n",
              "      <td>0</td>\n",
              "      <td>0</td>\n",
              "      <td>0</td>\n",
              "      <td>0</td>\n",
              "      <td>0</td>\n",
              "      <td>2</td>\n",
              "      <td>6</td>\n",
              "      <td>6</td>\n",
              "      <td>...</td>\n",
              "      <td>3</td>\n",
              "      <td>4</td>\n",
              "      <td>7</td>\n",
              "      <td>6</td>\n",
              "      <td>1</td>\n",
              "      <td>1</td>\n",
              "      <td>5</td>\n",
              "      <td>3</td>\n",
              "      <td>1</td>\n",
              "      <td>7</td>\n",
              "      <td>3.0</td>\n",
              "      <td>0.0</td>\n",
              "      <td>3.0</td>\n",
              "      <td>1.0</td>\n",
              "      <td>5.0</td>\n",
              "      <td>0.0</td>\n",
              "      <td>1.0</td>\n",
              "      <td>4.0</td>\n",
              "      <td>1.0</td>\n",
              "      <td>6.0</td>\n",
              "      <td>4.0</td>\n",
              "      <td>2.0</td>\n",
              "      <td>6.0</td>\n",
              "      <td>9.0</td>\n",
              "      <td>2.0</td>\n",
              "      <td>3</td>\n",
              "      <td>1</td>\n",
              "      <td>4</td>\n",
              "      <td>1</td>\n",
              "      <td>1</td>\n",
              "      <td>2</td>\n",
              "      <td>2</td>\n",
              "      <td>1</td>\n",
              "      <td>4</td>\n",
              "      <td>5</td>\n",
              "      <td>7</td>\n",
              "      <td>1</td>\n",
              "      <td>1</td>\n",
              "      <td>1</td>\n",
              "      <td>0</td>\n",
              "    </tr>\n",
              "    <tr>\n",
              "      <th>3</th>\n",
              "      <td>1.0</td>\n",
              "      <td>0.0</td>\n",
              "      <td>0.0</td>\n",
              "      <td>4.0</td>\n",
              "      <td>2.0</td>\n",
              "      <td>2.0</td>\n",
              "      <td>2.0</td>\n",
              "      <td>1.0</td>\n",
              "      <td>2.0</td>\n",
              "      <td>5.0</td>\n",
              "      <td>2.0</td>\n",
              "      <td>2.0</td>\n",
              "      <td>5.0</td>\n",
              "      <td>5.0</td>\n",
              "      <td>5.0</td>\n",
              "      <td>4.0</td>\n",
              "      <td>0</td>\n",
              "      <td>0</td>\n",
              "      <td>10</td>\n",
              "      <td>0</td>\n",
              "      <td>0</td>\n",
              "      <td>0</td>\n",
              "      <td>10</td>\n",
              "      <td>10</td>\n",
              "      <td>0.0</td>\n",
              "      <td>0</td>\n",
              "      <td>0</td>\n",
              "      <td>6</td>\n",
              "      <td>0</td>\n",
              "      <td>0</td>\n",
              "      <td>6</td>\n",
              "      <td>0</td>\n",
              "      <td>0</td>\n",
              "      <td>0</td>\n",
              "      <td>0</td>\n",
              "      <td>0</td>\n",
              "      <td>0</td>\n",
              "      <td>0</td>\n",
              "      <td>10</td>\n",
              "      <td>10</td>\n",
              "      <td>...</td>\n",
              "      <td>7</td>\n",
              "      <td>1</td>\n",
              "      <td>7</td>\n",
              "      <td>1</td>\n",
              "      <td>4</td>\n",
              "      <td>2</td>\n",
              "      <td>2</td>\n",
              "      <td>5</td>\n",
              "      <td>3</td>\n",
              "      <td>2</td>\n",
              "      <td>1.0</td>\n",
              "      <td>0.0</td>\n",
              "      <td>3.0</td>\n",
              "      <td>3.0</td>\n",
              "      <td>5.0</td>\n",
              "      <td>0.0</td>\n",
              "      <td>2.0</td>\n",
              "      <td>1.0</td>\n",
              "      <td>4.0</td>\n",
              "      <td>8.0</td>\n",
              "      <td>11.0</td>\n",
              "      <td>11.0</td>\n",
              "      <td>6.0</td>\n",
              "      <td>9.0</td>\n",
              "      <td>1.0</td>\n",
              "      <td>3</td>\n",
              "      <td>2</td>\n",
              "      <td>4</td>\n",
              "      <td>1</td>\n",
              "      <td>1</td>\n",
              "      <td>1</td>\n",
              "      <td>3</td>\n",
              "      <td>1</td>\n",
              "      <td>1</td>\n",
              "      <td>2</td>\n",
              "      <td>6</td>\n",
              "      <td>4</td>\n",
              "      <td>4</td>\n",
              "      <td>3</td>\n",
              "      <td>0</td>\n",
              "    </tr>\n",
              "    <tr>\n",
              "      <th>4</th>\n",
              "      <td>1.0</td>\n",
              "      <td>0.0</td>\n",
              "      <td>0.0</td>\n",
              "      <td>3.0</td>\n",
              "      <td>4.0</td>\n",
              "      <td>7.0</td>\n",
              "      <td>7.0</td>\n",
              "      <td>4.0</td>\n",
              "      <td>6.0</td>\n",
              "      <td>5.0</td>\n",
              "      <td>1.0</td>\n",
              "      <td>2.0</td>\n",
              "      <td>5.0</td>\n",
              "      <td>5.0</td>\n",
              "      <td>5.0</td>\n",
              "      <td>5.0</td>\n",
              "      <td>0</td>\n",
              "      <td>0</td>\n",
              "      <td>10</td>\n",
              "      <td>0</td>\n",
              "      <td>0</td>\n",
              "      <td>0</td>\n",
              "      <td>10</td>\n",
              "      <td>10</td>\n",
              "      <td>0.0</td>\n",
              "      <td>0</td>\n",
              "      <td>5</td>\n",
              "      <td>0</td>\n",
              "      <td>7</td>\n",
              "      <td>0</td>\n",
              "      <td>0</td>\n",
              "      <td>0</td>\n",
              "      <td>0</td>\n",
              "      <td>0</td>\n",
              "      <td>0</td>\n",
              "      <td>0</td>\n",
              "      <td>0</td>\n",
              "      <td>1</td>\n",
              "      <td>7</td>\n",
              "      <td>7</td>\n",
              "      <td>...</td>\n",
              "      <td>5</td>\n",
              "      <td>5</td>\n",
              "      <td>6</td>\n",
              "      <td>6</td>\n",
              "      <td>4</td>\n",
              "      <td>5</td>\n",
              "      <td>4</td>\n",
              "      <td>6</td>\n",
              "      <td>2</td>\n",
              "      <td>7</td>\n",
              "      <td>1.0</td>\n",
              "      <td>0.0</td>\n",
              "      <td>3.0</td>\n",
              "      <td>2.0</td>\n",
              "      <td>5.0</td>\n",
              "      <td>0.0</td>\n",
              "      <td>1.0</td>\n",
              "      <td>0.0</td>\n",
              "      <td>4.0</td>\n",
              "      <td>2.0</td>\n",
              "      <td>2.0</td>\n",
              "      <td>1.0</td>\n",
              "      <td>6.0</td>\n",
              "      <td>9.0</td>\n",
              "      <td>3.0</td>\n",
              "      <td>3</td>\n",
              "      <td>1</td>\n",
              "      <td>3</td>\n",
              "      <td>1</td>\n",
              "      <td>2</td>\n",
              "      <td>1</td>\n",
              "      <td>2</td>\n",
              "      <td>1</td>\n",
              "      <td>1</td>\n",
              "      <td>2</td>\n",
              "      <td>5</td>\n",
              "      <td>7</td>\n",
              "      <td>7</td>\n",
              "      <td>2</td>\n",
              "      <td>0</td>\n",
              "    </tr>\n",
              "  </tbody>\n",
              "</table>\n",
              "<p>5 rows × 354 columns</p>\n",
              "</div>"
            ],
            "text/plain": [
              "   AKT_DAT_KL  ANZ_KINDER  ...  ANZ_PERSONEN_2  ANZ_HH_TITEL_2\n",
              "0         1.0         0.0  ...               2               0\n",
              "1         4.0         0.0  ...               3               0\n",
              "2         1.0         0.0  ...               1               0\n",
              "3         1.0         0.0  ...               3               0\n",
              "4         1.0         0.0  ...               2               0\n",
              "\n",
              "[5 rows x 354 columns]"
            ]
          },
          "metadata": {
            "tags": []
          },
          "execution_count": 12
        }
      ]
    },
    {
      "cell_type": "code",
      "metadata": {
        "id": "vXboPTiUjLOK",
        "colab_type": "code",
        "colab": {}
      },
      "source": [
        "#train-test split\n",
        "X_train, X_val, y_train, y_val = train_test_split(cleaned_train, labels, test_size=0.3, stratify=labels, random_state=random_seed)"
      ],
      "execution_count": null,
      "outputs": []
    },
    {
      "cell_type": "code",
      "metadata": {
        "id": "HqMS_mkb7LB_",
        "colab_type": "code",
        "colab": {
          "base_uri": "https://localhost:8080/",
          "height": 34
        },
        "outputId": "15e8a22c-c590-4900-e97b-7f47f5088113"
      },
      "source": [
        "#Apply the banchmark model - Random Forest model is selected as the benchmark)\n",
        "\n",
        "banchmark = RandomForestClassifier(random_state=random_seed) \n",
        "banchmark.fit(X_train, y_train)  \n",
        "y_pred_benchmark = banchmark.predict_proba(X_val)[:,1]\n",
        "\n",
        "benchmark_score = roc_auc_score(y_val, y_pred_benchmark) #get accuracy\n",
        "benchmark_score"
      ],
      "execution_count": null,
      "outputs": [
        {
          "output_type": "execute_result",
          "data": {
            "text/plain": [
              "0.5881405157514337"
            ]
          },
          "metadata": {
            "tags": []
          },
          "execution_count": 10
        }
      ]
    },
    {
      "cell_type": "markdown",
      "metadata": {
        "id": "fnvyrruO-9sS",
        "colab_type": "text"
      },
      "source": [
        "Accuracy of the benchmark model is 0.588. Now, diffferent models are applied to the train dataset to identify better perfoming model and tune it. The new models are applied for the scaled train dataset."
      ]
    },
    {
      "cell_type": "code",
      "metadata": {
        "id": "pKpg26AYMyjm",
        "colab_type": "code",
        "colab": {}
      },
      "source": [
        "#get the scaled train dataset\n",
        "scaled_train = pd.DataFrame(scaler.transform(cleaned_train), columns=cleaned_train.columns)"
      ],
      "execution_count": null,
      "outputs": []
    },
    {
      "cell_type": "code",
      "metadata": {
        "id": "xSM1gRHeo_q4",
        "colab_type": "code",
        "colab": {}
      },
      "source": [
        "#saving the file\n",
        "# scaled_train.to_csv(\"scaled_train.gzip\",index = False, compression=\"gzip\")\n",
        "# scaled_train = pd.read_csv(\"scaled_train.gzip\",compression='gzip')"
      ],
      "execution_count": 4,
      "outputs": []
    },
    {
      "cell_type": "code",
      "metadata": {
        "id": "PofRsNVwUdZ0",
        "colab_type": "code",
        "colab": {
          "base_uri": "https://localhost:8080/",
          "height": 244
        },
        "outputId": "1d359b4e-4c82-4b76-e40f-09118d2da29b"
      },
      "source": [
        "scaled_train.head()"
      ],
      "execution_count": null,
      "outputs": [
        {
          "output_type": "execute_result",
          "data": {
            "text/html": [
              "<div>\n",
              "<style scoped>\n",
              "    .dataframe tbody tr th:only-of-type {\n",
              "        vertical-align: middle;\n",
              "    }\n",
              "\n",
              "    .dataframe tbody tr th {\n",
              "        vertical-align: top;\n",
              "    }\n",
              "\n",
              "    .dataframe thead th {\n",
              "        text-align: right;\n",
              "    }\n",
              "</style>\n",
              "<table border=\"1\" class=\"dataframe\">\n",
              "  <thead>\n",
              "    <tr style=\"text-align: right;\">\n",
              "      <th></th>\n",
              "      <th>AKT_DAT_KL</th>\n",
              "      <th>ANZ_KINDER</th>\n",
              "      <th>ANZ_TITEL</th>\n",
              "      <th>ARBEIT</th>\n",
              "      <th>BALLRAUM</th>\n",
              "      <th>CAMEO_DEU_2015</th>\n",
              "      <th>CAMEO_DEUG_2015</th>\n",
              "      <th>CAMEO_INTL_2015</th>\n",
              "      <th>CJT_GESAMTTYP</th>\n",
              "      <th>CJT_KATALOGNUTZER</th>\n",
              "      <th>CJT_TYP_1</th>\n",
              "      <th>CJT_TYP_2</th>\n",
              "      <th>CJT_TYP_3</th>\n",
              "      <th>CJT_TYP_4</th>\n",
              "      <th>CJT_TYP_5</th>\n",
              "      <th>CJT_TYP_6</th>\n",
              "      <th>D19_BANKEN_ANZ_12</th>\n",
              "      <th>D19_BANKEN_ANZ_24</th>\n",
              "      <th>D19_BANKEN_DATUM</th>\n",
              "      <th>D19_BANKEN_DIREKT</th>\n",
              "      <th>D19_BANKEN_GROSS</th>\n",
              "      <th>D19_BANKEN_LOKAL</th>\n",
              "      <th>D19_BANKEN_OFFLINE_DATUM</th>\n",
              "      <th>D19_BANKEN_ONLINE_DATUM</th>\n",
              "      <th>D19_BANKEN_ONLINE_QUOTE_12</th>\n",
              "      <th>D19_BANKEN_REST</th>\n",
              "      <th>D19_BEKLEIDUNG_GEH</th>\n",
              "      <th>D19_BEKLEIDUNG_REST</th>\n",
              "      <th>D19_BILDUNG</th>\n",
              "      <th>D19_BIO_OEKO</th>\n",
              "      <th>D19_BUCH_CD</th>\n",
              "      <th>D19_DIGIT_SERV</th>\n",
              "      <th>D19_DROGERIEARTIKEL</th>\n",
              "      <th>D19_ENERGIE</th>\n",
              "      <th>D19_FREIZEIT</th>\n",
              "      <th>D19_GARTEN</th>\n",
              "      <th>D19_GESAMT_ANZ_12</th>\n",
              "      <th>D19_GESAMT_ANZ_24</th>\n",
              "      <th>D19_GESAMT_DATUM</th>\n",
              "      <th>D19_GESAMT_OFFLINE_DATUM</th>\n",
              "      <th>...</th>\n",
              "      <th>SEMIO_KRIT</th>\n",
              "      <th>SEMIO_KULT</th>\n",
              "      <th>SEMIO_LUST</th>\n",
              "      <th>SEMIO_MAT</th>\n",
              "      <th>SEMIO_PFLICHT</th>\n",
              "      <th>SEMIO_RAT</th>\n",
              "      <th>SEMIO_REL</th>\n",
              "      <th>SEMIO_SOZ</th>\n",
              "      <th>SEMIO_TRADV</th>\n",
              "      <th>SEMIO_VERT</th>\n",
              "      <th>SHOPPER_TYP</th>\n",
              "      <th>SOHO_KZ</th>\n",
              "      <th>STRUKTURTYP</th>\n",
              "      <th>UMFELD_ALT</th>\n",
              "      <th>UMFELD_JUNG</th>\n",
              "      <th>UNGLEICHENN_FLAG</th>\n",
              "      <th>VERS_TYP</th>\n",
              "      <th>VHA</th>\n",
              "      <th>VHN</th>\n",
              "      <th>VK_DHT4A</th>\n",
              "      <th>VK_DISTANZ</th>\n",
              "      <th>VK_ZG11</th>\n",
              "      <th>W_KEIT_KIND_HH</th>\n",
              "      <th>WOHNDAUER_2008</th>\n",
              "      <th>WOHNLAGE</th>\n",
              "      <th>ZABEOTYP</th>\n",
              "      <th>ANREDE_KZ</th>\n",
              "      <th>ALTERSKATEGORIE_GROB</th>\n",
              "      <th>ALTER_HH_2</th>\n",
              "      <th>ALTERSKATEGORIE_FEIN_2</th>\n",
              "      <th>EINGEZOGENAM_HH_JAHR_2</th>\n",
              "      <th>KBA13_ANZAHL_PKW_2</th>\n",
              "      <th>GEBURTSJAHR_2</th>\n",
              "      <th>EINGEFUEGT_AM_2</th>\n",
              "      <th>MIN_GEBAEUDEJAHR_2</th>\n",
              "      <th>VERDICHTUNGSRAUM_2</th>\n",
              "      <th>ANZ_HAUSHALTE_AKTIV_2</th>\n",
              "      <th>ANZ_STATISTISCHE_HAUSHALTE_2</th>\n",
              "      <th>ANZ_PERSONEN_2</th>\n",
              "      <th>ANZ_HH_TITEL_2</th>\n",
              "    </tr>\n",
              "  </thead>\n",
              "  <tbody>\n",
              "    <tr>\n",
              "      <th>0</th>\n",
              "      <td>0.000</td>\n",
              "      <td>0.0</td>\n",
              "      <td>0.0</td>\n",
              "      <td>0.250</td>\n",
              "      <td>0.666667</td>\n",
              "      <td>0.500</td>\n",
              "      <td>0.500</td>\n",
              "      <td>0.50</td>\n",
              "      <td>0.2</td>\n",
              "      <td>1.00</td>\n",
              "      <td>0.25</td>\n",
              "      <td>0.25</td>\n",
              "      <td>1.00</td>\n",
              "      <td>1.0</td>\n",
              "      <td>1.0</td>\n",
              "      <td>1.00</td>\n",
              "      <td>0.000000</td>\n",
              "      <td>0.000000</td>\n",
              "      <td>1.000000</td>\n",
              "      <td>0.0</td>\n",
              "      <td>0.0</td>\n",
              "      <td>0.000000</td>\n",
              "      <td>1.0</td>\n",
              "      <td>1.000000</td>\n",
              "      <td>0.0</td>\n",
              "      <td>0.000000</td>\n",
              "      <td>0.000000</td>\n",
              "      <td>0.000000</td>\n",
              "      <td>0.0</td>\n",
              "      <td>0.0</td>\n",
              "      <td>0.000000</td>\n",
              "      <td>0.0</td>\n",
              "      <td>0.000000</td>\n",
              "      <td>0.0</td>\n",
              "      <td>0.0</td>\n",
              "      <td>0.0</td>\n",
              "      <td>0.000000</td>\n",
              "      <td>0.000000</td>\n",
              "      <td>0.888889</td>\n",
              "      <td>0.888889</td>\n",
              "      <td>...</td>\n",
              "      <td>0.833333</td>\n",
              "      <td>0.000000</td>\n",
              "      <td>1.000000</td>\n",
              "      <td>0.000000</td>\n",
              "      <td>0.333333</td>\n",
              "      <td>0.166667</td>\n",
              "      <td>0.000000</td>\n",
              "      <td>0.666667</td>\n",
              "      <td>0.000000</td>\n",
              "      <td>0.333333</td>\n",
              "      <td>1.000000</td>\n",
              "      <td>0.0</td>\n",
              "      <td>1.0</td>\n",
              "      <td>0.25</td>\n",
              "      <td>0.75</td>\n",
              "      <td>0.0</td>\n",
              "      <td>1.0</td>\n",
              "      <td>0.2</td>\n",
              "      <td>0.50</td>\n",
              "      <td>0.4</td>\n",
              "      <td>0.083333</td>\n",
              "      <td>0.0</td>\n",
              "      <td>1.0</td>\n",
              "      <td>1.0</td>\n",
              "      <td>0.375</td>\n",
              "      <td>0.4</td>\n",
              "      <td>1.0</td>\n",
              "      <td>0.375</td>\n",
              "      <td>0.000000</td>\n",
              "      <td>0.000000</td>\n",
              "      <td>0.555556</td>\n",
              "      <td>0.222222</td>\n",
              "      <td>0.888889</td>\n",
              "      <td>0.000000</td>\n",
              "      <td>0.111111</td>\n",
              "      <td>0.444444</td>\n",
              "      <td>1.0</td>\n",
              "      <td>0.833333</td>\n",
              "      <td>0.166667</td>\n",
              "      <td>0.0</td>\n",
              "    </tr>\n",
              "    <tr>\n",
              "      <th>1</th>\n",
              "      <td>0.375</td>\n",
              "      <td>0.0</td>\n",
              "      <td>0.0</td>\n",
              "      <td>0.125</td>\n",
              "      <td>0.666667</td>\n",
              "      <td>0.500</td>\n",
              "      <td>0.500</td>\n",
              "      <td>0.50</td>\n",
              "      <td>0.2</td>\n",
              "      <td>0.25</td>\n",
              "      <td>0.25</td>\n",
              "      <td>0.25</td>\n",
              "      <td>0.75</td>\n",
              "      <td>0.5</td>\n",
              "      <td>1.0</td>\n",
              "      <td>0.75</td>\n",
              "      <td>0.166667</td>\n",
              "      <td>0.166667</td>\n",
              "      <td>0.444444</td>\n",
              "      <td>0.0</td>\n",
              "      <td>0.0</td>\n",
              "      <td>0.428571</td>\n",
              "      <td>1.0</td>\n",
              "      <td>1.000000</td>\n",
              "      <td>0.0</td>\n",
              "      <td>0.000000</td>\n",
              "      <td>0.000000</td>\n",
              "      <td>0.857143</td>\n",
              "      <td>0.0</td>\n",
              "      <td>0.0</td>\n",
              "      <td>0.000000</td>\n",
              "      <td>0.0</td>\n",
              "      <td>0.857143</td>\n",
              "      <td>0.0</td>\n",
              "      <td>0.0</td>\n",
              "      <td>0.0</td>\n",
              "      <td>0.333333</td>\n",
              "      <td>0.333333</td>\n",
              "      <td>0.000000</td>\n",
              "      <td>0.000000</td>\n",
              "      <td>...</td>\n",
              "      <td>0.833333</td>\n",
              "      <td>0.333333</td>\n",
              "      <td>0.833333</td>\n",
              "      <td>0.666667</td>\n",
              "      <td>0.666667</td>\n",
              "      <td>0.500000</td>\n",
              "      <td>0.333333</td>\n",
              "      <td>0.000000</td>\n",
              "      <td>0.333333</td>\n",
              "      <td>0.500000</td>\n",
              "      <td>0.666667</td>\n",
              "      <td>0.0</td>\n",
              "      <td>0.0</td>\n",
              "      <td>0.25</td>\n",
              "      <td>1.00</td>\n",
              "      <td>0.0</td>\n",
              "      <td>0.0</td>\n",
              "      <td>0.2</td>\n",
              "      <td>0.75</td>\n",
              "      <td>0.0</td>\n",
              "      <td>0.083333</td>\n",
              "      <td>0.0</td>\n",
              "      <td>0.6</td>\n",
              "      <td>1.0</td>\n",
              "      <td>0.875</td>\n",
              "      <td>0.0</td>\n",
              "      <td>1.0</td>\n",
              "      <td>0.250</td>\n",
              "      <td>0.222222</td>\n",
              "      <td>0.333333</td>\n",
              "      <td>0.000000</td>\n",
              "      <td>0.555556</td>\n",
              "      <td>0.222222</td>\n",
              "      <td>0.555556</td>\n",
              "      <td>0.333333</td>\n",
              "      <td>0.000000</td>\n",
              "      <td>0.0</td>\n",
              "      <td>0.000000</td>\n",
              "      <td>0.333333</td>\n",
              "      <td>0.0</td>\n",
              "    </tr>\n",
              "    <tr>\n",
              "      <th>2</th>\n",
              "      <td>0.000</td>\n",
              "      <td>0.0</td>\n",
              "      <td>0.0</td>\n",
              "      <td>0.375</td>\n",
              "      <td>0.000000</td>\n",
              "      <td>0.125</td>\n",
              "      <td>0.125</td>\n",
              "      <td>0.00</td>\n",
              "      <td>0.6</td>\n",
              "      <td>1.00</td>\n",
              "      <td>0.00</td>\n",
              "      <td>0.00</td>\n",
              "      <td>1.00</td>\n",
              "      <td>1.0</td>\n",
              "      <td>1.0</td>\n",
              "      <td>1.00</td>\n",
              "      <td>0.000000</td>\n",
              "      <td>0.166667</td>\n",
              "      <td>0.666667</td>\n",
              "      <td>0.0</td>\n",
              "      <td>0.0</td>\n",
              "      <td>0.000000</td>\n",
              "      <td>1.0</td>\n",
              "      <td>0.666667</td>\n",
              "      <td>0.0</td>\n",
              "      <td>0.714286</td>\n",
              "      <td>0.000000</td>\n",
              "      <td>0.000000</td>\n",
              "      <td>0.0</td>\n",
              "      <td>0.0</td>\n",
              "      <td>0.000000</td>\n",
              "      <td>0.0</td>\n",
              "      <td>0.000000</td>\n",
              "      <td>0.0</td>\n",
              "      <td>0.0</td>\n",
              "      <td>0.0</td>\n",
              "      <td>0.000000</td>\n",
              "      <td>0.333333</td>\n",
              "      <td>0.555556</td>\n",
              "      <td>0.555556</td>\n",
              "      <td>...</td>\n",
              "      <td>0.333333</td>\n",
              "      <td>0.500000</td>\n",
              "      <td>1.000000</td>\n",
              "      <td>0.833333</td>\n",
              "      <td>0.000000</td>\n",
              "      <td>0.000000</td>\n",
              "      <td>0.666667</td>\n",
              "      <td>0.333333</td>\n",
              "      <td>0.000000</td>\n",
              "      <td>1.000000</td>\n",
              "      <td>1.000000</td>\n",
              "      <td>0.0</td>\n",
              "      <td>1.0</td>\n",
              "      <td>0.00</td>\n",
              "      <td>1.00</td>\n",
              "      <td>0.0</td>\n",
              "      <td>0.0</td>\n",
              "      <td>0.8</td>\n",
              "      <td>0.25</td>\n",
              "      <td>0.5</td>\n",
              "      <td>0.250000</td>\n",
              "      <td>0.1</td>\n",
              "      <td>1.0</td>\n",
              "      <td>1.0</td>\n",
              "      <td>0.250</td>\n",
              "      <td>0.4</td>\n",
              "      <td>0.0</td>\n",
              "      <td>0.375</td>\n",
              "      <td>0.000000</td>\n",
              "      <td>0.000000</td>\n",
              "      <td>0.111111</td>\n",
              "      <td>0.111111</td>\n",
              "      <td>0.000000</td>\n",
              "      <td>0.333333</td>\n",
              "      <td>0.444444</td>\n",
              "      <td>0.666667</td>\n",
              "      <td>0.0</td>\n",
              "      <td>0.000000</td>\n",
              "      <td>0.000000</td>\n",
              "      <td>0.0</td>\n",
              "    </tr>\n",
              "    <tr>\n",
              "      <th>3</th>\n",
              "      <td>0.000</td>\n",
              "      <td>0.0</td>\n",
              "      <td>0.0</td>\n",
              "      <td>0.375</td>\n",
              "      <td>0.166667</td>\n",
              "      <td>0.125</td>\n",
              "      <td>0.125</td>\n",
              "      <td>0.00</td>\n",
              "      <td>0.2</td>\n",
              "      <td>1.00</td>\n",
              "      <td>0.25</td>\n",
              "      <td>0.25</td>\n",
              "      <td>1.00</td>\n",
              "      <td>1.0</td>\n",
              "      <td>1.0</td>\n",
              "      <td>0.75</td>\n",
              "      <td>0.000000</td>\n",
              "      <td>0.000000</td>\n",
              "      <td>1.000000</td>\n",
              "      <td>0.0</td>\n",
              "      <td>0.0</td>\n",
              "      <td>0.000000</td>\n",
              "      <td>1.0</td>\n",
              "      <td>1.000000</td>\n",
              "      <td>0.0</td>\n",
              "      <td>0.000000</td>\n",
              "      <td>0.000000</td>\n",
              "      <td>0.857143</td>\n",
              "      <td>0.0</td>\n",
              "      <td>0.0</td>\n",
              "      <td>0.857143</td>\n",
              "      <td>0.0</td>\n",
              "      <td>0.000000</td>\n",
              "      <td>0.0</td>\n",
              "      <td>0.0</td>\n",
              "      <td>0.0</td>\n",
              "      <td>0.000000</td>\n",
              "      <td>0.000000</td>\n",
              "      <td>1.000000</td>\n",
              "      <td>1.000000</td>\n",
              "      <td>...</td>\n",
              "      <td>1.000000</td>\n",
              "      <td>0.000000</td>\n",
              "      <td>1.000000</td>\n",
              "      <td>0.000000</td>\n",
              "      <td>0.500000</td>\n",
              "      <td>0.166667</td>\n",
              "      <td>0.166667</td>\n",
              "      <td>0.666667</td>\n",
              "      <td>0.333333</td>\n",
              "      <td>0.166667</td>\n",
              "      <td>0.333333</td>\n",
              "      <td>0.0</td>\n",
              "      <td>1.0</td>\n",
              "      <td>0.50</td>\n",
              "      <td>1.00</td>\n",
              "      <td>0.0</td>\n",
              "      <td>1.0</td>\n",
              "      <td>0.2</td>\n",
              "      <td>1.00</td>\n",
              "      <td>0.7</td>\n",
              "      <td>0.833333</td>\n",
              "      <td>1.0</td>\n",
              "      <td>1.0</td>\n",
              "      <td>1.0</td>\n",
              "      <td>0.125</td>\n",
              "      <td>0.4</td>\n",
              "      <td>1.0</td>\n",
              "      <td>0.375</td>\n",
              "      <td>0.000000</td>\n",
              "      <td>0.000000</td>\n",
              "      <td>0.000000</td>\n",
              "      <td>0.222222</td>\n",
              "      <td>0.000000</td>\n",
              "      <td>0.000000</td>\n",
              "      <td>0.111111</td>\n",
              "      <td>0.555556</td>\n",
              "      <td>0.5</td>\n",
              "      <td>0.500000</td>\n",
              "      <td>0.333333</td>\n",
              "      <td>0.0</td>\n",
              "    </tr>\n",
              "    <tr>\n",
              "      <th>4</th>\n",
              "      <td>0.000</td>\n",
              "      <td>0.0</td>\n",
              "      <td>0.0</td>\n",
              "      <td>0.250</td>\n",
              "      <td>0.500000</td>\n",
              "      <td>0.750</td>\n",
              "      <td>0.750</td>\n",
              "      <td>0.75</td>\n",
              "      <td>1.0</td>\n",
              "      <td>1.00</td>\n",
              "      <td>0.00</td>\n",
              "      <td>0.25</td>\n",
              "      <td>1.00</td>\n",
              "      <td>1.0</td>\n",
              "      <td>1.0</td>\n",
              "      <td>1.00</td>\n",
              "      <td>0.000000</td>\n",
              "      <td>0.000000</td>\n",
              "      <td>1.000000</td>\n",
              "      <td>0.0</td>\n",
              "      <td>0.0</td>\n",
              "      <td>0.000000</td>\n",
              "      <td>1.0</td>\n",
              "      <td>1.000000</td>\n",
              "      <td>0.0</td>\n",
              "      <td>0.000000</td>\n",
              "      <td>0.714286</td>\n",
              "      <td>0.000000</td>\n",
              "      <td>1.0</td>\n",
              "      <td>0.0</td>\n",
              "      <td>0.000000</td>\n",
              "      <td>0.0</td>\n",
              "      <td>0.000000</td>\n",
              "      <td>0.0</td>\n",
              "      <td>0.0</td>\n",
              "      <td>0.0</td>\n",
              "      <td>0.000000</td>\n",
              "      <td>0.166667</td>\n",
              "      <td>0.666667</td>\n",
              "      <td>0.666667</td>\n",
              "      <td>...</td>\n",
              "      <td>0.666667</td>\n",
              "      <td>0.666667</td>\n",
              "      <td>0.833333</td>\n",
              "      <td>0.833333</td>\n",
              "      <td>0.500000</td>\n",
              "      <td>0.666667</td>\n",
              "      <td>0.500000</td>\n",
              "      <td>0.833333</td>\n",
              "      <td>0.166667</td>\n",
              "      <td>1.000000</td>\n",
              "      <td>0.333333</td>\n",
              "      <td>0.0</td>\n",
              "      <td>1.0</td>\n",
              "      <td>0.25</td>\n",
              "      <td>1.00</td>\n",
              "      <td>0.0</td>\n",
              "      <td>0.0</td>\n",
              "      <td>0.0</td>\n",
              "      <td>1.00</td>\n",
              "      <td>0.1</td>\n",
              "      <td>0.083333</td>\n",
              "      <td>0.0</td>\n",
              "      <td>1.0</td>\n",
              "      <td>1.0</td>\n",
              "      <td>0.375</td>\n",
              "      <td>0.4</td>\n",
              "      <td>0.0</td>\n",
              "      <td>0.250</td>\n",
              "      <td>0.000000</td>\n",
              "      <td>0.111111</td>\n",
              "      <td>0.000000</td>\n",
              "      <td>0.111111</td>\n",
              "      <td>0.000000</td>\n",
              "      <td>0.000000</td>\n",
              "      <td>0.111111</td>\n",
              "      <td>0.444444</td>\n",
              "      <td>1.0</td>\n",
              "      <td>1.000000</td>\n",
              "      <td>0.166667</td>\n",
              "      <td>0.0</td>\n",
              "    </tr>\n",
              "  </tbody>\n",
              "</table>\n",
              "<p>5 rows × 354 columns</p>\n",
              "</div>"
            ],
            "text/plain": [
              "   AKT_DAT_KL  ANZ_KINDER  ...  ANZ_PERSONEN_2  ANZ_HH_TITEL_2\n",
              "0       0.000         0.0  ...        0.166667             0.0\n",
              "1       0.375         0.0  ...        0.333333             0.0\n",
              "2       0.000         0.0  ...        0.000000             0.0\n",
              "3       0.000         0.0  ...        0.333333             0.0\n",
              "4       0.000         0.0  ...        0.166667             0.0\n",
              "\n",
              "[5 rows x 354 columns]"
            ]
          },
          "metadata": {
            "tags": []
          },
          "execution_count": 15
        }
      ]
    },
    {
      "cell_type": "code",
      "metadata": {
        "id": "_hTRWQn7NqM1",
        "colab_type": "code",
        "colab": {}
      },
      "source": [
        "#train-test split\n",
        "X_train, X_val, y_train, y_val = train_test_split(scaled_train, labels, test_size=0.3, stratify=labels, random_state=random_seed)"
      ],
      "execution_count": 5,
      "outputs": []
    },
    {
      "cell_type": "code",
      "metadata": {
        "id": "FDBMQsPNDTxG",
        "colab_type": "code",
        "colab": {}
      },
      "source": [
        "#define the set of base models for training\n",
        "models = [RandomForestClassifier(random_state=random_seed),\n",
        "          GradientBoostingClassifier(random_state=random_seed),\n",
        "          AdaBoostClassifier(random_state=random_seed),\n",
        "          tree.DecisionTreeClassifier(random_state=random_seed),\n",
        "          xgb.XGBClassifier(random_state=random_seed)]"
      ],
      "execution_count": null,
      "outputs": []
    },
    {
      "cell_type": "code",
      "metadata": {
        "id": "gK4s-gbhE57B",
        "colab_type": "code",
        "colab": {
          "base_uri": "https://localhost:8080/",
          "height": 101
        },
        "outputId": "89ded908-8716-42bf-b260-471005e98ea9"
      },
      "source": [
        "#apply the base models and get the performance\n",
        "for model in models:  \n",
        "  start_time = time.time()\n",
        "  model.fit(X_train, y_train)  \n",
        "  y_pred = model.predict_proba(X_val)[:,1]\n",
        "  end_time = time.time()\n",
        "\n",
        "  model_score = roc_auc_score(y_val, y_pred)  #accuracy\n",
        "  model_duration= end_time-start_time  #duration\n",
        "  print('{} \\t Score {} \\t Duration {}'.format(str(model).split(\"(\")[0], \n",
        "                                               model_score,\n",
        "                                               model_duration))"
      ],
      "execution_count": null,
      "outputs": [
        {
          "output_type": "stream",
          "text": [
            "RandomForestClassifier \t Score 0.5868597297509623 \t Duration 8.298803806304932\n",
            "GradientBoostingClassifier \t Score 0.7382119569486998 \t Duration 47.43003058433533\n",
            "AdaBoostClassifier \t Score 0.7154803990886951 \t Duration 11.02603816986084\n",
            "DecisionTreeClassifier \t Score 0.5104967004477964 \t Duration 2.195990562438965\n",
            "XGBClassifier \t Score 0.7405177154529027 \t Duration 19.030433177947998\n"
          ],
          "name": "stdout"
        }
      ]
    },
    {
      "cell_type": "markdown",
      "metadata": {
        "id": "QfEu2qHvIEOz",
        "colab_type": "text"
      },
      "source": [
        "Based on the above performance scores, XGB classifier has shown the best accuracy with 0.74. Time duraion for XGB is much less than the Gradientboosting which has the next best accuracy. Thus, XGB classifier is slected and the next step is to tune the hyperparamerters. For this task, a grid serach is used."
      ]
    },
    {
      "cell_type": "code",
      "metadata": {
        "id": "n0ggO4ivSmX2",
        "colab_type": "code",
        "colab": {}
      },
      "source": [
        "#define the parameters for the grid search\n",
        "xgb_parameters_grid = {'max_depth': [3,5,10],\n",
        "              'eta': [0.01,0.05,0.1],\n",
        "              'gamma':[0.1,0.5,1.0],\n",
        "              'n_estimators':[100,200]}\n",
        "\n",
        "xgb_grid = GridSearchCV(estimator = xgb.XGBClassifier(objective='binary:logistic', \n",
        "                                                      random_state=random_seed,\n",
        "                                                      n_jobs = -1), \n",
        "                        param_grid = xgb_parameters_grid, \n",
        "                        scoring = 'roc_auc',\n",
        "                        verbose=2,\n",
        "                        n_jobs = -1)"
      ],
      "execution_count": 6,
      "outputs": []
    },
    {
      "cell_type": "code",
      "metadata": {
        "id": "1AztDB6ZcHFL",
        "colab_type": "code",
        "colab": {
          "base_uri": "https://localhost:8080/",
          "height": 370
        },
        "outputId": "3622a6b4-5cbc-494b-ab25-811865755d17"
      },
      "source": [
        "#apply the grid search\n",
        "xgb_grid.fit(X_train, y_train)"
      ],
      "execution_count": 7,
      "outputs": [
        {
          "output_type": "stream",
          "text": [
            "Fitting 5 folds for each of 54 candidates, totalling 270 fits\n"
          ],
          "name": "stdout"
        },
        {
          "output_type": "stream",
          "text": [
            "[Parallel(n_jobs=-1)]: Using backend LokyBackend with 2 concurrent workers.\n",
            "[Parallel(n_jobs=-1)]: Done  37 tasks      | elapsed: 21.2min\n",
            "[Parallel(n_jobs=-1)]: Done 158 tasks      | elapsed: 98.3min\n",
            "[Parallel(n_jobs=-1)]: Done 270 out of 270 | elapsed: 172.8min finished\n"
          ],
          "name": "stderr"
        },
        {
          "output_type": "execute_result",
          "data": {
            "text/plain": [
              "GridSearchCV(cv=None, error_score=nan,\n",
              "             estimator=XGBClassifier(base_score=0.5, booster='gbtree',\n",
              "                                     colsample_bylevel=1, colsample_bynode=1,\n",
              "                                     colsample_bytree=1, gamma=0,\n",
              "                                     learning_rate=0.1, max_delta_step=0,\n",
              "                                     max_depth=3, min_child_weight=1,\n",
              "                                     missing=None, n_estimators=100, n_jobs=-1,\n",
              "                                     nthread=None, objective='binary:logistic',\n",
              "                                     random_state=5, reg_alpha=0, reg_lambda=1,\n",
              "                                     scale_pos_weight=1, seed=None, silent=None,\n",
              "                                     subsample=1, verbosity=1),\n",
              "             iid='deprecated', n_jobs=-1,\n",
              "             param_grid={'eta': [0.01, 0.05, 0.1], 'gamma': [0.1, 0.5, 1.0],\n",
              "                         'max_depth': [3, 5, 10], 'n_estimators': [100, 200]},\n",
              "             pre_dispatch='2*n_jobs', refit=True, return_train_score=False,\n",
              "             scoring='roc_auc', verbose=2)"
            ]
          },
          "metadata": {
            "tags": []
          },
          "execution_count": 7
        }
      ]
    },
    {
      "cell_type": "code",
      "metadata": {
        "id": "qHXHJio2jkYo",
        "colab_type": "code",
        "colab": {}
      },
      "source": [
        "#get the best paramerters and score\n",
        "best_xgb_model = xgb_grid.best_estimator_\n",
        "best_xgb_score = xgb_grid.best_score_\n",
        "best_xgb_parameters = xgb_grid.best_params_"
      ],
      "execution_count": 10,
      "outputs": []
    },
    {
      "cell_type": "code",
      "metadata": {
        "id": "_qt1hD3ZI0pf",
        "colab_type": "code",
        "colab": {
          "base_uri": "https://localhost:8080/",
          "height": 202
        },
        "outputId": "09e0da4d-661a-4514-e258-71208c9a1e65"
      },
      "source": [
        "print('The tuned model is {}'.format(best_xgb_model))\n",
        "print('-------')\n",
        "print('The score for the tuned xgb model is {}'.format(best_xgb_score))\n",
        "print('-------')\n",
        "print('Selected hyperparameters for the tuned xgb model are {}'.format(best_xgb_parameters))"
      ],
      "execution_count": 26,
      "outputs": [
        {
          "output_type": "stream",
          "text": [
            "The tuned model is XGBClassifier(base_score=0.5, booster='gbtree', colsample_bylevel=1,\n",
            "              colsample_bynode=1, colsample_bytree=1, eta=0.01, gamma=0.1,\n",
            "              learning_rate=0.1, max_delta_step=0, max_depth=3,\n",
            "              min_child_weight=1, missing=None, n_estimators=100, n_jobs=-1,\n",
            "              nthread=None, objective='binary:logistic', random_state=5,\n",
            "              reg_alpha=0, reg_lambda=1, scale_pos_weight=1, seed=None,\n",
            "              silent=None, subsample=1, verbosity=1)\n",
            "-------\n",
            "The score for the tuned xgb model is 0.7678896661766099\n",
            "-------\n",
            "Selected hyperparameters for the tuned xgb model are {'eta': 0.01, 'gamma': 0.1, 'max_depth': 3, 'n_estimators': 100}\n"
          ],
          "name": "stdout"
        }
      ]
    },
    {
      "cell_type": "code",
      "metadata": {
        "id": "LbphhIwinDRn",
        "colab_type": "code",
        "colab": {
          "base_uri": "https://localhost:8080/",
          "height": 34
        },
        "outputId": "0bbecd3f-65c2-4060-d42a-436219a86f3a"
      },
      "source": [
        "xgb_pred = best_xgb_model.predict_proba(X_val)[:,1]\n",
        "xgb_score = roc_auc_score(y_val, xgb_pred)\n",
        "xgb_score"
      ],
      "execution_count": 13,
      "outputs": [
        {
          "output_type": "execute_result",
          "data": {
            "text/plain": [
              "0.7385983777201667"
            ]
          },
          "metadata": {
            "tags": []
          },
          "execution_count": 13
        }
      ]
    },
    {
      "cell_type": "markdown",
      "metadata": {
        "id": "sXkLrNWKNOCN",
        "colab_type": "text"
      },
      "source": [
        "## Part 3: Kaggle Competition\n",
        "Now that you've created a model to predict which individuals are most likely to respond to a mailout campaign, it's time to test that model in competition through Kaggle. If you click on the link here, you'll be taken to the competition page where, if you have a Kaggle account, you can enter. If you're one of the top performers, you may have the chance to be contacted by a hiring manager from Arvato or Bertelsmann for an interview!\n",
        "\n",
        "Your entry to the competition should be a CSV file with two columns. The first column should be a copy of \"LNR\", which acts as an ID number for each individual in the \"TEST\" partition. The second column, \"RESPONSE\", should be some measure of how likely each individual became a customer – this might not be a straightforward probability. As you should have found in Part 2, there is a large output class imbalance, where most individuals did not respond to the mailout. Thus, predicting individual classes and using accuracy does not seem to be an appropriate performance evaluation method. Instead, the competition will be using AUC to evaluate performance. The exact values of the \"RESPONSE\" column do not matter as much: only that the higher values try to capture as many of the actual customers as possible, early in the ROC curve sweep."
      ]
    },
    {
      "cell_type": "code",
      "metadata": {
        "id": "6XWEL1hQNXfe",
        "colab_type": "code",
        "colab": {
          "base_uri": "https://localhost:8080/",
          "height": 70
        },
        "outputId": "401ea8e8-f84e-4ec4-8dc0-d38090de78bb"
      },
      "source": [
        "#open the test data file\n",
        "mailout_test = pd.read_csv(\"mailout_test.gzip\",compression='gzip')"
      ],
      "execution_count": 16,
      "outputs": [
        {
          "output_type": "stream",
          "text": [
            "/usr/local/lib/python3.6/dist-packages/IPython/core/interactiveshell.py:2718: DtypeWarning: Columns (18,19) have mixed types.Specify dtype option on import or set low_memory=False.\n",
            "  interactivity=interactivity, compiler=compiler, result=result)\n"
          ],
          "name": "stderr"
        }
      ]
    },
    {
      "cell_type": "code",
      "metadata": {
        "id": "KuasAadUjaqj",
        "colab_type": "code",
        "colab": {
          "base_uri": "https://localhost:8080/",
          "height": 244
        },
        "outputId": "c946da29-e963-4f1e-ee94-3ca2c195a3c1"
      },
      "source": [
        "mailout_test.head()"
      ],
      "execution_count": 18,
      "outputs": [
        {
          "output_type": "execute_result",
          "data": {
            "text/html": [
              "<div>\n",
              "<style scoped>\n",
              "    .dataframe tbody tr th:only-of-type {\n",
              "        vertical-align: middle;\n",
              "    }\n",
              "\n",
              "    .dataframe tbody tr th {\n",
              "        vertical-align: top;\n",
              "    }\n",
              "\n",
              "    .dataframe thead th {\n",
              "        text-align: right;\n",
              "    }\n",
              "</style>\n",
              "<table border=\"1\" class=\"dataframe\">\n",
              "  <thead>\n",
              "    <tr style=\"text-align: right;\">\n",
              "      <th></th>\n",
              "      <th>LNR</th>\n",
              "      <th>AGER_TYP</th>\n",
              "      <th>AKT_DAT_KL</th>\n",
              "      <th>ALTER_HH</th>\n",
              "      <th>ALTER_KIND1</th>\n",
              "      <th>ALTER_KIND2</th>\n",
              "      <th>ALTER_KIND3</th>\n",
              "      <th>ALTER_KIND4</th>\n",
              "      <th>ALTERSKATEGORIE_FEIN</th>\n",
              "      <th>ANZ_HAUSHALTE_AKTIV</th>\n",
              "      <th>ANZ_HH_TITEL</th>\n",
              "      <th>ANZ_KINDER</th>\n",
              "      <th>ANZ_PERSONEN</th>\n",
              "      <th>ANZ_STATISTISCHE_HAUSHALTE</th>\n",
              "      <th>ANZ_TITEL</th>\n",
              "      <th>ARBEIT</th>\n",
              "      <th>BALLRAUM</th>\n",
              "      <th>CAMEO_DEU_2015</th>\n",
              "      <th>CAMEO_DEUG_2015</th>\n",
              "      <th>CAMEO_INTL_2015</th>\n",
              "      <th>CJT_GESAMTTYP</th>\n",
              "      <th>CJT_KATALOGNUTZER</th>\n",
              "      <th>CJT_TYP_1</th>\n",
              "      <th>CJT_TYP_2</th>\n",
              "      <th>CJT_TYP_3</th>\n",
              "      <th>CJT_TYP_4</th>\n",
              "      <th>CJT_TYP_5</th>\n",
              "      <th>CJT_TYP_6</th>\n",
              "      <th>D19_BANKEN_ANZ_12</th>\n",
              "      <th>D19_BANKEN_ANZ_24</th>\n",
              "      <th>D19_BANKEN_DATUM</th>\n",
              "      <th>D19_BANKEN_DIREKT</th>\n",
              "      <th>D19_BANKEN_GROSS</th>\n",
              "      <th>D19_BANKEN_LOKAL</th>\n",
              "      <th>D19_BANKEN_OFFLINE_DATUM</th>\n",
              "      <th>D19_BANKEN_ONLINE_DATUM</th>\n",
              "      <th>D19_BANKEN_ONLINE_QUOTE_12</th>\n",
              "      <th>D19_BANKEN_REST</th>\n",
              "      <th>D19_BEKLEIDUNG_GEH</th>\n",
              "      <th>D19_BEKLEIDUNG_REST</th>\n",
              "      <th>...</th>\n",
              "      <th>REGIOTYP</th>\n",
              "      <th>RELAT_AB</th>\n",
              "      <th>RETOURTYP_BK_S</th>\n",
              "      <th>RT_KEIN_ANREIZ</th>\n",
              "      <th>RT_SCHNAEPPCHEN</th>\n",
              "      <th>RT_UEBERGROESSE</th>\n",
              "      <th>SEMIO_DOM</th>\n",
              "      <th>SEMIO_ERL</th>\n",
              "      <th>SEMIO_FAM</th>\n",
              "      <th>SEMIO_KAEM</th>\n",
              "      <th>SEMIO_KRIT</th>\n",
              "      <th>SEMIO_KULT</th>\n",
              "      <th>SEMIO_LUST</th>\n",
              "      <th>SEMIO_MAT</th>\n",
              "      <th>SEMIO_PFLICHT</th>\n",
              "      <th>SEMIO_RAT</th>\n",
              "      <th>SEMIO_REL</th>\n",
              "      <th>SEMIO_SOZ</th>\n",
              "      <th>SEMIO_TRADV</th>\n",
              "      <th>SEMIO_VERT</th>\n",
              "      <th>SHOPPER_TYP</th>\n",
              "      <th>SOHO_KZ</th>\n",
              "      <th>STRUKTURTYP</th>\n",
              "      <th>TITEL_KZ</th>\n",
              "      <th>UMFELD_ALT</th>\n",
              "      <th>UMFELD_JUNG</th>\n",
              "      <th>UNGLEICHENN_FLAG</th>\n",
              "      <th>VERDICHTUNGSRAUM</th>\n",
              "      <th>VERS_TYP</th>\n",
              "      <th>VHA</th>\n",
              "      <th>VHN</th>\n",
              "      <th>VK_DHT4A</th>\n",
              "      <th>VK_DISTANZ</th>\n",
              "      <th>VK_ZG11</th>\n",
              "      <th>W_KEIT_KIND_HH</th>\n",
              "      <th>WOHNDAUER_2008</th>\n",
              "      <th>WOHNLAGE</th>\n",
              "      <th>ZABEOTYP</th>\n",
              "      <th>ANREDE_KZ</th>\n",
              "      <th>ALTERSKATEGORIE_GROB</th>\n",
              "    </tr>\n",
              "  </thead>\n",
              "  <tbody>\n",
              "    <tr>\n",
              "      <th>0</th>\n",
              "      <td>1754</td>\n",
              "      <td>2.0</td>\n",
              "      <td>1.0</td>\n",
              "      <td>7.0</td>\n",
              "      <td>NaN</td>\n",
              "      <td>NaN</td>\n",
              "      <td>NaN</td>\n",
              "      <td>NaN</td>\n",
              "      <td>6.0</td>\n",
              "      <td>2.0</td>\n",
              "      <td>0.0</td>\n",
              "      <td>0.0</td>\n",
              "      <td>2.0</td>\n",
              "      <td>2.0</td>\n",
              "      <td>0.0</td>\n",
              "      <td>3.0</td>\n",
              "      <td>6.0</td>\n",
              "      <td>2B</td>\n",
              "      <td>2</td>\n",
              "      <td>13</td>\n",
              "      <td>5.0</td>\n",
              "      <td>5.0</td>\n",
              "      <td>1.0</td>\n",
              "      <td>2.0</td>\n",
              "      <td>5.0</td>\n",
              "      <td>5.0</td>\n",
              "      <td>5.0</td>\n",
              "      <td>5.0</td>\n",
              "      <td>0</td>\n",
              "      <td>0</td>\n",
              "      <td>10</td>\n",
              "      <td>0</td>\n",
              "      <td>0</td>\n",
              "      <td>0</td>\n",
              "      <td>10</td>\n",
              "      <td>10</td>\n",
              "      <td>0.0</td>\n",
              "      <td>0</td>\n",
              "      <td>3</td>\n",
              "      <td>6</td>\n",
              "      <td>...</td>\n",
              "      <td>3.0</td>\n",
              "      <td>4.0</td>\n",
              "      <td>5.0</td>\n",
              "      <td>2.0</td>\n",
              "      <td>5.0</td>\n",
              "      <td>1.0</td>\n",
              "      <td>3</td>\n",
              "      <td>3</td>\n",
              "      <td>4</td>\n",
              "      <td>2</td>\n",
              "      <td>3</td>\n",
              "      <td>6</td>\n",
              "      <td>7</td>\n",
              "      <td>1</td>\n",
              "      <td>1</td>\n",
              "      <td>1</td>\n",
              "      <td>2</td>\n",
              "      <td>6</td>\n",
              "      <td>1</td>\n",
              "      <td>7</td>\n",
              "      <td>3.0</td>\n",
              "      <td>0.0</td>\n",
              "      <td>3.0</td>\n",
              "      <td>NaN</td>\n",
              "      <td>2.0</td>\n",
              "      <td>5.0</td>\n",
              "      <td>0.0</td>\n",
              "      <td>23.0</td>\n",
              "      <td>1.0</td>\n",
              "      <td>1.0</td>\n",
              "      <td>4.0</td>\n",
              "      <td>5.0</td>\n",
              "      <td>6.0</td>\n",
              "      <td>3.0</td>\n",
              "      <td>6.0</td>\n",
              "      <td>9.0</td>\n",
              "      <td>3.0</td>\n",
              "      <td>3</td>\n",
              "      <td>1</td>\n",
              "      <td>4</td>\n",
              "    </tr>\n",
              "    <tr>\n",
              "      <th>1</th>\n",
              "      <td>1770</td>\n",
              "      <td>NaN</td>\n",
              "      <td>1.0</td>\n",
              "      <td>NaN</td>\n",
              "      <td>NaN</td>\n",
              "      <td>NaN</td>\n",
              "      <td>NaN</td>\n",
              "      <td>NaN</td>\n",
              "      <td>0.0</td>\n",
              "      <td>20.0</td>\n",
              "      <td>0.0</td>\n",
              "      <td>0.0</td>\n",
              "      <td>1.0</td>\n",
              "      <td>21.0</td>\n",
              "      <td>0.0</td>\n",
              "      <td>4.0</td>\n",
              "      <td>7.0</td>\n",
              "      <td>5A</td>\n",
              "      <td>5</td>\n",
              "      <td>31</td>\n",
              "      <td>1.0</td>\n",
              "      <td>5.0</td>\n",
              "      <td>2.0</td>\n",
              "      <td>2.0</td>\n",
              "      <td>5.0</td>\n",
              "      <td>5.0</td>\n",
              "      <td>4.0</td>\n",
              "      <td>5.0</td>\n",
              "      <td>0</td>\n",
              "      <td>0</td>\n",
              "      <td>10</td>\n",
              "      <td>0</td>\n",
              "      <td>0</td>\n",
              "      <td>0</td>\n",
              "      <td>10</td>\n",
              "      <td>10</td>\n",
              "      <td>0.0</td>\n",
              "      <td>0</td>\n",
              "      <td>0</td>\n",
              "      <td>6</td>\n",
              "      <td>...</td>\n",
              "      <td>4.0</td>\n",
              "      <td>5.0</td>\n",
              "      <td>5.0</td>\n",
              "      <td>1.0</td>\n",
              "      <td>5.0</td>\n",
              "      <td>1.0</td>\n",
              "      <td>3</td>\n",
              "      <td>7</td>\n",
              "      <td>4</td>\n",
              "      <td>3</td>\n",
              "      <td>3</td>\n",
              "      <td>4</td>\n",
              "      <td>5</td>\n",
              "      <td>4</td>\n",
              "      <td>3</td>\n",
              "      <td>3</td>\n",
              "      <td>3</td>\n",
              "      <td>6</td>\n",
              "      <td>1</td>\n",
              "      <td>6</td>\n",
              "      <td>2.0</td>\n",
              "      <td>0.0</td>\n",
              "      <td>3.0</td>\n",
              "      <td>NaN</td>\n",
              "      <td>4.0</td>\n",
              "      <td>3.0</td>\n",
              "      <td>0.0</td>\n",
              "      <td>0.0</td>\n",
              "      <td>1.0</td>\n",
              "      <td>1.0</td>\n",
              "      <td>1.0</td>\n",
              "      <td>5.0</td>\n",
              "      <td>2.0</td>\n",
              "      <td>1.0</td>\n",
              "      <td>6.0</td>\n",
              "      <td>9.0</td>\n",
              "      <td>5.0</td>\n",
              "      <td>3</td>\n",
              "      <td>1</td>\n",
              "      <td>4</td>\n",
              "    </tr>\n",
              "    <tr>\n",
              "      <th>2</th>\n",
              "      <td>1465</td>\n",
              "      <td>2.0</td>\n",
              "      <td>9.0</td>\n",
              "      <td>16.0</td>\n",
              "      <td>NaN</td>\n",
              "      <td>NaN</td>\n",
              "      <td>NaN</td>\n",
              "      <td>NaN</td>\n",
              "      <td>11.0</td>\n",
              "      <td>2.0</td>\n",
              "      <td>0.0</td>\n",
              "      <td>0.0</td>\n",
              "      <td>4.0</td>\n",
              "      <td>2.0</td>\n",
              "      <td>0.0</td>\n",
              "      <td>4.0</td>\n",
              "      <td>1.0</td>\n",
              "      <td>7A</td>\n",
              "      <td>7</td>\n",
              "      <td>41</td>\n",
              "      <td>2.0</td>\n",
              "      <td>5.0</td>\n",
              "      <td>2.0</td>\n",
              "      <td>2.0</td>\n",
              "      <td>5.0</td>\n",
              "      <td>5.0</td>\n",
              "      <td>5.0</td>\n",
              "      <td>5.0</td>\n",
              "      <td>0</td>\n",
              "      <td>0</td>\n",
              "      <td>10</td>\n",
              "      <td>0</td>\n",
              "      <td>0</td>\n",
              "      <td>0</td>\n",
              "      <td>10</td>\n",
              "      <td>10</td>\n",
              "      <td>0.0</td>\n",
              "      <td>0</td>\n",
              "      <td>0</td>\n",
              "      <td>0</td>\n",
              "      <td>...</td>\n",
              "      <td>6.0</td>\n",
              "      <td>5.0</td>\n",
              "      <td>5.0</td>\n",
              "      <td>2.0</td>\n",
              "      <td>5.0</td>\n",
              "      <td>1.0</td>\n",
              "      <td>5</td>\n",
              "      <td>7</td>\n",
              "      <td>1</td>\n",
              "      <td>6</td>\n",
              "      <td>4</td>\n",
              "      <td>2</td>\n",
              "      <td>7</td>\n",
              "      <td>1</td>\n",
              "      <td>4</td>\n",
              "      <td>3</td>\n",
              "      <td>1</td>\n",
              "      <td>4</td>\n",
              "      <td>3</td>\n",
              "      <td>3</td>\n",
              "      <td>3.0</td>\n",
              "      <td>0.0</td>\n",
              "      <td>3.0</td>\n",
              "      <td>NaN</td>\n",
              "      <td>1.0</td>\n",
              "      <td>5.0</td>\n",
              "      <td>1.0</td>\n",
              "      <td>15.0</td>\n",
              "      <td>1.0</td>\n",
              "      <td>1.0</td>\n",
              "      <td>3.0</td>\n",
              "      <td>9.0</td>\n",
              "      <td>6.0</td>\n",
              "      <td>3.0</td>\n",
              "      <td>2.0</td>\n",
              "      <td>9.0</td>\n",
              "      <td>4.0</td>\n",
              "      <td>3</td>\n",
              "      <td>2</td>\n",
              "      <td>4</td>\n",
              "    </tr>\n",
              "    <tr>\n",
              "      <th>3</th>\n",
              "      <td>1470</td>\n",
              "      <td>NaN</td>\n",
              "      <td>7.0</td>\n",
              "      <td>NaN</td>\n",
              "      <td>NaN</td>\n",
              "      <td>NaN</td>\n",
              "      <td>NaN</td>\n",
              "      <td>NaN</td>\n",
              "      <td>0.0</td>\n",
              "      <td>1.0</td>\n",
              "      <td>0.0</td>\n",
              "      <td>0.0</td>\n",
              "      <td>0.0</td>\n",
              "      <td>1.0</td>\n",
              "      <td>0.0</td>\n",
              "      <td>4.0</td>\n",
              "      <td>1.0</td>\n",
              "      <td>2B</td>\n",
              "      <td>2</td>\n",
              "      <td>13</td>\n",
              "      <td>4.0</td>\n",
              "      <td>5.0</td>\n",
              "      <td>2.0</td>\n",
              "      <td>1.0</td>\n",
              "      <td>5.0</td>\n",
              "      <td>5.0</td>\n",
              "      <td>5.0</td>\n",
              "      <td>5.0</td>\n",
              "      <td>0</td>\n",
              "      <td>0</td>\n",
              "      <td>10</td>\n",
              "      <td>0</td>\n",
              "      <td>0</td>\n",
              "      <td>0</td>\n",
              "      <td>10</td>\n",
              "      <td>10</td>\n",
              "      <td>0.0</td>\n",
              "      <td>0</td>\n",
              "      <td>0</td>\n",
              "      <td>0</td>\n",
              "      <td>...</td>\n",
              "      <td>5.0</td>\n",
              "      <td>4.0</td>\n",
              "      <td>5.0</td>\n",
              "      <td>1.0</td>\n",
              "      <td>3.0</td>\n",
              "      <td>1.0</td>\n",
              "      <td>5</td>\n",
              "      <td>7</td>\n",
              "      <td>1</td>\n",
              "      <td>6</td>\n",
              "      <td>7</td>\n",
              "      <td>2</td>\n",
              "      <td>7</td>\n",
              "      <td>2</td>\n",
              "      <td>2</td>\n",
              "      <td>3</td>\n",
              "      <td>2</td>\n",
              "      <td>3</td>\n",
              "      <td>3</td>\n",
              "      <td>2</td>\n",
              "      <td>3.0</td>\n",
              "      <td>0.0</td>\n",
              "      <td>3.0</td>\n",
              "      <td>NaN</td>\n",
              "      <td>2.0</td>\n",
              "      <td>5.0</td>\n",
              "      <td>0.0</td>\n",
              "      <td>10.0</td>\n",
              "      <td>2.0</td>\n",
              "      <td>1.0</td>\n",
              "      <td>2.0</td>\n",
              "      <td>6.0</td>\n",
              "      <td>6.0</td>\n",
              "      <td>3.0</td>\n",
              "      <td>NaN</td>\n",
              "      <td>9.0</td>\n",
              "      <td>2.0</td>\n",
              "      <td>3</td>\n",
              "      <td>2</td>\n",
              "      <td>4</td>\n",
              "    </tr>\n",
              "    <tr>\n",
              "      <th>4</th>\n",
              "      <td>1478</td>\n",
              "      <td>1.0</td>\n",
              "      <td>1.0</td>\n",
              "      <td>21.0</td>\n",
              "      <td>NaN</td>\n",
              "      <td>NaN</td>\n",
              "      <td>NaN</td>\n",
              "      <td>NaN</td>\n",
              "      <td>13.0</td>\n",
              "      <td>1.0</td>\n",
              "      <td>0.0</td>\n",
              "      <td>0.0</td>\n",
              "      <td>4.0</td>\n",
              "      <td>1.0</td>\n",
              "      <td>0.0</td>\n",
              "      <td>3.0</td>\n",
              "      <td>6.0</td>\n",
              "      <td>5A</td>\n",
              "      <td>5</td>\n",
              "      <td>31</td>\n",
              "      <td>6.0</td>\n",
              "      <td>1.0</td>\n",
              "      <td>3.0</td>\n",
              "      <td>2.0</td>\n",
              "      <td>4.0</td>\n",
              "      <td>4.0</td>\n",
              "      <td>4.0</td>\n",
              "      <td>3.0</td>\n",
              "      <td>3</td>\n",
              "      <td>4</td>\n",
              "      <td>2</td>\n",
              "      <td>2</td>\n",
              "      <td>2</td>\n",
              "      <td>0</td>\n",
              "      <td>8</td>\n",
              "      <td>2</td>\n",
              "      <td>10.0</td>\n",
              "      <td>6</td>\n",
              "      <td>6</td>\n",
              "      <td>6</td>\n",
              "      <td>...</td>\n",
              "      <td>4.0</td>\n",
              "      <td>2.0</td>\n",
              "      <td>3.0</td>\n",
              "      <td>3.0</td>\n",
              "      <td>2.0</td>\n",
              "      <td>3.0</td>\n",
              "      <td>6</td>\n",
              "      <td>7</td>\n",
              "      <td>2</td>\n",
              "      <td>5</td>\n",
              "      <td>4</td>\n",
              "      <td>2</td>\n",
              "      <td>5</td>\n",
              "      <td>2</td>\n",
              "      <td>3</td>\n",
              "      <td>3</td>\n",
              "      <td>2</td>\n",
              "      <td>5</td>\n",
              "      <td>3</td>\n",
              "      <td>3</td>\n",
              "      <td>3.0</td>\n",
              "      <td>0.0</td>\n",
              "      <td>2.0</td>\n",
              "      <td>NaN</td>\n",
              "      <td>5.0</td>\n",
              "      <td>5.0</td>\n",
              "      <td>0.0</td>\n",
              "      <td>0.0</td>\n",
              "      <td>1.0</td>\n",
              "      <td>1.0</td>\n",
              "      <td>1.0</td>\n",
              "      <td>2.0</td>\n",
              "      <td>4.0</td>\n",
              "      <td>3.0</td>\n",
              "      <td>3.0</td>\n",
              "      <td>9.0</td>\n",
              "      <td>7.0</td>\n",
              "      <td>4</td>\n",
              "      <td>2</td>\n",
              "      <td>4</td>\n",
              "    </tr>\n",
              "  </tbody>\n",
              "</table>\n",
              "<p>5 rows × 366 columns</p>\n",
              "</div>"
            ],
            "text/plain": [
              "    LNR  AGER_TYP  AKT_DAT_KL  ...  ZABEOTYP  ANREDE_KZ  ALTERSKATEGORIE_GROB\n",
              "0  1754       2.0         1.0  ...         3          1                     4\n",
              "1  1770       NaN         1.0  ...         3          1                     4\n",
              "2  1465       2.0         9.0  ...         3          2                     4\n",
              "3  1470       NaN         7.0  ...         3          2                     4\n",
              "4  1478       1.0         1.0  ...         4          2                     4\n",
              "\n",
              "[5 rows x 366 columns]"
            ]
          },
          "metadata": {
            "tags": []
          },
          "execution_count": 18
        }
      ]
    },
    {
      "cell_type": "code",
      "metadata": {
        "id": "4V_muJScX3X3",
        "colab_type": "code",
        "colab": {}
      },
      "source": [
        "test_LNR = mailout_test['LNR']"
      ],
      "execution_count": 17,
      "outputs": []
    },
    {
      "cell_type": "code",
      "metadata": {
        "id": "FgyZSv_Ejazu",
        "colab_type": "code",
        "colab": {
          "base_uri": "https://localhost:8080/",
          "height": 34
        },
        "outputId": "72d0cccd-9fab-485c-c821-cc5dee020386"
      },
      "source": [
        "mailout_test.shape"
      ],
      "execution_count": 19,
      "outputs": [
        {
          "output_type": "execute_result",
          "data": {
            "text/plain": [
              "(42833, 366)"
            ]
          },
          "metadata": {
            "tags": []
          },
          "execution_count": 19
        }
      ]
    },
    {
      "cell_type": "code",
      "metadata": {
        "id": "MCDajUUtClNE",
        "colab_type": "code",
        "colab": {
          "base_uri": "https://localhost:8080/",
          "height": 70
        },
        "outputId": "c6d70475-83fe-4b7d-868c-bf1a77e5124e"
      },
      "source": [
        "missing_test, cat_test = similarity_azdias_mailout (mailout_test,drop_azdias,big_category_columns)   "
      ],
      "execution_count": null,
      "outputs": [
        {
          "output_type": "stream",
          "text": [
            "Missing columns list is similar to azdias\n",
            "Large categorical column list difference between azdias -- features: ['D19_LETZTER_KAUF_BRANCHE', 'CAMEO_DEU_2015', 'CAMEO_INTL_2015', 'CAMEO_DEUG_2015', 'ANZ_PERSONEN', 'ANZ_HH_TITEL', 'LNR']\n"
          ],
          "name": "stdout"
        }
      ]
    },
    {
      "cell_type": "markdown",
      "metadata": {
        "id": "k1ZNaXiiJdeo",
        "colab_type": "text"
      },
      "source": [
        "\n",
        "Test is also cleaned and the data is processeed similar to train dataset."
      ]
    },
    {
      "cell_type": "code",
      "metadata": {
        "id": "nVcBSJowClc6",
        "colab_type": "code",
        "colab": {
          "base_uri": "https://localhost:8080/",
          "height": 185
        },
        "outputId": "a1607680-000a-4295-f681-ef3097d8f3c8"
      },
      "source": [
        "#cleaned mailout_test df\n",
        "cleaned_test = mailout_dataprocessing(mailout_test, null_columns, missing_mailout, drop_mailout,frequent_dict)"
      ],
      "execution_count": null,
      "outputs": [
        {
          "output_type": "stream",
          "text": [
            "Initial df shape: (42833, 366)\n",
            "-----------\n",
            "Replacing null values with np.nan is completed\n",
            "Droping missing data columns completed\n",
            "Converting object dtype is completed\n",
            "Reconstructing large categoical columns is completed\n",
            "Droping converted/cat columns is completed\n",
            "filling missing data is completed\n",
            "-----------\n",
            "Final df shape: (42833, 354)\n"
          ],
          "name": "stdout"
        }
      ]
    },
    {
      "cell_type": "code",
      "metadata": {
        "id": "qeMhiaWYG-cE",
        "colab_type": "code",
        "colab": {}
      },
      "source": [
        "#save the transformed file\n",
        "# cleaned_test.to_csv(\"cleaned_test.gzip\",index = False, compression=\"gzip\")\n",
        "\n",
        "#open the transformed files\n",
        "# cleaned_test = pd.read_csv(\"cleaned_test.gzip\",compression='gzip')"
      ],
      "execution_count": null,
      "outputs": []
    },
    {
      "cell_type": "code",
      "metadata": {
        "id": "1MnBBKyCVItb",
        "colab_type": "code",
        "colab": {}
      },
      "source": [
        "#scale the test data based on MinMaxsacler and save the file\n",
        "scaled_test = pd.DataFrame(scaler.transform(cleaned_test), columns=cleaned_test.columns)"
      ],
      "execution_count": null,
      "outputs": []
    },
    {
      "cell_type": "code",
      "metadata": {
        "id": "wZF0GV8T7ln2",
        "colab_type": "code",
        "colab": {}
      },
      "source": [
        "#  scaled_test.to_csv(\"scaled_test.gzip\",index = False, compression=\"gzip\")\n",
        "scaled_test = pd.read_csv(\"scaled_test.gzip\",compression='gzip')"
      ],
      "execution_count": 20,
      "outputs": []
    },
    {
      "cell_type": "code",
      "metadata": {
        "id": "H-CFdrWsYdQp",
        "colab_type": "code",
        "colab": {}
      },
      "source": [
        "#apply the tuned and trained model for the test dataset.\n",
        "test_pred = best_xgb_model.predict_proba(scaled_test)[:,1]"
      ],
      "execution_count": 21,
      "outputs": []
    },
    {
      "cell_type": "code",
      "metadata": {
        "id": "4bdDr31va9l1",
        "colab_type": "code",
        "colab": {
          "base_uri": "https://localhost:8080/",
          "height": 50
        },
        "outputId": "c8ef625d-7c95-453d-d55d-17c763eb1326"
      },
      "source": [
        "print(test_pred.shape)\n",
        "print(test_LNR.shape)"
      ],
      "execution_count": 22,
      "outputs": [
        {
          "output_type": "stream",
          "text": [
            "(42833,)\n",
            "(42833,)\n"
          ],
          "name": "stdout"
        }
      ]
    },
    {
      "cell_type": "code",
      "metadata": {
        "id": "H2Zb4wVRja8l",
        "colab_type": "code",
        "colab": {
          "base_uri": "https://localhost:8080/",
          "height": 225
        },
        "outputId": "56e54f7c-2379-4e2b-c15c-369f044c9984"
      },
      "source": [
        "submission_df = pd.DataFrame(data=test_pred, index=test_LNR, columns=['RESPONSE'])\n",
        "submission_df.head()"
      ],
      "execution_count": 23,
      "outputs": [
        {
          "output_type": "execute_result",
          "data": {
            "text/html": [
              "<div>\n",
              "<style scoped>\n",
              "    .dataframe tbody tr th:only-of-type {\n",
              "        vertical-align: middle;\n",
              "    }\n",
              "\n",
              "    .dataframe tbody tr th {\n",
              "        vertical-align: top;\n",
              "    }\n",
              "\n",
              "    .dataframe thead th {\n",
              "        text-align: right;\n",
              "    }\n",
              "</style>\n",
              "<table border=\"1\" class=\"dataframe\">\n",
              "  <thead>\n",
              "    <tr style=\"text-align: right;\">\n",
              "      <th></th>\n",
              "      <th>RESPONSE</th>\n",
              "    </tr>\n",
              "    <tr>\n",
              "      <th>LNR</th>\n",
              "      <th></th>\n",
              "    </tr>\n",
              "  </thead>\n",
              "  <tbody>\n",
              "    <tr>\n",
              "      <th>1754</th>\n",
              "      <td>0.041480</td>\n",
              "    </tr>\n",
              "    <tr>\n",
              "      <th>1770</th>\n",
              "      <td>0.023451</td>\n",
              "    </tr>\n",
              "    <tr>\n",
              "      <th>1465</th>\n",
              "      <td>0.007289</td>\n",
              "    </tr>\n",
              "    <tr>\n",
              "      <th>1470</th>\n",
              "      <td>0.004222</td>\n",
              "    </tr>\n",
              "    <tr>\n",
              "      <th>1478</th>\n",
              "      <td>0.004333</td>\n",
              "    </tr>\n",
              "  </tbody>\n",
              "</table>\n",
              "</div>"
            ],
            "text/plain": [
              "      RESPONSE\n",
              "LNR           \n",
              "1754  0.041480\n",
              "1770  0.023451\n",
              "1465  0.007289\n",
              "1470  0.004222\n",
              "1478  0.004333"
            ]
          },
          "metadata": {
            "tags": []
          },
          "execution_count": 23
        }
      ]
    },
    {
      "cell_type": "code",
      "metadata": {
        "id": "0A3hV_2HcPUq",
        "colab_type": "code",
        "colab": {
          "base_uri": "https://localhost:8080/",
          "height": 17
        },
        "outputId": "124ffeec-09ce-4998-92fc-b071f73d91de"
      },
      "source": [
        "#save the df to a csv file to upload to kaggle\n",
        "from google.colab import files\n",
        "submission_df.to_csv('submissions1.csv') \n",
        "files.download('submissions1.csv')"
      ],
      "execution_count": 25,
      "outputs": [
        {
          "output_type": "display_data",
          "data": {
            "application/javascript": [
              "\n",
              "    async function download(id, filename, size) {\n",
              "      if (!google.colab.kernel.accessAllowed) {\n",
              "        return;\n",
              "      }\n",
              "      const div = document.createElement('div');\n",
              "      const label = document.createElement('label');\n",
              "      label.textContent = `Downloading \"${filename}\": `;\n",
              "      div.appendChild(label);\n",
              "      const progress = document.createElement('progress');\n",
              "      progress.max = size;\n",
              "      div.appendChild(progress);\n",
              "      document.body.appendChild(div);\n",
              "\n",
              "      const buffers = [];\n",
              "      let downloaded = 0;\n",
              "\n",
              "      const channel = await google.colab.kernel.comms.open(id);\n",
              "      // Send a message to notify the kernel that we're ready.\n",
              "      channel.send({})\n",
              "\n",
              "      for await (const message of channel.messages) {\n",
              "        // Send a message to notify the kernel that we're ready.\n",
              "        channel.send({})\n",
              "        if (message.buffers) {\n",
              "          for (const buffer of message.buffers) {\n",
              "            buffers.push(buffer);\n",
              "            downloaded += buffer.byteLength;\n",
              "            progress.value = downloaded;\n",
              "          }\n",
              "        }\n",
              "      }\n",
              "      const blob = new Blob(buffers, {type: 'application/binary'});\n",
              "      const a = document.createElement('a');\n",
              "      a.href = window.URL.createObjectURL(blob);\n",
              "      a.download = filename;\n",
              "      div.appendChild(a);\n",
              "      a.click();\n",
              "      div.remove();\n",
              "    }\n",
              "  "
            ],
            "text/plain": [
              "<IPython.core.display.Javascript object>"
            ]
          },
          "metadata": {
            "tags": []
          }
        },
        {
          "output_type": "display_data",
          "data": {
            "application/javascript": [
              "download(\"download_56df698f-385b-4fc7-846c-3470e8e5b6eb\", \"submissions1.csv\", 778061)"
            ],
            "text/plain": [
              "<IPython.core.display.Javascript object>"
            ]
          },
          "metadata": {
            "tags": []
          }
        }
      ]
    }
  ]
}