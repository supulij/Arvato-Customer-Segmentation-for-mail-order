{
  "nbformat": 4,
  "nbformat_minor": 0,
  "metadata": {
    "colab": {
      "name": "Arvato_final.ipynb",
      "provenance": [],
      "collapsed_sections": []
    },
    "kernelspec": {
      "name": "python3",
      "display_name": "Python 3"
    },
    "accelerator": "TPU"
  },
  "cells": [
    {
      "cell_type": "code",
      "metadata": {
        "id": "Q9QjqbHHo0cj",
        "colab_type": "code",
        "colab": {
          "base_uri": "https://localhost:8080/",
          "height": 34
        },
        "outputId": "ea97855d-4558-48f4-b872-53f38f1cfa34"
      },
      "source": [
        "!pwd"
      ],
      "execution_count": 1,
      "outputs": [
        {
          "output_type": "stream",
          "text": [
            "/content\n"
          ],
          "name": "stdout"
        }
      ]
    },
    {
      "cell_type": "code",
      "metadata": {
        "id": "hvjVQo-s86JN",
        "colab_type": "code",
        "colab": {
          "base_uri": "https://localhost:8080/",
          "height": 34
        },
        "outputId": "5dec45e2-613f-442b-d4bc-3433e6f3efc9"
      },
      "source": [
        "!ls"
      ],
      "execution_count": 2,
      "outputs": [
        {
          "output_type": "stream",
          "text": [
            "azdias2.tar.gz\tcustomers2.tar.gz  sample_data\n"
          ],
          "name": "stdout"
        }
      ]
    },
    {
      "cell_type": "code",
      "metadata": {
        "id": "wB24rFGc86R_",
        "colab_type": "code",
        "colab": {
          "base_uri": "https://localhost:8080/",
          "height": 34
        },
        "outputId": "c9988422-b901-4988-de90-b460e8d953f7"
      },
      "source": [
        "#unzip the files\n",
        "!tar -xvf azdias2.tar.gz"
      ],
      "execution_count": 3,
      "outputs": [
        {
          "output_type": "stream",
          "text": [
            "azdias_scaled.csv\n"
          ],
          "name": "stdout"
        }
      ]
    },
    {
      "cell_type": "code",
      "metadata": {
        "id": "OpLlNA0f86Wh",
        "colab_type": "code",
        "colab": {
          "base_uri": "https://localhost:8080/",
          "height": 70
        },
        "outputId": "1e714da3-a78c-49f2-cb23-cf61dba69471"
      },
      "source": [
        "# import libraries here; add more as necessary\n",
        "import numpy as np\n",
        "import pandas as pd\n",
        "import matplotlib.pyplot as plt\n",
        "import seaborn as sns\n",
        "\n",
        "# magic word for producing visualizations in notebook\n",
        "%matplotlib inline"
      ],
      "execution_count": 4,
      "outputs": [
        {
          "output_type": "stream",
          "text": [
            "/usr/local/lib/python3.6/dist-packages/statsmodels/tools/_testing.py:19: FutureWarning: pandas.util.testing is deprecated. Use the functions in the public API at pandas.testing instead.\n",
            "  import pandas.util.testing as tm\n"
          ],
          "name": "stderr"
        }
      ]
    },
    {
      "cell_type": "code",
      "metadata": {
        "id": "g0StXF5Omuwo",
        "colab_type": "code",
        "colab": {
          "base_uri": "https://localhost:8080/",
          "height": 244
        },
        "outputId": "73f774d4-33cc-44ec-f42e-ae73e5339bee"
      },
      "source": [
        "#load the azdias data\n",
        "azdias = pd.read_csv(\"azdias_scaled.csv\")\n",
        "azdias.head(5)"
      ],
      "execution_count": 6,
      "outputs": [
        {
          "output_type": "execute_result",
          "data": {
            "text/html": [
              "<div>\n",
              "<style scoped>\n",
              "    .dataframe tbody tr th:only-of-type {\n",
              "        vertical-align: middle;\n",
              "    }\n",
              "\n",
              "    .dataframe tbody tr th {\n",
              "        vertical-align: top;\n",
              "    }\n",
              "\n",
              "    .dataframe thead th {\n",
              "        text-align: right;\n",
              "    }\n",
              "</style>\n",
              "<table border=\"1\" class=\"dataframe\">\n",
              "  <thead>\n",
              "    <tr style=\"text-align: right;\">\n",
              "      <th></th>\n",
              "      <th>AKT_DAT_KL</th>\n",
              "      <th>ANZ_KINDER</th>\n",
              "      <th>ANZ_TITEL</th>\n",
              "      <th>ARBEIT</th>\n",
              "      <th>BALLRAUM</th>\n",
              "      <th>CJT_GESAMTTYP</th>\n",
              "      <th>CJT_KATALOGNUTZER</th>\n",
              "      <th>CJT_TYP_1</th>\n",
              "      <th>CJT_TYP_2</th>\n",
              "      <th>CJT_TYP_3</th>\n",
              "      <th>CJT_TYP_4</th>\n",
              "      <th>CJT_TYP_5</th>\n",
              "      <th>CJT_TYP_6</th>\n",
              "      <th>D19_BANKEN_ANZ_12</th>\n",
              "      <th>D19_BANKEN_ANZ_24</th>\n",
              "      <th>D19_BANKEN_DATUM</th>\n",
              "      <th>D19_BANKEN_DIREKT</th>\n",
              "      <th>D19_BANKEN_GROSS</th>\n",
              "      <th>D19_BANKEN_LOKAL</th>\n",
              "      <th>D19_BANKEN_OFFLINE_DATUM</th>\n",
              "      <th>D19_BANKEN_ONLINE_DATUM</th>\n",
              "      <th>D19_BANKEN_ONLINE_QUOTE_12</th>\n",
              "      <th>D19_BANKEN_REST</th>\n",
              "      <th>D19_BEKLEIDUNG_GEH</th>\n",
              "      <th>D19_BEKLEIDUNG_REST</th>\n",
              "      <th>D19_BILDUNG</th>\n",
              "      <th>D19_BIO_OEKO</th>\n",
              "      <th>D19_BUCH_CD</th>\n",
              "      <th>D19_DIGIT_SERV</th>\n",
              "      <th>D19_DROGERIEARTIKEL</th>\n",
              "      <th>D19_ENERGIE</th>\n",
              "      <th>D19_FREIZEIT</th>\n",
              "      <th>D19_GARTEN</th>\n",
              "      <th>D19_GESAMT_ANZ_12</th>\n",
              "      <th>D19_GESAMT_ANZ_24</th>\n",
              "      <th>D19_GESAMT_DATUM</th>\n",
              "      <th>D19_GESAMT_OFFLINE_DATUM</th>\n",
              "      <th>D19_GESAMT_ONLINE_DATUM</th>\n",
              "      <th>D19_GESAMT_ONLINE_QUOTE_12</th>\n",
              "      <th>D19_HANDWERK</th>\n",
              "      <th>...</th>\n",
              "      <th>SEMIO_KAEM</th>\n",
              "      <th>SEMIO_KRIT</th>\n",
              "      <th>SEMIO_KULT</th>\n",
              "      <th>SEMIO_LUST</th>\n",
              "      <th>SEMIO_MAT</th>\n",
              "      <th>SEMIO_PFLICHT</th>\n",
              "      <th>SEMIO_RAT</th>\n",
              "      <th>SEMIO_REL</th>\n",
              "      <th>SEMIO_SOZ</th>\n",
              "      <th>SEMIO_TRADV</th>\n",
              "      <th>SEMIO_VERT</th>\n",
              "      <th>SHOPPER_TYP</th>\n",
              "      <th>SOHO_KZ</th>\n",
              "      <th>STRUKTURTYP</th>\n",
              "      <th>UMFELD_ALT</th>\n",
              "      <th>UMFELD_JUNG</th>\n",
              "      <th>UNGLEICHENN_FLAG</th>\n",
              "      <th>VERS_TYP</th>\n",
              "      <th>VHA</th>\n",
              "      <th>VHN</th>\n",
              "      <th>VK_DHT4A</th>\n",
              "      <th>VK_DISTANZ</th>\n",
              "      <th>VK_ZG11</th>\n",
              "      <th>W_KEIT_KIND_HH</th>\n",
              "      <th>WOHNDAUER_2008</th>\n",
              "      <th>WOHNLAGE</th>\n",
              "      <th>ZABEOTYP</th>\n",
              "      <th>ANREDE_KZ</th>\n",
              "      <th>ALTERSKATEGORIE_GROB</th>\n",
              "      <th>CAMEO_DEU_2015_2</th>\n",
              "      <th>CAMEO_DEUG_2015_2</th>\n",
              "      <th>CAMEO_INTL_2015_2</th>\n",
              "      <th>ALTER_HH_2</th>\n",
              "      <th>ALTERSKATEGORIE_FEIN_2</th>\n",
              "      <th>EINGEZOGENAM_HH_JAHR_2</th>\n",
              "      <th>KBA13_ANZAHL_PKW_2</th>\n",
              "      <th>GEBURTSJAHR_2</th>\n",
              "      <th>ANZ_HAUSHALTE_AKTIV_2</th>\n",
              "      <th>ANZ_HH_TITEL_2</th>\n",
              "      <th>ANZ_PERSONEN_2</th>\n",
              "    </tr>\n",
              "  </thead>\n",
              "  <tbody>\n",
              "    <tr>\n",
              "      <th>0</th>\n",
              "      <td>0.0</td>\n",
              "      <td>0.0</td>\n",
              "      <td>0.0</td>\n",
              "      <td>0.375</td>\n",
              "      <td>0.833333</td>\n",
              "      <td>0.2</td>\n",
              "      <td>1.00</td>\n",
              "      <td>0.00</td>\n",
              "      <td>0.00</td>\n",
              "      <td>1.00</td>\n",
              "      <td>1.00</td>\n",
              "      <td>1.00</td>\n",
              "      <td>1.00</td>\n",
              "      <td>0.0</td>\n",
              "      <td>0.000000</td>\n",
              "      <td>1.000000</td>\n",
              "      <td>0.000000</td>\n",
              "      <td>0.000000</td>\n",
              "      <td>0.0</td>\n",
              "      <td>1.0</td>\n",
              "      <td>1.000000</td>\n",
              "      <td>0.0</td>\n",
              "      <td>0.000000</td>\n",
              "      <td>0.000000</td>\n",
              "      <td>0.000000</td>\n",
              "      <td>0.000000</td>\n",
              "      <td>0.0</td>\n",
              "      <td>0.000000</td>\n",
              "      <td>0.0</td>\n",
              "      <td>0.000000</td>\n",
              "      <td>0.000000</td>\n",
              "      <td>0.0</td>\n",
              "      <td>0.0</td>\n",
              "      <td>0.0</td>\n",
              "      <td>0.0</td>\n",
              "      <td>1.0</td>\n",
              "      <td>1.000000</td>\n",
              "      <td>1.0</td>\n",
              "      <td>0.0</td>\n",
              "      <td>0.0</td>\n",
              "      <td>...</td>\n",
              "      <td>0.833333</td>\n",
              "      <td>1.000000</td>\n",
              "      <td>0.333333</td>\n",
              "      <td>0.666667</td>\n",
              "      <td>0.666667</td>\n",
              "      <td>0.666667</td>\n",
              "      <td>0.500000</td>\n",
              "      <td>1.000000</td>\n",
              "      <td>0.166667</td>\n",
              "      <td>0.333333</td>\n",
              "      <td>0.0</td>\n",
              "      <td>0.333333</td>\n",
              "      <td>0.0</td>\n",
              "      <td>1.0</td>\n",
              "      <td>0.75</td>\n",
              "      <td>1.0</td>\n",
              "      <td>0.0</td>\n",
              "      <td>1.0</td>\n",
              "      <td>0.0</td>\n",
              "      <td>0.5</td>\n",
              "      <td>0.9</td>\n",
              "      <td>0.750000</td>\n",
              "      <td>0.9</td>\n",
              "      <td>1.0</td>\n",
              "      <td>1.0</td>\n",
              "      <td>0.375</td>\n",
              "      <td>0.4</td>\n",
              "      <td>0.0</td>\n",
              "      <td>0.125</td>\n",
              "      <td>0.875</td>\n",
              "      <td>0.875</td>\n",
              "      <td>1.00</td>\n",
              "      <td>0.333333</td>\n",
              "      <td>0.666667</td>\n",
              "      <td>0.000000</td>\n",
              "      <td>0.222222</td>\n",
              "      <td>0.444444</td>\n",
              "      <td>0.000000</td>\n",
              "      <td>0.0</td>\n",
              "      <td>0.1</td>\n",
              "    </tr>\n",
              "    <tr>\n",
              "      <th>1</th>\n",
              "      <td>1.0</td>\n",
              "      <td>0.0</td>\n",
              "      <td>0.0</td>\n",
              "      <td>0.250</td>\n",
              "      <td>0.833333</td>\n",
              "      <td>0.8</td>\n",
              "      <td>0.00</td>\n",
              "      <td>1.00</td>\n",
              "      <td>1.00</td>\n",
              "      <td>0.25</td>\n",
              "      <td>0.50</td>\n",
              "      <td>0.00</td>\n",
              "      <td>0.00</td>\n",
              "      <td>0.0</td>\n",
              "      <td>0.000000</td>\n",
              "      <td>1.000000</td>\n",
              "      <td>0.000000</td>\n",
              "      <td>0.000000</td>\n",
              "      <td>0.0</td>\n",
              "      <td>1.0</td>\n",
              "      <td>1.000000</td>\n",
              "      <td>0.0</td>\n",
              "      <td>0.000000</td>\n",
              "      <td>0.000000</td>\n",
              "      <td>0.000000</td>\n",
              "      <td>0.000000</td>\n",
              "      <td>0.0</td>\n",
              "      <td>0.000000</td>\n",
              "      <td>0.0</td>\n",
              "      <td>0.000000</td>\n",
              "      <td>0.000000</td>\n",
              "      <td>0.0</td>\n",
              "      <td>0.0</td>\n",
              "      <td>0.0</td>\n",
              "      <td>0.0</td>\n",
              "      <td>1.0</td>\n",
              "      <td>1.000000</td>\n",
              "      <td>1.0</td>\n",
              "      <td>0.0</td>\n",
              "      <td>0.0</td>\n",
              "      <td>...</td>\n",
              "      <td>0.500000</td>\n",
              "      <td>0.500000</td>\n",
              "      <td>0.333333</td>\n",
              "      <td>0.166667</td>\n",
              "      <td>0.333333</td>\n",
              "      <td>1.000000</td>\n",
              "      <td>0.833333</td>\n",
              "      <td>0.500000</td>\n",
              "      <td>0.666667</td>\n",
              "      <td>0.833333</td>\n",
              "      <td>0.0</td>\n",
              "      <td>1.000000</td>\n",
              "      <td>1.0</td>\n",
              "      <td>0.5</td>\n",
              "      <td>0.50</td>\n",
              "      <td>0.5</td>\n",
              "      <td>1.0</td>\n",
              "      <td>1.0</td>\n",
              "      <td>0.0</td>\n",
              "      <td>1.0</td>\n",
              "      <td>0.7</td>\n",
              "      <td>0.833333</td>\n",
              "      <td>0.9</td>\n",
              "      <td>0.4</td>\n",
              "      <td>1.0</td>\n",
              "      <td>0.500</td>\n",
              "      <td>0.8</td>\n",
              "      <td>1.0</td>\n",
              "      <td>0.000</td>\n",
              "      <td>0.875</td>\n",
              "      <td>0.875</td>\n",
              "      <td>1.00</td>\n",
              "      <td>0.333333</td>\n",
              "      <td>1.000000</td>\n",
              "      <td>0.555556</td>\n",
              "      <td>0.888889</td>\n",
              "      <td>1.000000</td>\n",
              "      <td>0.833333</td>\n",
              "      <td>0.0</td>\n",
              "      <td>0.2</td>\n",
              "    </tr>\n",
              "    <tr>\n",
              "      <th>2</th>\n",
              "      <td>1.0</td>\n",
              "      <td>0.0</td>\n",
              "      <td>0.0</td>\n",
              "      <td>0.250</td>\n",
              "      <td>0.166667</td>\n",
              "      <td>0.4</td>\n",
              "      <td>0.25</td>\n",
              "      <td>0.75</td>\n",
              "      <td>0.75</td>\n",
              "      <td>0.00</td>\n",
              "      <td>0.50</td>\n",
              "      <td>0.25</td>\n",
              "      <td>0.25</td>\n",
              "      <td>0.0</td>\n",
              "      <td>0.000000</td>\n",
              "      <td>1.000000</td>\n",
              "      <td>0.000000</td>\n",
              "      <td>0.000000</td>\n",
              "      <td>0.0</td>\n",
              "      <td>1.0</td>\n",
              "      <td>1.000000</td>\n",
              "      <td>0.0</td>\n",
              "      <td>0.000000</td>\n",
              "      <td>0.000000</td>\n",
              "      <td>0.000000</td>\n",
              "      <td>0.857143</td>\n",
              "      <td>0.0</td>\n",
              "      <td>0.000000</td>\n",
              "      <td>0.0</td>\n",
              "      <td>0.000000</td>\n",
              "      <td>0.000000</td>\n",
              "      <td>0.0</td>\n",
              "      <td>0.0</td>\n",
              "      <td>0.0</td>\n",
              "      <td>0.0</td>\n",
              "      <td>1.0</td>\n",
              "      <td>1.000000</td>\n",
              "      <td>1.0</td>\n",
              "      <td>0.0</td>\n",
              "      <td>0.0</td>\n",
              "      <td>...</td>\n",
              "      <td>1.000000</td>\n",
              "      <td>1.000000</td>\n",
              "      <td>0.333333</td>\n",
              "      <td>0.500000</td>\n",
              "      <td>0.333333</td>\n",
              "      <td>0.333333</td>\n",
              "      <td>0.500000</td>\n",
              "      <td>0.333333</td>\n",
              "      <td>0.500000</td>\n",
              "      <td>0.333333</td>\n",
              "      <td>0.5</td>\n",
              "      <td>0.666667</td>\n",
              "      <td>0.0</td>\n",
              "      <td>1.0</td>\n",
              "      <td>0.25</td>\n",
              "      <td>1.0</td>\n",
              "      <td>0.0</td>\n",
              "      <td>0.0</td>\n",
              "      <td>0.0</td>\n",
              "      <td>0.5</td>\n",
              "      <td>0.8</td>\n",
              "      <td>0.666667</td>\n",
              "      <td>0.5</td>\n",
              "      <td>0.4</td>\n",
              "      <td>1.0</td>\n",
              "      <td>0.250</td>\n",
              "      <td>0.8</td>\n",
              "      <td>1.0</td>\n",
              "      <td>0.250</td>\n",
              "      <td>0.375</td>\n",
              "      <td>0.375</td>\n",
              "      <td>0.25</td>\n",
              "      <td>0.555556</td>\n",
              "      <td>0.666667</td>\n",
              "      <td>0.333333</td>\n",
              "      <td>0.666667</td>\n",
              "      <td>0.777778</td>\n",
              "      <td>0.833333</td>\n",
              "      <td>0.0</td>\n",
              "      <td>0.1</td>\n",
              "    </tr>\n",
              "    <tr>\n",
              "      <th>3</th>\n",
              "      <td>0.0</td>\n",
              "      <td>0.0</td>\n",
              "      <td>0.0</td>\n",
              "      <td>0.125</td>\n",
              "      <td>0.500000</td>\n",
              "      <td>0.2</td>\n",
              "      <td>0.50</td>\n",
              "      <td>0.25</td>\n",
              "      <td>0.25</td>\n",
              "      <td>0.75</td>\n",
              "      <td>0.75</td>\n",
              "      <td>1.00</td>\n",
              "      <td>0.50</td>\n",
              "      <td>0.0</td>\n",
              "      <td>0.000000</td>\n",
              "      <td>1.000000</td>\n",
              "      <td>0.000000</td>\n",
              "      <td>0.000000</td>\n",
              "      <td>0.0</td>\n",
              "      <td>1.0</td>\n",
              "      <td>1.000000</td>\n",
              "      <td>0.0</td>\n",
              "      <td>0.000000</td>\n",
              "      <td>0.000000</td>\n",
              "      <td>0.000000</td>\n",
              "      <td>0.000000</td>\n",
              "      <td>0.0</td>\n",
              "      <td>0.857143</td>\n",
              "      <td>0.0</td>\n",
              "      <td>0.000000</td>\n",
              "      <td>0.000000</td>\n",
              "      <td>0.0</td>\n",
              "      <td>0.0</td>\n",
              "      <td>0.0</td>\n",
              "      <td>0.0</td>\n",
              "      <td>1.0</td>\n",
              "      <td>1.000000</td>\n",
              "      <td>1.0</td>\n",
              "      <td>0.0</td>\n",
              "      <td>0.0</td>\n",
              "      <td>...</td>\n",
              "      <td>0.666667</td>\n",
              "      <td>0.500000</td>\n",
              "      <td>0.500000</td>\n",
              "      <td>0.500000</td>\n",
              "      <td>0.000000</td>\n",
              "      <td>0.500000</td>\n",
              "      <td>0.333333</td>\n",
              "      <td>0.166667</td>\n",
              "      <td>0.666667</td>\n",
              "      <td>0.500000</td>\n",
              "      <td>0.5</td>\n",
              "      <td>0.333333</td>\n",
              "      <td>0.0</td>\n",
              "      <td>0.0</td>\n",
              "      <td>0.75</td>\n",
              "      <td>1.0</td>\n",
              "      <td>0.0</td>\n",
              "      <td>0.0</td>\n",
              "      <td>0.2</td>\n",
              "      <td>0.0</td>\n",
              "      <td>0.6</td>\n",
              "      <td>0.750000</td>\n",
              "      <td>1.0</td>\n",
              "      <td>1.0</td>\n",
              "      <td>1.0</td>\n",
              "      <td>0.875</td>\n",
              "      <td>0.4</td>\n",
              "      <td>1.0</td>\n",
              "      <td>0.375</td>\n",
              "      <td>0.125</td>\n",
              "      <td>0.125</td>\n",
              "      <td>0.00</td>\n",
              "      <td>0.222222</td>\n",
              "      <td>0.333333</td>\n",
              "      <td>0.222222</td>\n",
              "      <td>0.555556</td>\n",
              "      <td>0.222222</td>\n",
              "      <td>0.000000</td>\n",
              "      <td>0.0</td>\n",
              "      <td>0.0</td>\n",
              "    </tr>\n",
              "    <tr>\n",
              "      <th>4</th>\n",
              "      <td>0.0</td>\n",
              "      <td>0.0</td>\n",
              "      <td>0.0</td>\n",
              "      <td>0.375</td>\n",
              "      <td>0.166667</td>\n",
              "      <td>0.8</td>\n",
              "      <td>0.50</td>\n",
              "      <td>0.50</td>\n",
              "      <td>0.50</td>\n",
              "      <td>0.50</td>\n",
              "      <td>0.75</td>\n",
              "      <td>0.50</td>\n",
              "      <td>0.50</td>\n",
              "      <td>0.5</td>\n",
              "      <td>0.833333</td>\n",
              "      <td>0.444444</td>\n",
              "      <td>0.142857</td>\n",
              "      <td>0.333333</td>\n",
              "      <td>0.0</td>\n",
              "      <td>1.0</td>\n",
              "      <td>0.444444</td>\n",
              "      <td>1.0</td>\n",
              "      <td>0.857143</td>\n",
              "      <td>0.857143</td>\n",
              "      <td>0.142857</td>\n",
              "      <td>0.857143</td>\n",
              "      <td>0.0</td>\n",
              "      <td>0.857143</td>\n",
              "      <td>0.0</td>\n",
              "      <td>0.142857</td>\n",
              "      <td>0.714286</td>\n",
              "      <td>0.0</td>\n",
              "      <td>0.0</td>\n",
              "      <td>1.0</td>\n",
              "      <td>1.0</td>\n",
              "      <td>0.0</td>\n",
              "      <td>0.555556</td>\n",
              "      <td>0.0</td>\n",
              "      <td>1.0</td>\n",
              "      <td>0.0</td>\n",
              "      <td>...</td>\n",
              "      <td>0.166667</td>\n",
              "      <td>0.333333</td>\n",
              "      <td>0.833333</td>\n",
              "      <td>0.500000</td>\n",
              "      <td>0.166667</td>\n",
              "      <td>0.500000</td>\n",
              "      <td>0.166667</td>\n",
              "      <td>0.500000</td>\n",
              "      <td>0.833333</td>\n",
              "      <td>0.166667</td>\n",
              "      <td>1.0</td>\n",
              "      <td>0.666667</td>\n",
              "      <td>0.0</td>\n",
              "      <td>1.0</td>\n",
              "      <td>0.75</td>\n",
              "      <td>0.5</td>\n",
              "      <td>0.0</td>\n",
              "      <td>1.0</td>\n",
              "      <td>0.0</td>\n",
              "      <td>0.5</td>\n",
              "      <td>0.2</td>\n",
              "      <td>0.333333</td>\n",
              "      <td>0.3</td>\n",
              "      <td>0.2</td>\n",
              "      <td>1.0</td>\n",
              "      <td>0.375</td>\n",
              "      <td>0.6</td>\n",
              "      <td>0.0</td>\n",
              "      <td>0.250</td>\n",
              "      <td>0.625</td>\n",
              "      <td>0.625</td>\n",
              "      <td>0.75</td>\n",
              "      <td>0.888889</td>\n",
              "      <td>0.444444</td>\n",
              "      <td>0.555556</td>\n",
              "      <td>0.333333</td>\n",
              "      <td>0.333333</td>\n",
              "      <td>0.333333</td>\n",
              "      <td>0.0</td>\n",
              "      <td>0.4</td>\n",
              "    </tr>\n",
              "  </tbody>\n",
              "</table>\n",
              "<p>5 rows × 350 columns</p>\n",
              "</div>"
            ],
            "text/plain": [
              "   AKT_DAT_KL  ANZ_KINDER  ...  ANZ_HH_TITEL_2  ANZ_PERSONEN_2\n",
              "0         0.0         0.0  ...             0.0             0.1\n",
              "1         1.0         0.0  ...             0.0             0.2\n",
              "2         1.0         0.0  ...             0.0             0.1\n",
              "3         0.0         0.0  ...             0.0             0.0\n",
              "4         0.0         0.0  ...             0.0             0.4\n",
              "\n",
              "[5 rows x 350 columns]"
            ]
          },
          "metadata": {
            "tags": []
          },
          "execution_count": 6
        }
      ]
    },
    {
      "cell_type": "code",
      "metadata": {
        "id": "62J7K3AHmvFh",
        "colab_type": "code",
        "colab": {
          "base_uri": "https://localhost:8080/",
          "height": 34
        },
        "outputId": "80df388f-bca4-4245-cdfd-6245c7145e97"
      },
      "source": [
        "azdias.shape"
      ],
      "execution_count": 7,
      "outputs": [
        {
          "output_type": "execute_result",
          "data": {
            "text/plain": [
              "(891221, 350)"
            ]
          },
          "metadata": {
            "tags": []
          },
          "execution_count": 7
        }
      ]
    },
    {
      "cell_type": "code",
      "metadata": {
        "id": "HUXG_MxSmvDr",
        "colab_type": "code",
        "colab": {}
      },
      "source": [
        "#function to model pca and calculate the variance\n",
        "from sklearn.decomposition import PCA\n",
        "from scipy.interpolate import make_interp_spline, BSpline\n",
        "\n",
        "def pca_variance(dataframe, components):  #function to model pca and plot the variance graph\n",
        "    variance = []\n",
        "    for value in components:\n",
        "        pca_model = PCA(n_components=value)  #model the pca\n",
        "        pca_model.fit_transform(dataframe)   \n",
        "        variance.append(pca_model.explained_variance_ratio_.cumsum()[value-1])  #get the variace value\n",
        "    print(variance)\n",
        "    print(components)    "
      ],
      "execution_count": 8,
      "outputs": []
    },
    {
      "cell_type": "code",
      "metadata": {
        "id": "7avKwFUImvCu",
        "colab_type": "code",
        "colab": {
          "base_uri": "https://localhost:8080/",
          "height": 50
        },
        "outputId": "7aed74e0-6371-4f5f-cdbf-0bad1a5b6758"
      },
      "source": [
        "pca_components = [110,120]\n",
        "pca_variance(azdias,pca_components)"
      ],
      "execution_count": 9,
      "outputs": [
        {
          "output_type": "stream",
          "text": [
            "[0.8218630006090925, 0.8412655807822145]\n",
            "[110, 120]\n"
          ],
          "name": "stdout"
        }
      ]
    },
    {
      "cell_type": "code",
      "metadata": {
        "id": "HSs3Smxrmu8e",
        "colab_type": "code",
        "colab": {
          "base_uri": "https://localhost:8080/",
          "height": 50
        },
        "outputId": "94831a7b-adbf-4cfb-fc62-56df8ac95b2f"
      },
      "source": [
        "pca_components = [130,140]\n",
        "pca_variance(azdias,pca_components)"
      ],
      "execution_count": 10,
      "outputs": [
        {
          "output_type": "stream",
          "text": [
            "[0.859175979216605, 0.8756760189295024]\n",
            "[130, 140]\n"
          ],
          "name": "stdout"
        }
      ]
    },
    {
      "cell_type": "code",
      "metadata": {
        "id": "vLe1Q-oamu76",
        "colab_type": "code",
        "colab": {
          "base_uri": "https://localhost:8080/",
          "height": 50
        },
        "outputId": "e7cd53f2-f067-48c1-f964-1ad60dc199c9"
      },
      "source": [
        "pca_components = [150,160]\n",
        "pca_variance(azdias,pca_components)"
      ],
      "execution_count": 11,
      "outputs": [
        {
          "output_type": "stream",
          "text": [
            "[0.8909399374647844, 0.9047352506022815]\n",
            "[150, 160]\n"
          ],
          "name": "stdout"
        }
      ]
    },
    {
      "cell_type": "code",
      "metadata": {
        "id": "c5mscM40wzXd",
        "colab_type": "code",
        "colab": {
          "base_uri": "https://localhost:8080/",
          "height": 50
        },
        "outputId": "5f290e06-1fe8-467f-a7a0-5f58215e62cc"
      },
      "source": [
        "pca_components = [170,180]\n",
        "pca_variance(azdias,pca_components)"
      ],
      "execution_count": 12,
      "outputs": [
        {
          "output_type": "stream",
          "text": [
            "[0.9171057845275419, 0.9280132999633186]\n",
            "[170, 180]\n"
          ],
          "name": "stdout"
        }
      ]
    },
    {
      "cell_type": "code",
      "metadata": {
        "id": "1AG4mAmxnGUv",
        "colab_type": "code",
        "colab": {}
      },
      "source": [
        "# variance = [0.8924913274292778, 0.905900041582257, 0.9178432123117752, 0.9286006632350323, 0.9381830509339177, 0.946636170547178]\n",
        "# components = [110, 120, 130, 140, 150, 160]"
      ],
      "execution_count": null,
      "outputs": []
    },
    {
      "cell_type": "code",
      "metadata": {
        "id": "Vhn-Q64mvzS-",
        "colab_type": "code",
        "colab": {}
      },
      "source": [
        "variance = [0.8218630006090925, 0.8412655807822145, 0.859175979216605, 0.8756760189295024, 0.8909399374647844, 0.9047352506022815,0.9171057845275419, 0.9280132999633186]\n",
        "components = [110, 120, 130, 140, 150, 160, 170,180]"
      ],
      "execution_count": 13,
      "outputs": []
    },
    {
      "cell_type": "code",
      "metadata": {
        "id": "xb65tWEdnGdb",
        "colab_type": "code",
        "colab": {
          "base_uri": "https://localhost:8080/",
          "height": 295
        },
        "outputId": "1ef27831-fe84-4313-cb82-faaca42a179c"
      },
      "source": [
        "#plot the variance\n",
        "components_smooth = np.linspace(components[0], components[-1], 10)  #10 points are selected to get a smooth line\n",
        "spl = make_interp_spline(components, variance, k=3)  # type: BSpline\n",
        "varaince_smooth = spl(components_smooth)\n",
        "\n",
        "# plt.scatter(components, variance)   #plot the variance as a scatter graph\n",
        "plt.plot(components_smooth, varaince_smooth)  #plot the smooth line\n",
        "\n",
        "plt.plot(components, variance, 'bo')   #plot the variance as a scatter graph\n",
        "plt.ylabel(\"Variance Covered\")\n",
        "plt.xlabel(\"PCA Components\")\n",
        "plt.title(\"Variance covered by PCA Components\")\n",
        "plt.show()   "
      ],
      "execution_count": 14,
      "outputs": [
        {
          "output_type": "display_data",
          "data": {
            "image/png": "[encoded data removed]",
            "text/plain": [
              "<Figure size 432x288 with 1 Axes>"
            ]
          },
          "metadata": {
            "tags": [],
            "needs_background": "light"
          }
        }
      ]
    },
    {
      "cell_type": "code",
      "metadata": {
        "id": "u66I5URlnPPQ",
        "colab_type": "code",
        "colab": {}
      },
      "source": [
        "#select a good pca_component and transofrm the dataset. \n",
        "\n",
        "pca_model = PCA(n_components=170)  #selected value is 170\n",
        "azdias_transformed = pca_model.fit_transform(azdias)"
      ],
      "execution_count": 15,
      "outputs": []
    },
    {
      "cell_type": "code",
      "metadata": {
        "id": "5fDcYrmMnPV5",
        "colab_type": "code",
        "colab": {}
      },
      "source": [
        ""
      ],
      "execution_count": null,
      "outputs": []
    },
    {
      "cell_type": "markdown",
      "metadata": {
        "id": "Qn9ybLhTrkG-",
        "colab_type": "text"
      },
      "source": [
        "---------------------------------"
      ]
    },
    {
      "cell_type": "markdown",
      "metadata": {
        "id": "IoMJ2_CBred5",
        "colab_type": "text"
      },
      "source": [
        "converting the customers df"
      ]
    },
    {
      "cell_type": "code",
      "metadata": {
        "id": "hFV_bnyinPbF",
        "colab_type": "code",
        "colab": {
          "base_uri": "https://localhost:8080/",
          "height": 34
        },
        "outputId": "89c21ae0-bf0d-403d-a004-e9904a8f1eb3"
      },
      "source": [
        "!tar -xvf customers2.tar.gz"
      ],
      "execution_count": 5,
      "outputs": [
        {
          "output_type": "stream",
          "text": [
            "customers_scaled.csv\n"
          ],
          "name": "stdout"
        }
      ]
    },
    {
      "cell_type": "code",
      "metadata": {
        "id": "kCJeb5i6nPhl",
        "colab_type": "code",
        "colab": {
          "base_uri": "https://localhost:8080/",
          "height": 244
        },
        "outputId": "c5ad83cd-56dc-4424-9ce1-3b9a0a428fec"
      },
      "source": [
        "#load the customers data\n",
        "customers = pd.read_csv(\"customers_scaled.csv\")\n",
        "customers.head(5)"
      ],
      "execution_count": 16,
      "outputs": [
        {
          "output_type": "execute_result",
          "data": {
            "text/html": [
              "<div>\n",
              "<style scoped>\n",
              "    .dataframe tbody tr th:only-of-type {\n",
              "        vertical-align: middle;\n",
              "    }\n",
              "\n",
              "    .dataframe tbody tr th {\n",
              "        vertical-align: top;\n",
              "    }\n",
              "\n",
              "    .dataframe thead th {\n",
              "        text-align: right;\n",
              "    }\n",
              "</style>\n",
              "<table border=\"1\" class=\"dataframe\">\n",
              "  <thead>\n",
              "    <tr style=\"text-align: right;\">\n",
              "      <th></th>\n",
              "      <th>AKT_DAT_KL</th>\n",
              "      <th>ANZ_KINDER</th>\n",
              "      <th>ANZ_TITEL</th>\n",
              "      <th>ARBEIT</th>\n",
              "      <th>BALLRAUM</th>\n",
              "      <th>CJT_GESAMTTYP</th>\n",
              "      <th>CJT_KATALOGNUTZER</th>\n",
              "      <th>CJT_TYP_1</th>\n",
              "      <th>CJT_TYP_2</th>\n",
              "      <th>CJT_TYP_3</th>\n",
              "      <th>CJT_TYP_4</th>\n",
              "      <th>CJT_TYP_5</th>\n",
              "      <th>CJT_TYP_6</th>\n",
              "      <th>D19_BANKEN_ANZ_12</th>\n",
              "      <th>D19_BANKEN_ANZ_24</th>\n",
              "      <th>D19_BANKEN_DATUM</th>\n",
              "      <th>D19_BANKEN_DIREKT</th>\n",
              "      <th>D19_BANKEN_GROSS</th>\n",
              "      <th>D19_BANKEN_LOKAL</th>\n",
              "      <th>D19_BANKEN_OFFLINE_DATUM</th>\n",
              "      <th>D19_BANKEN_ONLINE_DATUM</th>\n",
              "      <th>D19_BANKEN_ONLINE_QUOTE_12</th>\n",
              "      <th>D19_BANKEN_REST</th>\n",
              "      <th>D19_BEKLEIDUNG_GEH</th>\n",
              "      <th>D19_BEKLEIDUNG_REST</th>\n",
              "      <th>D19_BILDUNG</th>\n",
              "      <th>D19_BIO_OEKO</th>\n",
              "      <th>D19_BUCH_CD</th>\n",
              "      <th>D19_DIGIT_SERV</th>\n",
              "      <th>D19_DROGERIEARTIKEL</th>\n",
              "      <th>D19_ENERGIE</th>\n",
              "      <th>D19_FREIZEIT</th>\n",
              "      <th>D19_GARTEN</th>\n",
              "      <th>D19_GESAMT_ANZ_12</th>\n",
              "      <th>D19_GESAMT_ANZ_24</th>\n",
              "      <th>D19_GESAMT_DATUM</th>\n",
              "      <th>D19_GESAMT_OFFLINE_DATUM</th>\n",
              "      <th>D19_GESAMT_ONLINE_DATUM</th>\n",
              "      <th>D19_GESAMT_ONLINE_QUOTE_12</th>\n",
              "      <th>D19_HANDWERK</th>\n",
              "      <th>...</th>\n",
              "      <th>SEMIO_KAEM</th>\n",
              "      <th>SEMIO_KRIT</th>\n",
              "      <th>SEMIO_KULT</th>\n",
              "      <th>SEMIO_LUST</th>\n",
              "      <th>SEMIO_MAT</th>\n",
              "      <th>SEMIO_PFLICHT</th>\n",
              "      <th>SEMIO_RAT</th>\n",
              "      <th>SEMIO_REL</th>\n",
              "      <th>SEMIO_SOZ</th>\n",
              "      <th>SEMIO_TRADV</th>\n",
              "      <th>SEMIO_VERT</th>\n",
              "      <th>SHOPPER_TYP</th>\n",
              "      <th>SOHO_KZ</th>\n",
              "      <th>STRUKTURTYP</th>\n",
              "      <th>UMFELD_ALT</th>\n",
              "      <th>UMFELD_JUNG</th>\n",
              "      <th>UNGLEICHENN_FLAG</th>\n",
              "      <th>VERS_TYP</th>\n",
              "      <th>VHA</th>\n",
              "      <th>VHN</th>\n",
              "      <th>VK_DHT4A</th>\n",
              "      <th>VK_DISTANZ</th>\n",
              "      <th>VK_ZG11</th>\n",
              "      <th>W_KEIT_KIND_HH</th>\n",
              "      <th>WOHNDAUER_2008</th>\n",
              "      <th>WOHNLAGE</th>\n",
              "      <th>ZABEOTYP</th>\n",
              "      <th>ANREDE_KZ</th>\n",
              "      <th>ALTERSKATEGORIE_GROB</th>\n",
              "      <th>CAMEO_DEU_2015_2</th>\n",
              "      <th>CAMEO_DEUG_2015_2</th>\n",
              "      <th>CAMEO_INTL_2015_2</th>\n",
              "      <th>ALTER_HH_2</th>\n",
              "      <th>ALTERSKATEGORIE_FEIN_2</th>\n",
              "      <th>EINGEZOGENAM_HH_JAHR_2</th>\n",
              "      <th>KBA13_ANZAHL_PKW_2</th>\n",
              "      <th>GEBURTSJAHR_2</th>\n",
              "      <th>ANZ_HAUSHALTE_AKTIV_2</th>\n",
              "      <th>ANZ_HH_TITEL_2</th>\n",
              "      <th>ANZ_PERSONEN_2</th>\n",
              "    </tr>\n",
              "  </thead>\n",
              "  <tbody>\n",
              "    <tr>\n",
              "      <th>0</th>\n",
              "      <td>0.0</td>\n",
              "      <td>0.0</td>\n",
              "      <td>0.0</td>\n",
              "      <td>0.00</td>\n",
              "      <td>0.333333</td>\n",
              "      <td>0.8</td>\n",
              "      <td>0.75</td>\n",
              "      <td>0.00</td>\n",
              "      <td>0.00</td>\n",
              "      <td>1.0</td>\n",
              "      <td>1.00</td>\n",
              "      <td>1.0</td>\n",
              "      <td>1.0</td>\n",
              "      <td>0.000000</td>\n",
              "      <td>0.000000</td>\n",
              "      <td>1.000000</td>\n",
              "      <td>0.000000</td>\n",
              "      <td>0.000000</td>\n",
              "      <td>0.000000</td>\n",
              "      <td>1.0</td>\n",
              "      <td>1.000000</td>\n",
              "      <td>0.0</td>\n",
              "      <td>0.000000</td>\n",
              "      <td>0.0</td>\n",
              "      <td>0.000000</td>\n",
              "      <td>0.000000</td>\n",
              "      <td>0.0</td>\n",
              "      <td>0.857143</td>\n",
              "      <td>0.0</td>\n",
              "      <td>0.000000</td>\n",
              "      <td>0.0</td>\n",
              "      <td>0.000000</td>\n",
              "      <td>0.0</td>\n",
              "      <td>0.0</td>\n",
              "      <td>0.000000</td>\n",
              "      <td>0.888889</td>\n",
              "      <td>0.888889</td>\n",
              "      <td>1.000000</td>\n",
              "      <td>0.0</td>\n",
              "      <td>0.0</td>\n",
              "      <td>...</td>\n",
              "      <td>0.000000</td>\n",
              "      <td>0.333333</td>\n",
              "      <td>0.500000</td>\n",
              "      <td>1.000000</td>\n",
              "      <td>0.833333</td>\n",
              "      <td>0.166667</td>\n",
              "      <td>0.000000</td>\n",
              "      <td>0.166667</td>\n",
              "      <td>0.833333</td>\n",
              "      <td>0.0</td>\n",
              "      <td>0.833333</td>\n",
              "      <td>1.000000</td>\n",
              "      <td>0.0</td>\n",
              "      <td>1.0</td>\n",
              "      <td>0.75</td>\n",
              "      <td>0.75</td>\n",
              "      <td>0.0</td>\n",
              "      <td>0.0</td>\n",
              "      <td>0.0</td>\n",
              "      <td>0.75</td>\n",
              "      <td>0.4</td>\n",
              "      <td>0.166667</td>\n",
              "      <td>0.1</td>\n",
              "      <td>1.0</td>\n",
              "      <td>1.0</td>\n",
              "      <td>0.875</td>\n",
              "      <td>0.4</td>\n",
              "      <td>0.0</td>\n",
              "      <td>0.375</td>\n",
              "      <td>0.000</td>\n",
              "      <td>0.000</td>\n",
              "      <td>0.00</td>\n",
              "      <td>0.000000</td>\n",
              "      <td>0.111111</td>\n",
              "      <td>0.000000</td>\n",
              "      <td>1.000000</td>\n",
              "      <td>0.000000</td>\n",
              "      <td>0.000000</td>\n",
              "      <td>0.0</td>\n",
              "      <td>0.2</td>\n",
              "    </tr>\n",
              "    <tr>\n",
              "      <th>1</th>\n",
              "      <td>1.0</td>\n",
              "      <td>0.0</td>\n",
              "      <td>0.0</td>\n",
              "      <td>0.25</td>\n",
              "      <td>0.833333</td>\n",
              "      <td>1.0</td>\n",
              "      <td>1.00</td>\n",
              "      <td>0.00</td>\n",
              "      <td>0.00</td>\n",
              "      <td>1.0</td>\n",
              "      <td>1.00</td>\n",
              "      <td>1.0</td>\n",
              "      <td>1.0</td>\n",
              "      <td>0.000000</td>\n",
              "      <td>0.166667</td>\n",
              "      <td>0.555556</td>\n",
              "      <td>0.000000</td>\n",
              "      <td>0.833333</td>\n",
              "      <td>0.000000</td>\n",
              "      <td>1.0</td>\n",
              "      <td>1.000000</td>\n",
              "      <td>0.0</td>\n",
              "      <td>0.857143</td>\n",
              "      <td>0.0</td>\n",
              "      <td>0.000000</td>\n",
              "      <td>0.000000</td>\n",
              "      <td>0.0</td>\n",
              "      <td>0.000000</td>\n",
              "      <td>0.0</td>\n",
              "      <td>0.857143</td>\n",
              "      <td>0.0</td>\n",
              "      <td>0.000000</td>\n",
              "      <td>0.0</td>\n",
              "      <td>0.0</td>\n",
              "      <td>0.166667</td>\n",
              "      <td>0.555556</td>\n",
              "      <td>1.000000</td>\n",
              "      <td>0.888889</td>\n",
              "      <td>0.0</td>\n",
              "      <td>0.0</td>\n",
              "      <td>...</td>\n",
              "      <td>0.166667</td>\n",
              "      <td>0.333333</td>\n",
              "      <td>0.500000</td>\n",
              "      <td>0.666667</td>\n",
              "      <td>0.833333</td>\n",
              "      <td>0.500000</td>\n",
              "      <td>0.000000</td>\n",
              "      <td>0.166667</td>\n",
              "      <td>0.333333</td>\n",
              "      <td>0.0</td>\n",
              "      <td>1.000000</td>\n",
              "      <td>1.000000</td>\n",
              "      <td>0.0</td>\n",
              "      <td>1.0</td>\n",
              "      <td>0.50</td>\n",
              "      <td>1.00</td>\n",
              "      <td>0.0</td>\n",
              "      <td>0.0</td>\n",
              "      <td>0.0</td>\n",
              "      <td>0.50</td>\n",
              "      <td>0.5</td>\n",
              "      <td>0.416667</td>\n",
              "      <td>0.2</td>\n",
              "      <td>1.0</td>\n",
              "      <td>1.0</td>\n",
              "      <td>0.375</td>\n",
              "      <td>0.4</td>\n",
              "      <td>0.0</td>\n",
              "      <td>0.375</td>\n",
              "      <td>0.125</td>\n",
              "      <td>0.125</td>\n",
              "      <td>0.25</td>\n",
              "      <td>0.111111</td>\n",
              "      <td>0.111111</td>\n",
              "      <td>0.666667</td>\n",
              "      <td>1.000000</td>\n",
              "      <td>0.000000</td>\n",
              "      <td>0.000000</td>\n",
              "      <td>0.0</td>\n",
              "      <td>0.3</td>\n",
              "    </tr>\n",
              "    <tr>\n",
              "      <th>2</th>\n",
              "      <td>0.0</td>\n",
              "      <td>0.0</td>\n",
              "      <td>0.0</td>\n",
              "      <td>0.25</td>\n",
              "      <td>1.000000</td>\n",
              "      <td>0.2</td>\n",
              "      <td>1.00</td>\n",
              "      <td>0.25</td>\n",
              "      <td>0.25</td>\n",
              "      <td>1.0</td>\n",
              "      <td>1.00</td>\n",
              "      <td>1.0</td>\n",
              "      <td>1.0</td>\n",
              "      <td>0.000000</td>\n",
              "      <td>0.000000</td>\n",
              "      <td>1.000000</td>\n",
              "      <td>0.000000</td>\n",
              "      <td>0.000000</td>\n",
              "      <td>0.000000</td>\n",
              "      <td>1.0</td>\n",
              "      <td>1.000000</td>\n",
              "      <td>0.0</td>\n",
              "      <td>0.000000</td>\n",
              "      <td>0.0</td>\n",
              "      <td>0.000000</td>\n",
              "      <td>0.857143</td>\n",
              "      <td>0.0</td>\n",
              "      <td>0.000000</td>\n",
              "      <td>0.0</td>\n",
              "      <td>0.000000</td>\n",
              "      <td>0.0</td>\n",
              "      <td>0.000000</td>\n",
              "      <td>0.0</td>\n",
              "      <td>0.0</td>\n",
              "      <td>0.000000</td>\n",
              "      <td>1.000000</td>\n",
              "      <td>1.000000</td>\n",
              "      <td>1.000000</td>\n",
              "      <td>0.0</td>\n",
              "      <td>0.0</td>\n",
              "      <td>...</td>\n",
              "      <td>0.833333</td>\n",
              "      <td>1.000000</td>\n",
              "      <td>0.000000</td>\n",
              "      <td>1.000000</td>\n",
              "      <td>0.333333</td>\n",
              "      <td>0.500000</td>\n",
              "      <td>0.166667</td>\n",
              "      <td>0.000000</td>\n",
              "      <td>0.166667</td>\n",
              "      <td>0.0</td>\n",
              "      <td>0.333333</td>\n",
              "      <td>0.333333</td>\n",
              "      <td>0.0</td>\n",
              "      <td>1.0</td>\n",
              "      <td>0.00</td>\n",
              "      <td>1.00</td>\n",
              "      <td>0.0</td>\n",
              "      <td>1.0</td>\n",
              "      <td>0.0</td>\n",
              "      <td>1.00</td>\n",
              "      <td>0.9</td>\n",
              "      <td>1.000000</td>\n",
              "      <td>1.0</td>\n",
              "      <td>1.0</td>\n",
              "      <td>1.0</td>\n",
              "      <td>0.250</td>\n",
              "      <td>0.4</td>\n",
              "      <td>1.0</td>\n",
              "      <td>0.375</td>\n",
              "      <td>0.500</td>\n",
              "      <td>0.500</td>\n",
              "      <td>0.50</td>\n",
              "      <td>0.000000</td>\n",
              "      <td>0.000000</td>\n",
              "      <td>0.111111</td>\n",
              "      <td>0.333333</td>\n",
              "      <td>0.000000</td>\n",
              "      <td>0.000000</td>\n",
              "      <td>0.0</td>\n",
              "      <td>0.1</td>\n",
              "    </tr>\n",
              "    <tr>\n",
              "      <th>3</th>\n",
              "      <td>0.0</td>\n",
              "      <td>0.0</td>\n",
              "      <td>0.0</td>\n",
              "      <td>0.00</td>\n",
              "      <td>1.000000</td>\n",
              "      <td>0.2</td>\n",
              "      <td>1.00</td>\n",
              "      <td>0.00</td>\n",
              "      <td>0.00</td>\n",
              "      <td>1.0</td>\n",
              "      <td>1.00</td>\n",
              "      <td>1.0</td>\n",
              "      <td>1.0</td>\n",
              "      <td>0.000000</td>\n",
              "      <td>0.000000</td>\n",
              "      <td>1.000000</td>\n",
              "      <td>0.000000</td>\n",
              "      <td>0.000000</td>\n",
              "      <td>0.000000</td>\n",
              "      <td>1.0</td>\n",
              "      <td>1.000000</td>\n",
              "      <td>0.0</td>\n",
              "      <td>0.000000</td>\n",
              "      <td>0.0</td>\n",
              "      <td>0.000000</td>\n",
              "      <td>0.000000</td>\n",
              "      <td>0.0</td>\n",
              "      <td>0.857143</td>\n",
              "      <td>0.0</td>\n",
              "      <td>0.000000</td>\n",
              "      <td>0.0</td>\n",
              "      <td>0.000000</td>\n",
              "      <td>0.0</td>\n",
              "      <td>0.0</td>\n",
              "      <td>0.166667</td>\n",
              "      <td>0.555556</td>\n",
              "      <td>0.555556</td>\n",
              "      <td>1.000000</td>\n",
              "      <td>0.0</td>\n",
              "      <td>0.0</td>\n",
              "      <td>...</td>\n",
              "      <td>0.333333</td>\n",
              "      <td>0.333333</td>\n",
              "      <td>0.500000</td>\n",
              "      <td>0.666667</td>\n",
              "      <td>0.500000</td>\n",
              "      <td>0.333333</td>\n",
              "      <td>0.333333</td>\n",
              "      <td>0.333333</td>\n",
              "      <td>0.833333</td>\n",
              "      <td>0.5</td>\n",
              "      <td>1.000000</td>\n",
              "      <td>0.000000</td>\n",
              "      <td>0.0</td>\n",
              "      <td>0.0</td>\n",
              "      <td>0.50</td>\n",
              "      <td>0.75</td>\n",
              "      <td>0.0</td>\n",
              "      <td>0.0</td>\n",
              "      <td>0.0</td>\n",
              "      <td>0.50</td>\n",
              "      <td>0.5</td>\n",
              "      <td>0.250000</td>\n",
              "      <td>0.1</td>\n",
              "      <td>1.0</td>\n",
              "      <td>1.0</td>\n",
              "      <td>0.875</td>\n",
              "      <td>0.0</td>\n",
              "      <td>0.0</td>\n",
              "      <td>0.375</td>\n",
              "      <td>0.375</td>\n",
              "      <td>0.375</td>\n",
              "      <td>0.25</td>\n",
              "      <td>0.000000</td>\n",
              "      <td>0.000000</td>\n",
              "      <td>0.111111</td>\n",
              "      <td>0.777778</td>\n",
              "      <td>0.000000</td>\n",
              "      <td>0.000000</td>\n",
              "      <td>0.0</td>\n",
              "      <td>0.0</td>\n",
              "    </tr>\n",
              "    <tr>\n",
              "      <th>4</th>\n",
              "      <td>0.0</td>\n",
              "      <td>0.0</td>\n",
              "      <td>0.0</td>\n",
              "      <td>0.25</td>\n",
              "      <td>0.333333</td>\n",
              "      <td>1.0</td>\n",
              "      <td>0.75</td>\n",
              "      <td>0.50</td>\n",
              "      <td>0.50</td>\n",
              "      <td>0.5</td>\n",
              "      <td>0.75</td>\n",
              "      <td>0.5</td>\n",
              "      <td>0.5</td>\n",
              "      <td>0.166667</td>\n",
              "      <td>0.333333</td>\n",
              "      <td>0.222222</td>\n",
              "      <td>0.714286</td>\n",
              "      <td>0.000000</td>\n",
              "      <td>0.428571</td>\n",
              "      <td>1.0</td>\n",
              "      <td>0.666667</td>\n",
              "      <td>0.0</td>\n",
              "      <td>0.000000</td>\n",
              "      <td>0.0</td>\n",
              "      <td>0.857143</td>\n",
              "      <td>0.000000</td>\n",
              "      <td>0.0</td>\n",
              "      <td>0.285714</td>\n",
              "      <td>0.0</td>\n",
              "      <td>0.571429</td>\n",
              "      <td>0.0</td>\n",
              "      <td>0.857143</td>\n",
              "      <td>0.0</td>\n",
              "      <td>0.5</td>\n",
              "      <td>0.833333</td>\n",
              "      <td>0.000000</td>\n",
              "      <td>0.777778</td>\n",
              "      <td>0.000000</td>\n",
              "      <td>1.0</td>\n",
              "      <td>0.0</td>\n",
              "      <td>...</td>\n",
              "      <td>0.166667</td>\n",
              "      <td>0.333333</td>\n",
              "      <td>0.666667</td>\n",
              "      <td>0.833333</td>\n",
              "      <td>0.833333</td>\n",
              "      <td>0.666667</td>\n",
              "      <td>0.666667</td>\n",
              "      <td>0.500000</td>\n",
              "      <td>0.500000</td>\n",
              "      <td>0.5</td>\n",
              "      <td>0.666667</td>\n",
              "      <td>0.333333</td>\n",
              "      <td>0.0</td>\n",
              "      <td>1.0</td>\n",
              "      <td>0.25</td>\n",
              "      <td>0.75</td>\n",
              "      <td>0.0</td>\n",
              "      <td>1.0</td>\n",
              "      <td>0.0</td>\n",
              "      <td>1.00</td>\n",
              "      <td>0.2</td>\n",
              "      <td>0.333333</td>\n",
              "      <td>0.3</td>\n",
              "      <td>0.2</td>\n",
              "      <td>1.0</td>\n",
              "      <td>0.375</td>\n",
              "      <td>0.0</td>\n",
              "      <td>0.0</td>\n",
              "      <td>0.250</td>\n",
              "      <td>0.750</td>\n",
              "      <td>0.750</td>\n",
              "      <td>0.75</td>\n",
              "      <td>0.888889</td>\n",
              "      <td>0.444444</td>\n",
              "      <td>0.111111</td>\n",
              "      <td>0.444444</td>\n",
              "      <td>0.333333</td>\n",
              "      <td>0.666667</td>\n",
              "      <td>0.0</td>\n",
              "      <td>0.4</td>\n",
              "    </tr>\n",
              "  </tbody>\n",
              "</table>\n",
              "<p>5 rows × 350 columns</p>\n",
              "</div>"
            ],
            "text/plain": [
              "   AKT_DAT_KL  ANZ_KINDER  ...  ANZ_HH_TITEL_2  ANZ_PERSONEN_2\n",
              "0         0.0         0.0  ...             0.0             0.2\n",
              "1         1.0         0.0  ...             0.0             0.3\n",
              "2         0.0         0.0  ...             0.0             0.1\n",
              "3         0.0         0.0  ...             0.0             0.0\n",
              "4         0.0         0.0  ...             0.0             0.4\n",
              "\n",
              "[5 rows x 350 columns]"
            ]
          },
          "metadata": {
            "tags": []
          },
          "execution_count": 16
        }
      ]
    },
    {
      "cell_type": "code",
      "metadata": {
        "id": "U6k5lvcNnPe7",
        "colab_type": "code",
        "colab": {
          "base_uri": "https://localhost:8080/",
          "height": 34
        },
        "outputId": "b6cf645a-847e-46b0-f168-0a8d73dc7ea1"
      },
      "source": [
        "customers.shape"
      ],
      "execution_count": 17,
      "outputs": [
        {
          "output_type": "execute_result",
          "data": {
            "text/plain": [
              "(191652, 350)"
            ]
          },
          "metadata": {
            "tags": []
          },
          "execution_count": 17
        }
      ]
    },
    {
      "cell_type": "code",
      "metadata": {
        "id": "unJQsvqrnckv",
        "colab_type": "code",
        "colab": {}
      },
      "source": [
        "customers_transformed = pca_model.transform(customers)"
      ],
      "execution_count": 18,
      "outputs": []
    },
    {
      "cell_type": "markdown",
      "metadata": {
        "id": "UYYEOBdcridT",
        "colab_type": "text"
      },
      "source": [
        "--------------------"
      ]
    },
    {
      "cell_type": "markdown",
      "metadata": {
        "id": "BOdO-xUrrU9q",
        "colab_type": "text"
      },
      "source": [
        "Saving the transformd np arrays to df and then to gzip"
      ]
    },
    {
      "cell_type": "code",
      "metadata": {
        "id": "eBGwptRrn6xv",
        "colab_type": "code",
        "colab": {}
      },
      "source": [
        "azdias_transformed_df = pd.DataFrame(azdias_transformed)\n",
        "customers_transformed_df = pd.DataFrame(customers_transformed)"
      ],
      "execution_count": 19,
      "outputs": []
    },
    {
      "cell_type": "code",
      "metadata": {
        "id": "LdnVEi0apTgF",
        "colab_type": "code",
        "colab": {}
      },
      "source": [
        "azdias_transformed_df.to_csv(\"azdias_transformed.gzip\",index = False, compression=\"gzip\")"
      ],
      "execution_count": 20,
      "outputs": []
    },
    {
      "cell_type": "code",
      "metadata": {
        "id": "szLhHlwNpBLy",
        "colab_type": "code",
        "colab": {}
      },
      "source": [
        "customers_transformed_df.to_csv(\"customers_transformed.gzip\",index = False, compression=\"gzip\")"
      ],
      "execution_count": 21,
      "outputs": []
    },
    {
      "cell_type": "code",
      "metadata": {
        "id": "jdLqGLQRq8ko",
        "colab_type": "code",
        "colab": {}
      },
      "source": [
        ""
      ],
      "execution_count": null,
      "outputs": []
    },
    {
      "cell_type": "markdown",
      "metadata": {
        "id": "dxJLEHuGrA54",
        "colab_type": "text"
      },
      "source": [
        "Elbow Plot\n"
      ]
    },
    {
      "cell_type": "code",
      "metadata": {
        "id": "ioFSry8tq8vx",
        "colab_type": "code",
        "colab": {
          "base_uri": "https://localhost:8080/",
          "height": 269
        },
        "outputId": "4e9edd10-6ffc-4456-b0d7-a0478e3fef1a"
      },
      "source": [
        "#plot the elbow graph to find the optimum k for k-means\n",
        "from sklearn.cluster import KMeans\n",
        "\n",
        "Sum_of_squared_distances = []\n",
        "K = range(3,18)\n",
        "for k in K:\n",
        "    km = KMeans(n_clusters=k)\n",
        "    km = km.fit(azdias_transformed)\n",
        "    value = km.inertia_\n",
        "    Sum_of_squared_distances.append(km.inertia_)\n",
        "    print('{} and {} is done!'.format(k,value))"
      ],
      "execution_count": 22,
      "outputs": [
        {
          "output_type": "stream",
          "text": [
            "3 and 19101670.897752788 is done!\n",
            "4 and 18473412.900836088 is done!\n",
            "5 and 17998313.638482377 is done!\n",
            "6 and 17625599.474804416 is done!\n",
            "7 and 17364182.332419813 is done!\n",
            "8 and 17133268.665771253 is done!\n",
            "9 and 16958477.17330367 is done!\n",
            "10 and 16801939.93121694 is done!\n",
            "11 and 16666725.068677064 is done!\n",
            "12 and 16552372.559374245 is done!\n",
            "13 and 16432142.602628695 is done!\n",
            "14 and 16344327.71689674 is done!\n",
            "15 and 16260535.705382742 is done!\n",
            "16 and 16189203.441679705 is done!\n",
            "17 and 16106114.367119506 is done!\n"
          ],
          "name": "stdout"
        }
      ]
    },
    {
      "cell_type": "code",
      "metadata": {
        "id": "Kh1_Y9Nuq8s8",
        "colab_type": "code",
        "colab": {
          "base_uri": "https://localhost:8080/",
          "height": 295
        },
        "outputId": "1daeeb55-b0c7-4396-887d-02469c28eb27"
      },
      "source": [
        "plt.plot(K, Sum_of_squared_distances, 'bx-')\n",
        "plt.xlabel('k value')\n",
        "plt.ylabel('Inertia/Sum of squared distances')\n",
        "plt.title('Elbow Method For Optimal k')\n",
        "plt.show()"
      ],
      "execution_count": 23,
      "outputs": [
        {
          "output_type": "display_data",
          "data": {
            "image/png": "[encoded data removed]",
            "text/plain": [
              "<Figure size 432x288 with 1 Axes>"
            ]
          },
          "metadata": {
            "tags": [],
            "needs_background": "light"
          }
        }
      ]
    },
    {
      "cell_type": "markdown",
      "metadata": {
        "id": "buDKrZCQKThb",
        "colab_type": "text"
      },
      "source": [
        "analyse the pca"
      ]
    },
    {
      "cell_type": "code",
      "metadata": {
        "id": "_CFLMRud_KhO",
        "colab_type": "code",
        "colab": {}
      },
      "source": [
        "#variance covered by each PC\n",
        "variance_ratio = pca_model.explained_variance_ratio_"
      ],
      "execution_count": 24,
      "outputs": []
    },
    {
      "cell_type": "code",
      "metadata": {
        "id": "pDQR1WEy_777",
        "colab_type": "code",
        "colab": {}
      },
      "source": [
        "#df column contribution to PC components \n",
        "PC_arr = pca_model.components_"
      ],
      "execution_count": 25,
      "outputs": []
    },
    {
      "cell_type": "code",
      "metadata": {
        "id": "G967XRYjHssJ",
        "colab_type": "code",
        "colab": {
          "base_uri": "https://localhost:8080/",
          "height": 588
        },
        "outputId": "094702d8-7b78-4551-fa30-1a39a487d7f5"
      },
      "source": [
        "#get the top1\n",
        "variance_ratio"
      ],
      "execution_count": 26,
      "outputs": [
        {
          "output_type": "execute_result",
          "data": {
            "text/plain": [
              "array([0.10256101, 0.0639345 , 0.05218117, 0.04563477, 0.03073576,\n",
              "       0.02628181, 0.02156157, 0.01768516, 0.01760421, 0.01444148,\n",
              "       0.01437168, 0.01297651, 0.01149083, 0.01105684, 0.01059265,\n",
              "       0.00955002, 0.00926566, 0.00902108, 0.00815573, 0.00794199,\n",
              "       0.007643  , 0.00732818, 0.00715608, 0.00692198, 0.00652831,\n",
              "       0.00632444, 0.00612549, 0.00598741, 0.00582973, 0.00577049,\n",
              "       0.0055401 , 0.00538552, 0.00531267, 0.00526519, 0.0050836 ,\n",
              "       0.00493436, 0.00490131, 0.00475126, 0.00465497, 0.00459044,\n",
              "       0.00457076, 0.00449411, 0.00442233, 0.00433308, 0.00421775,\n",
              "       0.00413956, 0.00406477, 0.00403641, 0.00397129, 0.00390756,\n",
              "       0.00387273, 0.00378797, 0.00376838, 0.00372317, 0.0036846 ,\n",
              "       0.00362347, 0.00355343, 0.00353347, 0.00347437, 0.0034465 ,\n",
              "       0.00340252, 0.00335926, 0.00330677, 0.00326667, 0.00321636,\n",
              "       0.00318492, 0.00315459, 0.00312434, 0.00306372, 0.00305425,\n",
              "       0.003025  , 0.00297186, 0.00294434, 0.00291724, 0.00289605,\n",
              "       0.00283094, 0.00281524, 0.00279002, 0.00278052, 0.00275522,\n",
              "       0.00274546, 0.00271281, 0.00270462, 0.00267865, 0.00263961,\n",
              "       0.0026308 , 0.00258877, 0.00256641, 0.00251116, 0.00249076,\n",
              "       0.00245758, 0.00244269, 0.00240874, 0.00238517, 0.00236783,\n",
              "       0.00235266, 0.00233275, 0.00231594, 0.00227785, 0.00227016,\n",
              "       0.00224282, 0.00222134, 0.00220046, 0.00218818, 0.00217592,\n",
              "       0.00215539, 0.00214121, 0.00210445, 0.00205743, 0.00204433,\n",
              "       0.00202804, 0.00199319, 0.00198129, 0.00195336, 0.00194716,\n",
              "       0.00192246, 0.00190935, 0.00189042, 0.00186428, 0.00185181,\n",
              "       0.00181276, 0.00180046, 0.00178477, 0.00177859, 0.00176002,\n",
              "       0.00173034, 0.00171557, 0.00171406, 0.00170183, 0.00169394,\n",
              "       0.00168367, 0.00166405, 0.00165474, 0.0016334 , 0.0016269 ,\n",
              "       0.00161434, 0.00161142, 0.00159386, 0.00156985, 0.00156426,\n",
              "       0.00154654, 0.00153506, 0.00153005, 0.00152261, 0.0014987 ,\n",
              "       0.00148074, 0.00146047, 0.00145333, 0.00143656, 0.00142285,\n",
              "       0.00141317, 0.00140827, 0.00138217, 0.00136951, 0.00134858,\n",
              "       0.00134553, 0.00132191, 0.00129831, 0.00128372, 0.00126777,\n",
              "       0.0012397 , 0.00123842, 0.00122253, 0.00120704, 0.00119139,\n",
              "       0.00117846, 0.00117045, 0.00115287, 0.00113547, 0.00110296])"
            ]
          },
          "metadata": {
            "tags": []
          },
          "execution_count": 26
        }
      ]
    },
    {
      "cell_type": "code",
      "metadata": {
        "id": "ACdrUxb0VonM",
        "colab_type": "code",
        "colab": {}
      },
      "source": [
        "pc1 = list(np.around(np.array(PC_arr[0]),4))\n",
        "pc1_cp = list(np.around(np.array(PC_arr[0]),4))"
      ],
      "execution_count": 34,
      "outputs": []
    },
    {
      "cell_type": "code",
      "metadata": {
        "id": "wrNKSKC5WEe4",
        "colab_type": "code",
        "colab": {}
      },
      "source": [
        "def find_index(features, original):\n",
        "    maximum_index = []\n",
        "    minimum_index = []\n",
        "    print(original)\n",
        "    while len(maximum_index)<3:\n",
        "        maxi = max(features)\n",
        "        maximum_index.append(original.index(maxi))\n",
        "        features.remove(maxi)\n",
        "    print(maximum_index)\n",
        "    \n",
        "    while len(minimum_index)<3:\n",
        "        mini = min(features)\n",
        "        minimum_index.append(original.index(mini))\n",
        "        features.remove(mini)\n",
        "    print(minimum_index)"
      ],
      "execution_count": 35,
      "outputs": []
    },
    {
      "cell_type": "code",
      "metadata": {
        "id": "MrKj6korWEna",
        "colab_type": "code",
        "colab": {
          "base_uri": "https://localhost:8080/",
          "height": 87
        },
        "outputId": "7402bf4f-7a18-47c3-eb40-640e35c51133"
      },
      "source": [
        "find_index(pc1,pc1_cp)"
      ],
      "execution_count": 36,
      "outputs": [
        {
          "output_type": "stream",
          "text": [
            "[-0.0942, 0.0054, 0.0001, -0.0328, 0.0495, -0.0164, -0.055, -0.0538, -0.0757, 0.0444, 0.0066, 0.0451, 0.0242, 0.0109, 0.0182, -0.0362, 0.0463, 0.032, 0.0096, -0.0052, -0.0281, 0.026, 0.0301, 0.0393, 0.0738, 0.0413, 0.0249, 0.0922, 0.0129, 0.0491, 0.0205, 0.0462, 0.0239, 0.074, 0.1044, -0.1348, -0.0521, -0.1194, 0.1311, 0.0634, 0.0783, 0.064, -0.151, -0.1507, 0.0695, 0.0267, 0.071, 0.0216, 0.0425, 0.0735, 0.0461, 0.0367, 0.1032, 0.0478, 0.0982, 0.0036, 0.0067, -0.0238, 0.0512, -0.0099, -0.0009, 0.0005, 0.0408, 0.0196, 0.0598, 0.087, -0.1212, -0.0419, -0.1121, 0.1237, 0.0511, 0.0105, 0.0183, -0.0459, -0.0042, -0.0011, 0.0008, 0.0693, 0.0961, 0.0314, -0.0071, -0.1192, -0.0435, -0.1064, 0.1178, -0.0749, -0.042, 0.0437, 0.0303, 0.0594, -0.0339, 0.0392, 0.0889, -0.0255, 0.1002, -0.0362, 0.0192, -0.0987, 0.0672, -0.0319, -0.0117, 0.0272, 0.0198, 0.0819, 0.1393, 0.0002, -0.069, -0.0719, 0.0984, -0.016, -0.0094, 0.0239, 0.0325, 0.0349, 0.0018, 0.1159, 0.0208, 0.0203, -0.0025, -0.0079, -0.0128, -0.0003, 0.0672, 0.0193, 0.0105, -0.008, -0.0046, 0.0229, 0.0137, 0.0306, -0.0211, 0.0129, 0.0292, 0.0353, 0.0501, -0.0131, 0.0052, -0.0317, 0.0395, 0.0071, 0.0014, 0.0072, 0.0613, 0.0054, 0.0224, 0.056, 0.0113, 0.0408, -0.004, -0.0114, 0.005, 0.0257, 0.0238, 0.048, 0.0324, 0.0517, 0.028, 0.0079, -0.0317, -0.0322, 0.0111, 0.0254, 0.0295, -0.0417, -0.0289, 0.0652, -0.0041, 0.0847, -0.048, -0.1276, -0.1151, 0.0238, 0.0661, -0.1208, -0.022, -0.036, 0.0148, 0.0259, 0.0192, 0.0184, -0.0005, -0.0315, -0.0227, -0.0187, -0.0127, 0.0179, 0.0317, -0.0038, -0.0014, 0.022, 0.0106, 0.0095, 0.0055, 0.0404, -0.0112, -0.0242, -0.0077, -0.0025, 0.0797, 0.0309, -0.0151, -0.0596, -0.0582, -0.0279, 0.0173, 0.0584, 0.0624, 0.0487, 0.0065, -0.0065, -0.0211, 0.0341, 0.0046, -0.0214, 0.0038, -0.0242, -0.0121, -0.0261, 0.0083, 0.0138, -0.0028, -0.0162, 0.0172, 0.0067, 0.0068, 0.0182, 0.0439, 0.013, 0.0142, -0.0074, -0.0038, 0.0194, 0.0198, 0.0224, -0.024, 0.0135, 0.0036, 0.006, 0.0065, -0.0237, -0.0215, -0.0163, 0.0209, -0.008, 0.0001, -0.0007, -0.0204, 0.0081, 0.0001, -0.0244, 0.0054, -0.0101, -0.0214, 0.0475, 0.0395, -0.0145, -0.0102, -0.0247, 0.0349, -0.0099, -0.0139, -0.0022, -0.0092, -0.0196, 0.0001, 0.0198, 0.041, 0.0048, -0.002, -0.0091, 0.0373, -0.0119, 0.0232, 0.016, 0.0028, -0.0155, -0.0389, 0.0305, -0.0254, -0.0271, 0.0833, -0.0814, 0.1013, 0.1031, 0.112, 0.1568, 0.1533, 0.1247, 0.1235, -0.0143, 0.0957, -0.0737, 0.0286, 0.0899, -0.0584, -0.1232, -0.1122, -0.115, 0.0771, -0.01, -0.0345, -0.0395, -0.0701, -0.0149, -0.0533, 0.003, 0.0073, -0.0195, 0.027, -0.04, -0.0331, -0.0314, -0.0096, 0.0155, -0.0337, -0.0394, -0.0226, -0.0548, 0.0037, -0.0121, 0.0484, 0.0102, 0.0009, -0.0885, -0.0083, 0.0366, 0.0103, -0.0533, 0.0408, -0.0239, -0.1123, -0.1004, -0.0997, -0.0828, 0.0094, 0.0329, -0.069, -0.011, 0.014, -0.1278, -0.1278, -0.1515, 0.024, -0.0349, -0.0176, 0.0537, -0.0139, -0.13, -0.0013, 0.0333]\n",
            "[285, 286, 104]\n",
            "[341, 42, 43]\n"
          ],
          "name": "stdout"
        }
      ]
    },
    {
      "cell_type": "code",
      "metadata": {
        "id": "d996Qdc4WNYk",
        "colab_type": "code",
        "colab": {}
      },
      "source": [
        "column_names = azdias.columns"
      ],
      "execution_count": 31,
      "outputs": []
    },
    {
      "cell_type": "code",
      "metadata": {
        "id": "cVG5cQnzWNhW",
        "colab_type": "code",
        "colab": {
          "base_uri": "https://localhost:8080/",
          "height": 50
        },
        "outputId": "69c139a3-90ab-4a5a-a43e-f1f2945741fc"
      },
      "source": [
        "print(\"The 3 most positive variables for the PC1 are {}, {}, {}\".format(column_names[285],column_names[286],column_names[104]))\n",
        "print(\"The 3 most negative variables for the PC1 are {}, {}, {}\".format(column_names[341],column_names[42],column_names[43]))"
      ],
      "execution_count": 37,
      "outputs": [
        {
          "output_type": "stream",
          "text": [
            "The 3 most positive variables for the PC1 are LP_STATUS_FEIN, LP_STATUS_GROB, KBA05_ANTG1\n",
            "The 3 most negative variables for the PC1 are CAMEO_INTL_2015_2, D19_KONSUMTYP, D19_KONSUMTYP_MAX\n"
          ],
          "name": "stdout"
        }
      ]
    }
  ]
}