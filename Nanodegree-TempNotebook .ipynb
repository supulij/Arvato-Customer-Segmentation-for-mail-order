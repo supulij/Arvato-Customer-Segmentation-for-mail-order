{
 "cells": [
  {
   "cell_type": "code",
   "execution_count": 1,
   "metadata": {},
   "outputs": [],
   "source": [
    "# import libraries here; add more as necessary\n",
    "import numpy as np\n",
    "import pandas as pd\n",
    "import matplotlib.pyplot as plt\n",
    "import seaborn as sns\n",
    "\n",
    "# magic word for producing visualizations in notebook\n",
    "%matplotlib inline"
   ]
  },
  {
   "cell_type": "code",
   "execution_count": 2,
   "metadata": {},
   "outputs": [
    {
     "name": "stderr",
     "output_type": "stream",
     "text": [
      "D:\\anaconda\\lib\\site-packages\\IPython\\core\\interactiveshell.py:3063: DtypeWarning: Columns (19,20) have mixed types.Specify dtype option on import or set low_memory=False.\n",
      "  interactivity=interactivity, compiler=compiler, result=result)\n"
     ]
    }
   ],
   "source": [
    "#open the file - delete file later\n",
    "azdias = pd.read_csv(\"azdias_null.csv.zip\",compression='gzip')"
   ]
  },
  {
   "cell_type": "code",
   "execution_count": 3,
   "metadata": {},
   "outputs": [
    {
     "data": {
      "text/html": [
       "<div>\n",
       "<style scoped>\n",
       "    .dataframe tbody tr th:only-of-type {\n",
       "        vertical-align: middle;\n",
       "    }\n",
       "\n",
       "    .dataframe tbody tr th {\n",
       "        vertical-align: top;\n",
       "    }\n",
       "\n",
       "    .dataframe thead th {\n",
       "        text-align: right;\n",
       "    }\n",
       "</style>\n",
       "<table border=\"1\" class=\"dataframe\">\n",
       "  <thead>\n",
       "    <tr style=\"text-align: right;\">\n",
       "      <th></th>\n",
       "      <th>Unnamed: 0</th>\n",
       "      <th>LNR</th>\n",
       "      <th>AGER_TYP</th>\n",
       "      <th>AKT_DAT_KL</th>\n",
       "      <th>ALTER_HH</th>\n",
       "      <th>ALTER_KIND1</th>\n",
       "      <th>ALTER_KIND2</th>\n",
       "      <th>ALTER_KIND3</th>\n",
       "      <th>ALTER_KIND4</th>\n",
       "      <th>ALTERSKATEGORIE_FEIN</th>\n",
       "      <th>...</th>\n",
       "      <th>VHN</th>\n",
       "      <th>VK_DHT4A</th>\n",
       "      <th>VK_DISTANZ</th>\n",
       "      <th>VK_ZG11</th>\n",
       "      <th>W_KEIT_KIND_HH</th>\n",
       "      <th>WOHNDAUER_2008</th>\n",
       "      <th>WOHNLAGE</th>\n",
       "      <th>ZABEOTYP</th>\n",
       "      <th>ANREDE_KZ</th>\n",
       "      <th>ALTERSKATEGORIE_GROB</th>\n",
       "    </tr>\n",
       "  </thead>\n",
       "  <tbody>\n",
       "    <tr>\n",
       "      <th>0</th>\n",
       "      <td>0</td>\n",
       "      <td>910215</td>\n",
       "      <td>NaN</td>\n",
       "      <td>NaN</td>\n",
       "      <td>NaN</td>\n",
       "      <td>NaN</td>\n",
       "      <td>NaN</td>\n",
       "      <td>NaN</td>\n",
       "      <td>NaN</td>\n",
       "      <td>NaN</td>\n",
       "      <td>...</td>\n",
       "      <td>NaN</td>\n",
       "      <td>NaN</td>\n",
       "      <td>NaN</td>\n",
       "      <td>NaN</td>\n",
       "      <td>NaN</td>\n",
       "      <td>NaN</td>\n",
       "      <td>NaN</td>\n",
       "      <td>3</td>\n",
       "      <td>1</td>\n",
       "      <td>2</td>\n",
       "    </tr>\n",
       "    <tr>\n",
       "      <th>1</th>\n",
       "      <td>1</td>\n",
       "      <td>910220</td>\n",
       "      <td>NaN</td>\n",
       "      <td>9.0</td>\n",
       "      <td>NaN</td>\n",
       "      <td>NaN</td>\n",
       "      <td>NaN</td>\n",
       "      <td>NaN</td>\n",
       "      <td>NaN</td>\n",
       "      <td>21.0</td>\n",
       "      <td>...</td>\n",
       "      <td>4.0</td>\n",
       "      <td>8.0</td>\n",
       "      <td>11.0</td>\n",
       "      <td>10.0</td>\n",
       "      <td>3.0</td>\n",
       "      <td>9.0</td>\n",
       "      <td>4.0</td>\n",
       "      <td>5</td>\n",
       "      <td>2</td>\n",
       "      <td>1</td>\n",
       "    </tr>\n",
       "    <tr>\n",
       "      <th>2</th>\n",
       "      <td>2</td>\n",
       "      <td>910225</td>\n",
       "      <td>NaN</td>\n",
       "      <td>9.0</td>\n",
       "      <td>17.0</td>\n",
       "      <td>NaN</td>\n",
       "      <td>NaN</td>\n",
       "      <td>NaN</td>\n",
       "      <td>NaN</td>\n",
       "      <td>17.0</td>\n",
       "      <td>...</td>\n",
       "      <td>2.0</td>\n",
       "      <td>9.0</td>\n",
       "      <td>9.0</td>\n",
       "      <td>6.0</td>\n",
       "      <td>3.0</td>\n",
       "      <td>9.0</td>\n",
       "      <td>2.0</td>\n",
       "      <td>5</td>\n",
       "      <td>2</td>\n",
       "      <td>3</td>\n",
       "    </tr>\n",
       "    <tr>\n",
       "      <th>3</th>\n",
       "      <td>3</td>\n",
       "      <td>910226</td>\n",
       "      <td>2.0</td>\n",
       "      <td>1.0</td>\n",
       "      <td>13.0</td>\n",
       "      <td>NaN</td>\n",
       "      <td>NaN</td>\n",
       "      <td>NaN</td>\n",
       "      <td>NaN</td>\n",
       "      <td>13.0</td>\n",
       "      <td>...</td>\n",
       "      <td>0.0</td>\n",
       "      <td>7.0</td>\n",
       "      <td>10.0</td>\n",
       "      <td>11.0</td>\n",
       "      <td>NaN</td>\n",
       "      <td>9.0</td>\n",
       "      <td>7.0</td>\n",
       "      <td>3</td>\n",
       "      <td>2</td>\n",
       "      <td>4</td>\n",
       "    </tr>\n",
       "    <tr>\n",
       "      <th>4</th>\n",
       "      <td>4</td>\n",
       "      <td>910241</td>\n",
       "      <td>NaN</td>\n",
       "      <td>1.0</td>\n",
       "      <td>20.0</td>\n",
       "      <td>NaN</td>\n",
       "      <td>NaN</td>\n",
       "      <td>NaN</td>\n",
       "      <td>NaN</td>\n",
       "      <td>14.0</td>\n",
       "      <td>...</td>\n",
       "      <td>2.0</td>\n",
       "      <td>3.0</td>\n",
       "      <td>5.0</td>\n",
       "      <td>4.0</td>\n",
       "      <td>2.0</td>\n",
       "      <td>9.0</td>\n",
       "      <td>3.0</td>\n",
       "      <td>4</td>\n",
       "      <td>1</td>\n",
       "      <td>3</td>\n",
       "    </tr>\n",
       "  </tbody>\n",
       "</table>\n",
       "<p>5 rows × 367 columns</p>\n",
       "</div>"
      ],
      "text/plain": [
       "   Unnamed: 0     LNR  AGER_TYP  AKT_DAT_KL  ALTER_HH  ALTER_KIND1  \\\n",
       "0           0  910215       NaN         NaN       NaN          NaN   \n",
       "1           1  910220       NaN         9.0       NaN          NaN   \n",
       "2           2  910225       NaN         9.0      17.0          NaN   \n",
       "3           3  910226       2.0         1.0      13.0          NaN   \n",
       "4           4  910241       NaN         1.0      20.0          NaN   \n",
       "\n",
       "   ALTER_KIND2  ALTER_KIND3  ALTER_KIND4  ALTERSKATEGORIE_FEIN  ...  VHN  \\\n",
       "0          NaN          NaN          NaN                   NaN  ...  NaN   \n",
       "1          NaN          NaN          NaN                  21.0  ...  4.0   \n",
       "2          NaN          NaN          NaN                  17.0  ...  2.0   \n",
       "3          NaN          NaN          NaN                  13.0  ...  0.0   \n",
       "4          NaN          NaN          NaN                  14.0  ...  2.0   \n",
       "\n",
       "   VK_DHT4A  VK_DISTANZ  VK_ZG11  W_KEIT_KIND_HH  WOHNDAUER_2008  WOHNLAGE  \\\n",
       "0       NaN         NaN      NaN             NaN             NaN       NaN   \n",
       "1       8.0        11.0     10.0             3.0             9.0       4.0   \n",
       "2       9.0         9.0      6.0             3.0             9.0       2.0   \n",
       "3       7.0        10.0     11.0             NaN             9.0       7.0   \n",
       "4       3.0         5.0      4.0             2.0             9.0       3.0   \n",
       "\n",
       "   ZABEOTYP ANREDE_KZ ALTERSKATEGORIE_GROB  \n",
       "0         3         1                    2  \n",
       "1         5         2                    1  \n",
       "2         5         2                    3  \n",
       "3         3         2                    4  \n",
       "4         4         1                    3  \n",
       "\n",
       "[5 rows x 367 columns]"
      ]
     },
     "execution_count": 3,
     "metadata": {},
     "output_type": "execute_result"
    }
   ],
   "source": [
    "azdias.head()"
   ]
  },
  {
   "cell_type": "code",
   "execution_count": 4,
   "metadata": {},
   "outputs": [
    {
     "name": "stdout",
     "output_type": "stream",
     "text": [
      "(891221, 367)\n"
     ]
    }
   ],
   "source": [
    "print(azdias.shape)"
   ]
  },
  {
   "cell_type": "code",
   "execution_count": 5,
   "metadata": {},
   "outputs": [],
   "source": [
    "#change the unamed column name to  delete \n",
    "azdias.rename(columns={'Unnamed: 0': \"delete\"}, inplace= True)"
   ]
  },
  {
   "cell_type": "code",
   "execution_count": 6,
   "metadata": {},
   "outputs": [],
   "source": [
    "#drop columns which have more than 50% missing values from azdias and customers\n",
    "drop_azdias = ['delete', 'AGER_TYP', 'ALTER_KIND1', 'ALTER_KIND2', 'ALTER_KIND3', 'ALTER_KIND4', 'EXTSEL992', 'KBA05_BAUMAX', 'KK_KUNDENTYP', 'TITEL_KZ']\n",
    "azdias.drop(columns= drop_azdias, inplace=True)"
   ]
  },
  {
   "cell_type": "code",
   "execution_count": 7,
   "metadata": {},
   "outputs": [
    {
     "name": "stdout",
     "output_type": "stream",
     "text": [
      "(891221, 357)\n"
     ]
    }
   ],
   "source": [
    "print(azdias.shape)"
   ]
  },
  {
   "cell_type": "code",
   "execution_count": 24,
   "metadata": {},
   "outputs": [],
   "source": [
    "# list = azdias.isnull().sum().sort_values(ascending=False).nlargest(270)\n",
    "# azdias['CAMEO_INTL_2015_2'] = pd.to_numeric(azdias['CAMEO_INTL_2015'], errors = 'coerce', downcast ='float')"
   ]
  },
  {
   "cell_type": "code",
   "execution_count": 27,
   "metadata": {},
   "outputs": [
    {
     "name": "stdout",
     "output_type": "stream",
     "text": [
      "<class 'pandas.core.frame.DataFrame'>\n",
      "RangeIndex: 891221 entries, 0 to 891220\n",
      "Columns: 357 entries, LNR to ALTERSKATEGORIE_GROB\n",
      "dtypes: float64(264), int64(87), object(6)\n",
      "memory usage: 2.4+ GB\n"
     ]
    }
   ],
   "source": [
    "azdias.info()"
   ]
  },
  {
   "cell_type": "code",
   "execution_count": 86,
   "metadata": {},
   "outputs": [
    {
     "data": {
      "text/plain": [
       "Index(['CAMEO_DEU_2015', 'CAMEO_DEUG_2015', 'CAMEO_INTL_2015',\n",
       "       'D19_LETZTER_KAUF_BRANCHE', 'EINGEFUEGT_AM', 'OST_WEST_KZ',\n",
       "       'CAMEO_DEU_2015_2', 'CAMEO_DEUG_2015_2', 'CAMEO_INTL_2015_2'],\n",
       "      dtype='object')"
      ]
     },
     "execution_count": 86,
     "metadata": {},
     "output_type": "execute_result"
    }
   ],
   "source": [
    "#get the list of column names with dtype as object\n",
    "obj_list = azdias.select_dtypes(include='object').columns\n",
    "obj_list"
   ]
  },
  {
   "cell_type": "code",
   "execution_count": 87,
   "metadata": {},
   "outputs": [],
   "source": [
    "#convert object dtype columns to ints dtype\n",
    "\n",
    "def convertobjects(dataset):\n",
    "    dataset['CAMEO_DEU_2015_2'] = dataset['CAMEO_DEU_2015'].astype(str).str[0]   #get the first element of the string\n",
    "    dataset['CAMEO_DEUG_2015_2']= dataset['CAMEO_DEUG_2015'].astype(str).str[0]\n",
    "    dataset['CAMEO_INTL_2015_2'] = dataset['CAMEO_INTL_2015'].astype(str).str[0]\n",
    "    \n",
    "    CAMEI_dict = {\"1\": 1, \"2\": 2, \"3\": 3, \"4\": 4, \"5\":5, \"6\":6, \"7\":7, \"8\": 8, \"9\":9}   #convert to int dtype\n",
    "    dataset['CAMEO_DEU_2015_2']= dataset['CAMEO_DEU_2015_2'].map(CAMEI_dict)\n",
    "    dataset['CAMEO_DEUG_2015_2']= dataset['CAMEO_DEUG_2015_2'].map(CAMEI_dict)\n",
    "    dataset['CAMEO_INTL_2015_2']= dataset['CAMEO_INTL_2015_2'].map(CAMEI_dict)\n",
    "    \n",
    "    dataset['OST_WEST_KZ']= dataset['OST_WEST_KZ'].map({\"W\":1 , \"O\":0})\n",
    "    \n",
    "    \n",
    "    "
   ]
  },
  {
   "cell_type": "code",
   "execution_count": 88,
   "metadata": {},
   "outputs": [],
   "source": [
    "convertobjects(azdias)"
   ]
  },
  {
   "cell_type": "code",
   "execution_count": 94,
   "metadata": {},
   "outputs": [],
   "source": [
    "#drop the object dtype columns\n",
    "object_dtype_drop = ['CAMEO_DEU_2015', 'CAMEO_DEUG_2015', 'CAMEO_INTL_2015', 'D19_LETZTER_KAUF_BRANCHE', 'EINGEFUEGT_AM']\n",
    "azdias.drop(columns= object_dtype_drop, inplace=True)"
   ]
  },
  {
   "cell_type": "code",
   "execution_count": 95,
   "metadata": {},
   "outputs": [
    {
     "name": "stdout",
     "output_type": "stream",
     "text": [
      "<class 'pandas.core.frame.DataFrame'>\n",
      "RangeIndex: 891221 entries, 0 to 891220\n",
      "Columns: 355 entries, LNR to CAMEO_INTL_2015_2\n",
      "dtypes: float64(268), int64(87)\n",
      "memory usage: 2.4 GB\n"
     ]
    }
   ],
   "source": [
    "azdias.info()"
   ]
  },
  {
   "cell_type": "code",
   "execution_count": 117,
   "metadata": {},
   "outputs": [
    {
     "name": "stdout",
     "output_type": "stream",
     "text": [
      "LNR  ----  891221\n",
      "AKT_DAT_KL  ----  9\n",
      "ALTER_HH  ----  21\n",
      "ALTERSKATEGORIE_FEIN  ----  26\n",
      "ANZ_HAUSHALTE_AKTIV  ----  292\n",
      "ANZ_HH_TITEL  ----  21\n",
      "ANZ_KINDER  ----  11\n",
      "ANZ_PERSONEN  ----  30\n",
      "ANZ_STATISTISCHE_HAUSHALTE  ----  268\n",
      "ANZ_TITEL  ----  6\n",
      "ARBEIT  ----  6\n",
      "BALLRAUM  ----  7\n",
      "CJT_GESAMTTYP  ----  6\n",
      "CJT_KATALOGNUTZER  ----  5\n",
      "CJT_TYP_1  ----  5\n",
      "CJT_TYP_2  ----  5\n",
      "CJT_TYP_3  ----  5\n",
      "CJT_TYP_4  ----  5\n",
      "CJT_TYP_5  ----  5\n",
      "CJT_TYP_6  ----  5\n",
      "D19_BANKEN_ANZ_12  ----  7\n",
      "D19_BANKEN_ANZ_24  ----  7\n",
      "D19_BANKEN_DATUM  ----  10\n",
      "D19_BANKEN_DIREKT  ----  8\n",
      "D19_BANKEN_GROSS  ----  7\n",
      "D19_BANKEN_LOKAL  ----  8\n",
      "D19_BANKEN_OFFLINE_DATUM  ----  10\n",
      "D19_BANKEN_ONLINE_DATUM  ----  10\n",
      "D19_BANKEN_ONLINE_QUOTE_12  ----  11\n",
      "D19_BANKEN_REST  ----  8\n",
      "D19_BEKLEIDUNG_GEH  ----  8\n",
      "D19_BEKLEIDUNG_REST  ----  8\n",
      "D19_BILDUNG  ----  8\n",
      "D19_BIO_OEKO  ----  8\n",
      "D19_BUCH_CD  ----  8\n",
      "D19_DIGIT_SERV  ----  8\n",
      "D19_DROGERIEARTIKEL  ----  8\n",
      "D19_ENERGIE  ----  8\n",
      "D19_FREIZEIT  ----  8\n",
      "D19_GARTEN  ----  8\n",
      "D19_GESAMT_ANZ_12  ----  7\n",
      "D19_GESAMT_ANZ_24  ----  7\n",
      "D19_GESAMT_DATUM  ----  10\n",
      "D19_GESAMT_OFFLINE_DATUM  ----  10\n",
      "D19_GESAMT_ONLINE_DATUM  ----  10\n",
      "D19_GESAMT_ONLINE_QUOTE_12  ----  11\n",
      "D19_HANDWERK  ----  8\n",
      "D19_HAUS_DEKO  ----  8\n",
      "D19_KINDERARTIKEL  ----  8\n",
      "D19_KONSUMTYP  ----  7\n",
      "D19_KONSUMTYP_MAX  ----  6\n",
      "D19_KOSMETIK  ----  8\n",
      "D19_LEBENSMITTEL  ----  8\n",
      "D19_LOTTO  ----  8\n",
      "D19_NAHRUNGSERGAENZUNG  ----  8\n",
      "D19_RATGEBER  ----  8\n",
      "D19_REISEN  ----  8\n",
      "D19_SAMMELARTIKEL  ----  8\n",
      "D19_SCHUHE  ----  8\n",
      "D19_SONSTIGE  ----  8\n",
      "D19_SOZIALES  ----  6\n",
      "D19_TECHNIK  ----  8\n",
      "D19_TELKO_ANZ_12  ----  7\n",
      "D19_TELKO_ANZ_24  ----  7\n",
      "D19_TELKO_DATUM  ----  10\n",
      "D19_TELKO_MOBILE  ----  8\n",
      "D19_TELKO_OFFLINE_DATUM  ----  10\n",
      "D19_TELKO_ONLINE_DATUM  ----  10\n",
      "D19_TELKO_ONLINE_QUOTE_12  ----  5\n",
      "D19_TELKO_REST  ----  8\n",
      "D19_TIERARTIKEL  ----  8\n",
      "D19_VERSAND_ANZ_12  ----  7\n",
      "D19_VERSAND_ANZ_24  ----  7\n",
      "D19_VERSAND_DATUM  ----  10\n",
      "D19_VERSAND_OFFLINE_DATUM  ----  10\n",
      "D19_VERSAND_ONLINE_DATUM  ----  10\n",
      "D19_VERSAND_ONLINE_QUOTE_12  ----  11\n",
      "D19_VERSAND_REST  ----  8\n",
      "D19_VERSI_ANZ_12  ----  7\n",
      "D19_VERSI_ANZ_24  ----  7\n",
      "D19_VERSI_DATUM  ----  10\n",
      "D19_VERSI_OFFLINE_DATUM  ----  10\n",
      "D19_VERSI_ONLINE_DATUM  ----  10\n",
      "D19_VERSI_ONLINE_QUOTE_12  ----  8\n",
      "D19_VERSICHERUNGEN  ----  8\n",
      "D19_VOLLSORTIMENT  ----  8\n",
      "D19_WEIN_FEINKOST  ----  8\n",
      "DSL_FLAG  ----  2\n",
      "EINGEZOGENAM_HH_JAHR  ----  37\n",
      "EWDICHTE  ----  6\n",
      "FINANZ_ANLEGER  ----  5\n",
      "FINANZ_HAUSBAUER  ----  5\n",
      "FINANZ_MINIMALIST  ----  5\n",
      "FINANZ_SPARER  ----  5\n",
      "FINANZ_UNAUFFAELLIGER  ----  5\n",
      "FINANZ_VORSORGER  ----  5\n",
      "FINANZTYP  ----  6\n",
      "FIRMENDICHTE  ----  5\n",
      "GEBAEUDETYP  ----  7\n",
      "GEBAEUDETYP_RASTER  ----  5\n",
      "GEBURTSJAHR  ----  117\n",
      "GEMEINDETYP  ----  7\n",
      "GFK_URLAUBERTYP  ----  12\n",
      "GREEN_AVANTGARDE  ----  2\n",
      "HEALTH_TYP  ----  3\n",
      "HH_DELTA_FLAG  ----  2\n",
      "HH_EINKOMMEN_SCORE  ----  6\n",
      "INNENSTADT  ----  8\n",
      "KBA05_ALTER1  ----  5\n",
      "KBA05_ALTER2  ----  5\n",
      "KBA05_ALTER3  ----  5\n",
      "KBA05_ALTER4  ----  6\n",
      "KBA05_ANHANG  ----  4\n",
      "KBA05_ANTG1  ----  5\n",
      "KBA05_ANTG2  ----  5\n",
      "KBA05_ANTG3  ----  4\n",
      "KBA05_ANTG4  ----  3\n",
      "KBA05_AUTOQUOT  ----  5\n",
      "KBA05_CCM1  ----  5\n",
      "KBA05_CCM2  ----  5\n",
      "KBA05_CCM3  ----  5\n",
      "KBA05_CCM4  ----  5\n",
      "KBA05_DIESEL  ----  5\n",
      "KBA05_FRAU  ----  5\n",
      "KBA05_GBZ  ----  5\n",
      "KBA05_HERST1  ----  6\n",
      "KBA05_HERST2  ----  5\n",
      "KBA05_HERST3  ----  6\n",
      "KBA05_HERST4  ----  6\n",
      "KBA05_HERST5  ----  6\n",
      "KBA05_HERSTTEMP  ----  5\n",
      "KBA05_KRSAQUOT  ----  5\n",
      "KBA05_KRSHERST1  ----  5\n",
      "KBA05_KRSHERST2  ----  5\n",
      "KBA05_KRSHERST3  ----  5\n",
      "KBA05_KRSKLEIN  ----  3\n",
      "KBA05_KRSOBER  ----  3\n",
      "KBA05_KRSVAN  ----  3\n",
      "KBA05_KRSZUL  ----  3\n",
      "KBA05_KW1  ----  5\n",
      "KBA05_KW2  ----  5\n",
      "KBA05_KW3  ----  5\n",
      "KBA05_MAXAH  ----  5\n",
      "KBA05_MAXBJ  ----  4\n",
      "KBA05_MAXHERST  ----  5\n",
      "KBA05_MAXSEG  ----  4\n",
      "KBA05_MAXVORB  ----  3\n",
      "KBA05_MOD1  ----  5\n",
      "KBA05_MOD2  ----  5\n",
      "KBA05_MOD3  ----  5\n",
      "KBA05_MOD4  ----  6\n",
      "KBA05_MOD8  ----  4\n",
      "KBA05_MODTEMP  ----  6\n",
      "KBA05_MOTOR  ----  4\n",
      "KBA05_MOTRAD  ----  4\n",
      "KBA05_SEG1  ----  4\n",
      "KBA05_SEG10  ----  5\n",
      "KBA05_SEG2  ----  5\n",
      "KBA05_SEG3  ----  5\n",
      "KBA05_SEG4  ----  5\n",
      "KBA05_SEG5  ----  5\n",
      "KBA05_SEG6  ----  2\n",
      "KBA05_SEG7  ----  4\n",
      "KBA05_SEG8  ----  4\n",
      "KBA05_SEG9  ----  4\n",
      "KBA05_VORB0  ----  5\n",
      "KBA05_VORB1  ----  5\n",
      "KBA05_VORB2  ----  6\n",
      "KBA05_ZUL1  ----  5\n",
      "KBA05_ZUL2  ----  5\n",
      "KBA05_ZUL3  ----  6\n",
      "KBA05_ZUL4  ----  6\n",
      "KBA13_ALTERHALTER_30  ----  5\n",
      "KBA13_ALTERHALTER_45  ----  5\n",
      "KBA13_ALTERHALTER_60  ----  5\n",
      "KBA13_ALTERHALTER_61  ----  5\n",
      "KBA13_ANTG1  ----  5\n",
      "KBA13_ANTG2  ----  5\n",
      "KBA13_ANTG3  ----  4\n",
      "KBA13_ANTG4  ----  3\n",
      "KBA13_ANZAHL_PKW  ----  1261\n",
      "KBA13_AUDI  ----  5\n",
      "KBA13_AUTOQUOTE  ----  6\n",
      "KBA13_BAUMAX  ----  5\n",
      "KBA13_BJ_1999  ----  5\n",
      "KBA13_BJ_2000  ----  5\n",
      "KBA13_BJ_2004  ----  5\n",
      "KBA13_BJ_2006  ----  5\n",
      "KBA13_BJ_2008  ----  6\n",
      "KBA13_BJ_2009  ----  6\n",
      "KBA13_BMW  ----  5\n",
      "KBA13_CCM_0_1400  ----  6\n",
      "KBA13_CCM_1000  ----  6\n",
      "KBA13_CCM_1200  ----  6\n",
      "KBA13_CCM_1400  ----  5\n",
      "KBA13_CCM_1401_2500  ----  5\n",
      "KBA13_CCM_1500  ----  5\n",
      "KBA13_CCM_1600  ----  5\n",
      "KBA13_CCM_1800  ----  6\n",
      "KBA13_CCM_2000  ----  5\n",
      "KBA13_CCM_2500  ----  6\n",
      "KBA13_CCM_2501  ----  6\n",
      "KBA13_CCM_3000  ----  6\n",
      "KBA13_CCM_3001  ----  5\n",
      "KBA13_FAB_ASIEN  ----  5\n",
      "KBA13_FAB_SONSTIGE  ----  5\n",
      "KBA13_FIAT  ----  5\n",
      "KBA13_FORD  ----  5\n",
      "KBA13_GBZ  ----  5\n",
      "KBA13_HALTER_20  ----  5\n",
      "KBA13_HALTER_25  ----  5\n",
      "KBA13_HALTER_30  ----  5\n",
      "KBA13_HALTER_35  ----  5\n",
      "KBA13_HALTER_40  ----  5\n",
      "KBA13_HALTER_45  ----  5\n",
      "KBA13_HALTER_50  ----  5\n",
      "KBA13_HALTER_55  ----  5\n",
      "KBA13_HALTER_60  ----  5\n",
      "KBA13_HALTER_65  ----  5\n",
      "KBA13_HALTER_66  ----  5\n",
      "KBA13_HERST_ASIEN  ----  5\n",
      "KBA13_HERST_AUDI_VW  ----  5\n",
      "KBA13_HERST_BMW_BENZ  ----  5\n",
      "KBA13_HERST_EUROPA  ----  5\n",
      "KBA13_HERST_FORD_OPEL  ----  5\n",
      "KBA13_HERST_SONST  ----  5\n",
      "KBA13_HHZ  ----  5\n",
      "KBA13_KMH_0_140  ----  6\n",
      "KBA13_KMH_110  ----  3\n",
      "KBA13_KMH_140  ----  5\n",
      "KBA13_KMH_140_210  ----  5\n",
      "KBA13_KMH_180  ----  5\n",
      "KBA13_KMH_210  ----  5\n",
      "KBA13_KMH_211  ----  6\n",
      "KBA13_KMH_250  ----  6\n",
      "KBA13_KMH_251  ----  3\n",
      "KBA13_KRSAQUOT  ----  6\n",
      "KBA13_KRSHERST_AUDI_VW  ----  6\n",
      "KBA13_KRSHERST_BMW_BENZ  ----  6\n",
      "KBA13_KRSHERST_FORD_OPEL  ----  6\n",
      "KBA13_KRSSEG_KLEIN  ----  4\n",
      "KBA13_KRSSEG_OBER  ----  4\n",
      "KBA13_KRSSEG_VAN  ----  4\n",
      "KBA13_KRSZUL_NEU  ----  4\n",
      "KBA13_KW_0_60  ----  5\n",
      "KBA13_KW_110  ----  6\n",
      "KBA13_KW_120  ----  6\n",
      "KBA13_KW_121  ----  6\n",
      "KBA13_KW_30  ----  3\n",
      "KBA13_KW_40  ----  6\n",
      "KBA13_KW_50  ----  6\n",
      "KBA13_KW_60  ----  6\n",
      "KBA13_KW_61_120  ----  5\n",
      "KBA13_KW_70  ----  6\n",
      "KBA13_KW_80  ----  6\n",
      "KBA13_KW_90  ----  6\n",
      "KBA13_MAZDA  ----  5\n",
      "KBA13_MERCEDES  ----  5\n",
      "KBA13_MOTOR  ----  4\n",
      "KBA13_NISSAN  ----  5\n",
      "KBA13_OPEL  ----  5\n",
      "KBA13_PEUGEOT  ----  5\n",
      "KBA13_RENAULT  ----  5\n",
      "KBA13_SEG_GELAENDEWAGEN  ----  5\n",
      "KBA13_SEG_GROSSRAUMVANS  ----  5\n",
      "KBA13_SEG_KLEINST  ----  5\n",
      "KBA13_SEG_KLEINWAGEN  ----  5\n",
      "KBA13_SEG_KOMPAKTKLASSE  ----  5\n",
      "KBA13_SEG_MINIVANS  ----  5\n",
      "KBA13_SEG_MINIWAGEN  ----  5\n",
      "KBA13_SEG_MITTELKLASSE  ----  5\n",
      "KBA13_SEG_OBEREMITTELKLASSE  ----  5\n",
      "KBA13_SEG_OBERKLASSE  ----  6\n",
      "KBA13_SEG_SONSTIGE  ----  5\n",
      "KBA13_SEG_SPORTWAGEN  ----  6\n",
      "KBA13_SEG_UTILITIES  ----  5\n",
      "KBA13_SEG_VAN  ----  5\n",
      "KBA13_SEG_WOHNMOBILE  ----  6\n",
      "KBA13_SITZE_4  ----  5\n",
      "KBA13_SITZE_5  ----  5\n",
      "KBA13_SITZE_6  ----  5\n",
      "KBA13_TOYOTA  ----  5\n",
      "KBA13_VORB_0  ----  5\n",
      "KBA13_VORB_1  ----  5\n",
      "KBA13_VORB_1_2  ----  5\n",
      "KBA13_VORB_2  ----  5\n",
      "KBA13_VORB_3  ----  6\n",
      "KBA13_VW  ----  5\n",
      "KKK  ----  4\n",
      "KOMBIALTER  ----  5\n",
      "KONSUMNAEHE  ----  7\n",
      "KONSUMZELLE  ----  2\n",
      "LP_FAMILIE_FEIN  ----  12\n",
      "LP_FAMILIE_GROB  ----  6\n",
      "LP_LEBENSPHASE_FEIN  ----  41\n",
      "LP_LEBENSPHASE_GROB  ----  13\n",
      "LP_STATUS_FEIN  ----  10\n",
      "LP_STATUS_GROB  ----  5\n",
      "MIN_GEBAEUDEJAHR  ----  32\n",
      "MOBI_RASTER  ----  6\n",
      "MOBI_REGIO  ----  6\n",
      "NATIONALITAET_KZ  ----  3\n",
      "ONLINE_AFFINITAET  ----  6\n",
      "ORTSGR_KLS9  ----  10\n",
      "OST_WEST_KZ  ----  2\n",
      "PLZ8_ANTG1  ----  5\n",
      "PLZ8_ANTG2  ----  5\n",
      "PLZ8_ANTG3  ----  4\n",
      "PLZ8_ANTG4  ----  3\n",
      "PLZ8_BAUMAX  ----  5\n",
      "PLZ8_GBZ  ----  5\n",
      "PLZ8_HHZ  ----  5\n",
      "PRAEGENDE_JUGENDJAHRE  ----  15\n",
      "REGIOTYP  ----  7\n",
      "RELAT_AB  ----  5\n",
      "RETOURTYP_BK_S  ----  5\n",
      "RT_KEIN_ANREIZ  ----  5\n",
      "RT_SCHNAEPPCHEN  ----  5\n",
      "RT_UEBERGROESSE  ----  6\n",
      "SEMIO_DOM  ----  7\n",
      "SEMIO_ERL  ----  7\n",
      "SEMIO_FAM  ----  7\n",
      "SEMIO_KAEM  ----  7\n",
      "SEMIO_KRIT  ----  7\n",
      "SEMIO_KULT  ----  7\n",
      "SEMIO_LUST  ----  7\n",
      "SEMIO_MAT  ----  7\n",
      "SEMIO_PFLICHT  ----  7\n",
      "SEMIO_RAT  ----  7\n",
      "SEMIO_REL  ----  7\n",
      "SEMIO_SOZ  ----  7\n",
      "SEMIO_TRADV  ----  7\n",
      "SEMIO_VERT  ----  7\n",
      "SHOPPER_TYP  ----  4\n",
      "SOHO_KZ  ----  2\n",
      "STRUKTURTYP  ----  3\n",
      "UMFELD_ALT  ----  5\n",
      "UMFELD_JUNG  ----  5\n",
      "UNGLEICHENN_FLAG  ----  2\n",
      "VERDICHTUNGSRAUM  ----  46\n",
      "VERS_TYP  ----  2\n",
      "VHA  ----  6\n",
      "VHN  ----  5\n",
      "VK_DHT4A  ----  11\n",
      "VK_DISTANZ  ----  13\n",
      "VK_ZG11  ----  11\n",
      "W_KEIT_KIND_HH  ----  6\n",
      "WOHNDAUER_2008  ----  9\n",
      "WOHNLAGE  ----  8\n",
      "ZABEOTYP  ----  6\n",
      "ANREDE_KZ  ----  2\n",
      "ALTERSKATEGORIE_GROB  ----  5\n",
      "CAMEO_DEU_2015_2  ----  9\n",
      "CAMEO_DEUG_2015_2  ----  9\n",
      "CAMEO_INTL_2015_2  ----  5\n"
     ]
    }
   ],
   "source": [
    "#get the columns with respective unique data groups\n",
    "big_cat_columns = []\n",
    "for columns in azdias.columns:\n",
    "    groups = azdias[columns].nunique()\n",
    "    print('{}  ----  {}'.format(columns, groups))\n",
    "    if groups >15:\n",
    "        big_cat_columns.append(columns)   #list of columns with more than 15 unique data. \n",
    "        "
   ]
  },
  {
   "cell_type": "code",
   "execution_count": 150,
   "metadata": {},
   "outputs": [
    {
     "data": {
      "text/plain": [
       "['ALTER_HH',\n",
       " 'ALTERSKATEGORIE_FEIN',\n",
       " 'ANZ_HAUSHALTE_AKTIV',\n",
       " 'ANZ_HH_TITEL',\n",
       " 'ANZ_PERSONEN',\n",
       " 'ANZ_STATISTISCHE_HAUSHALTE',\n",
       " 'EINGEZOGENAM_HH_JAHR',\n",
       " 'GEBURTSJAHR',\n",
       " 'KBA13_ANZAHL_PKW',\n",
       " 'LP_LEBENSPHASE_FEIN',\n",
       " 'MIN_GEBAEUDEJAHR',\n",
       " 'VERDICHTUNGSRAUM']"
      ]
     },
     "execution_count": 150,
     "metadata": {},
     "output_type": "execute_result"
    }
   ],
   "source": [
    "# big_cat_columns.pop(0)\n",
    "big_cat_columns"
   ]
  },
  {
   "cell_type": "code",
   "execution_count": null,
   "metadata": {},
   "outputs": [],
   "source": [
    "ALTER_HH  ----  21  \n",
    "ALTERSKATEGORIE_FEIN  ----  26\n",
    "ANZ_HAUSHALTE_AKTIV  ----  292\n",
    "ANZ_HH_TITEL  ----  21\n",
    "ANZ_PERSONEN  ----  30\n",
    "ANZ_STATISTISCHE_HAUSHALTE  ----  268\n",
    "EINGEZOGENAM_HH_JAHR  ----  37\n",
    "GEBURTSJAHR  ----  117\n",
    "KBA13_ANZAHL_PKW  ----  1261\n",
    "LP_LEBENSPHASE_FEIN  ----  41\n",
    "MIN_GEBAEUDEJAHR  ----  32\n",
    "VERDICHTUNGSRAUM  ----  46"
   ]
  },
  {
   "cell_type": "code",
   "execution_count": null,
   "metadata": {},
   "outputs": [],
   "source": [
    "qcut_labels = [1,2,3,4,5,6,7,8,9,10]\n",
    "a = pd.qcut(azdias['ALTER_HH'], q=10, labels = qcut_labels)\n",
    "a = pd.qcut(azdias['ALTERSKATEGORIE_FEIN'], q=10, labels = qcut_labels)\n",
    "a= pd.qcut(x= azdias['EINGEZOGENAM_HH_JAHR'], q=10, labels = qcut_labels)\n",
    "a= pd.qcut(x= azdias['KBA13_ANZAHL_PKW'], q=10, labels = qcut_labels)\n",
    "\n",
    "\n",
    "\n",
    "cut_labels = [0,1,2,3,4,5,6,7,8,9,10]\n",
    "a= pd.cut(x= azdias['ANZ_HH_TITEL'], bins=[-1,0,1,2,3,4,5,6,7,8,9,23], labels = cut_labels)\n",
    "a= pd.cut(x= azdias['ANZ_PERSONEN'], bins=[-1,0,1,2,3,4,5,6,7,8,9,46], labels = cut_labels)\n",
    "\n",
    "\n",
    "\n",
    "# a= pd.qcut(x= azdias['LP_LEBENSPHASE_FEIN'], q=9, labels = qcut_labels) ------drop\n",
    "# MIN_GEBAEUDEJAHR -------drop\n",
    "# VERDICHTUNGSRAUM  -------drop"
   ]
  },
  {
   "cell_type": "code",
   "execution_count": 226,
   "metadata": {},
   "outputs": [
    {
     "data": {
      "text/plain": [
       "0       392318\n",
       "1967     11183\n",
       "1965     11090\n",
       "1966     10933\n",
       "1970     10883\n",
       "         ...  \n",
       "1909         7\n",
       "1904         5\n",
       "1907         4\n",
       "1900         4\n",
       "1902         1\n",
       "Name: GEBURTSJAHR, Length: 117, dtype: int64"
      ]
     },
     "execution_count": 226,
     "metadata": {},
     "output_type": "execute_result"
    }
   ],
   "source": [
    "azdias['GEBURTSJAHR'].value_counts()"
   ]
  },
  {
   "cell_type": "code",
   "execution_count": 222,
   "metadata": {},
   "outputs": [],
   "source": [
    "qcut_labels = [0,1,2,3,4,5,6,7,8,9,10]\n",
    "a= pd.qcut(x= azdias['GEBURTSJAHR'], q=10, labels = qcut_labels)\n",
    "# a = pd.qcut(azdias['ANZ_HH_TITEL'], q=10, labels = qcut_labels)"
   ]
  },
  {
   "cell_type": "code",
   "execution_count": null,
   "metadata": {},
   "outputs": [],
   "source": []
  },
  {
   "cell_type": "code",
   "execution_count": 223,
   "metadata": {},
   "outputs": [
    {
     "data": {
      "text/plain": [
       "3     79500\n",
       "1     79099\n",
       "7     78955\n",
       "5     78685\n",
       "8     78552\n",
       "10    78470\n",
       "2     78149\n",
       "9     78148\n",
       "4     78020\n",
       "6     77843\n",
       "Name: KBA13_ANZAHL_PKW, dtype: int64"
      ]
     },
     "execution_count": 223,
     "metadata": {},
     "output_type": "execute_result"
    }
   ],
   "source": [
    "a.value_counts()"
   ]
  },
  {
   "cell_type": "code",
   "execution_count": 224,
   "metadata": {},
   "outputs": [],
   "source": [
    "b = pd.qcut(x= azdias['KBA13_ANZAHL_PKW'], q=10)"
   ]
  },
  {
   "cell_type": "code",
   "execution_count": 225,
   "metadata": {},
   "outputs": [
    {
     "data": {
      "text/plain": [
       "(347.0, 417.0]      79500\n",
       "(-0.001, 263.0]     79099\n",
       "(623.0, 719.0]      78955\n",
       "(482.0, 549.0]      78685\n",
       "(719.0, 851.0]      78552\n",
       "(1070.0, 2300.0]    78470\n",
       "(263.0, 347.0]      78149\n",
       "(851.0, 1070.0]     78148\n",
       "(417.0, 482.0]      78020\n",
       "(549.0, 623.0]      77843\n",
       "Name: KBA13_ANZAHL_PKW, dtype: int64"
      ]
     },
     "execution_count": 225,
     "metadata": {},
     "output_type": "execute_result"
    }
   ],
   "source": [
    "b.value_counts()"
   ]
  },
  {
   "cell_type": "code",
   "execution_count": 183,
   "metadata": {},
   "outputs": [
    {
     "data": {
      "text/plain": [
       "18.0    60852\n",
       "17.0    55665\n",
       "19.0    52890\n",
       "15.0    51867\n",
       "16.0    51857\n",
       "14.0    44275\n",
       "21.0    41610\n",
       "20.0    40671\n",
       "13.0    37612\n",
       "12.0    34923\n",
       "10.0    30419\n",
       "11.0    27924\n",
       "9.0     22817\n",
       "8.0     13463\n",
       "7.0      8419\n",
       "6.0      3809\n",
       "5.0      1030\n",
       "4.0       603\n",
       "3.0       200\n",
       "2.0        47\n",
       "1.0         1\n",
       "Name: ALTER_HH, dtype: int64"
      ]
     },
     "execution_count": 183,
     "metadata": {},
     "output_type": "execute_result"
    }
   ],
   "source": [
    "azdias['ALTER_HH'].value_counts()"
   ]
  },
  {
   "cell_type": "code",
   "execution_count": 161,
   "metadata": {},
   "outputs": [],
   "source": [
    "# Set up the matplotlib figure for the disribution of big_cat_columns\n",
    "\n",
    "def distribution_graphs(features):\n",
    "    fig, axes = plt.subplots(figsize=(12, 7) , nrows = 3, ncols = 4)\n",
    "    fig.tight_layout(pad=4.0)\n",
    "\n",
    "    for i in range(12):\n",
    "        if i<4:\n",
    "            axes[0,i].hist(x=azdias[features[i]], color = 'blue', edgecolor = 'black')\n",
    "            axes[0,i].set_title('{}'.format(features[i]))\n",
    "        elif 4<=i<8:\n",
    "            axes[1,i-4].hist(x=azdias[features[i]], color = 'blue', edgecolor = 'black')\n",
    "            axes[1,i-4].set_title('{}'.format(features[i]))\n",
    "        elif 8<=i<12:   \n",
    "            axes[2,i-8].hist(x=azdias[features[i]], color = 'blue', edgecolor = 'black')\n",
    "            axes[2,i-8].set_title('{}'.format(features[i]))\n",
    "            "
   ]
  },
  {
   "cell_type": "code",
   "execution_count": 162,
   "metadata": {},
   "outputs": [
    {
     "data": {
      "image/png": "[encoded data removed]",
      "text/plain": [
       "<Figure size 864x504 with 12 Axes>"
      ]
     },
     "metadata": {
      "needs_background": "light"
     },
     "output_type": "display_data"
    }
   ],
   "source": [
    "distribution_graphs(big_cat_columns)"
   ]
  },
  {
   "cell_type": "code",
   "execution_count": null,
   "metadata": {},
   "outputs": [],
   "source": []
  },
  {
   "cell_type": "code",
   "execution_count": null,
   "metadata": {},
   "outputs": [],
   "source": []
  },
  {
   "cell_type": "code",
   "execution_count": null,
   "metadata": {},
   "outputs": [],
   "source": [
    "#convert numeraical data columns to categories\n",
    "\n",
    "numerical_columns = ['ANZ_HAUSHALTE_AKTIV', ]\n",
    "\n",
    "azdias['ANZ_HAUSHALTE_AKTIV'].value_counts()"
   ]
  }
 ],
 "metadata": {
  "kernelspec": {
   "display_name": "Python 3",
   "language": "python",
   "name": "python3"
  },
  "language_info": {
   "codemirror_mode": {
    "name": "ipython",
    "version": 3
   },
   "file_extension": ".py",
   "mimetype": "text/x-python",
   "name": "python",
   "nbconvert_exporter": "python",
   "pygments_lexer": "ipython3",
   "version": "3.7.3"
  }
 },
 "nbformat": 4,
 "nbformat_minor": 4
}
